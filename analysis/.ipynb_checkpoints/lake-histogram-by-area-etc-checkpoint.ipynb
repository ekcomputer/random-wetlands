{
 "cells": [
  {
   "cell_type": "markdown",
   "metadata": {},
   "source": [
    "\n",
    "Makes a 4-panel plot from my chosen best dates for histogram, or hist by area.\n",
    "\n",
    "0.      For PAD and YF: choose inner ROI\n",
    "1.    Choose best dates (in notebook) or multi-temporal hist\n",
    "2.      Seed with CIR maks lakes (to help YF)\n",
    "3.      Histograms of EM% binned by AREA\n",
    "\n",
    "TODO: \n",
    "    * Dateparser for dates in filename\n",
    "    * Why no effect of min size?\n"
   ]
  },
  {
   "cell_type": "code",
   "execution_count": 1,
   "metadata": {},
   "outputs": [],
   "source": [
    "## imports\n",
    "import glob\n",
    "import os\n",
    "import matplotlib.pyplot as plt\n",
    "import numpy as np\n",
    "import pandas as pd\n",
    "import geopandas as gpd\n",
    "from python_env import *\n",
    "# from memory_profiler import profile"
   ]
  },
  {
   "cell_type": "code",
   "execution_count": 217,
   "metadata": {},
   "outputs": [],
   "source": [
    "## User vars\n",
    "min_size=500 # meters squared\n",
    "regions=['Daring','Baker','PAD','YFLATS']\n",
    "\n",
    "## constants\n",
    "labels=dict(zip(\n",
    "    [\n",
    "    'daring_21405_17063_010_170614_L090_CX_01_LUT-Freeman_rcls_lakes.shp',\n",
    "    'daring_21405_17094_010_170909_L090_CX_01_LUT-Freeman_rcls_lakes.shp',\n",
    "    'bakerc_16008_18047_005_180821_L090_CX_02_Freeman-inc_rcls_lakes.shp',\n",
    "    'bakerc_16008_19059_012_190904_L090_CX_01_Freeman-inc_rcls_lakes.shp',\n",
    "    'PAD_170613_mosaic_rcls_lakes.shp',\n",
    "    'PAD_170908_mosaic_rcls_lakes.shp',\n",
    "    'PAD_180821_mosaic_rcls_lakes.shp',\n",
    "    'padelE_36000_19059_003_190904_L090_CX_01_Freeman-inc_rcls_lakes.shp',\n",
    "    'YFLATS_170621_mosaic_rcls_lakes.shp',\n",
    "    'YFLATS_170916_mosaic_rcls_lakes.shp',\n",
    "    'YFLATS_180827_mosaic_rcls_lakes.shp',\n",
    "    'YFLATS_190914_mosaic_rcls_lakes.shp'\n",
    "    ],\n",
    "\n",
    "    [\n",
    "    'Daring June 2017',\n",
    "    'Daring Sept 2017',\n",
    "    'Baker Aug 2018',\n",
    "    'Baker Sept 2019',\n",
    "    'PAD June 2017',\n",
    "    'PAD September 2017',\n",
    "    'PAD Aug 2018',\n",
    "    'PAD Sept 2019',\n",
    "    'YFLATS June 2017',\n",
    "    'YFLATS Sept 2017',\n",
    "    'YFLATS Aug 2018',\n",
    "    'YFLATS Sept 2019'\n",
    "    ]\n",
    "))\n",
    "best_dates=[\n",
    "    'YFLATS_180827_mosaic_rcls_lakes.shp', 'padelE_36000_19059_003_190904_L090_CX_01_Freeman-inc_rcls_lakes.shp', 'daring_21405_17094_010_170909_L090_CX_01_LUT-Freeman_rcls_lakes.shp', 'bakerc_16008_18047_005_180821_L090_CX_02_Freeman-inc_rcls_lakes.shp'\n",
    "            ]\n",
    "## load data\n",
    "plt.style.use('/mnt/d/Dropbox/Python/Matplotlib-rcParams/presentation.mplstyle')"
   ]
  },
  {
   "cell_type": "code",
   "execution_count": 3,
   "metadata": {},
   "outputs": [
    {
     "name": "stdout",
     "output_type": "stream",
     "text": [
      "label: YFLATS Aug 2018\n",
      "\n",
      "\n",
      "----------------\n",
      "Input: /mnt/f/PAD2019/classification_training/PixelClassifier/Final-ORNL-DAAC/shp_no_rivers/YFLATS_180827_mosaic_rcls_lakes.shp\n",
      "\t(File 1 of 4)\n",
      "\n",
      "label: PAD Sept 2019\n",
      "\n",
      "\n",
      "----------------\n",
      "Input: /mnt/f/PAD2019/classification_training/PixelClassifier/Final-ORNL-DAAC/shp_no_rivers/padelE_36000_19059_003_190904_L090_CX_01_Freeman-inc_rcls_lakes.shp\n",
      "\t(File 2 of 4)\n",
      "\n",
      "label: Daring Sept 2017\n",
      "\n",
      "\n",
      "----------------\n",
      "Input: /mnt/f/PAD2019/classification_training/PixelClassifier/Final-ORNL-DAAC/shp_no_rivers/daring_21405_17094_010_170909_L090_CX_01_LUT-Freeman_rcls_lakes.shp\n",
      "\t(File 3 of 4)\n",
      "\n",
      "label: Baker Aug 2018\n",
      "\n",
      "\n",
      "----------------\n",
      "Input: /mnt/f/PAD2019/classification_training/PixelClassifier/Final-ORNL-DAAC/shp_no_rivers/bakerc_16008_18047_005_180821_L090_CX_02_Freeman-inc_rcls_lakes.shp\n",
      "\t(File 4 of 4)\n",
      "\n"
     ]
    }
   ],
   "source": [
    "## loop\n",
    "lakes_list=[]\n",
    "lakes_labels=[]\n",
    "for i, basename in enumerate(best_dates):\n",
    "    ## dynamic I/O\n",
    "    filename = os.path.join(shape_dir, basename)\n",
    "    label = labels[basename]\n",
    "    print('label: '+label)\n",
    "\n",
    "    ## print\n",
    "    print(f'\\n\\n----------------\\nInput: {filename}')\n",
    "    print(f'\\t(File {i+1} of {len(best_dates)})\\n')\n",
    "\n",
    "    ## I/O\n",
    "    lakes = gpd.read_file(filename)\n",
    "\n",
    "    ## filter\n",
    "    filter=(lakes.edge==False) & (lakes.area_px_m2>=min_size) & (lakes.cir_observ==True)\n",
    "    \n",
    "    ## save to mem\n",
    "    lakes_list.append(lakes[filter])\n",
    "    lakes_labels.append(label)"
   ]
  },
  {
   "cell_type": "code",
   "execution_count": 156,
   "metadata": {},
   "outputs": [
    {
     "data": {
      "text/plain": [
       "array([1.00000000e-04, 1.56960516e-04, 2.46366035e-04, 3.86697399e-04,\n",
       "       6.06962231e-04, 9.52691048e-04, 1.49534878e-03, 2.34710716e-03,\n",
       "       3.68403150e-03, 5.78247484e-03, 9.07620232e-03, 1.42460540e-02,\n",
       "       2.23606798e-02, 3.50974383e-02, 5.50891201e-02, 8.64681670e-02,\n",
       "       1.35720881e-01, 2.13028194e-01, 3.34370152e-01, 5.24829116e-01,\n",
       "       8.23774486e-01, 1.29300068e+00, 2.02950054e+00, 3.18551451e+00,\n",
       "       5.00000000e+00])"
      ]
     },
     "execution_count": 156,
     "metadata": {},
     "output_type": "execute_result"
    }
   ],
   "source": [
    "## set area bins\n",
    "nbins=25\n",
    "max_area_to_plot=5 # km2\n",
    "bins=np.linspace(0, max_area_to_plot, nbins)\n",
    "nMajorTicks=6\n",
    "\n",
    "## log\n",
    "nbins=25\n",
    "max_area_to_plot=5 # km2\n",
    "bins_log=np.logspace(-4, np.log10(max_area_to_plot), nbins)\n",
    "nMajorTicks=6\n",
    "\n",
    "# ## log with bins based on powers of 10\n",
    "# nbins=6\n",
    "# max_area_to_plot=1e1 # km2\n",
    "# bins_log=np.logspace(-4, np.log10(max_area_to_plot), nbins)\n",
    "# nMajorTicks=6\n",
    "\n",
    "bins_log"
   ]
  },
  {
   "cell_type": "code",
   "execution_count": 27,
   "metadata": {},
   "outputs": [
    {
     "data": {
      "application/vnd.jupyter.widget-view+json": {
       "model_id": "90df6a21d0e844c198717ac14ecfe8b2",
       "version_major": 2,
       "version_minor": 0
      },
      "text/plain": [
       "Canvas(toolbar=Toolbar(toolitems=[('Home', 'Reset original view', 'home', 'home'), ('Back', 'Back to previous …"
      ]
     },
     "metadata": {},
     "output_type": "display_data"
    }
   ],
   "source": [
    "## Fig 1: EM hist plot\n",
    "%matplotlib widget\n",
    "fig, ax = plt.subplots(2,2, sharex=True, figsize=(12,12), constrained_layout=True) # constrained_layout is now default for presentation\n",
    "\n",
    "for i, lakes in enumerate(lakes_list):\n",
    "    \n",
    "    ## prep\n",
    "    axi = np.take(ax, i)\n",
    "    h=axi.hist(lakes.em_fractio, alpha=0.4, color='b', label=label, bins=bins/max_area_to_plot)\n",
    "    axi.set_ylabel('Lake count')\n",
    "    axi.set_xlabel('Emergent macrophyte fraction')\n",
    "    axi.set_title(f'{lakes_labels[i]}\\nLakes > {min_size} m2 ({min_size/px_area:.0f} px)', fontsize=16)\n",
    "    \n",
    "## save fig 1\n",
    "figname=os.path.join(fig_dir, 'Hists-subplots')\n",
    "fig.savefig(figname + '.jpg', dpi=300)\n",
    "fig.savefig(figname + '.pdf', dpi=300)"
   ]
  },
  {
   "cell_type": "code",
   "execution_count": 147,
   "metadata": {},
   "outputs": [
    {
     "data": {
      "application/vnd.jupyter.widget-view+json": {
       "model_id": "0a85b32b5e2f4232a36fb508957e2600",
       "version_major": 2,
       "version_minor": 0
      },
      "text/plain": [
       "Canvas(toolbar=Toolbar(toolitems=[('Home', 'Reset original view', 'home', 'home'), ('Back', 'Back to previous …"
      ]
     },
     "metadata": {},
     "output_type": "display_data"
    }
   ],
   "source": [
    "## Fig 2: Hist plot by area (linear x scale)\n",
    "%matplotlib widget\n",
    "fig2, ax2 = plt.subplots(2,2, sharex=False, figsize=(12,12), constrained_layout=True) # constrained_layout is now default for presentation\n",
    "for i, lakes in enumerate(lakes_list):\n",
    "    axi = np.take(ax2, i)\n",
    "    area_bins=pd.cut(lakes.area_px_m2/1e6, bins)\n",
    "    groups=lakes.groupby(area_bins)\n",
    "#     h=groups.mean().em_fractio.plot.bar(ax=axi, width=1, color='c')\n",
    "#     bar_locs = [groups.mean().em_fractio.index[j].mid for j in range(len(groups))]\n",
    "    axi.bar(bins[:-1], groups.mean().em_fractio, color='c', align='edge', width=np.diff(bins)) # width=1,  width=0.2\n",
    "    axi.set_xlabel('Area ($km^2$)')\n",
    "    axi.set_ylabel('Mean emergent macrophyte fraction')\n",
    "    axi.set_title(f'{lakes_labels[i]}', fontsize=16)\n",
    "    # axi.set_xticks(np.arange(0,7,1))\n",
    "    # axi.set_xticks(axi.get_xticks()[0:nbins+6:nbins//6])\n",
    "    # axi.set_xticks(np.arange(0,7,1))\n",
    "    # axi.set_xticklabels([f'{i:.1f}' for i in bins[0:nbins+6:nbins//6]], rotation = 0) # match default histogram formatting\n",
    "#     axi.set_xscale('linear')\n",
    "#     axi.set_xticks(np.arange(0,nMajorTicks,1)/nMajorTicks*25)\n",
    "#     axi.set_xticklabels(np.arange(0,nMajorTicks,1), rotation = 0) # match default histogram formatting\n",
    "    \n",
    "## save fig 2: by area\n",
    "figname=os.path.join(fig_dir, 'Hists-by-area-subplots')\n",
    "fig2.savefig(figname + '.jpg', dpi=300)\n",
    "fig2.savefig(figname + '.pdf', dpi=300)"
   ]
  },
  {
   "cell_type": "code",
   "execution_count": 159,
   "metadata": {},
   "outputs": [
    {
     "data": {
      "application/vnd.jupyter.widget-view+json": {
       "model_id": "7328a7e63d32419ba6afc7ccf0d51fbb",
       "version_major": 2,
       "version_minor": 0
      },
      "text/plain": [
       "Canvas(toolbar=Toolbar(toolitems=[('Home', 'Reset original view', 'home', 'home'), ('Back', 'Back to previous …"
      ]
     },
     "metadata": {},
     "output_type": "display_data"
    }
   ],
   "source": [
    "## Fig 2b: Hist plot by area (logx)\n",
    "%matplotlib widget\n",
    "fig2, ax2 = plt.subplots(2,2, sharex=True, figsize=(12,12), constrained_layout=True) # constrained_layout is now default for presentation\n",
    "for i, lakes in enumerate(lakes_list):\n",
    "    axi = np.take(ax2, i)\n",
    "    area_bins=pd.cut(lakes.area_px_m2/1e6, bins_log)\n",
    "    groups=lakes.groupby(area_bins)\n",
    "#     h=groups.mean().em_fractio.plot.bar(ax=axi, width=1, color='c')\n",
    "#     bar_locs = [groups.mean().em_fractio.index[j].mid for j in range(len(groups))]\n",
    "    axi.bar(bins_log[:-1], groups.mean().em_fractio, color='c', align='edge', width=np.diff(bins_log)) # width=1,  width=0.2\n",
    "    axi.set_xlabel('Area ($km^2$)')\n",
    "    axi.set_ylabel('Mean emergent macrophyte fraction')\n",
    "    axi.set_title(f'{lakes_labels[i]}', fontsize=16)\n",
    "    # axi.set_xticks(np.arange(0,7,1))\n",
    "    # axi.set_xticks(axi.get_xticks()[0:nbins+6:nbins//6])\n",
    "    # axi.set_xticks(np.arange(0,7,1))\n",
    "    # axi.set_xticklabels([f'{i:.1f}' for i in bins[0:nbins+6:nbins//6]], rotation = 0) # match default histogram formatting\n",
    "    axi.set_xscale('log')\n",
    "#     axi.set_xticks(np.arange(0,nMajorTicks,1)/nMajorTicks*25)\n",
    "#     axi.set_xticklabels(np.arange(0,nMajorTicks,1), rotation = 0) # match default histogram formatting\n",
    "    \n",
    "## save fig 2: by area\n",
    "figname=os.path.join(fig_dir, 'Hists-by-area-subplots-logx')\n",
    "fig2.savefig(figname + '.jpg', dpi=300)\n",
    "fig2.savefig(figname + '.pdf', dpi=300)"
   ]
  },
  {
   "cell_type": "code",
   "execution_count": 292,
   "metadata": {},
   "outputs": [
    {
     "data": {
      "application/vnd.jupyter.widget-view+json": {
       "model_id": "4aa1443cc48f4ed9b81db7837500fbd7",
       "version_major": 2,
       "version_minor": 0
      },
      "text/plain": [
       "Canvas(toolbar=Toolbar(toolitems=[('Home', 'Reset original view', 'home', 'home'), ('Back', 'Back to previous …"
      ]
     },
     "metadata": {},
     "output_type": "display_data"
    },
    {
     "ename": "AttributeError",
     "evalue": "'Rectangle' object has no property 'conf_intervals'",
     "output_type": "error",
     "traceback": [
      "\u001b[0;31m---------------------------------------------------------------------------\u001b[0m",
      "\u001b[0;31mAttributeError\u001b[0m                            Traceback (most recent call last)",
      "\u001b[0;32m<ipython-input-292-297534e1a924>\u001b[0m in \u001b[0;36m<module>\u001b[0;34m\u001b[0m\n\u001b[1;32m      8\u001b[0m     \u001b[0mconfidence\u001b[0m\u001b[0;34m=\u001b[0m\u001b[0mnp\u001b[0m\u001b[0;34m.\u001b[0m\u001b[0mvstack\u001b[0m\u001b[0;34m(\u001b[0m\u001b[0;34m(\u001b[0m\u001b[0mgroups\u001b[0m\u001b[0;34m.\u001b[0m\u001b[0mstd\u001b[0m\u001b[0;34m(\u001b[0m\u001b[0;34m)\u001b[0m\u001b[0;34m.\u001b[0m\u001b[0mem_fractio\u001b[0m\u001b[0;34m.\u001b[0m\u001b[0mto_numpy\u001b[0m\u001b[0;34m(\u001b[0m\u001b[0;34m)\u001b[0m\u001b[0;34m,\u001b[0m \u001b[0mgroups\u001b[0m\u001b[0;34m.\u001b[0m\u001b[0mstd\u001b[0m\u001b[0;34m(\u001b[0m\u001b[0;34m)\u001b[0m\u001b[0;34m.\u001b[0m\u001b[0mem_fractio\u001b[0m\u001b[0;34m.\u001b[0m\u001b[0mto_numpy\u001b[0m\u001b[0;34m(\u001b[0m\u001b[0;34m)\u001b[0m\u001b[0;34m)\u001b[0m\u001b[0;34m)\u001b[0m\u001b[0;34m.\u001b[0m\u001b[0mT\u001b[0m\u001b[0;34m\u001b[0m\u001b[0;34m\u001b[0m\u001b[0m\n\u001b[1;32m      9\u001b[0m     h=axi.bar(bins_log[:-1], groups.mean().em_fractio, color='c',\\\n\u001b[0;32m---> 10\u001b[0;31m               align='edge', width=np.diff(bins_log), label='EM fraction', conf_intervals=confidence) # width=1,  width=0.2\n\u001b[0m\u001b[1;32m     11\u001b[0m     \u001b[0maxi\u001b[0m\u001b[0;34m.\u001b[0m\u001b[0mset_xlabel\u001b[0m\u001b[0;34m(\u001b[0m\u001b[0;34m'Area ($km^2$)'\u001b[0m\u001b[0;34m)\u001b[0m\u001b[0;34m\u001b[0m\u001b[0;34m\u001b[0m\u001b[0m\n\u001b[1;32m     12\u001b[0m     \u001b[0maxi\u001b[0m\u001b[0;34m.\u001b[0m\u001b[0mset_ylabel\u001b[0m\u001b[0;34m(\u001b[0m\u001b[0;34m'Mean emergent macrophyte fraction'\u001b[0m\u001b[0;34m)\u001b[0m\u001b[0;34m\u001b[0m\u001b[0;34m\u001b[0m\u001b[0m\n",
      "\u001b[0;32m~/miniconda2/envs/geohackw/lib/python3.7/site-packages/matplotlib/__init__.py\u001b[0m in \u001b[0;36minner\u001b[0;34m(ax, data, *args, **kwargs)\u001b[0m\n\u001b[1;32m   1599\u001b[0m     \u001b[0;32mdef\u001b[0m \u001b[0minner\u001b[0m\u001b[0;34m(\u001b[0m\u001b[0max\u001b[0m\u001b[0;34m,\u001b[0m \u001b[0;34m*\u001b[0m\u001b[0margs\u001b[0m\u001b[0;34m,\u001b[0m \u001b[0mdata\u001b[0m\u001b[0;34m=\u001b[0m\u001b[0;32mNone\u001b[0m\u001b[0;34m,\u001b[0m \u001b[0;34m**\u001b[0m\u001b[0mkwargs\u001b[0m\u001b[0;34m)\u001b[0m\u001b[0;34m:\u001b[0m\u001b[0;34m\u001b[0m\u001b[0;34m\u001b[0m\u001b[0m\n\u001b[1;32m   1600\u001b[0m         \u001b[0;32mif\u001b[0m \u001b[0mdata\u001b[0m \u001b[0;32mis\u001b[0m \u001b[0;32mNone\u001b[0m\u001b[0;34m:\u001b[0m\u001b[0;34m\u001b[0m\u001b[0;34m\u001b[0m\u001b[0m\n\u001b[0;32m-> 1601\u001b[0;31m             \u001b[0;32mreturn\u001b[0m \u001b[0mfunc\u001b[0m\u001b[0;34m(\u001b[0m\u001b[0max\u001b[0m\u001b[0;34m,\u001b[0m \u001b[0;34m*\u001b[0m\u001b[0mmap\u001b[0m\u001b[0;34m(\u001b[0m\u001b[0msanitize_sequence\u001b[0m\u001b[0;34m,\u001b[0m \u001b[0margs\u001b[0m\u001b[0;34m)\u001b[0m\u001b[0;34m,\u001b[0m \u001b[0;34m**\u001b[0m\u001b[0mkwargs\u001b[0m\u001b[0;34m)\u001b[0m\u001b[0;34m\u001b[0m\u001b[0;34m\u001b[0m\u001b[0m\n\u001b[0m\u001b[1;32m   1602\u001b[0m \u001b[0;34m\u001b[0m\u001b[0m\n\u001b[1;32m   1603\u001b[0m         \u001b[0mbound\u001b[0m \u001b[0;34m=\u001b[0m \u001b[0mnew_sig\u001b[0m\u001b[0;34m.\u001b[0m\u001b[0mbind\u001b[0m\u001b[0;34m(\u001b[0m\u001b[0max\u001b[0m\u001b[0;34m,\u001b[0m \u001b[0;34m*\u001b[0m\u001b[0margs\u001b[0m\u001b[0;34m,\u001b[0m \u001b[0;34m**\u001b[0m\u001b[0mkwargs\u001b[0m\u001b[0;34m)\u001b[0m\u001b[0;34m\u001b[0m\u001b[0;34m\u001b[0m\u001b[0m\n",
      "\u001b[0;32m~/miniconda2/envs/geohackw/lib/python3.7/site-packages/matplotlib/axes/_axes.py\u001b[0m in \u001b[0;36mbar\u001b[0;34m(self, x, height, width, bottom, align, **kwargs)\u001b[0m\n\u001b[1;32m   2430\u001b[0m                 \u001b[0mlabel\u001b[0m\u001b[0;34m=\u001b[0m\u001b[0;34m'_nolegend_'\u001b[0m\u001b[0;34m,\u001b[0m\u001b[0;34m\u001b[0m\u001b[0;34m\u001b[0m\u001b[0m\n\u001b[1;32m   2431\u001b[0m                 )\n\u001b[0;32m-> 2432\u001b[0;31m             \u001b[0mr\u001b[0m\u001b[0;34m.\u001b[0m\u001b[0mupdate\u001b[0m\u001b[0;34m(\u001b[0m\u001b[0mkwargs\u001b[0m\u001b[0;34m)\u001b[0m\u001b[0;34m\u001b[0m\u001b[0;34m\u001b[0m\u001b[0m\n\u001b[0m\u001b[1;32m   2433\u001b[0m             \u001b[0mr\u001b[0m\u001b[0;34m.\u001b[0m\u001b[0mget_path\u001b[0m\u001b[0;34m(\u001b[0m\u001b[0;34m)\u001b[0m\u001b[0;34m.\u001b[0m\u001b[0m_interpolation_steps\u001b[0m \u001b[0;34m=\u001b[0m \u001b[0;36m100\u001b[0m\u001b[0;34m\u001b[0m\u001b[0;34m\u001b[0m\u001b[0m\n\u001b[1;32m   2434\u001b[0m             \u001b[0;32mif\u001b[0m \u001b[0morientation\u001b[0m \u001b[0;34m==\u001b[0m \u001b[0;34m'vertical'\u001b[0m\u001b[0;34m:\u001b[0m\u001b[0;34m\u001b[0m\u001b[0;34m\u001b[0m\u001b[0m\n",
      "\u001b[0;32m~/miniconda2/envs/geohackw/lib/python3.7/site-packages/matplotlib/artist.py\u001b[0m in \u001b[0;36mupdate\u001b[0;34m(self, props)\u001b[0m\n\u001b[1;32m    972\u001b[0m \u001b[0;34m\u001b[0m\u001b[0m\n\u001b[1;32m    973\u001b[0m         \u001b[0;32mwith\u001b[0m \u001b[0mcbook\u001b[0m\u001b[0;34m.\u001b[0m\u001b[0m_setattr_cm\u001b[0m\u001b[0;34m(\u001b[0m\u001b[0mself\u001b[0m\u001b[0;34m,\u001b[0m \u001b[0meventson\u001b[0m\u001b[0;34m=\u001b[0m\u001b[0;32mFalse\u001b[0m\u001b[0;34m)\u001b[0m\u001b[0;34m:\u001b[0m\u001b[0;34m\u001b[0m\u001b[0;34m\u001b[0m\u001b[0m\n\u001b[0;32m--> 974\u001b[0;31m             \u001b[0mret\u001b[0m \u001b[0;34m=\u001b[0m \u001b[0;34m[\u001b[0m\u001b[0m_update_property\u001b[0m\u001b[0;34m(\u001b[0m\u001b[0mself\u001b[0m\u001b[0;34m,\u001b[0m \u001b[0mk\u001b[0m\u001b[0;34m,\u001b[0m \u001b[0mv\u001b[0m\u001b[0;34m)\u001b[0m \u001b[0;32mfor\u001b[0m \u001b[0mk\u001b[0m\u001b[0;34m,\u001b[0m \u001b[0mv\u001b[0m \u001b[0;32min\u001b[0m \u001b[0mprops\u001b[0m\u001b[0;34m.\u001b[0m\u001b[0mitems\u001b[0m\u001b[0;34m(\u001b[0m\u001b[0;34m)\u001b[0m\u001b[0;34m]\u001b[0m\u001b[0;34m\u001b[0m\u001b[0;34m\u001b[0m\u001b[0m\n\u001b[0m\u001b[1;32m    975\u001b[0m \u001b[0;34m\u001b[0m\u001b[0m\n\u001b[1;32m    976\u001b[0m         \u001b[0;32mif\u001b[0m \u001b[0mlen\u001b[0m\u001b[0;34m(\u001b[0m\u001b[0mret\u001b[0m\u001b[0;34m)\u001b[0m\u001b[0;34m:\u001b[0m\u001b[0;34m\u001b[0m\u001b[0;34m\u001b[0m\u001b[0m\n",
      "\u001b[0;32m~/miniconda2/envs/geohackw/lib/python3.7/site-packages/matplotlib/artist.py\u001b[0m in \u001b[0;36m<listcomp>\u001b[0;34m(.0)\u001b[0m\n\u001b[1;32m    972\u001b[0m \u001b[0;34m\u001b[0m\u001b[0m\n\u001b[1;32m    973\u001b[0m         \u001b[0;32mwith\u001b[0m \u001b[0mcbook\u001b[0m\u001b[0;34m.\u001b[0m\u001b[0m_setattr_cm\u001b[0m\u001b[0;34m(\u001b[0m\u001b[0mself\u001b[0m\u001b[0;34m,\u001b[0m \u001b[0meventson\u001b[0m\u001b[0;34m=\u001b[0m\u001b[0;32mFalse\u001b[0m\u001b[0;34m)\u001b[0m\u001b[0;34m:\u001b[0m\u001b[0;34m\u001b[0m\u001b[0;34m\u001b[0m\u001b[0m\n\u001b[0;32m--> 974\u001b[0;31m             \u001b[0mret\u001b[0m \u001b[0;34m=\u001b[0m \u001b[0;34m[\u001b[0m\u001b[0m_update_property\u001b[0m\u001b[0;34m(\u001b[0m\u001b[0mself\u001b[0m\u001b[0;34m,\u001b[0m \u001b[0mk\u001b[0m\u001b[0;34m,\u001b[0m \u001b[0mv\u001b[0m\u001b[0;34m)\u001b[0m \u001b[0;32mfor\u001b[0m \u001b[0mk\u001b[0m\u001b[0;34m,\u001b[0m \u001b[0mv\u001b[0m \u001b[0;32min\u001b[0m \u001b[0mprops\u001b[0m\u001b[0;34m.\u001b[0m\u001b[0mitems\u001b[0m\u001b[0;34m(\u001b[0m\u001b[0;34m)\u001b[0m\u001b[0;34m]\u001b[0m\u001b[0;34m\u001b[0m\u001b[0;34m\u001b[0m\u001b[0m\n\u001b[0m\u001b[1;32m    975\u001b[0m \u001b[0;34m\u001b[0m\u001b[0m\n\u001b[1;32m    976\u001b[0m         \u001b[0;32mif\u001b[0m \u001b[0mlen\u001b[0m\u001b[0;34m(\u001b[0m\u001b[0mret\u001b[0m\u001b[0;34m)\u001b[0m\u001b[0;34m:\u001b[0m\u001b[0;34m\u001b[0m\u001b[0;34m\u001b[0m\u001b[0m\n",
      "\u001b[0;32m~/miniconda2/envs/geohackw/lib/python3.7/site-packages/matplotlib/artist.py\u001b[0m in \u001b[0;36m_update_property\u001b[0;34m(self, k, v)\u001b[0m\n\u001b[1;32m    968\u001b[0m                 \u001b[0;32mif\u001b[0m \u001b[0;32mnot\u001b[0m \u001b[0mcallable\u001b[0m\u001b[0;34m(\u001b[0m\u001b[0mfunc\u001b[0m\u001b[0;34m)\u001b[0m\u001b[0;34m:\u001b[0m\u001b[0;34m\u001b[0m\u001b[0;34m\u001b[0m\u001b[0m\n\u001b[1;32m    969\u001b[0m                     raise AttributeError('{!r} object has no property {!r}'\n\u001b[0;32m--> 970\u001b[0;31m                                          .format(type(self).__name__, k))\n\u001b[0m\u001b[1;32m    971\u001b[0m                 \u001b[0;32mreturn\u001b[0m \u001b[0mfunc\u001b[0m\u001b[0;34m(\u001b[0m\u001b[0mv\u001b[0m\u001b[0;34m)\u001b[0m\u001b[0;34m\u001b[0m\u001b[0;34m\u001b[0m\u001b[0m\n\u001b[1;32m    972\u001b[0m \u001b[0;34m\u001b[0m\u001b[0m\n",
      "\u001b[0;31mAttributeError\u001b[0m: 'Rectangle' object has no property 'conf_intervals'"
     ]
    }
   ],
   "source": [
    "## Fig 2c: Hist plot by area (logx)\n",
    "%matplotlib widget\n",
    "fig2, ax2 = plt.subplots(2,2, sharex=True, figsize=(12,12), constrained_layout=True) # constrained_layout is now default for presentation\n",
    "for i, lakes in enumerate(lakes_list):\n",
    "    axi = np.take(ax2, i)\n",
    "    area_bins=pd.cut(lakes.area_px_m2/1e6, bins_log)\n",
    "    groups=lakes.groupby(area_bins)\n",
    "    confidence=np.vstack((groups.std().em_fractio.to_numpy(), groups.std().em_fractio.to_numpy())).T\n",
    "    h=axi.bar(bins_log[:-1], groups.mean().em_fractio, color='c',\\\n",
    "              align='edge', width=np.diff(bins_log), label='EM fraction') # width=1,  width=0.2 , conf_intervals=confidence\n",
    "    axi.set_xlabel('Area ($km^2$)')\n",
    "    axi.set_ylabel('Mean emergent macrophyte fraction')\n",
    "    \n",
    "    ## y axis 2\n",
    "    axiyy=axi.twinx()\n",
    "    h1=axiyy.hist(lakes.area_px_m2/1e6, alpha=0.1, color='black', bins=bins_log, label='Area histogram') # , histtype='step'\n",
    "#     axiyy.set_yticklabels([axiyy.get_yticklabels()[i].get_text() for i in range(len(axiyy.get_yticklabels()))], color='b')\n",
    "    for j in range(len(axiyy.get_yticklabels())): # clunky way to set color\n",
    "        axiyy.get_yticklabels()[j].set_color((0.6, 0.6, 0.6))   \n",
    "    axi.set_title(f'{lakes_labels[i]}', fontsize=16)\n",
    "    axi.set_xscale('log')\n",
    "\n",
    "## legend on one plot only\n",
    "# handles, labels = axi.get_legend_handles_labels()\n",
    "# handlesyy, labelsyy = axiyy.get_legend_handles_labels() # doesn't work\n",
    "import matplotlib.patches as mpatches\n",
    "handlesyy = mpatches.Patch(color='black', label='Area histogram', alpha=0.1)\n",
    "handles = mpatches.Patch(color='c', label='Area histogram')\n",
    "ax2[1,0].legend([handles, handlesyy], ['EM fraction', 'Area histogram'])\n",
    "plt.legend\n",
    "\n",
    "## save fig 2: by area\n",
    "figname=os.path.join(fig_dir, 'Hists-by-area-subplots-logx-with-are-hists')\n",
    "fig2.savefig(figname + '.jpg', dpi=300)\n",
    "fig2.savefig(figname + '.pdf', dpi=300)"
   ]
  },
  {
   "cell_type": "code",
   "execution_count": 290,
   "metadata": {},
   "outputs": [
    {
     "data": {
      "text/plain": [
       "array([[0.        , 0.        ],\n",
       "       [0.        , 0.        ],\n",
       "       [0.        , 0.        ],\n",
       "       [0.08149003, 0.08149003],\n",
       "       [0.22216259, 0.22216259],\n",
       "       [0.17020813, 0.17020813],\n",
       "       [0.41195089, 0.41195089],\n",
       "       [0.30920635, 0.30920635],\n",
       "       [0.24405638, 0.24405638],\n",
       "       [0.23560848, 0.23560848],\n",
       "       [0.21437274, 0.21437274],\n",
       "       [0.28005223, 0.28005223],\n",
       "       [0.11865414, 0.11865414],\n",
       "       [0.10286166, 0.10286166],\n",
       "       [0.1853677 , 0.1853677 ],\n",
       "       [0.13173233, 0.13173233],\n",
       "       [0.10320586, 0.10320586],\n",
       "       [0.17185085, 0.17185085],\n",
       "       [0.08205907, 0.08205907],\n",
       "       [0.01405261, 0.01405261],\n",
       "       [0.02383602, 0.02383602],\n",
       "       [0.06862035, 0.06862035],\n",
       "       [0.        , 0.        ],\n",
       "       [0.12332584, 0.12332584]])"
      ]
     },
     "execution_count": 290,
     "metadata": {},
     "output_type": "execute_result"
    }
   ],
   "source": [
    "np.vstack((groups.std().em_fractio.fillna(0).to_numpy(), groups.std().em_fractio.fillna(0).to_numpy())).T\n",
    "# groups.std().em_fractio.fillna(0).to_numpy()"
   ]
  },
  {
   "cell_type": "code",
   "execution_count": 42,
   "metadata": {},
   "outputs": [
    {
     "data": {
      "application/vnd.jupyter.widget-view+json": {
       "model_id": "5d727c313c3544c49b0acc7ecaa94936",
       "version_major": 2,
       "version_minor": 0
      },
      "text/plain": [
       "Canvas(toolbar=Toolbar(toolitems=[('Home', 'Reset original view', 'home', 'home'), ('Back', 'Back to previous …"
      ]
     },
     "metadata": {},
     "output_type": "display_data"
    },
    {
     "name": "stderr",
     "output_type": "stream",
     "text": [
      "/home/ekyzivat/miniconda2/envs/geohackw/lib/python3.7/site-packages/ipykernel_launcher.py:12: UserWarning: Attempted to set non-positive left xlim on a log-scaled axis.\n",
      "Invalid limit will be ignored.\n",
      "  if sys.path[0] == '':\n"
     ]
    }
   ],
   "source": [
    "## Fig 3: Area hist plots\n",
    "%matplotlib widget\n",
    "fig3, ax3 = plt.subplots(2,2, sharex=True, figsize=(12,12), constrained_layout=True) # constrained_layout is now default for presentation\n",
    "for i, lakes in enumerate(lakes_list):\n",
    "    axi = np.take(ax3, i)\n",
    "    axi.hist(lakes.area_px_m2/1e6, alpha=0.4, color='g', label=label, bins=bins_log)\n",
    "    axi.set_xlabel('Area ($km^2$)')\n",
    "    axi.set_ylabel('Count')\n",
    "    axi.set_yscale('log')\n",
    "    axi.set_xscale('log')\n",
    "    axi.set_title(f'{lakes_labels[i]}', fontsize=16)\n",
    "    axi.set_xlim(0, max_area_to_plot)\n",
    "\n",
    "## save fig 3: by area\n",
    "figname=os.path.join(fig_dir, 'Area-hists-subplots')\n",
    "fig3.savefig(figname + '.jpg', dpi=300)\n",
    "zfig3.savefig(figname + '.pdf', dpi=300)"
   ]
  },
  {
   "cell_type": "markdown",
   "metadata": {},
   "source": [
    "# Scrap"
   ]
  },
  {
   "cell_type": "code",
   "execution_count": 111,
   "metadata": {},
   "outputs": [
    {
     "data": {
      "application/vnd.jupyter.widget-view+json": {
       "model_id": "",
       "version_major": 2,
       "version_minor": 0
      },
      "text/plain": [
       "Canvas(toolbar=Toolbar(toolitems=[('Home', 'Reset original view', 'home', 'home'), ('Back', 'Back to previous …"
      ]
     },
     "metadata": {},
     "output_type": "display_data"
    }
   ],
   "source": [
    "## Fig 2: Hist plot by area (linear x scale) # old version using object.plt.bar, not plt.bar(...)\n",
    "%matplotlib widget\n",
    "fig2, ax2 = plt.subplots(2,2, sharex=True, figsize=(12,12), constrained_layout=True) # constrained_layout is now default for presentation\n",
    "for i, lakes in enumerate(lakes_list):\n",
    "    axi = np.take(ax2, i)\n",
    "    area_bins=pd.cut(lakes.area_px_m2/1e6, bins)\n",
    "    groups=lakes.groupby(area_bins)\n",
    "    h=groups.mean().em_fractio.plot.bar(ax=axi, width=1, color='c')\n",
    "#     bar_locs = [groups.mean().em_fractio.index[j].mid for j in range(len(groups))]\n",
    "#     axi.bar(bar_locs, groups.mean().em_fractio, color='c') # width=1, \n",
    "    axi.set_xlabel('Area ($km^2$)')\n",
    "    axi.set_ylabel('Mean emergent macrophyte fraction')\n",
    "    axi.set_title(f'{lakes_labels[i]}', fontsize=16)\n",
    "    # axi.set_xticks(np.arange(0,7,1))\n",
    "    # axi.set_xticks(axi.get_xticks()[0:nbins+6:nbins//6])\n",
    "    # axi.set_xticks(np.arange(0,7,1))\n",
    "    # axi.set_xticklabels([f'{i:.1f}' for i in bins[0:nbins+6:nbins//6]], rotation = 0) # match default histogram formatting\n",
    "#     axi.set_xscale('linear')\n",
    "    axi.set_xticks(np.arange(0,nMajorTicks,1)/nMajorTicks*25)\n",
    "    axi.set_xticklabels(np.arange(0,nMajorTicks,1), rotation = 0) # match default histogram formatting\n",
    "    \n",
    "## save fig 2: by area\n",
    "figname=os.path.join(fig_dir, 'Hists-by-area-subplots')\n",
    "fig2.savefig(figname + '.jpg', dpi=300)\n",
    "fig2.savefig(figname + '.pdf', dpi=300)"
   ]
  },
  {
   "cell_type": "code",
   "execution_count": 124,
   "metadata": {},
   "outputs": [
    {
     "name": "stdout",
     "output_type": "stream",
     "text": [
      "area_px_m2\n",
      "(0.0, 0.208]      0.227983\n",
      "(0.208, 0.417]    0.152340\n",
      "(0.417, 0.625]    0.083529\n",
      "(0.625, 0.833]    0.073672\n",
      "(0.833, 1.042]    0.057883\n",
      "(1.042, 1.25]     0.049353\n",
      "(1.25, 1.458]     0.030674\n",
      "(1.458, 1.667]    0.089811\n",
      "(1.667, 1.875]         NaN\n",
      "(1.875, 2.083]    0.025910\n",
      "(2.083, 2.292]         NaN\n",
      "(2.292, 2.5]           NaN\n",
      "(2.5, 2.708]           NaN\n",
      "(2.708, 2.917]         NaN\n",
      "(2.917, 3.125]    0.044272\n",
      "(3.125, 3.333]         NaN\n",
      "(3.333, 3.542]         NaN\n",
      "(3.542, 3.75]          NaN\n",
      "(3.75, 3.958]          NaN\n",
      "(3.958, 4.167]    0.027551\n",
      "(4.167, 4.375]         NaN\n",
      "(4.375, 4.583]         NaN\n",
      "(4.583, 4.792]    0.201960\n",
      "(4.792, 5.0]           NaN\n",
      "Name: em_fractio, dtype: float64\n",
      "[0.104, 0.3125, 0.521, 0.729, 0.9375, 1.146, 1.354, 1.5625, 1.771, 1.979, 2.1875, 2.396, 2.604, 2.8125, 3.021, 3.229, 3.4375, 3.646, 3.854, 4.0625, 4.271, 4.479, 4.6875, 4.896]\n",
      "[0.2085 0.2085 0.208  0.2085 0.2085 0.208  0.2085 0.2085 0.208  0.2085\n",
      " 0.2085 0.208  0.2085 0.2085 0.208  0.2085 0.2085 0.208  0.2085 0.2085\n",
      " 0.208  0.2085 0.2085]\n"
     ]
    },
    {
     "data": {
      "text/plain": [
       "array([0.        , 0.20833333, 0.41666667, 0.625     , 0.83333333,\n",
       "       1.04166667, 1.25      , 1.45833333, 1.66666667, 1.875     ,\n",
       "       2.08333333, 2.29166667, 2.5       , 2.70833333, 2.91666667,\n",
       "       3.125     , 3.33333333, 3.54166667, 3.75      , 3.95833333,\n",
       "       4.16666667, 4.375     , 4.58333333, 4.79166667])"
      ]
     },
     "execution_count": 124,
     "metadata": {},
     "output_type": "execute_result"
    }
   ],
   "source": [
    "dir(h)\n",
    "# h.get_xticks()\n",
    "print(groups.mean().em_fractio)\n",
    "print(bar_locs)\n",
    "print(np.diff(bar_locs)) # not evenlyspaced!\n",
    "lakes_labels[i]\n",
    "bins\n",
    "bins[:-1]"
   ]
  }
 ],
 "metadata": {
  "kernelspec": {
   "display_name": "Python [conda env:geohackw] *",
   "language": "python",
   "name": "conda-env-geohackw-py"
  },
  "language_info": {
   "codemirror_mode": {
    "name": "ipython",
    "version": 3
   },
   "file_extension": ".py",
   "mimetype": "text/x-python",
   "name": "python",
   "nbconvert_exporter": "python",
   "pygments_lexer": "ipython3",
   "version": "3.7.3"
  }
 },
 "nbformat": 4,
 "nbformat_minor": 4
}
