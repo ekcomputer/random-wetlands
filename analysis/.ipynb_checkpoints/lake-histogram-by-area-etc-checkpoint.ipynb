{
 "cells": [
  {
   "cell_type": "markdown",
   "metadata": {},
   "source": [
    "\n",
    "Makes a 4-panel plot from my chosen best dates for histogram, or hist by area.\n",
    "\n",
    "0.      For PAD and YF: choose inner ROI\n",
    "1.    Choose best dates (in notebook) or multi-temporal hist\n",
    "2.      Seed with CIR maks lakes (to help YF)\n",
    "3.      Histograms of EM% binned by AREA\n",
    "\n",
    "TODO: \n",
    "    * Dateparser for dates in filename\n",
    "    * Why no effect of min size?\n"
   ]
  },
  {
   "cell_type": "code",
   "execution_count": 1,
   "metadata": {},
   "outputs": [],
   "source": [
    "## imports\n",
    "import glob\n",
    "import os\n",
    "import matplotlib.pyplot as plt\n",
    "import numpy as np\n",
    "import pandas as pd\n",
    "import geopandas as gpd\n",
    "from python_env import *\n",
    "# from memory_profiler import profile"
   ]
  },
  {
   "cell_type": "code",
   "execution_count": 2,
   "metadata": {},
   "outputs": [],
   "source": [
    "## User vars\n",
    "min_size=500 # meters squared\n",
    "regions=['Daring','Baker','PAD','YFLATS']\n",
    "\n",
    "## constants\n",
    "labels=dict(zip(\n",
    "    [\n",
    "    'daring_21405_17063_010_170614_L090_CX_01_LUT-Freeman_rcls_lakes.shp',\n",
    "    'daring_21405_17094_010_170909_L090_CX_01_LUT-Freeman_rcls_lakes.shp',\n",
    "    'bakerc_16008_18047_005_180821_L090_CX_02_Freeman-inc_rcls_lakes.shp',\n",
    "    'bakerc_16008_19059_012_190904_L090_CX_01_Freeman-inc_rcls_lakes.shp',\n",
    "    'PAD_170613_mosaic_rcls_lakes.shp',\n",
    "    'PAD_170908_mosaic_rcls_lakes.shp',\n",
    "    'PAD_180821_mosaic_rcls_lakes.shp',\n",
    "    'padelE_36000_19059_003_190904_L090_CX_01_Freeman-inc_rcls_lakes.shp',\n",
    "    'YFLATS_170621_mosaic_rcls_lakes.shp',\n",
    "    'YFLATS_170916_mosaic_rcls_lakes.shp',\n",
    "    'YFLATS_180827_mosaic_rcls_lakes.shp',\n",
    "    'YFLATS_190914_mosaic_rcls_lakes.shp'\n",
    "    ],\n",
    "\n",
    "    [\n",
    "    'Daring June 2017',\n",
    "    'Daring Sept 2017',\n",
    "    'Baker Aug 2018',\n",
    "    'Baker Sept 2019',\n",
    "    'PAD June 2017',\n",
    "    'PAD September 2017',\n",
    "    'PAD Aug 2018',\n",
    "    'PAD Sept 2019',\n",
    "    'YFLATS June 2017',\n",
    "    'YFLATS Sept 2017',\n",
    "    'YFLATS Aug 2018',\n",
    "    'YFLATS Sept 2019'\n",
    "    ]\n",
    "))\n",
    "best_dates=[\n",
    "    'YFLATS_180827_mosaic_rcls_lakes.shp', 'padelE_36000_19059_003_190904_L090_CX_01_Freeman-inc_rcls_lakes.shp', 'daring_21405_17094_010_170909_L090_CX_01_LUT-Freeman_rcls_lakes.shp', 'bakerc_16008_18047_005_180821_L090_CX_02_Freeman-inc_rcls_lakes.shp'\n",
    "            ]\n",
    "## load data\n",
    "plt.style.use('/mnt/d/Dropbox/Python/Matplotlib-rcParams/presentation.mplstyle')"
   ]
  },
  {
   "cell_type": "code",
   "execution_count": 3,
   "metadata": {},
   "outputs": [
    {
     "name": "stdout",
     "output_type": "stream",
     "text": [
      "label: YFLATS Aug 2018\n",
      "\n",
      "\n",
      "----------------\n",
      "Input: /mnt/f/PAD2019/classification_training/PixelClassifier/Final-ORNL-DAAC/shp_no_rivers/YFLATS_180827_mosaic_rcls_lakes.shp\n",
      "\t(File 1 of 4)\n",
      "\n",
      "label: PAD Sept 2019\n",
      "\n",
      "\n",
      "----------------\n",
      "Input: /mnt/f/PAD2019/classification_training/PixelClassifier/Final-ORNL-DAAC/shp_no_rivers/padelE_36000_19059_003_190904_L090_CX_01_Freeman-inc_rcls_lakes.shp\n",
      "\t(File 2 of 4)\n",
      "\n",
      "label: Daring Sept 2017\n",
      "\n",
      "\n",
      "----------------\n",
      "Input: /mnt/f/PAD2019/classification_training/PixelClassifier/Final-ORNL-DAAC/shp_no_rivers/daring_21405_17094_010_170909_L090_CX_01_LUT-Freeman_rcls_lakes.shp\n",
      "\t(File 3 of 4)\n",
      "\n",
      "label: Baker Aug 2018\n",
      "\n",
      "\n",
      "----------------\n",
      "Input: /mnt/f/PAD2019/classification_training/PixelClassifier/Final-ORNL-DAAC/shp_no_rivers/bakerc_16008_18047_005_180821_L090_CX_02_Freeman-inc_rcls_lakes.shp\n",
      "\t(File 4 of 4)\n",
      "\n"
     ]
    }
   ],
   "source": [
    "## loop\n",
    "lakes_list=[]\n",
    "lakes_labels=[]\n",
    "for i, basename in enumerate(best_dates):\n",
    "    ## dynamic I/O\n",
    "    filename = os.path.join(shape_dir, basename)\n",
    "    label = labels[basename]\n",
    "    print('label: '+label)\n",
    "\n",
    "    ## print\n",
    "    print(f'\\n\\n----------------\\nInput: {filename}')\n",
    "    print(f'\\t(File {i+1} of {len(best_dates)})\\n')\n",
    "\n",
    "    ## I/O\n",
    "    lakes = gpd.read_file(filename)\n",
    "\n",
    "    ## filter\n",
    "    filter=(lakes.edge==False) & (lakes.area_px_m2>=min_size) & (lakes.cir_observ==True)\n",
    "    \n",
    "    ## save to mem\n",
    "    lakes_list.append(lakes[filter])\n",
    "    lakes_labels.append(label)"
   ]
  },
  {
   "cell_type": "code",
   "execution_count": 4,
   "metadata": {},
   "outputs": [
    {
     "data": {
      "text/plain": [
       "array([1.00000000e-04, 1.56960516e-04, 2.46366035e-04, 3.86697399e-04,\n",
       "       6.06962231e-04, 9.52691048e-04, 1.49534878e-03, 2.34710716e-03,\n",
       "       3.68403150e-03, 5.78247484e-03, 9.07620232e-03, 1.42460540e-02,\n",
       "       2.23606798e-02, 3.50974383e-02, 5.50891201e-02, 8.64681670e-02,\n",
       "       1.35720881e-01, 2.13028194e-01, 3.34370152e-01, 5.24829116e-01,\n",
       "       8.23774486e-01, 1.29300068e+00, 2.02950054e+00, 3.18551451e+00,\n",
       "       5.00000000e+00])"
      ]
     },
     "execution_count": 4,
     "metadata": {},
     "output_type": "execute_result"
    }
   ],
   "source": [
    "## set area bins\n",
    "nbins=25\n",
    "max_area_to_plot=5 # km2\n",
    "bins=np.linspace(0, max_area_to_plot, nbins)\n",
    "nMajorTicks=6\n",
    "\n",
    "## log\n",
    "nbins=25\n",
    "max_area_to_plot=5 # km2\n",
    "bins_log=np.logspace(-4, np.log10(max_area_to_plot), nbins)\n",
    "nMajorTicks=6\n",
    "\n",
    "# ## log with bins based on powers of 10\n",
    "# nbins=6\n",
    "# max_area_to_plot=1e1 # km2\n",
    "# bins_log=np.logspace(-4, np.log10(max_area_to_plot), nbins)\n",
    "# nMajorTicks=6\n",
    "\n",
    "bins_log"
   ]
  },
  {
   "cell_type": "code",
   "execution_count": 5,
   "metadata": {},
   "outputs": [
    {
     "data": {
      "application/vnd.jupyter.widget-view+json": {
       "model_id": "04e78d1264594988aeb083099266fc38",
       "version_major": 2,
       "version_minor": 0
      },
      "text/plain": [
       "Canvas(toolbar=Toolbar(toolitems=[('Home', 'Reset original view', 'home', 'home'), ('Back', 'Back to previous …"
      ]
     },
     "metadata": {},
     "output_type": "display_data"
    }
   ],
   "source": [
    "## Fig 1: EM hist plot\n",
    "%matplotlib widget\n",
    "fig, ax = plt.subplots(2,2, sharex=True, figsize=(12,12), constrained_layout=True) # constrained_layout is now default for presentation\n",
    "\n",
    "for i, lakes in enumerate(lakes_list):\n",
    "    \n",
    "    ## prep\n",
    "    axi = np.take(ax, i)\n",
    "    h=axi.hist(lakes.em_fractio, alpha=0.4, color='b', label=label, bins=bins/max_area_to_plot)\n",
    "    axi.set_ylabel('Lake count')\n",
    "    axi.set_xlabel('Emergent macrophyte fraction')\n",
    "    axi.set_title(f'{lakes_labels[i]}\\nLakes > {min_size} m2 ({min_size/px_area:.0f} px)', fontsize=16)\n",
    "    \n",
    "## save fig 1\n",
    "figname=os.path.join(fig_dir, 'Hists-subplots')\n",
    "fig.savefig(figname + '.jpg', dpi=300)\n",
    "fig.savefig(figname + '.pdf', dpi=300)"
   ]
  },
  {
   "cell_type": "code",
   "execution_count": 6,
   "metadata": {},
   "outputs": [
    {
     "data": {
      "application/vnd.jupyter.widget-view+json": {
       "model_id": "e66e6c9d32624c069bf2b65cd943c1aa",
       "version_major": 2,
       "version_minor": 0
      },
      "text/plain": [
       "Canvas(toolbar=Toolbar(toolitems=[('Home', 'Reset original view', 'home', 'home'), ('Back', 'Back to previous …"
      ]
     },
     "metadata": {},
     "output_type": "display_data"
    }
   ],
   "source": [
    "## Fig 2: Hist plot by area (linear x scale)\n",
    "%matplotlib widget\n",
    "fig2, ax2 = plt.subplots(2,2, sharex=False, figsize=(12,12), constrained_layout=True) # constrained_layout is now default for presentation\n",
    "for i, lakes in enumerate(lakes_list):\n",
    "    axi = np.take(ax2, i)\n",
    "    area_bins=pd.cut(lakes.area_px_m2/1e6, bins)\n",
    "    groups=lakes.groupby(area_bins)\n",
    "#     h=groups.mean().em_fractio.plot.bar(ax=axi, width=1, color='c')\n",
    "#     bar_locs = [groups.mean().em_fractio.index[j].mid for j in range(len(groups))]\n",
    "    axi.bar(bins[:-1], groups.mean().em_fractio, color='c', align='edge', width=np.diff(bins)) # width=1,  width=0.2\n",
    "    axi.set_xlabel('Area ($km^2$)')\n",
    "    axi.set_ylabel('Mean emergent macrophyte fraction')\n",
    "    axi.set_title(f'{lakes_labels[i]}', fontsize=16)\n",
    "    # axi.set_xticks(np.arange(0,7,1))\n",
    "    # axi.set_xticks(axi.get_xticks()[0:nbins+6:nbins//6])\n",
    "    # axi.set_xticks(np.arange(0,7,1))\n",
    "    # axi.set_xticklabels([f'{i:.1f}' for i in bins[0:nbins+6:nbins//6]], rotation = 0) # match default histogram formatting\n",
    "#     axi.set_xscale('linear')\n",
    "#     axi.set_xticks(np.arange(0,nMajorTicks,1)/nMajorTicks*25)\n",
    "#     axi.set_xticklabels(np.arange(0,nMajorTicks,1), rotation = 0) # match default histogram formatting\n",
    "    \n",
    "## save fig 2: by area\n",
    "figname=os.path.join(fig_dir, 'Hists-by-area-subplots')\n",
    "fig2.savefig(figname + '.jpg', dpi=300)\n",
    "fig2.savefig(figname + '.pdf', dpi=300)"
   ]
  },
  {
   "cell_type": "code",
   "execution_count": 28,
   "metadata": {},
   "outputs": [
    {
     "data": {
      "application/vnd.jupyter.widget-view+json": {
       "model_id": "fc53b9f5e7a7449c98b4faa4007609cc",
       "version_major": 2,
       "version_minor": 0
      },
      "text/plain": [
       "Canvas(toolbar=Toolbar(toolitems=[('Home', 'Reset original view', 'home', 'home'), ('Back', 'Back to previous …"
      ]
     },
     "metadata": {},
     "output_type": "display_data"
    }
   ],
   "source": [
    "## Fig 2b: Hist plot by area (logx)\n",
    "%matplotlib widget\n",
    "fig2, ax2 = plt.subplots(2,2, sharex=True, figsize=(12,12), constrained_layout=True) # constrained_layout is now default for presentation\n",
    "for i, lakes in enumerate(lakes_list):\n",
    "    axi = np.take(ax2, i)\n",
    "    area_bins=pd.cut(lakes.area_px_m2/1e6, bins_log)\n",
    "    groups=lakes.groupby(area_bins)\n",
    "#     h=groups.mean().em_fractio.plot.bar(ax=axi, width=1, color='c')\n",
    "#     bar_locs = [groups.mean().em_fractio.index[j].mid for j in range(len(groups))]\n",
    "    axi.bar(bins_log[:-1], groups.mean().em_fractio, color='c', align='edge', width=np.diff(bins_log)) # width=1,  width=0.2\n",
    "    axi.set_xlabel('Area ($km^2$)')\n",
    "    axi.set_ylabel('Mean emergent macrophyte fraction')\n",
    "    axi.set_title(f'{lakes_labels[i]}', fontsize=16)\n",
    "    # axi.set_xticks(np.arange(0,7,1))\n",
    "    # axi.set_xticks(axi.get_xticks()[0:nbins+6:nbins//6])\n",
    "    # axi.set_xticks(np.arange(0,7,1))\n",
    "    # axi.set_xticklabels([f'{i:.1f}' for i in bins[0:nbins+6:nbins//6]], rotation = 0) # match default histogram formatting\n",
    "    axi.set_xscale('log')\n",
    "#     axi.set_xticks(np.arange(0,nMajorTicks,1)/nMajorTicks*25)\n",
    "#     axi.set_xticklabels(np.arange(0,nMajorTicks,1), rotation = 0) # match default histogram formatting\n",
    "    \n",
    "## save fig 2: by area\n",
    "figname=os.path.join(fig_dir, 'Hists-by-area-subplots-logx')\n",
    "fig2.savefig(figname + '.jpg', dpi=300)\n",
    "fig2.savefig(figname + '.pdf', dpi=300)"
   ]
  },
  {
   "cell_type": "code",
   "execution_count": 116,
   "metadata": {},
   "outputs": [
    {
     "data": {
      "application/vnd.jupyter.widget-view+json": {
       "model_id": "246703dc734d46cfa2509a5d4d5bcc82",
       "version_major": 2,
       "version_minor": 0
      },
      "text/plain": [
       "Canvas(toolbar=Toolbar(toolitems=[('Home', 'Reset original view', 'home', 'home'), ('Back', 'Back to previous …"
      ]
     },
     "metadata": {},
     "output_type": "display_data"
    }
   ],
   "source": [
    "## Fig 2c: Hist plot by area (logx)\n",
    "%matplotlib widget\n",
    "fig2, ax2 = plt.subplots(2,2, sharex=True, figsize=(12,12), constrained_layout=True) # constrained_layout is now default for presentation\n",
    "for i, lakes in enumerate(lakes_list):\n",
    "    axi = np.take(ax2, i)\n",
    "    area_bins=pd.cut(lakes.area_px_m2/1e6, bins_log)\n",
    "    groups=lakes.groupby(area_bins)\n",
    "#     yerr = groups.em_fractio.quantile(0.25) #groups.std().em_fractio #.to_numpy()  #np.vstack((groups.std().em_fractio.to_numpy(), groups.std().em_fractio.to_numpy())).T # MEMORY CRASH HERE... ???\n",
    "    h=axi.bar(bins_log[:-1], groups.mean().em_fractio, color='c',\\\n",
    "              align='edge', width=np.diff(bins_log), label='EM fraction')#, yerr=confidence) # width=1,  width=0.2 , conf_intervals=confidence\n",
    "    axi.set_xlabel('Area ($km^2$)')\n",
    "    axi.set_ylabel('Mean emergent macrophyte fraction')\n",
    "    \n",
    "    ## y axis 2\n",
    "    axiyy=axi.twinx()\n",
    "    h1=axiyy.hist(lakes.area_px_m2/1e6, alpha=0.1, color='black', bins=bins_log, label='Area histogram') # , histtype='step'\n",
    "#     axiyy.set_yticklabels([axiyy.get_yticklabels()[i].get_text() for i in range(len(axiyy.get_yticklabels()))], color='b')\n",
    "    for j in range(len(axiyy.get_yticklabels())): # clunky way to set color\n",
    "        axiyy.get_yticklabels()[j].set_color((0.6, 0.6, 0.6))   \n",
    "    axi.set_title(f'{lakes_labels[i]} (n = {lakes.em_fractio.count()})', fontsize=16)\n",
    "    axi.set_xscale('log')\n",
    "    axi.set_xlim(xlims)\n",
    "\n",
    "## legend on one plot only\n",
    "# handles, labels = axi.get_legend_handles_labels()\n",
    "# handlesyy, labelsyy = axiyy.get_legend_handles_labels() # doesn't work\n",
    "import matplotlib.patches as mpatches\n",
    "handlesyy = mpatches.Patch(color='black', label='Area histogram', alpha=0.1)\n",
    "handles = mpatches.Patch(color='c', label='Area histogram')\n",
    "ax2[1,0].legend([handles, handlesyy], ['EM fraction', 'Area histogram'])\n",
    "plt.legend\n",
    "\n",
    "## save fig 2: by area\n",
    "figname=os.path.join(fig_dir, 'Hists-by-area-subplots-logx-with-area-hists')\n",
    "fig2.savefig(figname + '.jpg', dpi=300)\n",
    "fig2.savefig(figname + '.pdf', dpi=300)\n",
    "\n",
    "## save xlims for next plot to make it a tapper\n",
    "xlims=axi.get_xlim()"
   ]
  },
  {
   "cell_type": "code",
   "execution_count": 111,
   "metadata": {},
   "outputs": [
    {
     "data": {
      "application/vnd.jupyter.widget-view+json": {
       "model_id": "d2438857ef2a4fbd8b343428d7ea4187",
       "version_major": 2,
       "version_minor": 0
      },
      "text/plain": [
       "Canvas(toolbar=Toolbar(toolitems=[('Home', 'Reset original view', 'home', 'home'), ('Back', 'Back to previous …"
      ]
     },
     "metadata": {},
     "output_type": "display_data"
    }
   ],
   "source": [
    "## Fig 2d: Cumulative Hist plot by area (logx)\n",
    "%matplotlib widget\n",
    "fig2, ax2 = plt.subplots(2,2, sharex=True, figsize=(12,12), constrained_layout=True) # constrained_layout is now default for presentation\n",
    "for i, lakes in enumerate(lakes_list):\n",
    "    axi = np.take(ax2, i)\n",
    "    area_bins=pd.cut(lakes.area_px_m2/1e6, bins_log)\n",
    "    groups=lakes.groupby(area_bins)\n",
    "#     yerr = groups.em_fractio.quantile(0.25) #groups.std().em_fractio #.to_numpy()  #np.vstack((groups.std().em_fractio.to_numpy(), groups.std().em_fractio.to_numpy())).T # MEMORY CRASH HERE... ???\n",
    "    h=axi.bar(bins_log[:-1], np.cumsum(groups.mean().em_fractio*groups.sum().area_px_m2)/groups.sum().area_px_m2.sum(), color='c', \n",
    "              align='edge', width=np.diff(bins_log), label='EM fraction')#, yerr=confidence) # width=1,  width=0.2 , conf_intervals=confidence # groups.mean().em_fractio.cumsum()/groups.mean().em_fractio.sum() <--- for CDF\n",
    "    axi.set_xlabel('Cumulative area ($km^2$)')\n",
    "    axi.set_ylabel('Cumulative mean EM fraction')\n",
    "    \n",
    "    ## y axis 2\n",
    "    axiyy=axi.twinx()\n",
    "    h1=axiyy.hist(lakes.area_px_m2/1e6, alpha=0.1, color='black', bins=bins_log, cumulative=True, label='Area histogram') # , histtype='step'\n",
    "#     axiyy.set_yticklabels([axiyy.get_yticklabels()[i].get_text() for i in range(len(axiyy.get_yticklabels()))], color='b')\n",
    "    for j in range(len(axiyy.get_yticklabels())): # clunky way to set color\n",
    "        axiyy.get_yticklabels()[j].set_color((0.6, 0.6, 0.6))   \n",
    "    axi.set_title(f'{lakes_labels[i]}', fontsize=16)\n",
    "    axi.set_xscale('log')\n",
    "    axi.set_xlim(xlims)\n",
    "\n",
    "## legend on one plot only\n",
    "# handles, labels = axi.get_legend_handles_labels()\n",
    "# handlesyy, labelsyy = axiyy.get_legend_handles_labels() # doesn't work\n",
    "import matplotlib.patches as mpatches\n",
    "handlesyy = mpatches.Patch(color='black', alpha=0.1)\n",
    "handles = mpatches.Patch(color='c')\n",
    "ax2[1,0].legend([handles, handlesyy], ['EM fraction CDF', 'Area CDF'])\n",
    "plt.legend\n",
    "\n",
    "## save fig 2: by area\n",
    "figname=os.path.join(fig_dir, 'Cum-hists-by-area-subplots-logx-with-area-hists')\n",
    "fig2.savefig(figname + '.jpg', dpi=300)\n",
    "fig2.savefig(figname + '.pdf', dpi=300)\n",
    "\n",
    "## save xlims for next plot to make it a tapper\n",
    "xlims=axi.get_xlim()"
   ]
  },
  {
   "cell_type": "code",
   "execution_count": 27,
   "metadata": {},
   "outputs": [
    {
     "data": {
      "text/plain": [
       "(5.821722491960465e-05, 8.588523425678186)"
      ]
     },
     "execution_count": 27,
     "metadata": {},
     "output_type": "execute_result"
    }
   ],
   "source": [
    "axi.get_xlim()"
   ]
  },
  {
   "cell_type": "code",
   "execution_count": 105,
   "metadata": {},
   "outputs": [
    {
     "data": {
      "text/plain": [
       "area_px_m2\n",
       "(0.0001, 0.000157]               NaN\n",
       "(0.000157, 0.000246]             NaN\n",
       "(0.000246, 0.000387]             NaN\n",
       "(0.000387, 0.000607]    5.691170e+02\n",
       "(0.000607, 0.000953]    7.806882e+02\n",
       "(0.000953, 0.0015]      1.219537e+03\n",
       "(0.0015, 0.00235]       1.842503e+03\n",
       "(0.00235, 0.00368]      2.776601e+03\n",
       "(0.00368, 0.00578]      4.762931e+03\n",
       "(0.00578, 0.00908]      7.306132e+03\n",
       "(0.00908, 0.0142]       1.199416e+04\n",
       "(0.0142, 0.0224]        1.816052e+04\n",
       "(0.0224, 0.0351]        2.788584e+04\n",
       "(0.0351, 0.0551]        4.325474e+04\n",
       "(0.0551, 0.0865]        6.828525e+04\n",
       "(0.0865, 0.136]         1.063006e+05\n",
       "(0.136, 0.213]          1.682314e+05\n",
       "(0.213, 0.334]          2.714695e+05\n",
       "(0.334, 0.525]          4.399738e+05\n",
       "(0.525, 0.824]          6.431762e+05\n",
       "(0.824, 1.293]          1.092869e+06\n",
       "(1.293, 2.03]           1.575900e+06\n",
       "(2.03, 3.186]           2.939933e+06\n",
       "(3.186, 5.0]            4.339647e+06\n",
       "Name: area_px_m2, dtype: float64"
      ]
     },
     "execution_count": 105,
     "metadata": {},
     "output_type": "execute_result"
    }
   ],
   "source": [
    "groups.em_fractio.describe()\n",
    "# groups.em_fractio.quantile(0.25)\n",
    "# groups.std().em_fractio\n",
    "# dir(groups)\n",
    "groups.mean().area_px_m2"
   ]
  },
  {
   "cell_type": "code",
   "execution_count": 123,
   "metadata": {},
   "outputs": [
    {
     "data": {
      "application/vnd.jupyter.widget-view+json": {
       "model_id": "85fed41e08b843c49db12b2e06c9d83d",
       "version_major": 2,
       "version_minor": 0
      },
      "text/plain": [
       "Canvas(toolbar=Toolbar(toolitems=[('Home', 'Reset original view', 'home', 'home'), ('Back', 'Back to previous …"
      ]
     },
     "metadata": {},
     "output_type": "display_data"
    },
    {
     "name": "stderr",
     "output_type": "stream",
     "text": [
      "/home/ekyzivat/miniconda2/envs/geohackw/lib/python3.7/site-packages/ipykernel_launcher.py:12: UserWarning: Attempted to set non-positive left xlim on a log-scaled axis.\n",
      "Invalid limit will be ignored.\n",
      "  if sys.path[0] == '':\n"
     ]
    }
   ],
   "source": [
    "## Fig 3: Area hist plots\n",
    "%matplotlib widget\n",
    "fig3, ax3 = plt.subplots(2,2, sharex=True, figsize=(12,12), constrained_layout=True) # constrained_layout is now default for presentation\n",
    "for i, lakes in enumerate(lakes_list):\n",
    "    axi = np.take(ax3, i)\n",
    "    axi.hist(lakes.area_px_m2/1e6, alpha=0.4, color='g', label=label, bins=bins_log, )\n",
    "    axi.set_xlabel('Area ($km^2$)')\n",
    "    axi.set_ylabel('Count')\n",
    "    axi.set_yscale('linear')\n",
    "    axi.set_xscale('log')\n",
    "    axi.set_title(f'{lakes_labels[i]}', fontsize=16)\n",
    "    axi.set_xlim(0, max_area_to_plot)\n",
    "\n",
    "## save fig 3: by area\n",
    "figname=os.path.join(fig_dir, 'Area-hists-subplots')\n",
    "fig3.savefig(figname + '.jpg', dpi=300)\n",
    "fig3.savefig(figname + '.pdf', dpi=300)"
   ]
  },
  {
   "cell_type": "code",
   "execution_count": 67,
   "metadata": {},
   "outputs": [
    {
     "data": {
      "text/html": [
       "<div>\n",
       "<style scoped>\n",
       "    .dataframe tbody tr th:only-of-type {\n",
       "        vertical-align: middle;\n",
       "    }\n",
       "\n",
       "    .dataframe tbody tr th {\n",
       "        vertical-align: top;\n",
       "    }\n",
       "\n",
       "    .dataframe thead th {\n",
       "        text-align: right;\n",
       "    }\n",
       "</style>\n",
       "<table border=\"1\" class=\"dataframe\">\n",
       "  <thead>\n",
       "    <tr style=\"text-align: right;\">\n",
       "      <th></th>\n",
       "      <th>label</th>\n",
       "      <th>area_px_m2</th>\n",
       "      <th>perimeter_</th>\n",
       "      <th>em_fractio</th>\n",
       "      <th>fw_fractio</th>\n",
       "      <th>sw_fractio</th>\n",
       "      <th>gw_fractio</th>\n",
       "      <th>edge</th>\n",
       "      <th>cir_observ</th>\n",
       "      <th>em_weight_avg</th>\n",
       "    </tr>\n",
       "  </thead>\n",
       "  <tbody>\n",
       "    <tr>\n",
       "      <th>YFLATS Aug 2018</th>\n",
       "      <td>22588.878396</td>\n",
       "      <td>77647.633849</td>\n",
       "      <td>1557.535659</td>\n",
       "      <td>0.265976</td>\n",
       "      <td>0.002624</td>\n",
       "      <td>0.054352</td>\n",
       "      <td>0.208999</td>\n",
       "      <td>0.0</td>\n",
       "      <td>1.0</td>\n",
       "      <td>0.222297</td>\n",
       "    </tr>\n",
       "    <tr>\n",
       "      <th>PAD Sept 2019</th>\n",
       "      <td>10951.045226</td>\n",
       "      <td>169597.228168</td>\n",
       "      <td>3666.074073</td>\n",
       "      <td>0.523110</td>\n",
       "      <td>0.000236</td>\n",
       "      <td>0.268632</td>\n",
       "      <td>0.254242</td>\n",
       "      <td>0.0</td>\n",
       "      <td>1.0</td>\n",
       "      <td>0.577533</td>\n",
       "    </tr>\n",
       "    <tr>\n",
       "      <th>Daring Sept 2017</th>\n",
       "      <td>16321.135689</td>\n",
       "      <td>182193.575047</td>\n",
       "      <td>1688.450060</td>\n",
       "      <td>0.019698</td>\n",
       "      <td>0.000000</td>\n",
       "      <td>0.000250</td>\n",
       "      <td>0.019448</td>\n",
       "      <td>0.0</td>\n",
       "      <td>1.0</td>\n",
       "      <td>0.005612</td>\n",
       "    </tr>\n",
       "    <tr>\n",
       "      <th>Baker Aug 2018</th>\n",
       "      <td>7472.206612</td>\n",
       "      <td>256140.642714</td>\n",
       "      <td>2681.523232</td>\n",
       "      <td>0.211113</td>\n",
       "      <td>0.000354</td>\n",
       "      <td>0.036327</td>\n",
       "      <td>0.174432</td>\n",
       "      <td>0.0</td>\n",
       "      <td>1.0</td>\n",
       "      <td>0.069312</td>\n",
       "    </tr>\n",
       "  </tbody>\n",
       "</table>\n",
       "</div>"
      ],
      "text/plain": [
       "                         label     area_px_m2   perimeter_  em_fractio  \\\n",
       "YFLATS Aug 2018   22588.878396   77647.633849  1557.535659    0.265976   \n",
       "PAD Sept 2019     10951.045226  169597.228168  3666.074073    0.523110   \n",
       "Daring Sept 2017  16321.135689  182193.575047  1688.450060    0.019698   \n",
       "Baker Aug 2018     7472.206612  256140.642714  2681.523232    0.211113   \n",
       "\n",
       "                  fw_fractio  sw_fractio  gw_fractio  edge  cir_observ  \\\n",
       "YFLATS Aug 2018     0.002624    0.054352    0.208999   0.0         1.0   \n",
       "PAD Sept 2019       0.000236    0.268632    0.254242   0.0         1.0   \n",
       "Daring Sept 2017    0.000000    0.000250    0.019448   0.0         1.0   \n",
       "Baker Aug 2018      0.000354    0.036327    0.174432   0.0         1.0   \n",
       "\n",
       "                  em_weight_avg  \n",
       "YFLATS Aug 2018        0.222297  \n",
       "PAD Sept 2019          0.577533  \n",
       "Daring Sept 2017       0.005612  \n",
       "Baker Aug 2018         0.069312  "
      ]
     },
     "execution_count": 67,
     "metadata": {},
     "output_type": "execute_result"
    }
   ],
   "source": [
    "for i, lakes in enumerate(lakes_list):\n",
    "#     print(lakes.em_fractio.mean())\n",
    "    indiv_mean_df=lakes.mean()\n",
    "    indiv_mean_df['em_weight_avg'] = np.average(lakes.em_fractio, weights=lakes.area_px_m2)\n",
    "    if i==0: # first time\n",
    "        lakes_mean_df=indiv_mean_df\n",
    "    else:\n",
    "        lakes_mean_df=pd.concat((lakes_mean_df, indiv_mean_df), axis=1)\n",
    "# lakes.mean()\n",
    "lakes_mean_df.columns=lakes_labels\n",
    "lakes_mean_df=lakes_mean_df.T\n",
    "lakes_mean_df"
   ]
  },
  {
   "cell_type": "code",
   "execution_count": 121,
   "metadata": {},
   "outputs": [
    {
     "data": {
      "application/vnd.jupyter.widget-view+json": {
       "model_id": "ddd24aee4974496c8fcfeb7f44a77cb9",
       "version_major": 2,
       "version_minor": 0
      },
      "text/plain": [
       "Canvas(toolbar=Toolbar(toolitems=[('Home', 'Reset original view', 'home', 'home'), ('Back', 'Back to previous …"
      ]
     },
     "metadata": {},
     "output_type": "display_data"
    }
   ],
   "source": [
    "## Plot 4: Mean EM comparison\n",
    "%matplotlib widget\n",
    "\n",
    "# ## colors\n",
    "# from cycler import cycler\n",
    "# color_cycle = cycler(c=['r', 'g', 'b'])\n",
    "\n",
    "fig4, ax4 = plt.subplots(constrained_layout=True) # constrained_layout is now default for presentation\n",
    "# bar_heights=np.vstack((lakes_mean_df.em_weight_avg, lakes_mean_df.em_fractio))\n",
    "# ax4.bar(np.arange(4), bar_heights, alpha=0.4, color='g')\n",
    "lakes_mean_df[['em_weight_avg', 'em_fractio']].plot.bar(ax=ax4, color = ['c', '#017CBF'])\n",
    "# ax4.set_xlabel('Area ($km^2$)')\n",
    "ax4.set_xticks(np.arange(4))\n",
    "ax4.set_xticklabels([label.split(' ')[0] for label in lakes_labels], rotation=0)\n",
    "ax4.set_ylabel('EM fraction')\n",
    "\n",
    "## Save\n",
    "figname=os.path.join(fig_dir, 'EM-mean-by-region')\n",
    "fig4.savefig(figname + '.jpg', dpi=300)\n",
    "fig4.savefig(figname + '.pdf', dpi=300)"
   ]
  },
  {
   "cell_type": "code",
   "execution_count": 94,
   "metadata": {},
   "outputs": [
    {
     "data": {
      "text/html": [
       "<div>\n",
       "<style scoped>\n",
       "    .dataframe tbody tr th:only-of-type {\n",
       "        vertical-align: middle;\n",
       "    }\n",
       "\n",
       "    .dataframe tbody tr th {\n",
       "        vertical-align: top;\n",
       "    }\n",
       "\n",
       "    .dataframe thead th {\n",
       "        text-align: right;\n",
       "    }\n",
       "</style>\n",
       "<table border=\"1\" class=\"dataframe\">\n",
       "  <thead>\n",
       "    <tr style=\"text-align: right;\">\n",
       "      <th></th>\n",
       "      <th>em_weight_avg</th>\n",
       "      <th>em_fractio</th>\n",
       "    </tr>\n",
       "  </thead>\n",
       "  <tbody>\n",
       "    <tr>\n",
       "      <th>YFLATS Aug 2018</th>\n",
       "      <td>0.222297</td>\n",
       "      <td>0.265976</td>\n",
       "    </tr>\n",
       "    <tr>\n",
       "      <th>PAD Sept 2019</th>\n",
       "      <td>0.577533</td>\n",
       "      <td>0.523110</td>\n",
       "    </tr>\n",
       "    <tr>\n",
       "      <th>Daring Sept 2017</th>\n",
       "      <td>0.005612</td>\n",
       "      <td>0.019698</td>\n",
       "    </tr>\n",
       "    <tr>\n",
       "      <th>Baker Aug 2018</th>\n",
       "      <td>0.069312</td>\n",
       "      <td>0.211113</td>\n",
       "    </tr>\n",
       "  </tbody>\n",
       "</table>\n",
       "</div>"
      ],
      "text/plain": [
       "                  em_weight_avg  em_fractio\n",
       "YFLATS Aug 2018        0.222297    0.265976\n",
       "PAD Sept 2019          0.577533    0.523110\n",
       "Daring Sept 2017       0.005612    0.019698\n",
       "Baker Aug 2018         0.069312    0.211113"
      ]
     },
     "execution_count": 94,
     "metadata": {},
     "output_type": "execute_result"
    }
   ],
   "source": [
    "np.arange(4)\n",
    "lakes_mean_df.em_weight_avg\n",
    "bar_heights\n",
    "lakes_mean_df[['em_weight_avg', 'em_fractio']]"
   ]
  },
  {
   "cell_type": "markdown",
   "metadata": {},
   "source": [
    "# Scrap"
   ]
  },
  {
   "cell_type": "code",
   "execution_count": 111,
   "metadata": {},
   "outputs": [
    {
     "data": {
      "application/vnd.jupyter.widget-view+json": {
       "model_id": "",
       "version_major": 2,
       "version_minor": 0
      },
      "text/plain": [
       "Canvas(toolbar=Toolbar(toolitems=[('Home', 'Reset original view', 'home', 'home'), ('Back', 'Back to previous …"
      ]
     },
     "metadata": {},
     "output_type": "display_data"
    }
   ],
   "source": [
    "## Fig 2: Hist plot by area (linear x scale) # old version using object.plt.bar, not plt.bar(...)\n",
    "%matplotlib widget\n",
    "fig2, ax2 = plt.subplots(2,2, sharex=True, figsize=(12,12), constrained_layout=True) # constrained_layout is now default for presentation\n",
    "for i, lakes in enumerate(lakes_list):\n",
    "    axi = np.take(ax2, i)\n",
    "    area_bins=pd.cut(lakes.area_px_m2/1e6, bins)\n",
    "    groups=lakes.groupby(area_bins)\n",
    "    h=groups.mean().em_fractio.plot.bar(ax=axi, width=1, color='c')\n",
    "#     bar_locs = [groups.mean().em_fractio.index[j].mid for j in range(len(groups))]\n",
    "#     axi.bar(bar_locs, groups.mean().em_fractio, color='c') # width=1, \n",
    "    axi.set_xlabel('Area ($km^2$)')\n",
    "    axi.set_ylabel('Mean emergent macrophyte fraction')\n",
    "    axi.set_title(f'{lakes_labels[i]}', fontsize=16)\n",
    "    # axi.set_xticks(np.arange(0,7,1))\n",
    "    # axi.set_xticks(axi.get_xticks()[0:nbins+6:nbins//6])\n",
    "    # axi.set_xticks(np.arange(0,7,1))\n",
    "    # axi.set_xticklabels([f'{i:.1f}' for i in bins[0:nbins+6:nbins//6]], rotation = 0) # match default histogram formatting\n",
    "#     axi.set_xscale('linear')\n",
    "    axi.set_xticks(np.arange(0,nMajorTicks,1)/nMajorTicks*25)\n",
    "    axi.set_xticklabels(np.arange(0,nMajorTicks,1), rotation = 0) # match default histogram formatting\n",
    "    \n",
    "## save fig 2: by area\n",
    "figname=os.path.join(fig_dir, 'Hists-by-area-subplots')\n",
    "fig2.savefig(figname + '.jpg', dpi=300)\n",
    "fig2.savefig(figname + '.pdf', dpi=300)"
   ]
  },
  {
   "cell_type": "code",
   "execution_count": 124,
   "metadata": {},
   "outputs": [
    {
     "name": "stdout",
     "output_type": "stream",
     "text": [
      "area_px_m2\n",
      "(0.0, 0.208]      0.227983\n",
      "(0.208, 0.417]    0.152340\n",
      "(0.417, 0.625]    0.083529\n",
      "(0.625, 0.833]    0.073672\n",
      "(0.833, 1.042]    0.057883\n",
      "(1.042, 1.25]     0.049353\n",
      "(1.25, 1.458]     0.030674\n",
      "(1.458, 1.667]    0.089811\n",
      "(1.667, 1.875]         NaN\n",
      "(1.875, 2.083]    0.025910\n",
      "(2.083, 2.292]         NaN\n",
      "(2.292, 2.5]           NaN\n",
      "(2.5, 2.708]           NaN\n",
      "(2.708, 2.917]         NaN\n",
      "(2.917, 3.125]    0.044272\n",
      "(3.125, 3.333]         NaN\n",
      "(3.333, 3.542]         NaN\n",
      "(3.542, 3.75]          NaN\n",
      "(3.75, 3.958]          NaN\n",
      "(3.958, 4.167]    0.027551\n",
      "(4.167, 4.375]         NaN\n",
      "(4.375, 4.583]         NaN\n",
      "(4.583, 4.792]    0.201960\n",
      "(4.792, 5.0]           NaN\n",
      "Name: em_fractio, dtype: float64\n",
      "[0.104, 0.3125, 0.521, 0.729, 0.9375, 1.146, 1.354, 1.5625, 1.771, 1.979, 2.1875, 2.396, 2.604, 2.8125, 3.021, 3.229, 3.4375, 3.646, 3.854, 4.0625, 4.271, 4.479, 4.6875, 4.896]\n",
      "[0.2085 0.2085 0.208  0.2085 0.2085 0.208  0.2085 0.2085 0.208  0.2085\n",
      " 0.2085 0.208  0.2085 0.2085 0.208  0.2085 0.2085 0.208  0.2085 0.2085\n",
      " 0.208  0.2085 0.2085]\n"
     ]
    },
    {
     "data": {
      "text/plain": [
       "array([0.        , 0.20833333, 0.41666667, 0.625     , 0.83333333,\n",
       "       1.04166667, 1.25      , 1.45833333, 1.66666667, 1.875     ,\n",
       "       2.08333333, 2.29166667, 2.5       , 2.70833333, 2.91666667,\n",
       "       3.125     , 3.33333333, 3.54166667, 3.75      , 3.95833333,\n",
       "       4.16666667, 4.375     , 4.58333333, 4.79166667])"
      ]
     },
     "execution_count": 124,
     "metadata": {},
     "output_type": "execute_result"
    }
   ],
   "source": [
    "dir(h)\n",
    "# h.get_xticks()\n",
    "print(groups.mean().em_fractio)\n",
    "print(bar_locs)\n",
    "print(np.diff(bar_locs)) # not evenlyspaced!\n",
    "lakes_labels[i]\n",
    "bins\n",
    "bins[:-1]"
   ]
  }
 ],
 "metadata": {
  "kernelspec": {
   "display_name": "Python [conda env:geohackw] *",
   "language": "python",
   "name": "conda-env-geohackw-py"
  },
  "language_info": {
   "codemirror_mode": {
    "name": "ipython",
    "version": 3
   },
   "file_extension": ".py",
   "mimetype": "text/x-python",
   "name": "python",
   "nbconvert_exporter": "python",
   "pygments_lexer": "ipython3",
   "version": "3.7.3"
  }
 },
 "nbformat": 4,
 "nbformat_minor": 4
}
