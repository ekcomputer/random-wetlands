{
 "cells": [
  {
   "cell_type": "markdown",
   "metadata": {},
   "source": [
    "## TODO\n",
    "* Re-write for more than two classes\n",
    "* First fix FI, then FM\n",
    "* Monte Carlo sim to test all permutations; OR:\n",
    "* Increment steps based on PDF, with each step having an equal prob.\n",
    "* Jim's suggestion: try replacing EM with land, in addition to water, as I have it now\n",
    "* Add randomization/monte-carlo into bins- instead of just using mean values (i.e. for size bins, or for FLUX_STEP in senstivity)\n",
    "* For typical EM fraction: use regional sub-binning instead of UAVSAR footprint \n",
    "* Use typical regional values for EM fluxes, the way I use a regional LSD and inun fraction\n",
    "* install add-ons: git, variable inspector: first install node.js, npm, jupyterlab-git\n",
    "* Find a plugin to make matplotlib plots interactive like when they appear in sep. window\n",
    "* make dimensionless version\n",
    "* (contour plot: fill in color between lines) DONE\n",
    "* Add size binning: ingest lake size distrib DONE"
   ]
  },
  {
   "cell_type": "markdown",
   "metadata": {},
   "source": [
    "## Description\n",
    "This script takes as input the landscape inundation fraction, the emergent macrophyte fraction (fraction of all inundated areas), and flux values for these fractions. It then iterates over probable ranges and plots the total flux's sensitivities to these values, Normalized by area.\n",
    "\n",
    "\n",
    "| Name  | Description | Value |\n",
    "|---      |---                |---       |\n",
    "| INPUTS |\n",
    "FLUXES | Dictionary of flux values by class\t<mg CH4 / m2/ day>| OW: (0, 166); EM: (77, 5800)\n",
    "FRACTION:IN_TOTAL | Fraction inundated: Range for open water and emergent macrophyte area divided by total landscape area | (10, 38)\n",
    "FRACTION:EM | Fraction EMERGENT macrophyte: Range for emergent macrophyte area / open water area | (2, 60)\n",
    "FRACTION:  ... | ...\n",
    "FRACTION_STEPS | Number of steps for each landcover type (range / increment) |\n",
    "FRACTION_RATIO | Number of steps for each landcover type (range / increment) |\n",
    "FLUX_STEPS | Number of steps for flux (range / increment) |\n"
   ]
  },
  {
   "cell_type": "code",
   "execution_count": 1,
   "metadata": {},
   "outputs": [],
   "source": [
    "import numpy as np\n",
    "from matplotlib import pyplot as plt\n",
    "from matplotlib.colors import Colormap\n",
    "import matplotlib\n",
    "import matplotlib.mlab as mlab\n",
    "import matplotlib.ticker as ticker\n",
    "import matplotlib.pyplot as plt\n",
    "import scipy.ndimage as ndi \n",
    "from scipy.io import loadmat\n",
    "from scipy.stats import binned_statistic\n",
    "import pandas as pd\n",
    "from uncertainties import unumpy, umath\n",
    "import qgrid\n",
    "qgrid.enable() #enable interactive pandas dataframes\n",
    "# %matplotlib inline"
   ]
  },
  {
   "cell_type": "code",
   "execution_count": 23,
   "metadata": {},
   "outputs": [],
   "source": [
    "## qgrid parameters\n",
    "# for help, see https://qgrid.readthedocs.io/en/latest/ or https://github.com/quantopian/qgrid\n",
    "\n",
    "## set defaults\n",
    "grid_options = {\n",
    "        # SlickGrid options\n",
    "        'fullWidthRows': True, # True\n",
    "        'syncColumnCellResize': True,\n",
    "        'forceFitColumns': False, #True\n",
    "        'defaultColumnWidth': 100, # 150\n",
    "        'rowHeight': 28,\n",
    "        'enableColumnReorder': True,\n",
    "        'enableTextSelectionOnCells': True,\n",
    "        'editable': True,\n",
    "        'autoEdit': False,\n",
    "        'explicitInitialization': True,\n",
    "\n",
    "        # Qgrid options\n",
    "        'maxVisibleRows': 10,\n",
    "        'minVisibleRows': 4,\n",
    "        'sortable': True,\n",
    "        'filterable': True,\n",
    "        'highlightSelectedCell': True,\n",
    "        'highlightSelectedRow': True\n",
    "    }\n",
    "\n",
    "col_options = {\n",
    "    # SlickGrid column options\n",
    "    'defaultSortAsc': True,\n",
    "    'maxWidth': None, # None,\n",
    "    'minWidth': 30, #30\n",
    "    'resizable': True,\n",
    "    'sortable': True,\n",
    "    'toolTip': \"\",\n",
    "    'width': None, # None\n",
    "\n",
    "    # Qgrid column options\n",
    "    'editable': True,\n",
    "}\n",
    "qgrid.set_defaults(grid_options=grid_options, column_options=col_options)"
   ]
  },
  {
   "cell_type": "markdown",
   "metadata": {},
   "source": [
    "### Inputs"
   ]
  },
  {
   "cell_type": "code",
   "execution_count": 97,
   "metadata": {},
   "outputs": [],
   "source": [
    "# fluxes={'OW': 100,\n",
    "#        'GW': 300,\n",
    "#        'SW': 200}\n",
    "\n",
    "FRACTION={\n",
    "    'IN_TOTAL':(\n",
    "    (22, 31),\n",
    "    (10,16),\n",
    "    (27, 30),\n",
    "    (37.4, 37.6),\n",
    "    (10, 37.6)), # Default Fraction Inundated; From Run 35\n",
    "    'EM':((35, 58),\n",
    "     (42, 60),\n",
    "     (12, 21),\n",
    "     (2, 2.5),\n",
    "     (0, 100)) #(2, 30) # Default Fraction macrophyte: From Run 35 (range: 2:60)\n",
    "}\n",
    "FLUXES={\n",
    "    'OW': (0, 166), # Open water; From range in: Burger et al 2016\tBiogeosciences | Superceded if using LSD\n",
    "    'EM': (77, 2000), # (77, 3000) #(77, 380)  # Emergent macrophyte; From mean (max = 5800) in: Burger et al 2016\tBiogeosciences\n",
    "    'RATIO': (0, 180) # based on second and third- highest values of ~170x\n",
    "}\n",
    "    # Sensitivity raster dimensions\n",
    "FRACTION_STEPS=100 # 40\n",
    "FLUX_STEPS=100 # 40\n",
    "SITES=('PAD','YFB','YKN','DAR','All') #short names for sites\n",
    "SITES_LSD = (9,2,7,7,0) # numbers as givin in Lake Size Distribution files\n",
    "# REGION=0 # Set to -1 if using default; 0=PAD\n",
    "\n",
    "# LAT=59 # latitude, in degrees (PAD=59)"
   ]
  },
  {
   "cell_type": "markdown",
   "metadata": {},
   "source": [
    "### Lake size distribution inputs"
   ]
  },
  {
   "cell_type": "markdown",
   "metadata": {},
   "source": [
    "Labels:\n",
    "    'All'\n",
    "    'Sagavanirktok River'\n",
    "    'Yukon Flats Basin'\n",
    "    'Old Crow Flats'\n",
    "    'Mackenzie River Delta'\n",
    "    'Mackenzie River Valley'\n",
    "    'Canadian Shield Margin'\n",
    "    'Canadian Shield'\n",
    "    'Slave River'\n",
    "    'Peace-Athabasca Delta'\n",
    "    'Athabasca River'\n",
    "    'Prairie Potholes North'\n",
    "    'Prairie Potholes South'\n",
    "    'Tuktoyaktuk Peninsula'\n",
    "    []\n",
    "    []\n",
    "    []\n",
    "    []\n",
    "    []\n",
    "    []\n",
    "    []\n",
    "    'Prairie pothole regions'\n",
    "    'Canadian Shield'\n",
    "    'Thermokarst regions'\n",
    "    'Arctic-boreal wetlands'\n",
    "    'Lowland river valleys'"
   ]
  },
  {
   "cell_type": "code",
   "execution_count": 25,
   "metadata": {},
   "outputs": [],
   "source": [
    "lsd_pth='/mnt/d/GoogleDrive/Research/Lake distributions/savedData/fitting_data_regional_4_det.mat' # these directories hold the final version of data used for 2019 paper\n",
    "lsd_labels_pth='/mnt/d/GoogleDrive/Research/Lake distributions/regionLabels4.mat'"
   ]
  },
  {
   "cell_type": "markdown",
   "metadata": {},
   "source": [
    "### Size binning data from Holgerson and Raymond 2016"
   ]
  },
  {
   "cell_type": "code",
   "execution_count": 26,
   "metadata": {},
   "outputs": [
    {
     "data": {
      "text/plain": [
       "7"
      ]
     },
     "execution_count": 26,
     "metadata": {},
     "output_type": "execute_result"
    }
   ],
   "source": [
    "BIN_EDGES=np.array([0, 0.001, 0.01, 0.1, 1, 10, 100, 1000000]) # <km2>\n",
    "# BIN_EDGES=np.array([0.001, 0.01, 0.1, 1, 10, 100, 10000000]) * 1000000 # <km2> * 1000000 = <m2>\n",
    "BIN_FLUXES=np.array([2.28, 0.65, 0.28, 0.16,  0.12, 0.10, 0.06])*16.043 # <mmolC (in CH4)/m2/d> * 16.043 = <mg CH4/m2/d>\n",
    "len(BIN_FLUXES)"
   ]
  },
  {
   "cell_type": "markdown",
   "metadata": {},
   "source": [
    "### Load data"
   ]
  },
  {
   "cell_type": "code",
   "execution_count": 27,
   "metadata": {},
   "outputs": [],
   "source": [
    "fused_regional=loadmat(lsd_pth, variable_names='Fused_regional', squeeze_me=True)\n",
    "\n",
    "##############\n",
    "# for area for each region, see: D:\\GoogleDrive\\Research\\Lake distributions\\savedData\\out\n",
    "##############"
   ]
  },
  {
   "cell_type": "markdown",
   "metadata": {},
   "source": [
    "### Create sensitivity raster"
   ]
  },
  {
   "cell_type": "code",
   "execution_count": 28,
   "metadata": {
    "scrolled": true
   },
   "outputs": [
    {
     "name": "stdout",
     "output_type": "stream",
     "text": [
      "\n",
      "Site: PAD\n",
      "Open water flux used: 1.36 [mg CH_4 / m^2 / day]\n",
      "EM fraction: 0.00%\t| Total W area in first bin: \t        0.40\t| Total W area: 186.62\n",
      "\n",
      "EM fraction: 35.00%\t| Total W area in first bin:             0.26\t| Total W area:             121.30\t| Total W flux: 0.89\n",
      "EM fraction: 35.59%\t| Total W area in first bin:             0.26\t| Total W area:             120.20\t| Total W flux: 0.88\n",
      "EM fraction: 36.18%\t| Total W area in first bin:             0.26\t| Total W area:             119.10\t| Total W flux: 0.87\n",
      "EM fraction: 36.77%\t| Total W area in first bin:             0.25\t| Total W area:             118.00\t| Total W flux: 0.86\n",
      "EM fraction: 37.36%\t| Total W area in first bin:             0.25\t| Total W area:             116.90\t| Total W flux: 0.85\n",
      "EM fraction: 37.95%\t| Total W area in first bin:             0.25\t| Total W area:             115.80\t| Total W flux: 0.85\n",
      "EM fraction: 38.54%\t| Total W area in first bin:             0.25\t| Total W area:             114.70\t| Total W flux: 0.84\n",
      "EM fraction: 39.13%\t| Total W area in first bin:             0.25\t| Total W area:             113.60\t| Total W flux: 0.83\n",
      "EM fraction: 39.72%\t| Total W area in first bin:             0.24\t| Total W area:             112.50\t| Total W flux: 0.82\n",
      "EM fraction: 40.31%\t| Total W area in first bin:             0.24\t| Total W area:             111.40\t| Total W flux: 0.81\n",
      "EM fraction: 40.90%\t| Total W area in first bin:             0.24\t| Total W area:             110.30\t| Total W flux: 0.81\n",
      "EM fraction: 41.49%\t| Total W area in first bin:             0.24\t| Total W area:             109.19\t| Total W flux: 0.80\n",
      "EM fraction: 42.08%\t| Total W area in first bin:             0.23\t| Total W area:             108.09\t| Total W flux: 0.79\n",
      "EM fraction: 42.67%\t| Total W area in first bin:             0.23\t| Total W area:             106.99\t| Total W flux: 0.78\n",
      "EM fraction: 43.26%\t| Total W area in first bin:             0.23\t| Total W area:             105.89\t| Total W flux: 0.77\n",
      "EM fraction: 43.85%\t| Total W area in first bin:             0.23\t| Total W area:             104.79\t| Total W flux: 0.76\n",
      "EM fraction: 44.44%\t| Total W area in first bin:             0.22\t| Total W area:             103.69\t| Total W flux: 0.76\n",
      "EM fraction: 45.03%\t| Total W area in first bin:             0.22\t| Total W area:             102.59\t| Total W flux: 0.75\n",
      "EM fraction: 45.62%\t| Total W area in first bin:             0.22\t| Total W area:             101.49\t| Total W flux: 0.74\n",
      "EM fraction: 46.21%\t| Total W area in first bin:             0.22\t| Total W area:             100.39\t| Total W flux: 0.73\n",
      "EM fraction: 46.79%\t| Total W area in first bin:             0.21\t| Total W area:             99.29\t| Total W flux: 0.72\n",
      "EM fraction: 47.38%\t| Total W area in first bin:             0.21\t| Total W area:             98.19\t| Total W flux: 0.72\n",
      "EM fraction: 47.97%\t| Total W area in first bin:             0.21\t| Total W area:             97.09\t| Total W flux: 0.71\n",
      "EM fraction: 48.56%\t| Total W area in first bin:             0.21\t| Total W area:             95.99\t| Total W flux: 0.70\n",
      "EM fraction: 49.15%\t| Total W area in first bin:             0.20\t| Total W area:             94.89\t| Total W flux: 0.69\n",
      "EM fraction: 49.74%\t| Total W area in first bin:             0.20\t| Total W area:             93.79\t| Total W flux: 0.68\n",
      "EM fraction: 50.33%\t| Total W area in first bin:             0.20\t| Total W area:             92.69\t| Total W flux: 0.68\n",
      "EM fraction: 50.92%\t| Total W area in first bin:             0.20\t| Total W area:             91.59\t| Total W flux: 0.67\n",
      "EM fraction: 51.51%\t| Total W area in first bin:             0.20\t| Total W area:             90.49\t| Total W flux: 0.66\n",
      "EM fraction: 52.10%\t| Total W area in first bin:             0.19\t| Total W area:             89.38\t| Total W flux: 0.65\n",
      "EM fraction: 52.69%\t| Total W area in first bin:             0.19\t| Total W area:             88.28\t| Total W flux: 0.64\n",
      "EM fraction: 53.28%\t| Total W area in first bin:             0.19\t| Total W area:             87.18\t| Total W flux: 0.64\n",
      "EM fraction: 53.87%\t| Total W area in first bin:             0.19\t| Total W area:             86.08\t| Total W flux: 0.63\n",
      "EM fraction: 54.46%\t| Total W area in first bin:             0.18\t| Total W area:             84.98\t| Total W flux: 0.62\n",
      "EM fraction: 55.05%\t| Total W area in first bin:             0.18\t| Total W area:             83.88\t| Total W flux: 0.61\n",
      "EM fraction: 55.64%\t| Total W area in first bin:             0.18\t| Total W area:             82.78\t| Total W flux: 0.60\n",
      "EM fraction: 56.23%\t| Total W area in first bin:             0.18\t| Total W area:             81.68\t| Total W flux: 0.60\n",
      "EM fraction: 56.82%\t| Total W area in first bin:             0.17\t| Total W area:             80.58\t| Total W flux: 0.59\n",
      "EM fraction: 57.41%\t| Total W area in first bin:             0.17\t| Total W area:             79.48\t| Total W flux: 0.58\n",
      "EM fraction: 58.00%\t| Total W area in first bin:             0.17\t| Total W area:             78.38\t| Total W flux: 0.57\n",
      "\n",
      "Site: YFB\n",
      "Open water flux used: 3.53 [mg CH_4 / m^2 / day]\n",
      "EM fraction: 0.00%\t| Total W area in first bin: \t        1.38\t| Total W area: 178.65\n",
      "\n",
      "EM fraction: 42.00%\t| Total W area in first bin:             0.80\t| Total W area:             103.62\t| Total W flux: 2.05\n",
      "EM fraction: 42.46%\t| Total W area in first bin:             0.79\t| Total W area:             102.79\t| Total W flux: 2.03\n",
      "EM fraction: 42.92%\t| Total W area in first bin:             0.79\t| Total W area:             101.97\t| Total W flux: 2.01\n",
      "EM fraction: 43.38%\t| Total W area in first bin:             0.78\t| Total W area:             101.14\t| Total W flux: 2.00\n",
      "EM fraction: 43.85%\t| Total W area in first bin:             0.77\t| Total W area:             100.32\t| Total W flux: 1.98\n",
      "EM fraction: 44.31%\t| Total W area in first bin:             0.77\t| Total W area:             99.50\t| Total W flux: 1.96\n",
      "EM fraction: 44.77%\t| Total W area in first bin:             0.76\t| Total W area:             98.67\t| Total W flux: 1.95\n",
      "EM fraction: 45.23%\t| Total W area in first bin:             0.75\t| Total W area:             97.85\t| Total W flux: 1.93\n",
      "EM fraction: 45.69%\t| Total W area in first bin:             0.75\t| Total W area:             97.02\t| Total W flux: 1.92\n",
      "EM fraction: 46.15%\t| Total W area in first bin:             0.74\t| Total W area:             96.20\t| Total W flux: 1.90\n",
      "EM fraction: 46.62%\t| Total W area in first bin:             0.73\t| Total W area:             95.37\t| Total W flux: 1.88\n",
      "EM fraction: 47.08%\t| Total W area in first bin:             0.73\t| Total W area:             94.55\t| Total W flux: 1.87\n",
      "EM fraction: 47.54%\t| Total W area in first bin:             0.72\t| Total W area:             93.72\t| Total W flux: 1.85\n",
      "EM fraction: 48.00%\t| Total W area in first bin:             0.72\t| Total W area:             92.90\t| Total W flux: 1.83\n",
      "EM fraction: 48.46%\t| Total W area in first bin:             0.71\t| Total W area:             92.07\t| Total W flux: 1.82\n",
      "EM fraction: 48.92%\t| Total W area in first bin:             0.70\t| Total W area:             91.25\t| Total W flux: 1.80\n",
      "EM fraction: 49.38%\t| Total W area in first bin:             0.70\t| Total W area:             90.43\t| Total W flux: 1.79\n",
      "EM fraction: 49.85%\t| Total W area in first bin:             0.69\t| Total W area:             89.60\t| Total W flux: 1.77\n",
      "EM fraction: 50.31%\t| Total W area in first bin:             0.68\t| Total W area:             88.78\t| Total W flux: 1.75\n",
      "EM fraction: 50.77%\t| Total W area in first bin:             0.68\t| Total W area:             87.95\t| Total W flux: 1.74\n",
      "EM fraction: 51.23%\t| Total W area in first bin:             0.67\t| Total W area:             87.13\t| Total W flux: 1.72\n",
      "EM fraction: 51.69%\t| Total W area in first bin:             0.67\t| Total W area:             86.30\t| Total W flux: 1.70\n",
      "EM fraction: 52.15%\t| Total W area in first bin:             0.66\t| Total W area:             85.48\t| Total W flux: 1.69\n",
      "EM fraction: 52.62%\t| Total W area in first bin:             0.65\t| Total W area:             84.65\t| Total W flux: 1.67\n",
      "EM fraction: 53.08%\t| Total W area in first bin:             0.65\t| Total W area:             83.83\t| Total W flux: 1.65\n",
      "EM fraction: 53.54%\t| Total W area in first bin:             0.64\t| Total W area:             83.00\t| Total W flux: 1.64\n",
      "EM fraction: 54.00%\t| Total W area in first bin:             0.63\t| Total W area:             82.18\t| Total W flux: 1.62\n",
      "EM fraction: 54.46%\t| Total W area in first bin:             0.63\t| Total W area:             81.36\t| Total W flux: 1.61\n",
      "EM fraction: 54.92%\t| Total W area in first bin:             0.62\t| Total W area:             80.53\t| Total W flux: 1.59\n",
      "EM fraction: 55.38%\t| Total W area in first bin:             0.61\t| Total W area:             79.71\t| Total W flux: 1.57\n",
      "EM fraction: 55.85%\t| Total W area in first bin:             0.61\t| Total W area:             78.88\t| Total W flux: 1.56\n",
      "EM fraction: 56.31%\t| Total W area in first bin:             0.60\t| Total W area:             78.06\t| Total W flux: 1.54\n",
      "EM fraction: 56.77%\t| Total W area in first bin:             0.60\t| Total W area:             77.23\t| Total W flux: 1.52\n",
      "EM fraction: 57.23%\t| Total W area in first bin:             0.59\t| Total W area:             76.41\t| Total W flux: 1.51\n",
      "EM fraction: 57.69%\t| Total W area in first bin:             0.58\t| Total W area:             75.58\t| Total W flux: 1.49\n",
      "EM fraction: 58.15%\t| Total W area in first bin:             0.58\t| Total W area:             74.76\t| Total W flux: 1.48\n",
      "EM fraction: 58.62%\t| Total W area in first bin:             0.57\t| Total W area:             73.93\t| Total W flux: 1.46\n",
      "EM fraction: 59.08%\t| Total W area in first bin:             0.56\t| Total W area:             73.11\t| Total W flux: 1.44\n",
      "EM fraction: 59.54%\t| Total W area in first bin:             0.56\t| Total W area:             72.29\t| Total W flux: 1.43\n",
      "EM fraction: 60.00%\t| Total W area in first bin:             0.55\t| Total W area:             71.46\t| Total W flux: 1.41\n",
      "\n",
      "Site: YKN\n",
      "Open water flux used: 1.37 [mg CH_4 / m^2 / day]\n",
      "EM fraction: 0.00%\t| Total W area in first bin: \t        0.44\t| Total W area: 2082.63\n",
      "\n",
      "EM fraction: 12.00%\t| Total W area in first bin:             0.38\t| Total W area:             1832.72\t| Total W flux: 1.21\n",
      "EM fraction: 12.23%\t| Total W area in first bin:             0.38\t| Total W area:             1827.91\t| Total W flux: 1.20\n",
      "EM fraction: 12.46%\t| Total W area in first bin:             0.38\t| Total W area:             1823.10\t| Total W flux: 1.20\n",
      "EM fraction: 12.69%\t| Total W area in first bin:             0.38\t| Total W area:             1818.30\t| Total W flux: 1.20\n",
      "EM fraction: 12.92%\t| Total W area in first bin:             0.38\t| Total W area:             1813.49\t| Total W flux: 1.19\n",
      "EM fraction: 13.15%\t| Total W area in first bin:             0.38\t| Total W area:             1808.69\t| Total W flux: 1.19\n",
      "EM fraction: 13.38%\t| Total W area in first bin:             0.38\t| Total W area:             1803.88\t| Total W flux: 1.19\n",
      "EM fraction: 13.62%\t| Total W area in first bin:             0.38\t| Total W area:             1799.07\t| Total W flux: 1.18\n",
      "EM fraction: 13.85%\t| Total W area in first bin:             0.38\t| Total W area:             1794.27\t| Total W flux: 1.18\n",
      "EM fraction: 14.08%\t| Total W area in first bin:             0.38\t| Total W area:             1789.46\t| Total W flux: 1.18\n",
      "EM fraction: 14.31%\t| Total W area in first bin:             0.37\t| Total W area:             1784.66\t| Total W flux: 1.17\n",
      "EM fraction: 14.54%\t| Total W area in first bin:             0.37\t| Total W area:             1779.85\t| Total W flux: 1.17\n",
      "EM fraction: 14.77%\t| Total W area in first bin:             0.37\t| Total W area:             1775.04\t| Total W flux: 1.17\n",
      "EM fraction: 15.00%\t| Total W area in first bin:             0.37\t| Total W area:             1770.24\t| Total W flux: 1.16\n",
      "EM fraction: 15.23%\t| Total W area in first bin:             0.37\t| Total W area:             1765.43\t| Total W flux: 1.16\n",
      "EM fraction: 15.46%\t| Total W area in first bin:             0.37\t| Total W area:             1760.62\t| Total W flux: 1.16\n",
      "EM fraction: 15.69%\t| Total W area in first bin:             0.37\t| Total W area:             1755.82\t| Total W flux: 1.16\n",
      "EM fraction: 15.92%\t| Total W area in first bin:             0.37\t| Total W area:             1751.01\t| Total W flux: 1.15\n",
      "EM fraction: 16.15%\t| Total W area in first bin:             0.37\t| Total W area:             1746.21\t| Total W flux: 1.15\n",
      "EM fraction: 16.38%\t| Total W area in first bin:             0.37\t| Total W area:             1741.40\t| Total W flux: 1.15\n",
      "EM fraction: 16.62%\t| Total W area in first bin:             0.36\t| Total W area:             1736.59\t| Total W flux: 1.14\n",
      "EM fraction: 16.85%\t| Total W area in first bin:             0.36\t| Total W area:             1731.79\t| Total W flux: 1.14\n",
      "EM fraction: 17.08%\t| Total W area in first bin:             0.36\t| Total W area:             1726.98\t| Total W flux: 1.14\n",
      "EM fraction: 17.31%\t| Total W area in first bin:             0.36\t| Total W area:             1722.18\t| Total W flux: 1.13\n",
      "EM fraction: 17.54%\t| Total W area in first bin:             0.36\t| Total W area:             1717.37\t| Total W flux: 1.13\n",
      "EM fraction: 17.77%\t| Total W area in first bin:             0.36\t| Total W area:             1712.56\t| Total W flux: 1.13\n",
      "EM fraction: 18.00%\t| Total W area in first bin:             0.36\t| Total W area:             1707.76\t| Total W flux: 1.12\n",
      "EM fraction: 18.23%\t| Total W area in first bin:             0.36\t| Total W area:             1702.95\t| Total W flux: 1.12\n",
      "EM fraction: 18.46%\t| Total W area in first bin:             0.36\t| Total W area:             1698.15\t| Total W flux: 1.12\n",
      "EM fraction: 18.69%\t| Total W area in first bin:             0.36\t| Total W area:             1693.34\t| Total W flux: 1.11\n",
      "EM fraction: 18.92%\t| Total W area in first bin:             0.35\t| Total W area:             1688.53\t| Total W flux: 1.11\n",
      "EM fraction: 19.15%\t| Total W area in first bin:             0.35\t| Total W area:             1683.73\t| Total W flux: 1.11\n",
      "EM fraction: 19.38%\t| Total W area in first bin:             0.35\t| Total W area:             1678.92\t| Total W flux: 1.10\n",
      "EM fraction: 19.62%\t| Total W area in first bin:             0.35\t| Total W area:             1674.12\t| Total W flux: 1.10\n",
      "EM fraction: 19.85%\t| Total W area in first bin:             0.35\t| Total W area:             1669.31\t| Total W flux: 1.10\n",
      "EM fraction: 20.08%\t| Total W area in first bin:             0.35\t| Total W area:             1664.50\t| Total W flux: 1.10\n",
      "EM fraction: 20.31%\t| Total W area in first bin:             0.35\t| Total W area:             1659.70\t| Total W flux: 1.09\n",
      "EM fraction: 20.54%\t| Total W area in first bin:             0.35\t| Total W area:             1654.89\t| Total W flux: 1.09\n",
      "EM fraction: 20.77%\t| Total W area in first bin:             0.35\t| Total W area:             1650.09\t| Total W flux: 1.09\n",
      "EM fraction: 21.00%\t| Total W area in first bin:             0.35\t| Total W area:             1645.28\t| Total W flux: 1.08\n",
      "\n",
      "Site: DAR\n",
      "Open water flux used: 1.37 [mg CH_4 / m^2 / day]\n",
      "EM fraction: 0.00%\t| Total W area in first bin: \t        0.44\t| Total W area: 2082.63\n",
      "\n",
      "EM fraction: 2.00%\t| Total W area in first bin:             0.43\t| Total W area:             2040.98\t| Total W flux: 1.34\n",
      "EM fraction: 2.01%\t| Total W area in first bin:             0.43\t| Total W area:             2040.71\t| Total W flux: 1.34\n",
      "EM fraction: 2.03%\t| Total W area in first bin:             0.43\t| Total W area:             2040.45\t| Total W flux: 1.34\n",
      "EM fraction: 2.04%\t| Total W area in first bin:             0.43\t| Total W area:             2040.18\t| Total W flux: 1.34\n",
      "EM fraction: 2.05%\t| Total W area in first bin:             0.43\t| Total W area:             2039.91\t| Total W flux: 1.34\n",
      "EM fraction: 2.06%\t| Total W area in first bin:             0.43\t| Total W area:             2039.64\t| Total W flux: 1.34\n",
      "EM fraction: 2.08%\t| Total W area in first bin:             0.43\t| Total W area:             2039.38\t| Total W flux: 1.34\n",
      "EM fraction: 2.09%\t| Total W area in first bin:             0.43\t| Total W area:             2039.11\t| Total W flux: 1.34\n",
      "EM fraction: 2.10%\t| Total W area in first bin:             0.43\t| Total W area:             2038.84\t| Total W flux: 1.34\n",
      "EM fraction: 2.12%\t| Total W area in first bin:             0.43\t| Total W area:             2038.58\t| Total W flux: 1.34\n",
      "EM fraction: 2.13%\t| Total W area in first bin:             0.43\t| Total W area:             2038.31\t| Total W flux: 1.34\n",
      "EM fraction: 2.14%\t| Total W area in first bin:             0.43\t| Total W area:             2038.04\t| Total W flux: 1.34\n",
      "EM fraction: 2.15%\t| Total W area in first bin:             0.43\t| Total W area:             2037.78\t| Total W flux: 1.34\n",
      "EM fraction: 2.17%\t| Total W area in first bin:             0.43\t| Total W area:             2037.51\t| Total W flux: 1.34\n",
      "EM fraction: 2.18%\t| Total W area in first bin:             0.43\t| Total W area:             2037.24\t| Total W flux: 1.34\n",
      "EM fraction: 2.19%\t| Total W area in first bin:             0.43\t| Total W area:             2036.97\t| Total W flux: 1.34\n",
      "EM fraction: 2.21%\t| Total W area in first bin:             0.43\t| Total W area:             2036.71\t| Total W flux: 1.34\n",
      "EM fraction: 2.22%\t| Total W area in first bin:             0.43\t| Total W area:             2036.44\t| Total W flux: 1.34\n",
      "EM fraction: 2.23%\t| Total W area in first bin:             0.43\t| Total W area:             2036.17\t| Total W flux: 1.34\n",
      "EM fraction: 2.24%\t| Total W area in first bin:             0.43\t| Total W area:             2035.91\t| Total W flux: 1.34\n",
      "EM fraction: 2.26%\t| Total W area in first bin:             0.43\t| Total W area:             2035.64\t| Total W flux: 1.34\n",
      "EM fraction: 2.27%\t| Total W area in first bin:             0.43\t| Total W area:             2035.37\t| Total W flux: 1.34\n",
      "EM fraction: 2.28%\t| Total W area in first bin:             0.43\t| Total W area:             2035.11\t| Total W flux: 1.34\n",
      "EM fraction: 2.29%\t| Total W area in first bin:             0.43\t| Total W area:             2034.84\t| Total W flux: 1.34\n",
      "EM fraction: 2.31%\t| Total W area in first bin:             0.43\t| Total W area:             2034.57\t| Total W flux: 1.34\n",
      "EM fraction: 2.32%\t| Total W area in first bin:             0.43\t| Total W area:             2034.30\t| Total W flux: 1.34\n",
      "EM fraction: 2.33%\t| Total W area in first bin:             0.43\t| Total W area:             2034.04\t| Total W flux: 1.34\n",
      "EM fraction: 2.35%\t| Total W area in first bin:             0.43\t| Total W area:             2033.77\t| Total W flux: 1.34\n",
      "EM fraction: 2.36%\t| Total W area in first bin:             0.43\t| Total W area:             2033.50\t| Total W flux: 1.34\n",
      "EM fraction: 2.37%\t| Total W area in first bin:             0.43\t| Total W area:             2033.24\t| Total W flux: 1.34\n",
      "EM fraction: 2.38%\t| Total W area in first bin:             0.43\t| Total W area:             2032.97\t| Total W flux: 1.34\n",
      "EM fraction: 2.40%\t| Total W area in first bin:             0.43\t| Total W area:             2032.70\t| Total W flux: 1.34\n",
      "EM fraction: 2.41%\t| Total W area in first bin:             0.43\t| Total W area:             2032.44\t| Total W flux: 1.34\n",
      "EM fraction: 2.42%\t| Total W area in first bin:             0.43\t| Total W area:             2032.17\t| Total W flux: 1.34\n",
      "EM fraction: 2.44%\t| Total W area in first bin:             0.43\t| Total W area:             2031.90\t| Total W flux: 1.34\n",
      "EM fraction: 2.45%\t| Total W area in first bin:             0.43\t| Total W area:             2031.63\t| Total W flux: 1.34\n",
      "EM fraction: 2.46%\t| Total W area in first bin:             0.43\t| Total W area:             2031.37\t| Total W flux: 1.34\n",
      "EM fraction: 2.47%\t| Total W area in first bin:             0.43\t| Total W area:             2031.10\t| Total W flux: 1.34\n",
      "EM fraction: 2.49%\t| Total W area in first bin:             0.43\t| Total W area:             2030.83\t| Total W flux: 1.34\n",
      "EM fraction: 2.50%\t| Total W area in first bin:             0.43\t| Total W area:             2030.57\t| Total W flux: 1.34\n",
      "\n",
      "Site: All\n",
      "Open water flux used: 1.56 [mg CH_4 / m^2 / day]\n",
      "EM fraction: 0.00%\t| Total W area in first bin: \t        7.02\t| Total W area: 5964.35\n",
      "\n",
      "EM fraction: 0.00%\t| Total W area in first bin:             7.02\t| Total W area:             5964.35\t| Total W flux: 1.56\n",
      "EM fraction: 2.56%\t| Total W area in first bin:             6.84\t| Total W area:             5811.42\t| Total W flux: 1.52\n",
      "EM fraction: 5.13%\t| Total W area in first bin:             6.66\t| Total W area:             5658.49\t| Total W flux: 1.48\n",
      "EM fraction: 7.69%\t| Total W area in first bin:             6.48\t| Total W area:             5505.56\t| Total W flux: 1.44\n",
      "EM fraction: 10.26%\t| Total W area in first bin:             6.30\t| Total W area:             5352.63\t| Total W flux: 1.40\n",
      "EM fraction: 12.82%\t| Total W area in first bin:             6.12\t| Total W area:             5199.69\t| Total W flux: 1.36\n",
      "EM fraction: 15.38%\t| Total W area in first bin:             5.94\t| Total W area:             5046.76\t| Total W flux: 1.32\n",
      "EM fraction: 17.95%\t| Total W area in first bin:             5.76\t| Total W area:             4893.83\t| Total W flux: 1.28\n",
      "EM fraction: 20.51%\t| Total W area in first bin:             5.58\t| Total W area:             4740.90\t| Total W flux: 1.24\n",
      "EM fraction: 23.08%\t| Total W area in first bin:             5.40\t| Total W area:             4587.96\t| Total W flux: 1.20\n",
      "EM fraction: 25.64%\t| Total W area in first bin:             5.22\t| Total W area:             4435.03\t| Total W flux: 1.16\n",
      "EM fraction: 28.21%\t| Total W area in first bin:             5.04\t| Total W area:             4282.10\t| Total W flux: 1.12\n",
      "EM fraction: 30.77%\t| Total W area in first bin:             4.86\t| Total W area:             4129.17\t| Total W flux: 1.08\n",
      "EM fraction: 33.33%\t| Total W area in first bin:             4.68\t| Total W area:             3976.24\t| Total W flux: 1.04\n",
      "EM fraction: 35.90%\t| Total W area in first bin:             4.50\t| Total W area:             3823.30\t| Total W flux: 1.00\n",
      "EM fraction: 38.46%\t| Total W area in first bin:             4.32\t| Total W area:             3670.37\t| Total W flux: 0.96\n",
      "EM fraction: 41.03%\t| Total W area in first bin:             4.14\t| Total W area:             3517.44\t| Total W flux: 0.92\n",
      "EM fraction: 43.59%\t| Total W area in first bin:             3.96\t| Total W area:             3364.51\t| Total W flux: 0.88\n",
      "EM fraction: 46.15%\t| Total W area in first bin:             3.78\t| Total W area:             3211.58\t| Total W flux: 0.84\n",
      "EM fraction: 48.72%\t| Total W area in first bin:             3.60\t| Total W area:             3058.64\t| Total W flux: 0.80\n",
      "EM fraction: 51.28%\t| Total W area in first bin:             3.42\t| Total W area:             2905.71\t| Total W flux: 0.76\n",
      "EM fraction: 53.85%\t| Total W area in first bin:             3.24\t| Total W area:             2752.78\t| Total W flux: 0.72\n",
      "EM fraction: 56.41%\t| Total W area in first bin:             3.06\t| Total W area:             2599.85\t| Total W flux: 0.68\n",
      "EM fraction: 58.97%\t| Total W area in first bin:             2.88\t| Total W area:             2446.91\t| Total W flux: 0.64\n",
      "EM fraction: 61.54%\t| Total W area in first bin:             2.70\t| Total W area:             2293.98\t| Total W flux: 0.60\n",
      "EM fraction: 64.10%\t| Total W area in first bin:             2.52\t| Total W area:             2141.05\t| Total W flux: 0.56\n",
      "EM fraction: 66.67%\t| Total W area in first bin:             2.34\t| Total W area:             1988.12\t| Total W flux: 0.52\n",
      "EM fraction: 69.23%\t| Total W area in first bin:             2.16\t| Total W area:             1835.19\t| Total W flux: 0.48\n",
      "EM fraction: 71.79%\t| Total W area in first bin:             1.98\t| Total W area:             1682.25\t| Total W flux: 0.44\n",
      "EM fraction: 74.36%\t| Total W area in first bin:             1.80\t| Total W area:             1529.32\t| Total W flux: 0.40\n",
      "EM fraction: 76.92%\t| Total W area in first bin:             1.62\t| Total W area:             1376.39\t| Total W flux: 0.36\n",
      "EM fraction: 79.49%\t| Total W area in first bin:             1.44\t| Total W area:             1223.46\t| Total W flux: 0.32\n",
      "EM fraction: 82.05%\t| Total W area in first bin:             1.26\t| Total W area:             1070.53\t| Total W flux: 0.28\n",
      "EM fraction: 84.62%\t| Total W area in first bin:             1.08\t| Total W area:             917.59\t| Total W flux: 0.24\n",
      "EM fraction: 87.18%\t| Total W area in first bin:             0.90\t| Total W area:             764.66\t| Total W flux: 0.20\n",
      "EM fraction: 89.74%\t| Total W area in first bin:             0.72\t| Total W area:             611.73\t| Total W flux: 0.16\n",
      "EM fraction: 92.31%\t| Total W area in first bin:             0.54\t| Total W area:             458.80\t| Total W flux: 0.12\n",
      "EM fraction: 94.87%\t| Total W area in first bin:             0.36\t| Total W area:             305.86\t| Total W flux: 0.08\n",
      "EM fraction: 97.44%\t| Total W area in first bin:             0.18\t| Total W area:             152.93\t| Total W flux: 0.04\n",
      "EM fraction: 100.00%\t| Total W area in first bin:             0.00\t| Total W area:             0.00\t| Total W flux: 0.00\n"
     ]
    }
   ],
   "source": [
    "SENSITIVITY={}\n",
    "FRACTION_POSTINGS={}\n",
    "FLUX_POSTINGS={}\n",
    "for si, s in enumerate(SITES):\n",
    "    print('\\nSite: {}'.format(s))\n",
    "    lsd = fused_regional['Fused_regional'][SITES_LSD[si]] # Lake size distribution for chosen region\n",
    "    SENSITIVITY[s]=np.zeros((FRACTION_STEPS, FLUX_STEPS), 'double') # init\n",
    "    # lsd_tmp=lsd # init\n",
    "    FRACTION_POSTINGS[s]=np.linspace(FRACTION['EM'][si][0], FRACTION['EM'][si][1], FRACTION_STEPS)\n",
    "    for Class in FLUXES.keys():\n",
    "        FLUX_POSTINGS[Class]=np.linspace(FLUXES[Class][0], FLUXES[Class][1], FLUX_STEPS)\n",
    "    lsd_vals = binned_statistic(lsd, lsd, statistic='sum', bins=BIN_EDGES)\n",
    "    ow_flux_mean=np.sum(lsd_vals.statistic*BIN_FLUXES)/lsd.sum()\n",
    "    print(f'Open water flux used: {ow_flux_mean:.3} [mg CH_4 / m^2 / day]')\n",
    "    print(f'EM fraction: {0:0.2f}%\\t| Total W area in first bin: \\t\\\n",
    "        {lsd_vals.statistic[0]*(100- 0)/100:.2f}\\t| Total W area: {np.sum(lsd)*(100- 0)/100:.2f}\\n')\n",
    "    for i in range(FRACTION_STEPS):\n",
    "        ##############################################\n",
    "             # toggle if not using LSD\n",
    "    #     ow_flux_mean=np.mean(FLUX_POSTINGS['OW'])\n",
    "        ##############################################\n",
    "            # toggle if using LSD | with lakes changing bins # Results in higher water flux in highest EM bin bc more of the lakes are now small (unrealistic)\n",
    "    #     lsd_tmp_vals = binned_statistic(lsd_tmp, lsd_tmp, statistic='sum', bins=BIN_EDGES) # could also use np.digitize\n",
    "    #     ow_flux_mean=np.sum(lsd_tmp_vals.statistic*BIN_FLUXES)/lsd_tmp.sum()\n",
    "    #     print(f'EM fraction: {FRACTION_POSTINGS[i]:0.2f}%\\t| Total W area in first bin: \\\n",
    "    #         {lsd_tmp_vals.statistic[0]:.2f}\\t| Total W area: {np.sum(lsd_tmp_vals.statistic):.2f}\\t| Total W flux: {((100- FRACTION_POSTINGS[i]) * ow_flux_mean) / 100:.2f}')\n",
    "        ##############################################\n",
    "            # toggle if using LSD | with lakes NOT changing bins # Results in lower water flux in highest EM bin\n",
    "        print(f'EM fraction: {FRACTION_POSTINGS[s][i]:0.2f}%\\t| Total W area in first bin: \\\n",
    "            {lsd_vals.statistic[0]*(100- FRACTION_POSTINGS[s][i])/100:.2f}\\t| Total W area: \\\n",
    "            {np.sum(lsd_vals.statistic)*(100- FRACTION_POSTINGS[s][i])/100:.2f}\\t| Total W flux: {((100- FRACTION_POSTINGS[s][i]) * ow_flux_mean) / 100:.2f}')\n",
    "        ##############################################\n",
    "        for j in range(FLUX_STEPS):\n",
    "            # each cell = <region's inundation fraction> * (<EM fraction> * <EM flux> + <OW fraction> * <OW flux>)\n",
    "            SENSITIVITY[s][i,j] = np.mean(FRACTION['IN_TOTAL'][si]) / 100 * (FRACTION_POSTINGS[s][i] * FLUX_POSTINGS['EM'][j] + # use median? # note: hard-coded for just two classes: OW and EM\n",
    "                                (100- FRACTION_POSTINGS[s][i]) * ow_flux_mean) / 100\n",
    "        "
   ]
  },
  {
   "cell_type": "markdown",
   "metadata": {},
   "source": [
    "## SCRAP"
   ]
  },
  {
   "cell_type": "code",
   "execution_count": 29,
   "metadata": {},
   "outputs": [
    {
     "name": "stdout",
     "output_type": "stream",
     "text": [
      "Saved fig to:\t/mnt/d/pic/UAVSAR_classification/upscaleSensitivityRaster.pdf\n"
     ]
    },
    {
     "data": {
      "image/png": "[encoded data removed]",
      "text/plain": [
       "<Figure size 432x576 with 7 Axes>"
      ]
     },
     "metadata": {
      "needs_background": "light"
     },
     "output_type": "display_data"
    }
   ],
   "source": [
    "## Raster plot\n",
    "# plt.xticks(FLUX_POSTINGS[0:4:])\n",
    "# plt.yticks(FRACTION_POSTINGS[0:4:])\n",
    "f=16 # font size\n",
    "# ax=np.zeros((3,2))\n",
    "shape=(3,2)\n",
    "fig, ax = plt.subplots(shape[0], shape[1], sharex=True, figsize=(6,8))\n",
    "for si, s in enumerate(SITES):\n",
    "    idx=np.unravel_index(si, shape)\n",
    "    p=ax[idx].imshow(SENSITIVITY[s], origin='lower', aspect='auto', cmap='gnuplot', vmin=0, vmax=450, extent=(FLUXES['EM'][0], FLUXES['EM'][1], FRACTION['EM'][si][0], FRACTION['EM'][si][1]))\n",
    "#     ax[idx].set_xlabel(\"Littoral zone flux ($mg\\ CH_4 / m^2 /day$)\", fontsize=f)\n",
    "#     ax[idx].set_ylabel('Vegetated fraction (%)', fontsize=f)\n",
    "    fig.text(0.5, 0.04, \"Littoral zone flux ($mg\\ CH_4 / m^2 /day$)\", ha='center', va='bottom', fontsize=f, FONTNAME='DejaVu Sans')\n",
    "    fig.text(0.04, 0.5, 'Vegetated fraction (%)', va='center', rotation='vertical', fontsize=f, FONTNAME='sans-serif')\n",
    "#     ax[idx].set(xlabel=\"Littoral zone flux ($mg\\ CH_4 / m^2 /day$)\", ylabel='Vegetated fraction (%)', fontsize=f)\n",
    "#     ax[idx].set_title('{} | Total flux ($mg\\ CH_4 / m^2 /day$)'.format(s), fontsize=f)\n",
    "    ax[idx].set_title(f'{s}: {np.mean(SENSITIVITY[s]):0.0f}', fontsize=f)\n",
    "#     ax[idx].colorbar()\n",
    "#     fig.tight_layout()\n",
    "#     axes=plt.gca()\n",
    "    # plt.rcParams({'dpi':300})\n",
    "    # axes.set_xlim(FLUXES['EM'])\n",
    "    # axes.set_ylim(FRACTION['EM'])\n",
    "    # plt.xticks(FLUX_POSTINGS[0:4:])\n",
    "    # plt.yticks(FRACTION_POSTINGS[0:4:])\n",
    "\n",
    "    ## calculate median:\n",
    "    cy, cx = ndi.center_of_mass(SENSITIVITY[s])\n",
    "\n",
    "    ## report mean value:\n",
    "#     print('Mean flux: \\t{:.1f} mg CH_4/m^2/day'.format(np.mean(SENSITIVITY[s])))\n",
    "#     print('\\'Median\\' flux: \\t{:.1f} mg CH_4/m^2/day'.format(SENSITIVITY[s][cy.astype(int),cx.astype(int)])) # only equal to median if each step size is of equal prob.\n",
    "#     print('''\\nINPUTS:\n",
    "#     FRACTION:\\t{}\n",
    "#     FLUXES:\\t\\t{}\n",
    "#     '''.format(FRACTION, FLUXES))\n",
    "\n",
    "    # common plot options\n",
    "fig.suptitle('Water surface flux contribution ($mg\\ CH_4 / m^2 /day$)', fontsize=f+3)\n",
    "ax[shape[0]-1, shape[1]-1].axis('off')\n",
    "# ax[shape[0]-1, shape[1]-1].colorbar()\n",
    "cbaxes = fig.add_axes([0.6, 0.2, 0.28, 0.03]) \n",
    "fig.colorbar(p, cax=cbaxes, orientation='horizontal')\n",
    "# fig.colorbar(p, ax=ax[shape[0]-1, shape[1]-1], orientation='horizontal')\n",
    "figPth='/mnt/d/pic/UAVSAR_classification/upscaleSensitivityRaster.pdf'\n",
    "plt.savefig(figPth, dpi=200)\n",
    "print('Saved fig to:\\t{}'.format(figPth))"
   ]
  },
  {
   "cell_type": "code",
   "execution_count": 30,
   "metadata": {},
   "outputs": [
    {
     "name": "stdout",
     "output_type": "stream",
     "text": [
      "Saved fig to:\t/mnt/d/pic/UAVSAR_classification/upscaleSensitivityRasterContours.jpg\n"
     ]
    },
    {
     "data": {
      "text/plain": [
       "<Figure size 432x288 with 0 Axes>"
      ]
     },
     "metadata": {},
     "output_type": "display_data"
    },
    {
     "data": {
      "image/png": "[encoded data removed]",
      "text/plain": [
       "<Figure size 432x576 with 6 Axes>"
      ]
     },
     "metadata": {
      "needs_background": "light"
     },
     "output_type": "display_data"
    }
   ],
   "source": [
    "## Make contour plot\n",
    "## TODO: fill in between lines\n",
    "## from https://matplotlib.org/examples/pylab_examples/contour_label_demo.html\n",
    "\n",
    "    # I/O\n",
    "num_contours=10\n",
    "\n",
    "matplotlib.rcParams['xtick.direction'] = 'out'\n",
    "matplotlib.rcParams['ytick.direction'] = 'out'\n",
    "\n",
    "##\n",
    "plt.figure()\n",
    "\n",
    "# Define a class that forces representation of float to look a certain way\n",
    "# This remove trailing zero so '1.0' becomes '1'\n",
    "class nf(float):\n",
    "    def __repr__(self):\n",
    "        str = '%.1f' % (self.__float__(),)\n",
    "        if str[-1] == '0':\n",
    "            return '%.0f' % self.__float__()\n",
    "        else:\n",
    "            return '%.1f' % self.__float__()\n",
    "    # axis\n",
    "fig, ax = plt.subplots(shape[0], shape[1], sharex=True, figsize=(6,8))\n",
    "\n",
    "    # quick fix\n",
    "# quick_title=SITES # keep unchanged\n",
    "quick_title=['PAD','YF','CS-1','CS-2','All'] # keep unchanged\n",
    "\n",
    "    # loop\n",
    "for si, s in enumerate(SITES):\n",
    "    idx=np.unravel_index(si, shape)\n",
    "        \n",
    "        # define dims\n",
    "    Y=FRACTION_POSTINGS[s]\n",
    "    X=FLUX_POSTINGS['EM']\n",
    "    Z=SENSITIVITY[s]\n",
    "    \n",
    "    # Basic contour plot\n",
    "    CS = ax[idx].contour(X, Y, Z, num_contours, cmap='gnuplot', vmin =0, vmax=500,\n",
    "        extent=(FLUXES['EM'][0], FLUXES['EM'][1], FRACTION['EM'][si][0], FRACTION['EM'][si][1]))\n",
    "\n",
    "    # Recast levels to new class\n",
    "    CS.levels = [nf(val) for val in CS.levels]\n",
    "\n",
    "    # Label levels with specially formatted floats\n",
    "    if plt.rcParams[\"text.usetex\"]:\n",
    "        fmt = r'%r'\n",
    "    else:\n",
    "        fmt = '%r'\n",
    "    ax[idx].clabel(CS, CS.levels, inline=True, fmt=fmt, fontsize=10)\n",
    "#     ax[idx].set_xlabel(\"Littoral zone flux ($mg\\ CH_4 / m^2 /day$)\", fontsize=f+2)\n",
    "#     ax[idx].set_ylabel('Vegetated fraction (%)', fontsize=f)\n",
    "    fig.text(0.5, 0.04, \"Littoral zone flux ($mg\\ CH_4 / m^2 /day$)\", ha='center', va='bottom', fontsize=f, FONTNAME='DejaVu Sans')\n",
    "    fig.text(0.04, 0.5, 'Vegetated fraction (%)', va='center', rotation='vertical', fontsize=f, FONTNAME='sans-serif')\n",
    "    ax[idx].set_title(f'{quick_title[si]}: {np.mean(SENSITIVITY[s]):0.0f}', fontsize=f)\n",
    "#     plt.tight_layout()\n",
    "    \n",
    "    # plot format\n",
    "plt.suptitle('Water surface flux contribution ($mg\\ CH_4 / m^2 /day$)', fontsize=f)\n",
    "ax[shape[0]-1, shape[1]-1].axis('off')\n",
    "\n",
    "    # save\n",
    "figPth='/mnt/d/pic/UAVSAR_classification/upscaleSensitivityRasterContours.pdf'\n",
    "plt.savefig(figPth, dpi=200)\n",
    "figPth='/mnt/d/pic/UAVSAR_classification/upscaleSensitivityRasterContours.jpg'\n",
    "plt.savefig(figPth, dpi=200)\n",
    "print('Saved fig to:\\t{}'.format(figPth))"
   ]
  },
  {
   "cell_type": "markdown",
   "metadata": {},
   "source": [
    "## Add lit values as pts with error bars"
   ]
  },
  {
   "cell_type": "code",
   "execution_count": 229,
   "metadata": {
    "scrolled": true
   },
   "outputs": [],
   "source": [
    "## Add fluxes from lit\n",
    "lit_pth='data/Flux_synthesis.xlsx'\n",
    "df=pd.read_excel(lit_pth)\n",
    "\n",
    "## exclude extra rows with no data\n",
    "df=df[~np.isnan( df['flux_to_plot_[mgCH4_m2_day]'])]\n",
    "\n",
    "## remove unecessary columns\n",
    "df.drop(['Typical flux (gC/m2/yr)', 'flux_to_plot_[mmolCH4_m2_day]', 'confidence_int_min_[mmolCH4_m2_day]', \n",
    "        'confidence_int_max_[mmolCH4_m2_day]', 'confidence_int_min_[mmolCH4_m2_day]', 'confidence_int_max_[mmolCH4_m2_day]'], axis=1, inplace=True)\n",
    "\n",
    "## first set nans to zero\n",
    "df.loc[np.isnan(df['confidence_int_max_[mgCH4_m2_day]']), ('confidence_int_max_[mgCH4_m2_day]', 'confidence_int_min_[mgCH4_m2_day]')]= \\\n",
    "    0\n",
    "\n",
    "## fill empty vals\n",
    "df.loc[np.isin(df['confidence_int_min_[mgCH4_m2_day]'], 0), 'confidence_int_min_[mgCH4_m2_day]']= \\\n",
    "    np.mean(df.loc[~np.isin(df['confidence_int_min_[mgCH4_m2_day]'], 0), 'confidence_int_min_[mgCH4_m2_day]'])\n",
    "df.loc[np.isin(df['confidence_int_max_[mgCH4_m2_day]'], 0), 'confidence_int_max_[mgCH4_m2_day]']= \\\n",
    "    np.mean(df.loc[~np.isin(df['confidence_int_max_[mgCH4_m2_day]'], 0), 'confidence_int_max_[mgCH4_m2_day]'])\n",
    "\n",
    "df.loc[np.isnan(df['EM_percent']), 'EM_percent_conf_in_min']=50 # arbitrary value for lit fluxes CI w no EM % data\n",
    "df.loc[np.isnan(df['EM_percent']), 'EM_percent_conf_in_max']=50 # arbitrary value for lit fluxes CI w no EM % data\n",
    "df.loc[np.isnan(df['EM_percent']), 'EM_percent']=50 # arbitrary value for lit fluxes w no EM % data\n",
    "\n",
    "df.loc[np.isnan(df['EM_percent_conf_in_min']), 'EM_percent_conf_in_min']=5 # arbitrary value, placeholder for now #  | np.isin(df['EM_percent_conf_in_min'], 0)\n",
    "df.loc[np.isnan(df['EM_percent_conf_in_max']), 'EM_percent_conf_in_max']=5 # arbitrary value, placeholder for now\n",
    "\n",
    "\n",
    "## Save copy for ratio plot\n",
    "dfr=df.copy()\n",
    "\n",
    "## drop/pop OW vals\n",
    "idx=df.query('Surface == \"OW\"').index\n",
    "df.drop(index=idx, inplace=True)"
   ]
  },
  {
   "cell_type": "code",
   "execution_count": 230,
   "metadata": {},
   "outputs": [
    {
     "data": {
      "application/vnd.jupyter.widget-view+json": {
       "model_id": "85eb71a3609d467aad4107b0f59a42c3",
       "version_major": 2,
       "version_minor": 0
      },
      "text/plain": [
       "QgridWidget(grid_options={'fullWidthRows': True, 'syncColumnCellResize': True, 'forceFitColumns': False, 'defa…"
      ]
     },
     "metadata": {},
     "output_type": "display_data"
    }
   ],
   "source": [
    "## Create variables for plots\n",
    "## assign: lit vals\n",
    "FLUXES_LIT=df[df['Orig_paper']!='above2_team' ]['flux_to_plot_[mgCH4_m2_day]'] # use for sens. plot\n",
    "FRACTION_LIT=df[df['Orig_paper']!='above2_team' ]['EM_percent'] # use for sens. plot\n",
    "FLUXES_LIT_CI=np.array([df[df['Orig_paper']!='above2_team' ]['confidence_int_min_[mgCH4_m2_day]'], df[df['Orig_paper']!='above2_team' ]['confidence_int_max_[mgCH4_m2_day]']]) # use for sens. plot\n",
    "FRACTION_LIT_CI=np.array([df[df['Orig_paper']!='above2_team' ]['EM_percent_conf_in_min'],df[df['Orig_paper']!='above2_team' ]['EM_percent_conf_in_max']]) # use for sens. plot\n",
    "\n",
    "## assign: field vals\n",
    "FLUXES_FIELD=df[df['Orig_paper']=='above2_team' ]['flux_to_plot_[mgCH4_m2_day]'] # use for sens. plot\n",
    "FRACTION_FIELD=df[df['Orig_paper']=='above2_team' ]['EM_percent'] # use for sens. plot\n",
    "FLUXES_FIELD_CI=np.array([df[df['Orig_paper']=='above2_team' ]['confidence_int_min_[mgCH4_m2_day]'], df[df['Orig_paper']=='above2_team' ]['confidence_int_max_[mgCH4_m2_day]']]) # use for sens. plot\n",
    "FRACTION_FIELD_CI=np.array([df[df['Orig_paper']=='above2_team' ]['EM_percent_conf_in_min'],df[df['Orig_paper']=='above2_team' ]['EM_percent_conf_in_max']]) # use for sens. plot\n",
    "\n",
    "## view\n",
    "df\n",
    "# df\n",
    "# df.describe()"
   ]
  },
  {
   "cell_type": "code",
   "execution_count": 231,
   "metadata": {},
   "outputs": [
    {
     "data": {
      "application/vnd.jupyter.widget-view+json": {
       "model_id": "34375701164f48e8a61f3e1d0f3cffd2",
       "version_major": 2,
       "version_minor": 0
      },
      "text/plain": [
       "Canvas(toolbar=Toolbar(toolitems=[('Home', 'Reset original view', 'home', 'home'), ('Back', 'Back to previous …"
      ]
     },
     "metadata": {},
     "output_type": "display_data"
    },
    {
     "name": "stdout",
     "output_type": "stream",
     "text": [
      "Saved fig to:\t/mnt/d/pic/UAVSAR_classification/upscaleSensitivityRasterContoursErrors.pdf\n"
     ]
    }
   ],
   "source": [
    "## Single contour plot\n",
    "%matplotlib widget\n",
    "f=12 # fontsize\n",
    "# num_contours = np.linspace(5, np.max(SENSITIVITY['All']), 11) #10\n",
    "num_contours = np.linspace(2, 250, 15) #10\n",
    "\n",
    "# Define a class that forces representation of float to look a certain way\n",
    "# This remove trailing zero so '1.0' becomes '1'\n",
    "class nf(float):\n",
    "    def __repr__(self):\n",
    "        str = '%.1f' % (self.__float__(),)\n",
    "        if str[-1] == '0':\n",
    "            return '%.0f' % self.__float__()\n",
    "        else:\n",
    "            return '%.1f' % self.__float__()\n",
    "    # axis\n",
    "fig, ax = plt.subplots(sharex=True, figsize=(4,4))\n",
    "\n",
    "    # quick fix\n",
    "# quick_title=SITES # keep unchanged\n",
    "quick_title=['PAD','YF','CS-1','CS-2','All'] # keep unchanged\n",
    "\n",
    "    # loop\n",
    "for si, s in zip([4], ['All']):\n",
    "        \n",
    "        # define dims\n",
    "    Y=FRACTION_POSTINGS[s]\n",
    "    X=FLUX_POSTINGS['EM']\n",
    "    Z=SENSITIVITY[s]\n",
    "    \n",
    "    # Basic contour plot\n",
    "    CS = ax.contour(X, Y, Z, num_contours, cmap='gnuplot', vmin =0, vmax=500,\n",
    "        extent=(FLUXES['EM'][0], FLUXES['EM'][1], FRACTION['EM'][si][0], FRACTION['EM'][si][1]))\n",
    "\n",
    "    # Recast levels to new class\n",
    "    CS.levels = [nf(val) for val in CS.levels]\n",
    "\n",
    "    # Label levels with specially formatted floats\n",
    "    if plt.rcParams[\"text.usetex\"]:\n",
    "        fmt = r'%r'\n",
    "    else:\n",
    "        fmt = '%r'\n",
    "    ax.clabel(CS, CS.levels, inline=True, fmt=fmt, fontsize=10)\n",
    "    ax.set_xlabel(\"Littoral zone flux ($mg\\ CH_4 / m^2 /day$)\", fontsize=f+2)\n",
    "    ax.set_ylabel('Vegetated fraction (%)', fontsize=f)\n",
    "#     fig.text(0.5, 0.04, \"Littoral zone flux ($mg\\ CH_4 / m^2 /day$)\", ha='center', va='bottom', fontsize=f, FONTNAME='DejaVu Sans')\n",
    "#     fig.text(0.04, 0.5, 'Vegetated fraction (%)', va='center', rotation='vertical', fontsize=f, FONTNAME='sans-serif')\n",
    "#     ax.set_title(f'{quick_title[si]}: {np.mean(SENSITIVITY[s]):0.0f}', fontsize=f)\n",
    "    fig.tight_layout()\n",
    "    \n",
    "## Superimpose errorbar plot: lit values\n",
    "ax.errorbar(FLUXES_LIT, FRACTION_LIT, FRACTION_LIT_CI,FLUXES_LIT_CI, 'ko', ecolor='gray', fillstyle='none', alpha=0.6) # , clip_box=(0,0,6000,100)\n",
    "\n",
    "## Superimpose errorbar plot: field values\n",
    "ax.errorbar(FLUXES_FIELD, FRACTION_FIELD, FRACTION_FIELD_CI,FLUXES_FIELD_CI, 'bo', ecolor='#2D7DC4', fillstyle='none', alpha=0.6) # , clip_box=(0,0,6000,100)\n",
    "\n",
    "## title\n",
    "plt.title('Water surface flux contribution ($mg\\ CH_4 / m^2 /day$)', fontsize=f-2)\n",
    "\n",
    "## legend\n",
    "plt.legend(['Published data', 'Field data'], loc='best')\n",
    "\n",
    "## set window\n",
    "ax.set_xlim(0, 1000)\n",
    "\n",
    "    # save\n",
    "figPth='/mnt/d/pic/UAVSAR_classification/upscaleSensitivityRasterContoursErrors.jpg'\n",
    "plt.savefig(figPth, dpi=200)\n",
    "figPth='/mnt/d/pic/UAVSAR_classification/upscaleSensitivityRasterContoursErrors.pdf'\n",
    "plt.savefig(figPth, dpi=200)\n",
    "\n",
    "print('Saved fig to:\\t{}'.format(figPth))"
   ]
  },
  {
   "cell_type": "markdown",
   "metadata": {},
   "source": [
    "## Plot values as ratios"
   ]
  },
  {
   "cell_type": "code",
   "execution_count": 232,
   "metadata": {
    "scrolled": true
   },
   "outputs": [
    {
     "data": {
      "application/vnd.jupyter.widget-view+json": {
       "model_id": "c7fb2883af1245ecaaa516b7ef6bcc3c",
       "version_major": 2,
       "version_minor": 0
      },
      "text/plain": [
       "QgridWidget(grid_options={'fullWidthRows': True, 'syncColumnCellResize': True, 'forceFitColumns': False, 'defa…"
      ]
     },
     "metadata": {},
     "output_type": "display_data"
    }
   ],
   "source": [
    "## workflow: join based on lake name in order to manipulate data frame to include OW - EM pairs\n",
    "dfr_em=dfr.set_index('Lake').query(\"Surface != 'OW' \") # data frame ratio em\n",
    "dfr_ow=dfr.set_index('Lake').query(\"Surface == 'OW' \") # data frame ratio em\n",
    "# dfr_ow.columns\n",
    "\n",
    "## temp join to save text fields # remove Top\\paper bc I'm only taking first value of it and Surface bc it is being joined as well\n",
    "text= dfr_ow.select_dtypes('object').drop(labels=['Topic\\Paper', 'Surface'], axis=1).groupby('Lake').first() #.drop(labels='Topic\\Paper', axis=1).drop_duplicates() #.groupby('Lake')\n",
    "# text\n",
    "# dfr_em.loc[:, ('flux_to_plot_[mgCH4_m2_day]', 'Surface')]\n",
    "\n",
    "## aggregate dfr_em to average all vegetation types per lake\n",
    "dfr_em=pd.DataFrame(dfr_em.reset_index().groupby('Lake').mean())\n",
    "dfr_ow=pd.DataFrame(dfr_ow.reset_index().groupby('Lake').mean())\n",
    "dfr_ow.index\n",
    "# text.index\n",
    "# text.columns\n",
    "# text.query(\"Lake == 'Canvasback Lake'\")\n",
    "dfr_em.loc[:, 'flux_to_plot_[mgCH4_m2_day]']\n",
    "\n",
    "## only keep columns I need (don't use EM % from OW entries - some may be blank)\n",
    "dfr_ow =dfr_ow.loc[:, ('flux_to_plot_[mgCH4_m2_day]', 'confidence_int_min_[mgCH4_m2_day]', 'confidence_int_max_[mgCH4_m2_day]' )]\n",
    "\n",
    "## join text back in\n",
    "dfr_ow=dfr_ow.join(text, 'Lake', how='left')\n",
    "dfr_ow.index\n",
    "dfr_ow.loc[:, ('Citation', 'Orig_paper')]"
   ]
  },
  {
   "cell_type": "code",
   "execution_count": 233,
   "metadata": {},
   "outputs": [
    {
     "name": "stderr",
     "output_type": "stream",
     "text": [
      "/home/ekyzivat/miniconda2/envs/geohackw/lib/python3.7/site-packages/pandas/core/indexing.py:791: FutureWarning: \n",
      "Passing list-likes to .loc or [] with any missing label will raise\n",
      "KeyError in the future, you can use .reindex() as an alternative.\n",
      "\n",
      "See the documentation here:\n",
      "https://pandas.pydata.org/pandas-docs/stable/user_guide/indexing.html#deprecate-loc-reindex-listlike\n",
      "  return self._getitem_lowerdim(tup)\n"
     ]
    },
    {
     "data": {
      "application/vnd.jupyter.widget-view+json": {
       "model_id": "a80d003594624e74a225e5d05deda16f",
       "version_major": 2,
       "version_minor": 0
      },
      "text/plain": [
       "QgridWidget(grid_options={'fullWidthRows': True, 'syncColumnCellResize': True, 'forceFitColumns': False, 'defa…"
      ]
     },
     "metadata": {},
     "output_type": "display_data"
    }
   ],
   "source": [
    "## join\n",
    "dfr_j= dfr_em.join(dfr_ow, 'Lake', lsuffix='_em', rsuffix='_ow') # data frame ratio join\n",
    "         # .loc[:, ('flux_to_plot_[mgCH4_m2_day]', 'confidence_int_min_[mgCH4_m2_day]', confidence_int_max_[mgCH4_m2_day]')]\n",
    "dfr_j.columns\n",
    "# dfr_em.Lake.count()\n",
    "# dfr_em\n",
    "dfr_j['confidence_int_max_[mgCH4_m2_day]_ow']\n",
    "dfr_j.columns\n",
    "dfr_j.index\n",
    "np.unique(df['Citation'])\n",
    "# np.unique(dfr_j['Citation'])\n",
    "# dfr_j.loc[:, ('Citation', 'Orig_paper')]\n",
    "# dfr_j\n",
    "dfr_j.loc[:, ('CH4_flux_ratio', 'EM_percent', 'Citation', 'Orig_paper')]\n",
    "# dfr_j.head()\n",
    "# len(dfr_ow)\n",
    "# text\n",
    "# dfr_ow"
   ]
  },
  {
   "cell_type": "code",
   "execution_count": 234,
   "metadata": {},
   "outputs": [
    {
     "data": {
      "text/plain": [
       "Index(['Floating Mat 1', 'Floating Mat: Menyanthes trifoliata\\nPonds',\n",
       "       'Floating Mat: Phragmites australis', 'Floating Mat: Sphagnum',\n",
       "       'Lake Ekojärvi, Finland', 'Lake Vesijärvi, Finland'],\n",
       "      dtype='object', name='Lake')"
      ]
     },
     "execution_count": 234,
     "metadata": {},
     "output_type": "execute_result"
    }
   ],
   "source": [
    "## Manually check which lakes are missing OW or EM vals:\n",
    "\n",
    "missing_val_idx=(np.isnan(dfr_j['flux_to_plot_[mgCH4_m2_day]_ow'])) | (np.isnan(dfr_j['flux_to_plot_[mgCH4_m2_day]_em']))\n",
    "dfr_j.loc[missing_val_idx, :].index # .loc[missing_val_idx, 'Lake'] # \n",
    "# dfr_j.loc[('Amazon: high water 1'), :]\n",
    "# dfr_j.loc[('Red rock'), :]"
   ]
  },
  {
   "cell_type": "code",
   "execution_count": 235,
   "metadata": {},
   "outputs": [],
   "source": [
    "## If satisfied, remove these lakes with missing OW or EM vals:\n",
    "\n",
    "# dfr_j.drop(labels=missing_val_idx.values, inplace=True)\n",
    "dfr_j=dfr_j.loc[~missing_val_idx, :]\n",
    "# missing_val_idx"
   ]
  },
  {
   "cell_type": "code",
   "execution_count": 224,
   "metadata": {
    "jupyter": {
     "source_hidden": true
    }
   },
   "outputs": [],
   "source": [
    "## uncertainty propogation\n",
    "\n",
    "ch4_em_min=unumpy.uarray(dfr_j['flux_to_plot_[mgCH4_m2_day]_em'], dfr_j['confidence_int_min_[mgCH4_m2_day]_em'])\n",
    "ch4_em_max=unumpy.uarray(dfr_j['flux_to_plot_[mgCH4_m2_day]_em'], dfr_j['confidence_int_max_[mgCH4_m2_day]_em'])\n",
    "\n",
    "ch4_ow_min=unumpy.uarray(dfr_j['flux_to_plot_[mgCH4_m2_day]_ow'], dfr_j['confidence_int_min_[mgCH4_m2_day]_ow'])\n",
    "ch4_ow_max=unumpy.uarray(dfr_j['flux_to_plot_[mgCH4_m2_day]_ow'], dfr_j['confidence_int_max_[mgCH4_m2_day]_ow'])\n",
    "\n",
    "## calculate uncertainty in ratio\n",
    "ch4_flux_ratio_min=ch4_em_min / ch4_ow_min\n",
    "ch4_flux_ratio_max=ch4_em_max / ch4_ow_max\n",
    "\n",
    "## view\n",
    "# ch4_ow_max\n",
    "# ch4_em_min\n",
    "# ch4_flux_ratio_max - ch4_flux_ratio_min\n",
    "# np.quantile(ch4_flux_ratio_max, 0.99)\n",
    "# np.sort(ch4_flux_ratio_max)\n",
    "# # dfr_j\n",
    "# dfr_j['confidence_int_max_[mgCH4_m2_day]_ow']\n",
    "# np.any(np.isnan(dfr['confidence_int_min_[mgCH4_m2_day]']))\n",
    "# np.any(np.isnan(dfr_j['confidence_int_max_[mgCH4_m2_day]_ow']))\n",
    "# dfr_j.loc[np.isnan(dfr_j['confidence_int_max_[mgCH4_m2_day]_ow']), :]\n",
    "# np.isnan(dfr_j['confidence_int_max_[mgCH4_m2_day]_ow'])\n",
    "# dfr_j.columns"
   ]
  },
  {
   "cell_type": "code",
   "execution_count": 236,
   "metadata": {},
   "outputs": [
    {
     "name": "stdout",
     "output_type": "stream",
     "text": [
      "Sources:\n"
     ]
    },
    {
     "data": {
      "text/plain": [
       "array(['Burger et al 2016', 'Juutinen et al. 2003', 'Larmola et al 2004',\n",
       "       'Ribaudo et al. 2012', 'Smith and Lewis, 1992', 'TBD'],\n",
       "      dtype=object)"
      ]
     },
     "execution_count": 236,
     "metadata": {},
     "output_type": "execute_result"
    }
   ],
   "source": [
    "## compute em/ow flux ratio ## hold off on uncertainties for now, bc they are orders of mag larger than values...\n",
    "\n",
    "dfr_j.loc[:,'CH4_flux_ratio']=dfr_j.loc[:, 'flux_to_plot_[mgCH4_m2_day]_em'] / dfr_j.loc[:,'flux_to_plot_[mgCH4_m2_day]_ow']\n",
    "# dfr_j['CH4_flux_ratio_ci_min'] = dfr_j.loc[:,'CH4_flux_ratio'] - (dfr_j.loc[:,'flux_to_plot_[mgCH4_m2_day]_em'] - dfr_j.loc[:,'confidence_int_min_[mgCH4_m2_day]_em']) / (dfr_j.loc[:,'flux_to_plot_[mgCH4_m2_day]_ow'] - dfr_j.loc[:,'confidence_int_min_[mgCH4_m2_day]_ow'])\n",
    "# dfr_j['CH4_flux_ratio_ci_max']\n",
    "dfr_j.head(4)\n",
    "# dfr_j\n",
    "# dfr_j.CH4_flux_ratio.median()\n",
    "# dfr_j['CH4_flux_ratio']\n",
    "# dfr_j.index\n",
    "\n",
    "# print unique citations\n",
    "print('Sources:')\n",
    "np.unique(dfr_j['Citation'])"
   ]
  },
  {
   "cell_type": "code",
   "execution_count": 237,
   "metadata": {
    "scrolled": true
   },
   "outputs": [
    {
     "data": {
      "text/plain": [
       "Index(['flux_to_plot_[mgCH4_m2_day]_em',\n",
       "       'confidence_int_min_[mgCH4_m2_day]_em',\n",
       "       'confidence_int_max_[mgCH4_m2_day]_em', 'EM_percent',\n",
       "       'EM_percent_conf_in_min', 'EM_percent_conf_in_max',\n",
       "       'flux_to_plot_[mgCH4_m2_day]_ow',\n",
       "       'confidence_int_min_[mgCH4_m2_day]_ow',\n",
       "       'confidence_int_max_[mgCH4_m2_day]_ow', 'Citation', 'Journal',\n",
       "       'Orig_paper', 'Notes', 'CH4_flux_ratio'],\n",
       "      dtype='object')"
      ]
     },
     "execution_count": 237,
     "metadata": {},
     "output_type": "execute_result"
    }
   ],
   "source": [
    "## Create variables to plot\n",
    "## assign: lit vals\n",
    "FLUXES_RATIO_LIT=dfr_j[dfr_j['Orig_paper']!='above2_team' ]['CH4_flux_ratio'].values # use for sens. plot\n",
    "FRACTION_RATIO_LIT=dfr_j[dfr_j['Orig_paper']!='above2_team' ]['EM_percent'].values # use for sens. plot\n",
    "# FLUXES_LIT_CI=np.array([dfr_j[dfr_j['Orig_paper']!='above2_team' ]['confidence_int_min_[mgCH4_m2_day]'], dfr_j[dfr_j['Orig_paper']!='above2_team' ]['confidence_int_max_[mgCH4_m2_day]']]) # use for sens. plot\n",
    "FRACTION_RATIO_LIT_CI=np.array([dfr_j[dfr_j['Orig_paper']!='above2_team' ]['EM_percent_conf_in_min'],dfr_j[dfr_j['Orig_paper']!='above2_team' ]['EM_percent_conf_in_max']]) # use for sens. plot\n",
    "LAKE_LABELS_LIT=dfr_j[dfr_j['Orig_paper']!='above2_team' ].index # text labels\n",
    "\n",
    "## assign: field vals\n",
    "FLUXES_RATIO_FIELD=dfr_j[dfr_j['Orig_paper']=='above2_team' ]['CH4_flux_ratio'].values # use for sens. plot\n",
    "FRACTION_RATIO_FIELD=dfr_j[dfr_j['Orig_paper']=='above2_team' ]['EM_percent'].values # use for sens. plot\n",
    "# FLUXES_FIELD_CI=np.array([dfr_j[dfr_j['Orig_paper']=='above2_team' ]['confidence_int_min_[mgCH4_m2_day]'], dfr_j[dfr_j['Orig_paper']=='above2_team' ]['confidence_int_max_[mgCH4_m2_day]']]) # use for sens. plot\n",
    "FRACTION_RATIO_FIELD_CI=np.array([dfr_j[dfr_j['Orig_paper']=='above2_team' ]['EM_percent_conf_in_min'],dfr_j[dfr_j['Orig_paper']=='above2_team' ]['EM_percent_conf_in_max']]) # use for sens. plot\n",
    "LAKE_LABELS_FIELD=dfr_j[dfr_j['Orig_paper']=='above2_team' ].index # text labels\n",
    "\n",
    "## view\n",
    "dfr_j.columns\n",
    "# dfr_j\n",
    "# dfr_j.describe()"
   ]
  },
  {
   "cell_type": "code",
   "execution_count": 238,
   "metadata": {},
   "outputs": [
    {
     "name": "stdout",
     "output_type": "stream",
     "text": [
      "\n",
      "Site: PAD\n",
      "Open water flux used: 1.36 [mg CH_4 / m^2 / day]\n",
      "EM fraction: 0.00%\t| Total W area in first bin: \t        0.40\t| Total W area: 186.62\n",
      "\n",
      "\n",
      "Site: YFB\n",
      "Open water flux used: 3.53 [mg CH_4 / m^2 / day]\n",
      "EM fraction: 0.00%\t| Total W area in first bin: \t        1.38\t| Total W area: 178.65\n",
      "\n",
      "\n",
      "Site: YKN\n",
      "Open water flux used: 1.37 [mg CH_4 / m^2 / day]\n",
      "EM fraction: 0.00%\t| Total W area in first bin: \t        0.44\t| Total W area: 2082.63\n",
      "\n",
      "\n",
      "Site: DAR\n",
      "Open water flux used: 1.37 [mg CH_4 / m^2 / day]\n",
      "EM fraction: 0.00%\t| Total W area in first bin: \t        0.44\t| Total W area: 2082.63\n",
      "\n",
      "\n",
      "Site: All\n",
      "Open water flux used: 1.56 [mg CH_4 / m^2 / day]\n",
      "EM fraction: 0.00%\t| Total W area in first bin: \t        7.02\t| Total W area: 5964.35\n",
      "\n"
     ]
    }
   ],
   "source": [
    "## Create sensitivity ratio raster\n",
    "\n",
    "SENSITIVITY_RATIO={}\n",
    "FRACTION_RATIO_POSTINGS={}\n",
    "FLUX_RATIO_POSTINGS={}\n",
    "for si, s in enumerate(SITES):\n",
    "    print('\\nSite: {}'.format(s))\n",
    "    lsd = fused_regional['Fused_regional'][SITES_LSD[si]] # Lake size distribution for chosen region\n",
    "    SENSITIVITY_RATIO[s]=np.zeros((FRACTION_STEPS, FLUX_STEPS), 'double') # init\n",
    "    # lsd_tmp=lsd # init\n",
    "    FRACTION_RATIO_POSTINGS[s]=np.linspace(FRACTION['EM'][si][0], FRACTION['EM'][si][1], FRACTION_STEPS)\n",
    "    for Class in FLUXES.keys():\n",
    "        FLUX_RATIO_POSTINGS[Class]=np.linspace(FLUXES[Class][0], FLUXES[Class][1], FLUX_STEPS) #********#\n",
    "    lsd_vals = binned_statistic(lsd, lsd, statistic='sum', bins=BIN_EDGES)\n",
    "    ow_flux_mean=np.sum(lsd_vals.statistic*BIN_FLUXES)/lsd.sum()\n",
    "    print(f'Open water flux used: {ow_flux_mean:.3} [mg CH_4 / m^2 / day]')\n",
    "    print(f'EM fraction: {0:0.2f}%\\t| Total W area in first bin: \\t\\\n",
    "        {lsd_vals.statistic[0]*(100- 0)/100:.2f}\\t| Total W area: {np.sum(lsd)*(100- 0)/100:.2f}\\n')\n",
    "    for i in range(FRACTION_STEPS):\n",
    "        ##############################################\n",
    "             # toggle if not using LSD\n",
    "    #     ow_flux_mean=np.mean(FLUX_RATIO_POSTINGS['OW'])\n",
    "        ##############################################\n",
    "            # toggle if using LSD | with lakes changing bins # Results in higher water flux in highest EM bin bc more of the lakes are now small (unrealistic)\n",
    "    #     lsd_tmp_vals = binned_statistic(lsd_tmp, lsd_tmp, statistic='sum', bins=BIN_EDGES) # could also use np.digitize\n",
    "    #     ow_flux_mean=np.sum(lsd_tmp_vals.statistic*BIN_FLUXES)/lsd_tmp.sum()\n",
    "    #     print(f'EM fraction: {FRACTION_RATIO_POSTINGS[i]:0.2f}%\\t| Total W area in first bin: \\\n",
    "    #         {lsd_tmp_vals.statistic[0]:.2f}\\t| Total W area: {np.sum(lsd_tmp_vals.statistic):.2f}\\t| Total W flux: {((100- FRACTION_RATIO_POSTINGS[i]) * ow_flux_mean) / 100:.2f}')\n",
    "        ##############################################\n",
    "            # toggle if using LSD | with lakes NOT changing bins # Results in lower water flux in highest EM bin\n",
    "#         print(f'EM fraction: {FRACTION_RATIO_POSTINGS[s][i]:0.2f}%\\t| Total W area in first bin: \\\n",
    "#             {lsd_vals.statistic[0]*(100- FRACTION_RATIO_POSTINGS[s][i])/100:.2f}\\t| Total W area: \\\n",
    "#             {np.sum(lsd_vals.statistic)*(100- FRACTION_RATIO_POSTINGS[s][i])/100:.2f}\\t| Total W flux: {((100- FRACTION_RATIO_POSTINGS[s][i]) * ow_flux_mean) / 100:.2f}')\n",
    "        ##############################################\n",
    "        for j in range(FLUX_STEPS):\n",
    "            # each cell = (<EM fraction> * <EM flux> + <OW fraction> * <OW flux>)\n",
    "            SENSITIVITY_RATIO[s][i,j] = (FRACTION_RATIO_POSTINGS[s][i] * FLUX_RATIO_POSTINGS['RATIO'][j] * ow_flux_mean + # use median? # note: hard-coded for just two classes: OW and EM\n",
    "                                (100- FRACTION_RATIO_POSTINGS[s][i]) * ow_flux_mean) / 100 / ow_flux_mean\n",
    "        "
   ]
  },
  {
   "cell_type": "code",
   "execution_count": 239,
   "metadata": {},
   "outputs": [
    {
     "data": {
      "application/vnd.jupyter.widget-view+json": {
       "model_id": "8be5913563554fc4a5cdc7d894025532",
       "version_major": 2,
       "version_minor": 0
      },
      "text/plain": [
       "Canvas(toolbar=Toolbar(toolitems=[('Home', 'Reset original view', 'home', 'home'), ('Back', 'Back to previous …"
      ]
     },
     "metadata": {},
     "output_type": "display_data"
    },
    {
     "name": "stdout",
     "output_type": "stream",
     "text": [
      "Saved fig to:\t/mnt/d/pic/UAVSAR_classification/upscaleSensitivityRasterContoursRatios.pdf\n"
     ]
    }
   ],
   "source": [
    "## Single contour plot\n",
    "%matplotlib widget\n",
    "f=12 # fontsize\n",
    "# num_contours = np.linspace(5, np.max(SENSITIVITY_RATIO['All']), 11) #10\n",
    "num_contours = np.linspace(1, 20, 20) #10\n",
    "\n",
    "# Define a class that forces representation of float to look a certain way\n",
    "# This remove trailing zero so '1.0' becomes '1'\n",
    "class nf(float):\n",
    "    def __repr__(self):\n",
    "        str = '%.1f' % (self.__float__(),)\n",
    "        if str[-1] == '0':\n",
    "            return '%.0f' % self.__float__()\n",
    "        else:\n",
    "            return '%.1f' % self.__float__()\n",
    "    # axis\n",
    "fig, ax = plt.subplots(sharex=True, figsize=(4,4))\n",
    "\n",
    "    # quick fix\n",
    "# quick_title=SITES # keep unchanged\n",
    "quick_title=['PAD','YF','CS-1','CS-2','All'] # keep unchanged\n",
    "\n",
    "    # loop\n",
    "for si, s in zip([4], ['All']):\n",
    "        \n",
    "        # define dims\n",
    "    Y=FRACTION_RATIO_POSTINGS[s]\n",
    "    X=FLUX_RATIO_POSTINGS['RATIO']\n",
    "    Z=SENSITIVITY_RATIO[s]\n",
    "    \n",
    "    # Basic contour plot\n",
    "    CS = ax.contour(X, Y, Z, num_contours, cmap='gnuplot', vmin =0, vmax=20,\n",
    "        extent=(FLUXES['RATIO'][0], FLUXES['RATIO'][1], FRACTION['EM'][si][0], FRACTION['EM'][si][1]))\n",
    "\n",
    "    # Recast levels to new class\n",
    "    CS.levels = [nf(val) for val in CS.levels]\n",
    "\n",
    "    # Label levels with specially formatted floats\n",
    "    if plt.rcParams[\"text.usetex\"]:\n",
    "        fmt = r'%r'\n",
    "    else:\n",
    "        fmt = '%r'\n",
    "    ax.clabel(CS, CS.levels, inline=True, fmt=fmt, fontsize=10)\n",
    "    ax.set_xlabel(\"Littoral zone flux ratio (EM:OW)\", fontsize=f+2)\n",
    "    ax.set_ylabel('Vegetated fraction (%)', fontsize=f)\n",
    "#     fig.text(0.5, 0.04, \"Littoral zone flux ($mg\\ CH_4 / m^2 /day$)\", ha='center', va='bottom', fontsize=f, FONTNAME='DejaVu Sans')\n",
    "#     fig.text(0.04, 0.5, 'Vegetated fraction (%)', va='center', rotation='vertical', fontsize=f, FONTNAME='sans-serif')\n",
    "#     ax.set_title(f'{quick_title[si]}: {np.mean(SENSITIVITY_RATIO[s]):0.0f}', fontsize=f)\n",
    "    fig.tight_layout()\n",
    "    \n",
    "## Superimpose errorbar plot: lit values\n",
    "ax.errorbar(FLUXES_RATIO_LIT, FRACTION_RATIO_LIT, FRACTION_RATIO_LIT_CI, None, 'ko', ecolor='gray', fillstyle='none', alpha=0.6) # , clip_box=(0,0,6000,100)\n",
    "\n",
    "## Superimpose errorbar plot: field values\n",
    "ax.errorbar(FLUXES_RATIO_FIELD, FRACTION_RATIO_FIELD, FRACTION_RATIO_FIELD_CI, None, 'bo', ecolor='#2D7DC4', fillstyle='none', alpha=0.6) # , clip_box=(0,0,6000,100)\n",
    "\n",
    "# Add lake labels for each point: FIELD\n",
    "for x_pos, y_pos, label in zip(FLUXES_RATIO_FIELD, FRACTION_RATIO_FIELD, LAKE_LABELS_FIELD):\n",
    "    ax.annotate(label,             # The label for this point\n",
    "                xy=(x_pos, y_pos), # Position of the corresponding point\n",
    "                xytext=(7, 0),     # Offset text by 7 points to the right\n",
    "                textcoords='offset points', # tell it to use offset points\n",
    "                color='b',\n",
    "                ha='left',         # Horizontally aligned to the left\n",
    "                va='center')       # Vertical alignment is centered\n",
    "    \n",
    "# Add lake labels for each point: LIT\n",
    "# for x_pos, y_pos, label in zip(FLUXES_RATIO_LIT, FRACTION_RATIO_LIT, LAKE_LABELS_LIT):\n",
    "#     ax.annotate(label,             # The label for this point\n",
    "#                 xy=(x_pos, y_pos), # Position of the corresponding point\n",
    "#                 xytext=(7, 0),     # Offset text by 7 points to the right\n",
    "#                 textcoords='offset points', # tell it to use offset points\n",
    "#                 color='k',\n",
    "#                 ha='left',         # Horizontally aligned to the left\n",
    "#                 va='center')       # Vertical alignment is centered\n",
    "\n",
    "## title\n",
    "ax.set_title('Water surface flux contribution ratio (total:OW)', fontsize=f-2)\n",
    "\n",
    "## legend\n",
    "ax.legend(['Published data', 'Field data'], loc='best')\n",
    "\n",
    "## set window\n",
    "ax.set_xlim(0, 10) #FLUXES['RATIO'][1]/1) #FLUXES['RATIO'][1]/1)\n",
    "\n",
    "    # save\n",
    "figPth='/mnt/d/pic/UAVSAR_classification/upscaleSensitivityRasterContoursRatios.jpg'\n",
    "fig.savefig(figPth, dpi=200)\n",
    "figPth='/mnt/d/pic/UAVSAR_classification/upscaleSensitivityRasterContoursRatios.pdf'\n",
    "fig.savefig(figPth, dpi=200)\n",
    "\n",
    "print('Saved fig to:\\t{}'.format(figPth))"
   ]
  },
  {
   "cell_type": "code",
   "execution_count": 240,
   "metadata": {},
   "outputs": [
    {
     "data": {
      "application/vnd.jupyter.widget-view+json": {
       "model_id": "0e90f8a214114486ac3f35706c4df454",
       "version_major": 2,
       "version_minor": 0
      },
      "text/plain": [
       "Canvas(toolbar=Toolbar(toolitems=[('Home', 'Reset original view', 'home', 'home'), ('Back', 'Back to previous …"
      ]
     },
     "metadata": {},
     "output_type": "display_data"
    },
    {
     "name": "stdout",
     "output_type": "stream",
     "text": [
      "Saved fig to:\t/mnt/d/pic/UAVSAR_classification/upscaleSensitivityRasterContoursRatiosHists.pdf\n"
     ]
    }
   ],
   "source": [
    "## Single contour plot with side histograms\n",
    "# source: https://matplotlib.org/3.1.1/gallery/lines_bars_and_markers/scatter_hist.html#sphx-glr-gallery-lines-bars-and-markers-scatter-hist-py\n",
    "\n",
    "%matplotlib widget\n",
    "f=20 # fontsize\n",
    "bins=20 # hist bins\n",
    "# num_contours = np.linspace(5, np.max(SENSITIVITY_RATIO['All']), 11) #10\n",
    "num_contours = np.linspace(1, 20, 20) #10\n",
    "\n",
    "# Define a class that forces representation of float to look a certain way\n",
    "# This remove trailing zero so '1.0' becomes '1'\n",
    "class nf(float):\n",
    "    def __repr__(self):\n",
    "        str = '%.1f' % (self.__float__(),)\n",
    "        if str[-1] == '0':\n",
    "            return '%.0f' % self.__float__()\n",
    "        else:\n",
    "            return '%.1f' % self.__float__()\n",
    "\n",
    "## definitions for the axes\n",
    "left, width = 0.1, 0.75\n",
    "bottom, height = 0.1, 0.75\n",
    "spacing = 0.02\n",
    "hist_height = 1 - bottom - height - spacing*2 # 0.1\n",
    "\n",
    "rect_scatter = [left, bottom, width, height]\n",
    "rect_histx = [left, bottom + height + spacing, width, hist_height]\n",
    "rect_histy = [left + width + spacing, bottom, hist_height, height]\n",
    "\n",
    "## Define axes\n",
    "plt.figure(figsize=(8,8))\n",
    "ax_scatter = plt.axes(rect_scatter)\n",
    "ax_scatter.tick_params(direction='in', top=True, right=True)\n",
    "ax_histx = plt.axes(rect_histx)\n",
    "ax_histx.tick_params(direction='in', labelbottom=False)\n",
    "ax_histy = plt.axes(rect_histy)\n",
    "ax_histy.tick_params(direction='in', labelleft=False)\n",
    "\n",
    "    # quick fix\n",
    "# quick_title=SITES # keep unchanged\n",
    "quick_title=['PAD','YF','CS-1','CS-2','All'] # keep unchanged\n",
    "\n",
    "    # loop\n",
    "for si, s in zip([4], ['All']):\n",
    "        \n",
    "        # define dims\n",
    "    Y=FRACTION_RATIO_POSTINGS[s]\n",
    "    X=FLUX_RATIO_POSTINGS['RATIO']\n",
    "    Z=SENSITIVITY_RATIO[s]\n",
    "    \n",
    "    # Basic contour plot\n",
    "    CS = ax_scatter.contour(X, Y, Z, num_contours, cmap='gnuplot', vmin =0, vmax=20,\n",
    "        extent=(FLUXES['RATIO'][0], FLUXES['RATIO'][1], FRACTION['EM'][si][0], FRACTION['EM'][si][1]))\n",
    "\n",
    "    # Recast levels to new class\n",
    "    CS.levels = [nf(val) for val in CS.levels]\n",
    "\n",
    "    # Label levels with specially formatted floats\n",
    "    if plt.rcParams[\"text.usetex\"]:\n",
    "        fmt = r'%r'\n",
    "    else:\n",
    "        fmt = '%r'\n",
    "    ax_scatter.clabel(CS, CS.levels, inline=True, fmt=fmt, fontsize=10)\n",
    "    ax_scatter.set_xlabel(\"Littoral zone flux ratio (EM:OW)\", fontsize=f+2)\n",
    "    ax_scatter.set_ylabel('Vegetated fraction (%)', fontsize=f)\n",
    "\n",
    "#     plt.tight_layout()\n",
    "    \n",
    "## Superimpose errorbar plot: lit values\n",
    "ax_scatter.errorbar(FLUXES_RATIO_LIT, FRACTION_RATIO_LIT, FRACTION_RATIO_LIT_CI, None, 'ko', ecolor='gray', fillstyle='none', alpha=0.6, linewidth=f/5) # , clip_box=(0,0,6000,100)\n",
    "\n",
    "## Superimpose errorbar plot: field values\n",
    "ax_scatter.errorbar(FLUXES_RATIO_FIELD, FRACTION_RATIO_FIELD, FRACTION_RATIO_FIELD_CI, None, 'bo', ecolor='#2D7DC4', fillstyle='none', alpha=0.6, linewidth=f/5) # , clip_box=(0,0,6000,100)\n",
    "\n",
    "# Add lake labels for each point: FIELD\n",
    "for x_pos, y_pos, label in zip(FLUXES_RATIO_FIELD, FRACTION_RATIO_FIELD, LAKE_LABELS_FIELD):\n",
    "    ax_scatter.annotate(label,             # The label for this point\n",
    "                xy=(x_pos, y_pos), # Position of the corresponding point\n",
    "                xytext=(7, 0),     # Offset text by 7 points to the right\n",
    "                textcoords='offset points', # tell it to use offset points\n",
    "                color='b',\n",
    "                ha='left',         # Horizontally aligned to the left\n",
    "                va='center')       # Vertical alignment is centered\n",
    "    \n",
    "# Add lake labels for each point: LIT\n",
    "# for x_pos, y_pos, label in zip(FLUXES_RATIO_LIT, FRACTION_RATIO_LIT, LAKE_LABELS_LIT):\n",
    "#     ax_scatter.annotate(label,             # The label for this point\n",
    "#                 xy=(x_pos, y_pos), # Position of the corresponding point\n",
    "#                 xytext=(7, 0),     # Offset text by 7 points to the right\n",
    "#                 textcoords='offset points', # tell it to use offset points\n",
    "#                 color='k',\n",
    "#                 ha='left',         # Horizontally aligned to the left\n",
    "#                 va='center')       # Vertical alignment is centered\n",
    "\n",
    "## histograms\n",
    "ax_histx.hist(np.hstack((FLUXES_RATIO_FIELD, FLUXES_RATIO_LIT)), bins=bins, range=(0, 10)) # bins=bins # bins=50\n",
    "ax_histy.hist(np.hstack((FRACTION_RATIO_FIELD, FRACTION_RATIO_LIT)), bins=bins, orientation='horizontal')\n",
    "\n",
    "## title\n",
    "# ax_scatter.set_title('Water surface flux contribution ratio (total:OW)', fontsize=f-2)\n",
    "\n",
    "## legend\n",
    "ax_scatter.legend(['Published data', 'Field data'], loc='best')\n",
    "\n",
    "## set window\n",
    "ax_scatter.set_xlim(0, 10) #FLUXES['RATIO'][1]/1) #FLUXES['RATIO'][1]/1)\n",
    "ax_histx.set_xlim(ax_scatter.get_xlim()) # ax_scatter.get_xlim() # 0,10\n",
    "ax_histy.set_ylim(ax_scatter.get_ylim())\n",
    "\n",
    "    # save\n",
    "figPth='/mnt/d/pic/UAVSAR_classification/upscaleSensitivityRasterContoursRatiosHists.jpg'\n",
    "fig.savefig(figPth, dpi=200)\n",
    "figPth='/mnt/d/pic/UAVSAR_classification/upscaleSensitivityRasterContoursRatiosHists.pdf'\n",
    "fig.savefig(figPth, dpi=200)\n",
    "\n",
    "print('Saved fig to:\\t{}'.format(figPth))"
   ]
  },
  {
   "cell_type": "markdown",
   "metadata": {},
   "source": [
    "## Scratch paper"
   ]
  },
  {
   "cell_type": "code",
   "execution_count": 185,
   "metadata": {},
   "outputs": [
    {
     "data": {
      "application/vnd.jupyter.widget-view+json": {
       "model_id": "800c3f0a9f284d5799a6702583d5ceba",
       "version_major": 2,
       "version_minor": 0
      },
      "text/plain": [
       "Canvas(toolbar=Toolbar(toolitems=[('Home', 'Reset original view', 'home', 'home'), ('Back', 'Back to previous …"
      ]
     },
     "metadata": {},
     "output_type": "display_data"
    },
    {
     "data": {
      "text/plain": [
       "(array([3., 3., 5., 4., 1., 1., 2., 1., 0., 0., 0., 0., 1., 0., 0., 0., 1.,\n",
       "        0., 0., 1., 0., 0., 0., 0., 0., 0., 0., 0., 0., 0., 0., 0., 0., 0.,\n",
       "        0., 0., 0., 0., 0., 0., 0., 0., 0., 0., 1., 0., 0., 0., 0., 0., 0.,\n",
       "        0., 0., 0., 0., 0., 0., 0., 0., 0., 0., 0., 0., 0., 0., 0., 0., 0.,\n",
       "        0., 0., 0., 0., 0., 0., 0., 0., 0., 0., 0., 0., 0., 0., 0., 0., 0.,\n",
       "        0., 0., 0., 0., 0., 0., 0., 0., 0., 0., 0., 0., 0., 0., 0., 0., 0.,\n",
       "        0., 0., 0., 0., 0., 0., 0., 0., 0., 0., 0., 0., 0., 0., 0., 0., 0.,\n",
       "        0., 0., 0., 0., 0., 0., 0., 0., 0., 0., 0., 0., 0., 0., 0., 0., 0.,\n",
       "        0., 0., 0., 0., 0., 0., 0., 0., 0., 0., 0., 0., 0., 0., 0., 0., 0.,\n",
       "        0., 0., 0., 0., 0., 0., 0., 0., 0., 0., 0., 0., 0., 0., 0., 0., 0.,\n",
       "        0., 0., 0., 0., 0., 0., 0., 0., 0., 0., 0., 0., 0., 0., 0., 0., 0.,\n",
       "        0., 0., 0., 0., 0., 0., 0., 0., 0., 0., 0., 0., 0., 0., 0., 0., 0.,\n",
       "        0., 0., 0., 0., 0., 0., 0., 0., 0., 0., 0., 0., 0., 0., 0., 0., 0.,\n",
       "        0., 0., 0., 0., 0., 0., 0., 0., 0., 0., 0., 0., 0., 0., 0., 0., 0.,\n",
       "        0., 0., 0., 0., 0., 0., 0., 0., 0., 0., 0., 0., 0., 0., 0., 0., 0.,\n",
       "        0., 0., 0., 0., 0., 0., 0., 0., 0., 0., 0., 0., 0., 0., 0., 0., 0.,\n",
       "        0., 0., 0., 0., 0., 0., 0., 0., 0., 0., 0., 0., 0., 0., 0., 0., 0.,\n",
       "        0., 0., 0., 0., 0., 0., 0., 0., 0., 0., 0., 0., 0., 0., 0., 0., 0.,\n",
       "        0., 0., 0., 0., 0., 0., 0., 0., 0., 0., 0., 0., 0., 0., 0., 0., 0.,\n",
       "        0., 0., 0., 0., 0., 0., 0., 0., 0., 0., 0., 0., 0., 0., 0., 0., 0.,\n",
       "        0., 0., 0., 0., 0., 0., 0., 0., 0., 0., 0., 0., 0., 0., 0., 0., 0.,\n",
       "        0., 0., 0., 0., 0., 0., 0., 0., 0., 0., 0., 0., 0., 0., 0., 0., 0.,\n",
       "        0., 0., 0., 0., 0., 0., 0., 0., 0., 0., 0., 0., 0., 0., 0., 0., 0.,\n",
       "        0., 0., 0., 0., 0., 0., 0., 0., 0., 0., 0., 0., 0., 0., 0., 0., 0.,\n",
       "        0., 0., 0., 0., 0., 0., 0., 0., 0., 0., 0., 0., 0., 0., 0., 0., 0.,\n",
       "        0., 0., 0., 0., 0., 0., 0., 0., 0., 0., 0., 0., 0., 0., 0., 0., 0.,\n",
       "        0., 0., 0., 0., 0., 0., 0., 0., 0., 0., 0., 0., 0., 0., 0., 0., 0.,\n",
       "        0., 0., 0., 0., 0., 0., 0., 0., 0., 0., 0., 0., 0., 0., 0., 0., 0.,\n",
       "        0., 0., 0., 0., 0., 0., 0., 0., 0., 0., 0., 0., 0., 0., 0., 0., 0.,\n",
       "        0., 0., 0., 0., 0., 0., 1.]),\n",
       " array([7.46268657e-03, 1.00744776e+00, 2.00743284e+00, 3.00741791e+00,\n",
       "        4.00740299e+00, 5.00738806e+00, 6.00737313e+00, 7.00735821e+00,\n",
       "        8.00734328e+00, 9.00732836e+00, 1.00073134e+01, 1.10072985e+01,\n",
       "        1.20072836e+01, 1.30072687e+01, 1.40072537e+01, 1.50072388e+01,\n",
       "        1.60072239e+01, 1.70072090e+01, 1.80071940e+01, 1.90071791e+01,\n",
       "        2.00071642e+01, 2.10071493e+01, 2.20071343e+01, 2.30071194e+01,\n",
       "        2.40071045e+01, 2.50070896e+01, 2.60070746e+01, 2.70070597e+01,\n",
       "        2.80070448e+01, 2.90070299e+01, 3.00070149e+01, 3.10070000e+01,\n",
       "        3.20069851e+01, 3.30069701e+01, 3.40069552e+01, 3.50069403e+01,\n",
       "        3.60069254e+01, 3.70069104e+01, 3.80068955e+01, 3.90068806e+01,\n",
       "        4.00068657e+01, 4.10068507e+01, 4.20068358e+01, 4.30068209e+01,\n",
       "        4.40068060e+01, 4.50067910e+01, 4.60067761e+01, 4.70067612e+01,\n",
       "        4.80067463e+01, 4.90067313e+01, 5.00067164e+01, 5.10067015e+01,\n",
       "        5.20066866e+01, 5.30066716e+01, 5.40066567e+01, 5.50066418e+01,\n",
       "        5.60066269e+01, 5.70066119e+01, 5.80065970e+01, 5.90065821e+01,\n",
       "        6.00065672e+01, 6.10065522e+01, 6.20065373e+01, 6.30065224e+01,\n",
       "        6.40065075e+01, 6.50064925e+01, 6.60064776e+01, 6.70064627e+01,\n",
       "        6.80064478e+01, 6.90064328e+01, 7.00064179e+01, 7.10064030e+01,\n",
       "        7.20063881e+01, 7.30063731e+01, 7.40063582e+01, 7.50063433e+01,\n",
       "        7.60063284e+01, 7.70063134e+01, 7.80062985e+01, 7.90062836e+01,\n",
       "        8.00062687e+01, 8.10062537e+01, 8.20062388e+01, 8.30062239e+01,\n",
       "        8.40062090e+01, 8.50061940e+01, 8.60061791e+01, 8.70061642e+01,\n",
       "        8.80061493e+01, 8.90061343e+01, 9.00061194e+01, 9.10061045e+01,\n",
       "        9.20060896e+01, 9.30060746e+01, 9.40060597e+01, 9.50060448e+01,\n",
       "        9.60060299e+01, 9.70060149e+01, 9.80060000e+01, 9.90059851e+01,\n",
       "        1.00005970e+02, 1.01005955e+02, 1.02005940e+02, 1.03005925e+02,\n",
       "        1.04005910e+02, 1.05005896e+02, 1.06005881e+02, 1.07005866e+02,\n",
       "        1.08005851e+02, 1.09005836e+02, 1.10005821e+02, 1.11005806e+02,\n",
       "        1.12005791e+02, 1.13005776e+02, 1.14005761e+02, 1.15005746e+02,\n",
       "        1.16005731e+02, 1.17005716e+02, 1.18005701e+02, 1.19005687e+02,\n",
       "        1.20005672e+02, 1.21005657e+02, 1.22005642e+02, 1.23005627e+02,\n",
       "        1.24005612e+02, 1.25005597e+02, 1.26005582e+02, 1.27005567e+02,\n",
       "        1.28005552e+02, 1.29005537e+02, 1.30005522e+02, 1.31005507e+02,\n",
       "        1.32005493e+02, 1.33005478e+02, 1.34005463e+02, 1.35005448e+02,\n",
       "        1.36005433e+02, 1.37005418e+02, 1.38005403e+02, 1.39005388e+02,\n",
       "        1.40005373e+02, 1.41005358e+02, 1.42005343e+02, 1.43005328e+02,\n",
       "        1.44005313e+02, 1.45005299e+02, 1.46005284e+02, 1.47005269e+02,\n",
       "        1.48005254e+02, 1.49005239e+02, 1.50005224e+02, 1.51005209e+02,\n",
       "        1.52005194e+02, 1.53005179e+02, 1.54005164e+02, 1.55005149e+02,\n",
       "        1.56005134e+02, 1.57005119e+02, 1.58005104e+02, 1.59005090e+02,\n",
       "        1.60005075e+02, 1.61005060e+02, 1.62005045e+02, 1.63005030e+02,\n",
       "        1.64005015e+02, 1.65005000e+02, 1.66004985e+02, 1.67004970e+02,\n",
       "        1.68004955e+02, 1.69004940e+02, 1.70004925e+02, 1.71004910e+02,\n",
       "        1.72004896e+02, 1.73004881e+02, 1.74004866e+02, 1.75004851e+02,\n",
       "        1.76004836e+02, 1.77004821e+02, 1.78004806e+02, 1.79004791e+02,\n",
       "        1.80004776e+02, 1.81004761e+02, 1.82004746e+02, 1.83004731e+02,\n",
       "        1.84004716e+02, 1.85004701e+02, 1.86004687e+02, 1.87004672e+02,\n",
       "        1.88004657e+02, 1.89004642e+02, 1.90004627e+02, 1.91004612e+02,\n",
       "        1.92004597e+02, 1.93004582e+02, 1.94004567e+02, 1.95004552e+02,\n",
       "        1.96004537e+02, 1.97004522e+02, 1.98004507e+02, 1.99004493e+02,\n",
       "        2.00004478e+02, 2.01004463e+02, 2.02004448e+02, 2.03004433e+02,\n",
       "        2.04004418e+02, 2.05004403e+02, 2.06004388e+02, 2.07004373e+02,\n",
       "        2.08004358e+02, 2.09004343e+02, 2.10004328e+02, 2.11004313e+02,\n",
       "        2.12004299e+02, 2.13004284e+02, 2.14004269e+02, 2.15004254e+02,\n",
       "        2.16004239e+02, 2.17004224e+02, 2.18004209e+02, 2.19004194e+02,\n",
       "        2.20004179e+02, 2.21004164e+02, 2.22004149e+02, 2.23004134e+02,\n",
       "        2.24004119e+02, 2.25004104e+02, 2.26004090e+02, 2.27004075e+02,\n",
       "        2.28004060e+02, 2.29004045e+02, 2.30004030e+02, 2.31004015e+02,\n",
       "        2.32004000e+02, 2.33003985e+02, 2.34003970e+02, 2.35003955e+02,\n",
       "        2.36003940e+02, 2.37003925e+02, 2.38003910e+02, 2.39003896e+02,\n",
       "        2.40003881e+02, 2.41003866e+02, 2.42003851e+02, 2.43003836e+02,\n",
       "        2.44003821e+02, 2.45003806e+02, 2.46003791e+02, 2.47003776e+02,\n",
       "        2.48003761e+02, 2.49003746e+02, 2.50003731e+02, 2.51003716e+02,\n",
       "        2.52003701e+02, 2.53003687e+02, 2.54003672e+02, 2.55003657e+02,\n",
       "        2.56003642e+02, 2.57003627e+02, 2.58003612e+02, 2.59003597e+02,\n",
       "        2.60003582e+02, 2.61003567e+02, 2.62003552e+02, 2.63003537e+02,\n",
       "        2.64003522e+02, 2.65003507e+02, 2.66003493e+02, 2.67003478e+02,\n",
       "        2.68003463e+02, 2.69003448e+02, 2.70003433e+02, 2.71003418e+02,\n",
       "        2.72003403e+02, 2.73003388e+02, 2.74003373e+02, 2.75003358e+02,\n",
       "        2.76003343e+02, 2.77003328e+02, 2.78003313e+02, 2.79003299e+02,\n",
       "        2.80003284e+02, 2.81003269e+02, 2.82003254e+02, 2.83003239e+02,\n",
       "        2.84003224e+02, 2.85003209e+02, 2.86003194e+02, 2.87003179e+02,\n",
       "        2.88003164e+02, 2.89003149e+02, 2.90003134e+02, 2.91003119e+02,\n",
       "        2.92003104e+02, 2.93003090e+02, 2.94003075e+02, 2.95003060e+02,\n",
       "        2.96003045e+02, 2.97003030e+02, 2.98003015e+02, 2.99003000e+02,\n",
       "        3.00002985e+02, 3.01002970e+02, 3.02002955e+02, 3.03002940e+02,\n",
       "        3.04002925e+02, 3.05002910e+02, 3.06002896e+02, 3.07002881e+02,\n",
       "        3.08002866e+02, 3.09002851e+02, 3.10002836e+02, 3.11002821e+02,\n",
       "        3.12002806e+02, 3.13002791e+02, 3.14002776e+02, 3.15002761e+02,\n",
       "        3.16002746e+02, 3.17002731e+02, 3.18002716e+02, 3.19002701e+02,\n",
       "        3.20002687e+02, 3.21002672e+02, 3.22002657e+02, 3.23002642e+02,\n",
       "        3.24002627e+02, 3.25002612e+02, 3.26002597e+02, 3.27002582e+02,\n",
       "        3.28002567e+02, 3.29002552e+02, 3.30002537e+02, 3.31002522e+02,\n",
       "        3.32002507e+02, 3.33002493e+02, 3.34002478e+02, 3.35002463e+02,\n",
       "        3.36002448e+02, 3.37002433e+02, 3.38002418e+02, 3.39002403e+02,\n",
       "        3.40002388e+02, 3.41002373e+02, 3.42002358e+02, 3.43002343e+02,\n",
       "        3.44002328e+02, 3.45002313e+02, 3.46002299e+02, 3.47002284e+02,\n",
       "        3.48002269e+02, 3.49002254e+02, 3.50002239e+02, 3.51002224e+02,\n",
       "        3.52002209e+02, 3.53002194e+02, 3.54002179e+02, 3.55002164e+02,\n",
       "        3.56002149e+02, 3.57002134e+02, 3.58002119e+02, 3.59002104e+02,\n",
       "        3.60002090e+02, 3.61002075e+02, 3.62002060e+02, 3.63002045e+02,\n",
       "        3.64002030e+02, 3.65002015e+02, 3.66002000e+02, 3.67001985e+02,\n",
       "        3.68001970e+02, 3.69001955e+02, 3.70001940e+02, 3.71001925e+02,\n",
       "        3.72001910e+02, 3.73001896e+02, 3.74001881e+02, 3.75001866e+02,\n",
       "        3.76001851e+02, 3.77001836e+02, 3.78001821e+02, 3.79001806e+02,\n",
       "        3.80001791e+02, 3.81001776e+02, 3.82001761e+02, 3.83001746e+02,\n",
       "        3.84001731e+02, 3.85001716e+02, 3.86001701e+02, 3.87001687e+02,\n",
       "        3.88001672e+02, 3.89001657e+02, 3.90001642e+02, 3.91001627e+02,\n",
       "        3.92001612e+02, 3.93001597e+02, 3.94001582e+02, 3.95001567e+02,\n",
       "        3.96001552e+02, 3.97001537e+02, 3.98001522e+02, 3.99001507e+02,\n",
       "        4.00001493e+02, 4.01001478e+02, 4.02001463e+02, 4.03001448e+02,\n",
       "        4.04001433e+02, 4.05001418e+02, 4.06001403e+02, 4.07001388e+02,\n",
       "        4.08001373e+02, 4.09001358e+02, 4.10001343e+02, 4.11001328e+02,\n",
       "        4.12001313e+02, 4.13001299e+02, 4.14001284e+02, 4.15001269e+02,\n",
       "        4.16001254e+02, 4.17001239e+02, 4.18001224e+02, 4.19001209e+02,\n",
       "        4.20001194e+02, 4.21001179e+02, 4.22001164e+02, 4.23001149e+02,\n",
       "        4.24001134e+02, 4.25001119e+02, 4.26001104e+02, 4.27001090e+02,\n",
       "        4.28001075e+02, 4.29001060e+02, 4.30001045e+02, 4.31001030e+02,\n",
       "        4.32001015e+02, 4.33001000e+02, 4.34000985e+02, 4.35000970e+02,\n",
       "        4.36000955e+02, 4.37000940e+02, 4.38000925e+02, 4.39000910e+02,\n",
       "        4.40000896e+02, 4.41000881e+02, 4.42000866e+02, 4.43000851e+02,\n",
       "        4.44000836e+02, 4.45000821e+02, 4.46000806e+02, 4.47000791e+02,\n",
       "        4.48000776e+02, 4.49000761e+02, 4.50000746e+02, 4.51000731e+02,\n",
       "        4.52000716e+02, 4.53000701e+02, 4.54000687e+02, 4.55000672e+02,\n",
       "        4.56000657e+02, 4.57000642e+02, 4.58000627e+02, 4.59000612e+02,\n",
       "        4.60000597e+02, 4.61000582e+02, 4.62000567e+02, 4.63000552e+02,\n",
       "        4.64000537e+02, 4.65000522e+02, 4.66000507e+02, 4.67000493e+02,\n",
       "        4.68000478e+02, 4.69000463e+02, 4.70000448e+02, 4.71000433e+02,\n",
       "        4.72000418e+02, 4.73000403e+02, 4.74000388e+02, 4.75000373e+02,\n",
       "        4.76000358e+02, 4.77000343e+02, 4.78000328e+02, 4.79000313e+02,\n",
       "        4.80000299e+02, 4.81000284e+02, 4.82000269e+02, 4.83000254e+02,\n",
       "        4.84000239e+02, 4.85000224e+02, 4.86000209e+02, 4.87000194e+02,\n",
       "        4.88000179e+02, 4.89000164e+02, 4.90000149e+02, 4.91000134e+02,\n",
       "        4.92000119e+02, 4.93000104e+02, 4.94000090e+02, 4.95000075e+02,\n",
       "        4.96000060e+02, 4.97000045e+02, 4.98000030e+02, 4.99000015e+02,\n",
       "        5.00000000e+02]),\n",
       " <a list of 500 Patch objects>)"
      ]
     },
     "execution_count": 185,
     "metadata": {},
     "output_type": "execute_result"
    }
   ],
   "source": [
    "## debug histograms\n",
    "\n",
    "%matplotlib widget\n",
    "hist_data=(np.hstack((FRACTION_RATIO_FIELD, FRACTION_RATIO_LIT)))\n",
    "# plt.hist(hist_data, bins=hist_data.max().round())\n",
    "plt.hist(hist_data, bins=10)\n",
    "# plt.show()\n",
    "plt.hist(np.hstack((FLUXES_RATIO_FIELD, FLUXES_RATIO_LIT)), bins=500)\n",
    "# plt.show()\n",
    "# (np.hstack((FRACTION_RATIO_FIELD, FRACTION_RATIO_LIT))).size\n",
    "# print(f'Fraction field count: {FRACTION_RATIO_FIELD.size}\\nFraction field count: {FRACTION_RATIO_LIT.size}')\n",
    "# print(f'\\nFlux field count: {FLUXES_RATIO_FIELD.size}\\nFlux field count: {FLUXES_RATIO_LIT.size}')\n",
    "# hist_data.max().round()"
   ]
  },
  {
   "cell_type": "code",
   "execution_count": 76,
   "metadata": {},
   "outputs": [
    {
     "data": {
      "text/plain": [
       "array([6.05613426e+00, 2.50000000e+00, 2.75608636e+00, 2.67465990e+00,\n",
       "       3.01369863e+00, 7.29411765e+00, 4.43636364e+00, 2.73913043e+00,\n",
       "       3.28000000e+00, 1.43892340e+00, 7.46268657e-03, 2.94029851e+00,\n",
       "       3.56551298e+01, 1.22857143e+01, 1.61250000e+01, 5.00000000e+02,\n",
       "       3.93548387e+00, 8.46153846e-01, 5.68181818e-02, 1.07053128e+00,\n",
       "       1.33333333e+00, 3.07142857e+00])"
      ]
     },
     "execution_count": 76,
     "metadata": {},
     "output_type": "execute_result"
    }
   ],
   "source": [
    "# np.concatenate(FLUXES_RATIO_FIELD, FLUXES_RATIO_LIT)\n",
    "np.hstack((FLUXES_RATIO_FIELD, FLUXES_RATIO_LIT))\n",
    "# FLUXES_RATIO_FIELD\n",
    "# FLUXES_RATIO_LIT"
   ]
  },
  {
   "cell_type": "code",
   "execution_count": 47,
   "metadata": {},
   "outputs": [
    {
     "data": {
      "application/vnd.jupyter.widget-view+json": {
       "model_id": "8eff13f91ce44fb081dc5be5c40cbe60",
       "version_major": 2,
       "version_minor": 0
      },
      "text/plain": [
       "Canvas(toolbar=Toolbar(toolitems=[('Home', 'Reset original view', 'home', 'home'), ('Back', 'Back to previous …"
      ]
     },
     "metadata": {},
     "output_type": "display_data"
    },
    {
     "data": {
      "text/plain": [
       "<matplotlib.legend.Legend at 0x7f6d63e70240>"
      ]
     },
     "execution_count": 47,
     "metadata": {},
     "output_type": "execute_result"
    }
   ],
   "source": [
    "%matplotlib widget\n",
    "SENSITIVITY_RATIO['All']\n",
    "FLUX_RATIO_POSTINGS['RATIO']\n",
    "FLUXES_RATIO_LIT.shape\n",
    "FRACTION_RATIO_LIT.shape\n",
    "FRACTION_RATIO_LIT_CI.shape\n",
    "# FLUXES_LIT_CI\n",
    "plt.plot(FLUXES_RATIO_LIT, FRACTION_RATIO_LIT, 'r.') # , clip_box=(0,0,6000,100)\n",
    "plt.plot(FLUXES_RATIO_FIELD, FRACTION_RATIO_FIELD, 'b.') # , clip_box=(0,0,6000,100)\n",
    "# plt.show()\n",
    "plt.legend(('Lit','Field'))\n",
    "\n",
    "# plt.errorbar(FLUXES_RATIO_LIT, FRACTION_RATIO_LIT, FRACTION_RATIO_LIT_CI, None, 'ko', ecolor='gray', fillstyle='none', alpha=0.6) # , clip_box=(0,0,6000,100)\n",
    "# FLUXES_RATIO_LIT.dtype\n",
    "# FRACTION_RATIO_LIT.dtype"
   ]
  },
  {
   "cell_type": "code",
   "execution_count": 48,
   "metadata": {},
   "outputs": [
    {
     "name": "stdout",
     "output_type": "stream",
     "text": [
      "5\n",
      "5\n",
      "17\n",
      "17\n"
     ]
    },
    {
     "data": {
      "text/plain": [
       "array(['Burger et al 2016', 'Juutinen et al. 2003', 'Larmola et al 2004',\n",
       "       'Ribaudo et al. 2012', 'Smith and Lewis, 1992', 'TBD'],\n",
       "      dtype=object)"
      ]
     },
     "execution_count": 48,
     "metadata": {},
     "output_type": "execute_result"
    }
   ],
   "source": [
    "## debug\n",
    "\n",
    "print(len(dfr_j.query(\"Citation == 'TBD'\")))\n",
    "print(len(FLUXES_RATIO_FIELD))\n",
    "print(len(dfr_j.query(\"Citation != 'TBD'\")))\n",
    "print(len(FLUXES_RATIO_LIT))\n",
    "dfr_j.columns\n",
    "dfr_j.loc[:, ('CH4_flux_ratio', 'EM_percent', 'Citation', 'Orig_paper')]\n",
    "# dfr_j.query(\"Orig_paper != 'above2_team'\")\n",
    "np.unique(df['Citation'])"
   ]
  },
  {
   "cell_type": "markdown",
   "metadata": {},
   "source": [
    "## qgrid formatting examples"
   ]
  },
  {
   "cell_type": "code",
   "execution_count": 49,
   "metadata": {},
   "outputs": [
    {
     "data": {
      "application/vnd.jupyter.widget-view+json": {
       "model_id": "9894e0c5946c47e3903ebcdc3f47e232",
       "version_major": 2,
       "version_minor": 0
      },
      "text/plain": [
       "QgridWidget(grid_options={'fullWidthRows': True, 'syncColumnCellResize': True, 'forceFitColumns': False, 'defa…"
      ]
     },
     "metadata": {},
     "output_type": "display_data"
    }
   ],
   "source": [
    "# Tell qgrid to automatically render all DataFrames and Series as qgrids.\n",
    "qgrid.enable()\n",
    "dfr_j"
   ]
  },
  {
   "cell_type": "code",
   "execution_count": 50,
   "metadata": {},
   "outputs": [
    {
     "data": {
      "application/vnd.jupyter.widget-view+json": {
       "model_id": "88f5ed6e08b04ff290ba5bb9bbc345f7",
       "version_major": 2,
       "version_minor": 0
      },
      "text/plain": [
       "QgridWidget(grid_options={'fullWidthRows': True, 'syncColumnCellResize': True, 'forceFitColumns': False, 'defa…"
      ]
     },
     "metadata": {},
     "output_type": "display_data"
    }
   ],
   "source": [
    "## create qgrid object if don't want automatic input\n",
    "qgrid_widget_df = qgrid.show_grid(dfr_j, show_toolbar=True)\n",
    "qgrid_widget_df"
   ]
  },
  {
   "cell_type": "code",
   "execution_count": 51,
   "metadata": {},
   "outputs": [
    {
     "data": {
      "application/vnd.jupyter.widget-view+json": {
       "model_id": "edda7677cd4047b7a7702afc0312cef8",
       "version_major": 2,
       "version_minor": 0
      },
      "text/plain": [
       "QgridWidget(grid_options={'fullWidthRows': True, 'syncColumnCellResize': True, 'forceFitColumns': False, 'defa…"
      ]
     },
     "metadata": {},
     "output_type": "display_data"
    }
   ],
   "source": [
    "## retreive edits to df\n",
    "foo = qgrid_widget_df.get_changed_df()\n",
    "foo\n",
    "# dfr_j"
   ]
  }
 ],
 "metadata": {
  "kernelspec": {
   "display_name": "Python [conda env:geohackw] *",
   "language": "python",
   "name": "conda-env-geohackw-py"
  },
  "language_info": {
   "codemirror_mode": {
    "name": "ipython",
    "version": 3
   },
   "file_extension": ".py",
   "mimetype": "text/x-python",
   "name": "python",
   "nbconvert_exporter": "python",
   "pygments_lexer": "ipython3",
   "version": "3.7.3"
  }
 },
 "nbformat": 4,
 "nbformat_minor": 4
}
