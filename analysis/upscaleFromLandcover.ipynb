{
 "cells": [
  {
   "cell_type": "markdown",
   "metadata": {},
   "source": [
    "## TODO\n",
    "* Re-write for more than two classes\n",
    "* Add size binning\n",
    "* First fix FI, then FM\n",
    "* Monte Carlo sim to test all permutations; OR:\n",
    "* Increment steps based on PDF, with each step having an equal prob.\n",
    "* install add-ons: git, variable inspector: first install node.js, npm, jupyterlab-git"
   ]
  },
  {
   "cell_type": "markdown",
   "metadata": {},
   "source": [
    "## Description\n",
    "This script takes as input the landscape inundation fraction, the emergent macrophyte fraction (fraction of all inundated areas), and flux values for these fractions. It then iterates over probable ranges and plots the total flux's sensitivities to these values, Normalized by area.\n",
    "\n",
    "\n",
    "| Name  | Description | Value |\n",
    "|---      |---                |---       |\n",
    "| INPUTS |\n",
    "FLUXES | Dictionary of flux values by class\t| OW: (0, 166); EM: (77, 5800)\n",
    "FRACTION:IN_TOTAL | Fraction inundated: Range for open water and emergent macrophyte area divided by total landscape area | (10, 38)\n",
    "FRACTION:EM | Fraction EMERGENT macrophyte: Range for emergent macrophyte area / open water area | (2, 60)\n",
    "FRACTION:  ... | ...\n",
    "FRACTION_STEPS | Number of steps for each landcover type (range / increment) |\n",
    "FLUX_STEPS | Number of steps for flux (range / increment) |\n"
   ]
  },
  {
   "cell_type": "code",
   "execution_count": 179,
   "metadata": {},
   "outputs": [],
   "source": [
    "import numpy as np\n",
    "from matplotlib import pyplot as plt\n",
    "import scipy.ndimage as ndi \n",
    "%matplotlib inline"
   ]
  },
  {
   "cell_type": "code",
   "execution_count": 175,
   "metadata": {},
   "outputs": [],
   "source": [
    "## inputs\n",
    "\n",
    "# fluxes={'OW': 100,\n",
    "#        'GW': 300,\n",
    "#        'SW': 200}\n",
    "\n",
    "FRACTION={\n",
    "    'IN_TOTAL':(10, 38), # Fraction Inundated; From Run 35\n",
    "    'EM':(2, 60) # Fraction macrophyte: From Run 35\n",
    "}\n",
    "FLUXES={\n",
    "    'OW': (0, 166), # Open water; From range in: Burger et al 2016\tBiogeosciences\n",
    "    'EM': (77, 5800)  # Emergent macrophyte; From range in: Burger et al 2016\tBiogeosciences\n",
    "}\n",
    "FRACTION_STEPS=20\n",
    "FLUX_STEPS=20"
   ]
  },
  {
   "cell_type": "code",
   "execution_count": 176,
   "metadata": {},
   "outputs": [],
   "source": [
    "SENSITIVITY=np.zeros((FRACTION_STEPS, FLUX_STEPS), 'double') # init\n",
    "FRACTION_POSTINGS=np.linspace(FRACTION['EM'][0], FRACTION['EM'][1], FRACTION_STEPS)\n",
    "FLUX_POSTINGS={}\n",
    "for Class in FLUXES.keys():\n",
    "    FLUX_POSTINGS[Class]=np.linspace(FLUXES[Class][0], FLUXES[Class][1], FLUX_STEPS)\n",
    "for i in range(FRACTION_STEPS):\n",
    "    for j in range(FLUX_STEPS):\n",
    "        SENSITIVITY[i,j] = np.mean(FRACTION['IN_TOTAL']) / 100 / 100 * (FRACTION_POSTINGS[i] * FLUX_POSTINGS['EM'][j] + # use median?\n",
    "                            (100- FRACTION_POSTINGS[i]) * FLUX_POSTINGS['OW'][j])          \n",
    "        "
   ]
  },
  {
   "cell_type": "code",
   "execution_count": 177,
   "metadata": {},
   "outputs": [
    {
     "data": {
      "text/plain": [
       "166.0"
      ]
     },
     "execution_count": 177,
     "metadata": {},
     "output_type": "execute_result"
    }
   ],
   "source": [
    "FRACTION_POSTINGS\n",
    "FLUX_POSTINGS['OW'][j]\n",
    "# FLUX_POSTINGS['EM'][j] "
   ]
  },
  {
   "cell_type": "code",
   "execution_count": 195,
   "metadata": {},
   "outputs": [
    {
     "name": "stdout",
     "output_type": "stream",
     "text": [
      "Mean flux: \t232.4 mg CH_4/m^2/day\n",
      "'Median' flux: \t357.7 mg CH_4/m^2/day\n",
      "\n",
      "INPUTS:\n",
      "FRACTION:\t{'IN_TOTAL': (10, 38), 'EM': (2, 60)}\n",
      "FLUXES:\t\t{'OW': (0, 166), 'EM': (77, 5800)}\n",
      "\n",
      "Saved fig to:\t/mnt/d/pic/UAVSAR_classification/upscaleSensitivityRaster.png\n"
     ]
    },
    {
     "data": {
      "image/png": "[encoded data removed]",
      "text/plain": [
       "<Figure size 432x288 with 2 Axes>"
      ]
     },
     "metadata": {
      "needs_background": "light"
     },
     "output_type": "display_data"
    }
   ],
   "source": [
    "# plt.xticks(FLUX_POSTINGS[0:4:])\n",
    "# plt.yticks(FRACTION_POSTINGS[0:4:])\n",
    "p=plt.imshow(SENSITIVITY, origin='lower', aspect='auto', extent=(FLUXES['EM'][0], FLUXES['EM'][1], FRACTION['EM'][0], FRACTION['EM'][1]))\n",
    "plt.xlabel(\"Flux ($mg\\ CH_4 / m^2 /day$)\")\n",
    "plt.ylabel('Macrophyte fraction (%)')\n",
    "plt.colorbar()\n",
    "axes=plt.gca()\n",
    "# plt.rcParams({'dpi':300})\n",
    "# axes.set_xlim(FLUXES['EM'])\n",
    "# axes.set_ylim(FRACTION['EM'])\n",
    "# plt.xticks(FLUX_POSTINGS[0:4:])\n",
    "# plt.yticks(FRACTION_POSTINGS[0:4:])\n",
    "\n",
    "## calculate median:\n",
    "cy, cx = ndi.center_of_mass(SENSITIVITY)\n",
    "\n",
    "## report mean value:\n",
    "print('Mean flux: \\t{:.1f} mg CH_4/m^2/day'.format(np.mean(SENSITIVITY)))\n",
    "print('\\'Median\\' flux: \\t{:.1f} mg CH_4/m^2/day'.format(SENSITIVITY[cy.astype(int),cx.astype(int)])) # only equal to median if each step size is of equal prob.\n",
    "\n",
    "print('''\\nINPUTS:\n",
    "FRACTION:\\t{}\n",
    "FLUXES:\\t\\t{}\n",
    "'''.format(FRACTION, FLUXES))\n",
    "figPth='/mnt/d/pic/UAVSAR_classification/upscaleSensitivityRaster.png'\n",
    "plt.savefig(figPth, dpi=200)\n",
    "print('Saved fig to:\\t{}'.format(figPth))"
   ]
  }
 ],
 "metadata": {
  "kernelspec": {
   "display_name": "Python 3",
   "language": "python",
   "name": "python3"
  },
  "language_info": {
   "codemirror_mode": {
    "name": "ipython",
    "version": 3
   },
   "file_extension": ".py",
   "mimetype": "text/x-python",
   "name": "python",
   "nbconvert_exporter": "python",
   "pygments_lexer": "ipython3",
   "version": "3.8.3"
  }
 },
 "nbformat": 4,
 "nbformat_minor": 4
}
