{
 "cells": [
  {
   "cell_type": "markdown",
   "metadata": {},
   "source": [
    "## TODO\n",
    "* Re-write for more than two classes\n",
    "* First fix FI, then FM\n",
    "* Monte Carlo sim to test all permutations; OR:\n",
    "* Increment steps based on PDF, with each step having an equal prob.\n",
    "* Jim's suggestion: try replacing EM with land, in addition to water, as I have it now\n",
    "* Add randomization/monte-carlo into bins- instead of just using mean values (i.e. for size bins, or for FLUX_STEP in senstivity)\n",
    "* For typical EM fraction: use regional sub-binning instead of UAVSAR footprint \n",
    "* Use typical regional values for EM fluxes, the way I use a regional LSD and inun fraction\n",
    "* install add-ons: git, variable inspector: first install node.js, npm, jupyterlab-git\n",
    "* Find a plugin to make matplotlib plots interactive like when they appear in sep. window\n",
    "* make dimensionless version\n",
    "* (contour plot: fill in color between lines) DONE\n",
    "* Add size binning: ingest lake size distrib DONE"
   ]
  },
  {
   "cell_type": "markdown",
   "metadata": {},
   "source": [
    "## Description\n",
    "This script takes as input the landscape inundation fraction, the emergent macrophyte fraction (fraction of all inundated areas), and flux values for these fractions. It then iterates over probable ranges and plots the total flux's sensitivities to these values, Normalized by area.\n",
    "\n",
    "\n",
    "| Name  | Description | Value |\n",
    "|---      |---                |---       |\n",
    "| INPUTS |\n",
    "FLUXES | Dictionary of flux values by class\t<mg CH4 / m2/ day>| OW: (0, 166); EM: (77, 5800)\n",
    "FRACTION:IN_TOTAL | Fraction inundated: Range for open water and emergent macrophyte area divided by total landscape area | (10, 38)\n",
    "FRACTION:EM | Fraction EMERGENT macrophyte: Range for emergent macrophyte area / open water area | (2, 60)\n",
    "FRACTION:  ... | ...\n",
    "FRACTION_STEPS | Number of steps for each landcover type (range / increment) |\n",
    "FLUX_STEPS | Number of steps for flux (range / increment) |\n"
   ]
  },
  {
   "cell_type": "code",
   "execution_count": 80,
   "metadata": {},
   "outputs": [],
   "source": [
    "import numpy as np\n",
    "from matplotlib import pyplot as plt\n",
    "from matplotlib.colors import Colormap\n",
    "import scipy.ndimage as ndi \n",
    "from scipy.io import loadmat\n",
    "from scipy.stats import binned_statistic\n",
    "%matplotlib inline"
   ]
  },
  {
   "cell_type": "markdown",
   "metadata": {},
   "source": [
    "### Inputs"
   ]
  },
  {
   "cell_type": "code",
   "execution_count": 383,
   "metadata": {},
   "outputs": [],
   "source": [
    "# fluxes={'OW': 100,\n",
    "#        'GW': 300,\n",
    "#        'SW': 200}\n",
    "\n",
    "FRACTION={\n",
    "    'IN_TOTAL':(\n",
    "    (22, 31),\n",
    "    (10,16),\n",
    "    (27, 30),\n",
    "    (37.4, 37.6),\n",
    "    (10, 37.6)), # Default Fraction Inundated; From Run 35\n",
    "    'EM':((35, 58),\n",
    "     (42, 60),\n",
    "     (12, 21),\n",
    "     (2, 2.5),\n",
    "     (2, 60)) #(2, 30) # Default Fraction macrophyte: From Run 35 (range: 2:60)\n",
    "}\n",
    "FLUXES={\n",
    "    'OW': (0, 166), # Open water; From range in: Burger et al 2016\tBiogeosciences | Superceded if using LSD\n",
    "    'EM': (77, 3000) #(77, 380)  # Emergent macrophyte; From mean (max = 5800) in: Burger et al 2016\tBiogeosciences\n",
    "}\n",
    "    # Sensitivity raster dimensions\n",
    "FRACTION_STEPS=40\n",
    "FLUX_STEPS=40\n",
    "SITES=('PAD','YFB','YKN','DAR','All') #short names for sites\n",
    "SITES_LSD = (9,2,7,7,0) # numbers as givin in Lake Size Distribution files\n",
    "# SITES_EM_RANGES = ((35, 58),\n",
    "#              (42, 60),\n",
    "#              (12, 21),\n",
    "#              (2, 2.5),\n",
    "#              (2, 60))\n",
    "# SITES_IN_TOTAL = (\n",
    "#     (22, 31),\n",
    "#     (10,16),\n",
    "#     (27, 30),\n",
    "#     (37.4, 37.6),\n",
    "#     (10, 37.6)\n",
    "# )\n",
    "# ranges from remote sensing wetland fraction values # TODO: use regional sub-binning instead of UAVSAR footprint to get more realistic max/min ranges\n",
    "REGION=0 # Set to -1 if using default; 0=PAD\n",
    "\n",
    "# LAT=59 # latitude, in degrees (PAD=59)"
   ]
  },
  {
   "cell_type": "markdown",
   "metadata": {},
   "source": [
    "### Lake size distribution inputs"
   ]
  },
  {
   "cell_type": "markdown",
   "metadata": {},
   "source": [
    "Labels:\n",
    "    'All'\n",
    "    'Sagavanirktok River'\n",
    "    'Yukon Flats Basin'\n",
    "    'Old Crow Flats'\n",
    "    'Mackenzie River Delta'\n",
    "    'Mackenzie River Valley'\n",
    "    'Canadian Shield Margin'\n",
    "    'Canadian Shield'\n",
    "    'Slave River'\n",
    "    'Peace-Athabasca Delta'\n",
    "    'Athabasca River'\n",
    "    'Prairie Potholes North'\n",
    "    'Prairie Potholes South'\n",
    "    'Tuktoyaktuk Peninsula'\n",
    "    []\n",
    "    []\n",
    "    []\n",
    "    []\n",
    "    []\n",
    "    []\n",
    "    []\n",
    "    'Prairie pothole regions'\n",
    "    'Canadian Shield'\n",
    "    'Thermokarst regions'\n",
    "    'Arctic-boreal wetlands'\n",
    "    'Lowland river valleys'"
   ]
  },
  {
   "cell_type": "code",
   "execution_count": 384,
   "metadata": {},
   "outputs": [],
   "source": [
    "lsd_pth='/mnt/d/GoogleDrive/Research/Lake distributions/savedData/fitting_data_regional_4_det.mat' # these directories hold the final version of data used for 2019 paper\n",
    "lsd_labels_pth='/mnt/d/GoogleDrive/Research/Lake distributions/regionLabels4.mat'"
   ]
  },
  {
   "cell_type": "markdown",
   "metadata": {},
   "source": [
    "### Size binning data from Holgerson and Raymond 2016"
   ]
  },
  {
   "cell_type": "code",
   "execution_count": 385,
   "metadata": {},
   "outputs": [
    {
     "data": {
      "text/plain": [
       "7"
      ]
     },
     "execution_count": 385,
     "metadata": {},
     "output_type": "execute_result"
    }
   ],
   "source": [
    "BIN_EDGES=np.array([0, 0.001, 0.01, 0.1, 1, 10, 100, 1000000]) # <km2>\n",
    "# BIN_EDGES=np.array([0.001, 0.01, 0.1, 1, 10, 100, 10000000]) * 1000000 # <km2> * 1000000 = <m2>\n",
    "BIN_FLUXES=np.array([2.28, 0.65, 0.28, 0.16,  0.12, 0.10, 0.06])*16.043 # <mmolC (in CH4)/m2/d> * 16.043 = <mg CH4/m2/d>\n",
    "len(BIN_FLUXES)"
   ]
  },
  {
   "cell_type": "markdown",
   "metadata": {},
   "source": [
    "### Load data"
   ]
  },
  {
   "cell_type": "code",
   "execution_count": 388,
   "metadata": {},
   "outputs": [],
   "source": [
    "fused_regional=loadmat(lsd_pth, variable_names='Fused_regional', squeeze_me=True)\n",
    "lsd = fused_regional['Fused_regional'][SITES_LSD[REGION]] # Lake size distribution for chosen region\n",
    "\n",
    "##############\n",
    "# for area for each region, see: D:\\GoogleDrive\\Research\\Lake distributions\\savedData\\out\n",
    "##############"
   ]
  },
  {
   "cell_type": "markdown",
   "metadata": {},
   "source": [
    "### Create sensitivity raster"
   ]
  },
  {
   "cell_type": "code",
   "execution_count": 389,
   "metadata": {},
   "outputs": [
    {
     "name": "stdout",
     "output_type": "stream",
     "text": [
      "EM fraction: 0.00%\t| Total W area in first bin: \t    0.40\t| Total W area: 186.62\n",
      "\n",
      "EM fraction: 35.00%\t| Total W area in first bin:         0.26\t| Total W area:         121.30\t| Total W flux: 0.89\n",
      "EM fraction: 35.59%\t| Total W area in first bin:         0.26\t| Total W area:         120.20\t| Total W flux: 0.88\n",
      "EM fraction: 36.18%\t| Total W area in first bin:         0.26\t| Total W area:         119.10\t| Total W flux: 0.87\n",
      "EM fraction: 36.77%\t| Total W area in first bin:         0.25\t| Total W area:         118.00\t| Total W flux: 0.86\n",
      "EM fraction: 37.36%\t| Total W area in first bin:         0.25\t| Total W area:         116.90\t| Total W flux: 0.85\n",
      "EM fraction: 37.95%\t| Total W area in first bin:         0.25\t| Total W area:         115.80\t| Total W flux: 0.85\n",
      "EM fraction: 38.54%\t| Total W area in first bin:         0.25\t| Total W area:         114.70\t| Total W flux: 0.84\n",
      "EM fraction: 39.13%\t| Total W area in first bin:         0.25\t| Total W area:         113.60\t| Total W flux: 0.83\n",
      "EM fraction: 39.72%\t| Total W area in first bin:         0.24\t| Total W area:         112.50\t| Total W flux: 0.82\n",
      "EM fraction: 40.31%\t| Total W area in first bin:         0.24\t| Total W area:         111.40\t| Total W flux: 0.81\n",
      "EM fraction: 40.90%\t| Total W area in first bin:         0.24\t| Total W area:         110.30\t| Total W flux: 0.81\n",
      "EM fraction: 41.49%\t| Total W area in first bin:         0.24\t| Total W area:         109.19\t| Total W flux: 0.80\n",
      "EM fraction: 42.08%\t| Total W area in first bin:         0.23\t| Total W area:         108.09\t| Total W flux: 0.79\n",
      "EM fraction: 42.67%\t| Total W area in first bin:         0.23\t| Total W area:         106.99\t| Total W flux: 0.78\n",
      "EM fraction: 43.26%\t| Total W area in first bin:         0.23\t| Total W area:         105.89\t| Total W flux: 0.77\n",
      "EM fraction: 43.85%\t| Total W area in first bin:         0.23\t| Total W area:         104.79\t| Total W flux: 0.76\n",
      "EM fraction: 44.44%\t| Total W area in first bin:         0.22\t| Total W area:         103.69\t| Total W flux: 0.76\n",
      "EM fraction: 45.03%\t| Total W area in first bin:         0.22\t| Total W area:         102.59\t| Total W flux: 0.75\n",
      "EM fraction: 45.62%\t| Total W area in first bin:         0.22\t| Total W area:         101.49\t| Total W flux: 0.74\n",
      "EM fraction: 46.21%\t| Total W area in first bin:         0.22\t| Total W area:         100.39\t| Total W flux: 0.73\n",
      "EM fraction: 46.79%\t| Total W area in first bin:         0.21\t| Total W area:         99.29\t| Total W flux: 0.72\n",
      "EM fraction: 47.38%\t| Total W area in first bin:         0.21\t| Total W area:         98.19\t| Total W flux: 0.72\n",
      "EM fraction: 47.97%\t| Total W area in first bin:         0.21\t| Total W area:         97.09\t| Total W flux: 0.71\n",
      "EM fraction: 48.56%\t| Total W area in first bin:         0.21\t| Total W area:         95.99\t| Total W flux: 0.70\n",
      "EM fraction: 49.15%\t| Total W area in first bin:         0.20\t| Total W area:         94.89\t| Total W flux: 0.69\n",
      "EM fraction: 49.74%\t| Total W area in first bin:         0.20\t| Total W area:         93.79\t| Total W flux: 0.68\n",
      "EM fraction: 50.33%\t| Total W area in first bin:         0.20\t| Total W area:         92.69\t| Total W flux: 0.68\n",
      "EM fraction: 50.92%\t| Total W area in first bin:         0.20\t| Total W area:         91.59\t| Total W flux: 0.67\n",
      "EM fraction: 51.51%\t| Total W area in first bin:         0.20\t| Total W area:         90.49\t| Total W flux: 0.66\n",
      "EM fraction: 52.10%\t| Total W area in first bin:         0.19\t| Total W area:         89.38\t| Total W flux: 0.65\n",
      "EM fraction: 52.69%\t| Total W area in first bin:         0.19\t| Total W area:         88.28\t| Total W flux: 0.64\n",
      "EM fraction: 53.28%\t| Total W area in first bin:         0.19\t| Total W area:         87.18\t| Total W flux: 0.64\n",
      "EM fraction: 53.87%\t| Total W area in first bin:         0.19\t| Total W area:         86.08\t| Total W flux: 0.63\n",
      "EM fraction: 54.46%\t| Total W area in first bin:         0.18\t| Total W area:         84.98\t| Total W flux: 0.62\n",
      "EM fraction: 55.05%\t| Total W area in first bin:         0.18\t| Total W area:         83.88\t| Total W flux: 0.61\n",
      "EM fraction: 55.64%\t| Total W area in first bin:         0.18\t| Total W area:         82.78\t| Total W flux: 0.60\n",
      "EM fraction: 56.23%\t| Total W area in first bin:         0.18\t| Total W area:         81.68\t| Total W flux: 0.60\n",
      "EM fraction: 56.82%\t| Total W area in first bin:         0.17\t| Total W area:         80.58\t| Total W flux: 0.59\n",
      "EM fraction: 57.41%\t| Total W area in first bin:         0.17\t| Total W area:         79.48\t| Total W flux: 0.58\n",
      "EM fraction: 58.00%\t| Total W area in first bin:         0.17\t| Total W area:         78.38\t| Total W flux: 0.57\n"
     ]
    }
   ],
   "source": [
    "SENSITIVITY=np.zeros((FRACTION_STEPS, FLUX_STEPS), 'double') # init\n",
    "# lsd_tmp=lsd # init\n",
    "FRACTION_POSTINGS=np.linspace(FRACTION['EM'][REGION][0], FRACTION['EM'][REGION][1], FRACTION_STEPS)\n",
    "FLUX_POSTINGS={}\n",
    "for Class in FLUXES.keys():\n",
    "    FLUX_POSTINGS[Class]=np.linspace(FLUXES[Class][0], FLUXES[Class][1], FLUX_STEPS)\n",
    "print(f'EM fraction: {0:0.2f}%\\t| Total W area in first bin: \\t\\\n",
    "    {lsd_vals.statistic[0]*(100- 0)/100:.2f}\\t| Total W area: {np.sum(lsd)*(100- 0)/100:.2f}\\n')\n",
    "for i in range(FRACTION_STEPS):\n",
    "    lsd_tmp=lsd*(100-FRACTION_POSTINGS[i])/100 # change lake size distribution by swapping water for EM # Only used if using LSD toggles, below\n",
    "\n",
    "    ##############################################\n",
    "         # toggle if not using LSD\n",
    "#     ow_flux_mean=np.mean(FLUX_POSTINGS['OW'])\n",
    "    ##############################################\n",
    "        # toggle if using LSD | with lakes changing bins # Results in higher water flux in highest EM bin bc more of the lakes are now small (unrealistic)\n",
    "#     lsd_tmp_vals = binned_statistic(lsd_tmp, lsd_tmp, statistic='sum', bins=BIN_EDGES) # could also use np.digitize\n",
    "#     ow_flux_mean=np.sum(lsd_tmp_vals.statistic*BIN_FLUXES)/lsd_tmp.sum()\n",
    "#     print(f'EM fraction: {FRACTION_POSTINGS[i]:0.2f}%\\t| Total W area in first bin: \\\n",
    "#         {lsd_tmp_vals.statistic[0]:.2f}\\t| Total W area: {np.sum(lsd_tmp_vals.statistic):.2f}\\t| Total W flux: {((100- FRACTION_POSTINGS[i]) * ow_flux_mean) / 100:.2f}')\n",
    "    ##############################################\n",
    "        # toggle if using LSD | with lakes NOT changing bins # Results in lower water flux in highest EM bin\n",
    "    lsd_vals = binned_statistic(lsd, lsd, statistic='sum', bins=BIN_EDGES)\n",
    "    ow_flux_mean=np.sum(lsd_vals.statistic*BIN_FLUXES)/lsd.sum()\n",
    "    print(f'EM fraction: {FRACTION_POSTINGS[i]:0.2f}%\\t| Total W area in first bin: \\\n",
    "        {lsd_vals.statistic[0]*(100- FRACTION_POSTINGS[i])/100:.2f}\\t| Total W area: \\\n",
    "        {np.sum(lsd_vals.statistic)*(100- FRACTION_POSTINGS[i])/100:.2f}\\t| Total W flux: {((100- FRACTION_POSTINGS[i]) * ow_flux_mean) / 100:.2f}')\n",
    "    ##############################################\n",
    "    for j in range(FLUX_STEPS):\n",
    "        SENSITIVITY[i,j] = np.mean(FRACTION['IN_TOTAL'][REGION]) / 100 * (FRACTION_POSTINGS[i] * FLUX_POSTINGS['EM'][j] + # use median? # note: hard-coded for just two classes: OW and EM\n",
    "                            (100- FRACTION_POSTINGS[i]) * ow_flux_mean) / 100\n",
    "        "
   ]
  },
  {
   "cell_type": "code",
   "execution_count": 390,
   "metadata": {},
   "outputs": [
    {
     "data": {
      "text/plain": [
       "((35, 58), (42, 60), (12, 21), (2, 2.5), (2, 60))"
      ]
     },
     "execution_count": 390,
     "metadata": {},
     "output_type": "execute_result"
    }
   ],
   "source": [
    "FRACTION['EM']"
   ]
  },
  {
   "cell_type": "code",
   "execution_count": 391,
   "metadata": {},
   "outputs": [
    {
     "name": "stdout",
     "output_type": "stream",
     "text": [
      "Bins: [0.e+00 1.e-03 1.e-02 1.e-01 1.e+00 1.e+01 1.e+02 1.e+06]\n",
      "Number of lakes in alleged bin 7: 0\n",
      "Number of lakes in statistic bins: [1774.  407.   82.   26.    2.    2.    0.]\n"
     ]
    },
    {
     "data": {
      "text/plain": [
       "186.61657049632362"
      ]
     },
     "execution_count": 391,
     "metadata": {},
     "output_type": "execute_result"
    }
   ],
   "source": [
    "    ## SCRATCH\n",
    "i=1\n",
    "    lsd-0.004\n",
    "lsd_tmp=lsd*(100-FRACTION_POSTINGS[i])/100 # keeps decreasing in mag. each iteration as EM fraction grows\n",
    "lsd\n",
    "FLUX_POSTINGS['OW'][j]\n",
    "FRACTION_POSTINGS\n",
    "FLUX_POSTINGS['OW']\n",
    "lsd_tmp_vals = binned_statistic(lsd_tmp, lsd_tmp, statistic='count', bins=BIN_EDGES) # could also use np.digitize, for binned_stat, need to add min and max bins on either end and rightmost bin is basically ignored\n",
    "# np.any(np.isin(lsd_tmp, np.nan))\n",
    "# lsd_tmp\n",
    "# BIN_FLUXES\n",
    "lsd_tmp_vals.statistic.shape\n",
    "BIN_EDGES\n",
    "# lsd_tmp_vals.statistic\n",
    "# BIN_FLUXES.shape\n",
    "# lsd_tmp_vals.statistic\n",
    "lsd_tmp_vals.statistic*BIN_FLUXES\n",
    "np.sum(lsd_tmp_vals.statistic*BIN_FLUXES)/lsd.sum()\n",
    "# lsd_tmp.sum()\n",
    "# np.sum(lsd_tmp >= BIN_EDGES[-2])\n",
    "# BIN_EDGES[-2]\n",
    "i=7\n",
    "print(f'Bins: {BIN_EDGES}')\n",
    "print(f'Number of lakes in alleged bin {i}: {np.sum((lsd_tmp > BIN_EDGES[i-1]) & (lsd_tmp <= BIN_EDGES[i]))}')\n",
    "print(f'Number of lakes in statistic bins: {lsd_tmp_vals.statistic}')\n",
    "np.max(lsd)\n",
    "np.sum(lsd_tmp > BIN_EDGES[i])\n",
    "i=39\n",
    "(100-FRACTION_POSTINGS[i])/100\n",
    "np.sum(lsd_vals.statistic)\n",
    "lsd_vals.statistic\n",
    "np.sum(lsd)*(100- 0)/100"
   ]
  },
  {
   "cell_type": "code",
   "execution_count": 394,
   "metadata": {},
   "outputs": [
    {
     "name": "stdout",
     "output_type": "stream",
     "text": [
      "Mean flux: \t189.8 mg CH_4/m^2/day\n",
      "'Median' flux: \t245.1 mg CH_4/m^2/day\n",
      "\n",
      "INPUTS:\n",
      "FRACTION:\t{'IN_TOTAL': ((22, 31), (10, 16), (27, 30), (37.4, 37.6), (10, 37.6)), 'EM': ((35, 58), (42, 60), (12, 21), (2, 2.5), (2, 60))}\n",
      "FLUXES:\t\t{'OW': (0, 166), 'EM': (77, 3000)}\n",
      "\n",
      "Saved fig to:\t/mnt/d/pic/UAVSAR_classification/upscaleSensitivityRaster.png\n"
     ]
    },
    {
     "data": {
      "image/png": "[encoded data removed]",
      "text/plain": [
       "<Figure size 432x288 with 2 Axes>"
      ]
     },
     "metadata": {
      "needs_background": "light"
     },
     "output_type": "display_data"
    }
   ],
   "source": [
    "# plt.xticks(FLUX_POSTINGS[0:4:])\n",
    "# plt.yticks(FRACTION_POSTINGS[0:4:])\n",
    "f=16 # font size\n",
    "p=plt.imshow(SENSITIVITY, origin='lower', aspect='auto', cmap='gnuplot', extent=(FLUXES['EM'][0], FLUXES['EM'][1], FRACTION['EM'][REGION][0], FRACTION['EM'][REGION][1]))\n",
    "plt.xlabel(\"Littoral zone flux ($mg\\ CH_4 / m^2 /day$)\", fontsize=f)\n",
    "plt.ylabel('Vegetated fraction (%)', fontsize=f)\n",
    "plt.title('{} | Total flux ($mg\\ CH_4 / m^2 /day$)'.format(SITES[REGION]), fontsize=f)\n",
    "plt.colorbar()\n",
    "plt.tight_layout()\n",
    "axes=plt.gca()\n",
    "# plt.rcParams({'dpi':300})\n",
    "# axes.set_xlim(FLUXES['EM'])\n",
    "# axes.set_ylim(FRACTION['EM'])\n",
    "# plt.xticks(FLUX_POSTINGS[0:4:])\n",
    "# plt.yticks(FRACTION_POSTINGS[0:4:])\n",
    "\n",
    "## calculate median:\n",
    "cy, cx = ndi.center_of_mass(SENSITIVITY)\n",
    "\n",
    "## report mean value:\n",
    "print('Mean flux: \\t{:.1f} mg CH_4/m^2/day'.format(np.mean(SENSITIVITY)))\n",
    "print('\\'Median\\' flux: \\t{:.1f} mg CH_4/m^2/day'.format(SENSITIVITY[cy.astype(int),cx.astype(int)])) # only equal to median if each step size is of equal prob.\n",
    "\n",
    "print('''\\nINPUTS:\n",
    "FRACTION:\\t{}\n",
    "FLUXES:\\t\\t{}\n",
    "'''.format(FRACTION, FLUXES))\n",
    "figPth='/mnt/d/pic/UAVSAR_classification/upscaleSensitivityRaster.png'\n",
    "plt.savefig(figPth, dpi=200)\n",
    "print('Saved fig to:\\t{}'.format(figPth))"
   ]
  },
  {
   "cell_type": "code",
   "execution_count": 395,
   "metadata": {},
   "outputs": [
    {
     "name": "stdout",
     "output_type": "stream",
     "text": [
      "Saved fig to:\t/mnt/d/pic/UAVSAR_classification/upscaleSensitivityRasterContours.png\n"
     ]
    },
    {
     "data": {
      "image/png": "[encoded data removed]",
      "text/plain": [
       "<Figure size 432x288 with 1 Axes>"
      ]
     },
     "metadata": {
      "needs_background": "light"
     },
     "output_type": "display_data"
    }
   ],
   "source": [
    "## Make contour plot\n",
    "## TODO: fill in between lines\n",
    "## from https://matplotlib.org/examples/pylab_examples/contour_label_demo.html\n",
    "\n",
    "import matplotlib\n",
    "import matplotlib.mlab as mlab\n",
    "import matplotlib.ticker as ticker\n",
    "import matplotlib.pyplot as plt\n",
    "\n",
    "    # I/O\n",
    "num_contours=10\n",
    "\n",
    "matplotlib.rcParams['xtick.direction'] = 'out'\n",
    "matplotlib.rcParams['ytick.direction'] = 'out'\n",
    "\n",
    "##\n",
    "plt.figure()\n",
    "\n",
    "# define dims\n",
    "Y=FRACTION_POSTINGS\n",
    "X=FLUX_POSTINGS['EM']\n",
    "Z=SENSITIVITY\n",
    "\n",
    "# Basic contour plot\n",
    "CS = plt.contour(X, Y, Z, num_contours, cmap='gnuplot', vmax=500)\n",
    "\n",
    "\n",
    "# Define a class that forces representation of float to look a certain way\n",
    "# This remove trailing zero so '1.0' becomes '1'\n",
    "class nf(float):\n",
    "    def __repr__(self):\n",
    "        str = '%.1f' % (self.__float__(),)\n",
    "        if str[-1] == '0':\n",
    "            return '%.0f' % self.__float__()\n",
    "        else:\n",
    "            return '%.1f' % self.__float__()\n",
    "\n",
    "# Recast levels to new class\n",
    "CS.levels = [nf(val) for val in CS.levels]\n",
    "\n",
    "# Label levels with specially formatted floats\n",
    "if plt.rcParams[\"text.usetex\"]:\n",
    "    fmt = r'%r'\n",
    "else:\n",
    "    fmt = '%r'\n",
    "plt.clabel(CS, CS.levels, inline=True, fmt=fmt, fontsize=10)\n",
    "plt.xlabel(\"Littoral zone flux ($mg\\ CH_4 / m^2 /day$)\", fontsize=f+2)\n",
    "plt.ylabel('Vegetated fraction (%)', fontsize=f)\n",
    "plt.title('Total water surface flux ($mg\\ CH_4 / m^2 /day$)', fontsize=f)\n",
    "plt.tight_layout()\n",
    "# save\n",
    "\n",
    "figPth='/mnt/d/pic/UAVSAR_classification/upscaleSensitivityRasterContours.png'\n",
    "plt.savefig(figPth, dpi=200)\n",
    "print('Saved fig to:\\t{}'.format(figPth))"
   ]
  },
  {
   "cell_type": "code",
   "execution_count": 15,
   "metadata": {},
   "outputs": [
    {
     "data": {
      "text/plain": [
       "[0, 8, 16, 24, 32, 40, 48, 56]"
      ]
     },
     "execution_count": 15,
     "metadata": {},
     "output_type": "execute_result"
    }
   ],
   "source": [
    "CS.levels"
   ]
  }
 ],
 "metadata": {
  "kernelspec": {
   "display_name": "Python 3",
   "language": "python",
   "name": "python3"
  },
  "language_info": {
   "codemirror_mode": {
    "name": "ipython",
    "version": 3
   },
   "file_extension": ".py",
   "mimetype": "text/x-python",
   "name": "python",
   "nbconvert_exporter": "python",
   "pygments_lexer": "ipython3",
   "version": "3.7.6"
  }
 },
 "nbformat": 4,
 "nbformat_minor": 4
}
