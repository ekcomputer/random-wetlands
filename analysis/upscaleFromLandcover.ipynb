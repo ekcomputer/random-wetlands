{
 "cells": [
  {
   "cell_type": "markdown",
   "metadata": {},
   "source": [
    "## TODO\n",
    "* Re-write for more than two classes\n",
    "* Add size binning\n",
    "* First fix FI, then FM\n",
    "* Monte Carlo sim to test all permutations; OR:\n",
    "* Increment steps based on PDF, with each step having an equal prob."
   ]
  },
  {
   "cell_type": "markdown",
   "metadata": {},
   "source": [
    "## Description\n",
    "This script takes as input the landscape inundation fraction, the emergent macrophyte fraction (fraction of all inundated areas), and flux values for these fractions. It then iterates over probable ranges and plots the total flux's sensitivities to these values, Normalized by area.\n",
    "\n",
    "\n",
    "| Name  | Description | Value |\n",
    "|---      |---                |---       |\n",
    "| INPUTS |\n",
    "FLUXES | Dictionary of flux values by class\t| \n",
    "FRACTION:IN_TOTAL | Fraction inundated: Range for open water and emergent macrophyte area divided by total landscape area |\n",
    "FRACTION:EM | Fraction EMERGENT macrophyte: Range for emergent macrophyte area / open water area |\n",
    "FRACTION:  ... | ...\n",
    "FRACTION_STEPS | Number of steps for each landcover type (range / increment) |\n",
    "FLUX_STEPS | Number of steps for flux (range / increment) |\n"
   ]
  },
  {
   "cell_type": "code",
   "execution_count": 17,
   "metadata": {},
   "outputs": [],
   "source": [
    "import numpy as np\n",
    "from matplotlib import pyplot as plt\n",
    "%matplotlib inline"
   ]
  },
  {
   "cell_type": "code",
   "execution_count": 9,
   "metadata": {},
   "outputs": [],
   "source": [
    "## inputs\n",
    "\n",
    "# fluxes={'OW': 100,\n",
    "#        'GW': 300,\n",
    "#        'SW': 200}\n",
    "\n",
    "FRACTION={\n",
    "    'IN_TOTAL':(10, 38), # Fraction Inundated; From Run 35\n",
    "    'EM':(2, 60) # Fraction macrophyte: From Run 35\n",
    "}\n",
    "FLUXES={\n",
    "    'OW': (0, 166), # Open water; From range in: Burger et al 2016\tBiogeosciences\n",
    "    'EM': (77, 5800)  # Emergent macrophyte; From range in: Burger et al 2016\tBiogeosciences\n",
    "}\n",
    "FRACTION_STEPS=40\n",
    "FLUX_STEPS=40"
   ]
  },
  {
   "cell_type": "code",
   "execution_count": 10,
   "metadata": {},
   "outputs": [],
   "source": [
    "SENSITIVITY=np.zeros((FRACTION_STEPS, FLUX_STEPS), 'double') # init\n",
    "FRACTION_POSTINGS=np.linspace(FRACTION['EM'][0], FRACTION['EM'][1], FRACTION_STEPS)\n",
    "FLUX_POSTINGS=np.linspace(FLUXES['EM'][0], FLUXES['EM'][1], FLUX_STEPS)\n",
    "for i in range(FRACTION_STEPS):\n",
    "    for j in range(FLUX_STEPS):\n",
    "        SENSITIVITY[i,j] = np.mean(FRACTION['IN_TOTAL']) * FRACTION_POSTINGS[i] * FLUX_POSTINGS[j] /100 / 100  # use median?\n",
    "        "
   ]
  },
  {
   "cell_type": "code",
   "execution_count": 11,
   "metadata": {},
   "outputs": [
    {
     "data": {
      "text/plain": [
       "24.0"
      ]
     },
     "execution_count": 11,
     "metadata": {},
     "output_type": "execute_result"
    }
   ],
   "source": [
    "np.mean(FRACTION['IN_TOTAL'])"
   ]
  },
  {
   "cell_type": "code",
   "execution_count": 30,
   "metadata": {
    "collapsed": true,
    "jupyter": {
     "outputs_hidden": true
    }
   },
   "outputs": [
    {
     "data": {
      "text/plain": [
       "\u001b[0;31mSignature:\u001b[0m\n",
       "\u001b[0mplt\u001b[0m\u001b[0;34m.\u001b[0m\u001b[0mimshow\u001b[0m\u001b[0;34m(\u001b[0m\u001b[0;34m\u001b[0m\n",
       "\u001b[0;34m\u001b[0m    \u001b[0mX\u001b[0m\u001b[0;34m,\u001b[0m\u001b[0;34m\u001b[0m\n",
       "\u001b[0;34m\u001b[0m    \u001b[0mcmap\u001b[0m\u001b[0;34m=\u001b[0m\u001b[0;32mNone\u001b[0m\u001b[0;34m,\u001b[0m\u001b[0;34m\u001b[0m\n",
       "\u001b[0;34m\u001b[0m    \u001b[0mnorm\u001b[0m\u001b[0;34m=\u001b[0m\u001b[0;32mNone\u001b[0m\u001b[0;34m,\u001b[0m\u001b[0;34m\u001b[0m\n",
       "\u001b[0;34m\u001b[0m    \u001b[0maspect\u001b[0m\u001b[0;34m=\u001b[0m\u001b[0;32mNone\u001b[0m\u001b[0;34m,\u001b[0m\u001b[0;34m\u001b[0m\n",
       "\u001b[0;34m\u001b[0m    \u001b[0minterpolation\u001b[0m\u001b[0;34m=\u001b[0m\u001b[0;32mNone\u001b[0m\u001b[0;34m,\u001b[0m\u001b[0;34m\u001b[0m\n",
       "\u001b[0;34m\u001b[0m    \u001b[0malpha\u001b[0m\u001b[0;34m=\u001b[0m\u001b[0;32mNone\u001b[0m\u001b[0;34m,\u001b[0m\u001b[0;34m\u001b[0m\n",
       "\u001b[0;34m\u001b[0m    \u001b[0mvmin\u001b[0m\u001b[0;34m=\u001b[0m\u001b[0;32mNone\u001b[0m\u001b[0;34m,\u001b[0m\u001b[0;34m\u001b[0m\n",
       "\u001b[0;34m\u001b[0m    \u001b[0mvmax\u001b[0m\u001b[0;34m=\u001b[0m\u001b[0;32mNone\u001b[0m\u001b[0;34m,\u001b[0m\u001b[0;34m\u001b[0m\n",
       "\u001b[0;34m\u001b[0m    \u001b[0morigin\u001b[0m\u001b[0;34m=\u001b[0m\u001b[0;32mNone\u001b[0m\u001b[0;34m,\u001b[0m\u001b[0;34m\u001b[0m\n",
       "\u001b[0;34m\u001b[0m    \u001b[0mextent\u001b[0m\u001b[0;34m=\u001b[0m\u001b[0;32mNone\u001b[0m\u001b[0;34m,\u001b[0m\u001b[0;34m\u001b[0m\n",
       "\u001b[0;34m\u001b[0m    \u001b[0mshape\u001b[0m\u001b[0;34m=\u001b[0m\u001b[0;34m<\u001b[0m\u001b[0mdeprecated\u001b[0m \u001b[0mparameter\u001b[0m\u001b[0;34m>\u001b[0m\u001b[0;34m,\u001b[0m\u001b[0;34m\u001b[0m\n",
       "\u001b[0;34m\u001b[0m    \u001b[0mfilternorm\u001b[0m\u001b[0;34m=\u001b[0m\u001b[0;36m1\u001b[0m\u001b[0;34m,\u001b[0m\u001b[0;34m\u001b[0m\n",
       "\u001b[0;34m\u001b[0m    \u001b[0mfilterrad\u001b[0m\u001b[0;34m=\u001b[0m\u001b[0;36m4.0\u001b[0m\u001b[0;34m,\u001b[0m\u001b[0;34m\u001b[0m\n",
       "\u001b[0;34m\u001b[0m    \u001b[0mimlim\u001b[0m\u001b[0;34m=\u001b[0m\u001b[0;34m<\u001b[0m\u001b[0mdeprecated\u001b[0m \u001b[0mparameter\u001b[0m\u001b[0;34m>\u001b[0m\u001b[0;34m,\u001b[0m\u001b[0;34m\u001b[0m\n",
       "\u001b[0;34m\u001b[0m    \u001b[0mresample\u001b[0m\u001b[0;34m=\u001b[0m\u001b[0;32mNone\u001b[0m\u001b[0;34m,\u001b[0m\u001b[0;34m\u001b[0m\n",
       "\u001b[0;34m\u001b[0m    \u001b[0murl\u001b[0m\u001b[0;34m=\u001b[0m\u001b[0;32mNone\u001b[0m\u001b[0;34m,\u001b[0m\u001b[0;34m\u001b[0m\n",
       "\u001b[0;34m\u001b[0m    \u001b[0;34m*\u001b[0m\u001b[0;34m,\u001b[0m\u001b[0;34m\u001b[0m\n",
       "\u001b[0;34m\u001b[0m    \u001b[0mdata\u001b[0m\u001b[0;34m=\u001b[0m\u001b[0;32mNone\u001b[0m\u001b[0;34m,\u001b[0m\u001b[0;34m\u001b[0m\n",
       "\u001b[0;34m\u001b[0m    \u001b[0;34m**\u001b[0m\u001b[0mkwargs\u001b[0m\u001b[0;34m,\u001b[0m\u001b[0;34m\u001b[0m\n",
       "\u001b[0;34m\u001b[0m\u001b[0;34m)\u001b[0m\u001b[0;34m\u001b[0m\u001b[0;34m\u001b[0m\u001b[0m\n",
       "\u001b[0;31mDocstring:\u001b[0m\n",
       "Display data as an image; i.e. on a 2D regular raster.\n",
       "\n",
       "The input may either be actual RGB(A) data, or 2D scalar data, which\n",
       "will be rendered as a pseudocolor image. Note: For actually displaying\n",
       "a grayscale image set up the color mapping using the parameters\n",
       "``cmap='gray', vmin=0, vmax=255``.\n",
       "\n",
       "Parameters\n",
       "----------\n",
       "X : array-like or PIL image\n",
       "    The image data. Supported array shapes are:\n",
       "\n",
       "    - (M, N): an image with scalar data. The values are mapped to\n",
       "      colors using normalization and a colormap. See parameters *norm*,\n",
       "      *cmap*, *vmin*, *vmax*.\n",
       "    - (M, N, 3): an image with RGB values (0-1 float or 0-255 int).\n",
       "    - (M, N, 4): an image with RGBA values (0-1 float or 0-255 int),\n",
       "      i.e. including transparency.\n",
       "\n",
       "    The first two dimensions (M, N) define the rows and columns of\n",
       "    the image.\n",
       "\n",
       "    Out-of-range RGB(A) values are clipped.\n",
       "\n",
       "cmap : str or `~matplotlib.colors.Colormap`, optional\n",
       "    The Colormap instance or registered colormap name used to map\n",
       "    scalar data to colors. This parameter is ignored for RGB(A) data.\n",
       "    Defaults to :rc:`image.cmap`.\n",
       "\n",
       "norm : `~matplotlib.colors.Normalize`, optional\n",
       "    The `Normalize` instance used to scale scalar data to the [0, 1]\n",
       "    range before mapping to colors using *cmap*. By default, a linear\n",
       "    scaling mapping the lowest value to 0 and the highest to 1 is used.\n",
       "    This parameter is ignored for RGB(A) data.\n",
       "\n",
       "aspect : {'equal', 'auto'} or float, optional\n",
       "    Controls the aspect ratio of the axes. The aspect is of particular\n",
       "    relevance for images since it may distort the image, i.e. pixel\n",
       "    will not be square.\n",
       "\n",
       "    This parameter is a shortcut for explicitly calling\n",
       "    `.Axes.set_aspect`. See there for further details.\n",
       "\n",
       "    - 'equal': Ensures an aspect ratio of 1. Pixels will be square\n",
       "      (unless pixel sizes are explicitly made non-square in data\n",
       "      coordinates using *extent*).\n",
       "    - 'auto': The axes is kept fixed and the aspect is adjusted so\n",
       "      that the data fit in the axes. In general, this will result in\n",
       "      non-square pixels.\n",
       "\n",
       "    If not given, use :rc:`image.aspect`.\n",
       "\n",
       "interpolation : str, optional\n",
       "    The interpolation method used. If *None*, :rc:`image.interpolation`\n",
       "    is used.\n",
       "\n",
       "    Supported values are 'none', 'antialiased', 'nearest', 'bilinear',\n",
       "    'bicubic', 'spline16', 'spline36', 'hanning', 'hamming', 'hermite',\n",
       "    'kaiser', 'quadric', 'catrom', 'gaussian', 'bessel', 'mitchell',\n",
       "    'sinc', 'lanczos'.\n",
       "\n",
       "    If *interpolation* is 'none', then no interpolation is performed\n",
       "    on the Agg, ps, pdf and svg backends. Other backends will fall back\n",
       "    to 'nearest'. Note that most SVG renders perform interpolation at\n",
       "    rendering and that the default interpolation method they implement\n",
       "    may differ.\n",
       "\n",
       "    If *interpolation* is the default 'antialiased', then 'nearest'\n",
       "    interpolation is used if the image is upsampled by more than a\n",
       "    factor of three (i.e. the number of display pixels is at least\n",
       "    three times the size of the data array).  If the upsampling rate is\n",
       "    smaller than 3, or the image is downsampled, then 'hanning'\n",
       "    interpolation is used to act as an anti-aliasing filter, unless the\n",
       "    image happens to be upsampled by exactly a factor of two or one.\n",
       "\n",
       "    See\n",
       "    :doc:`/gallery/images_contours_and_fields/interpolation_methods`\n",
       "    for an overview of the supported interpolation methods, and\n",
       "    :doc:`/gallery/images_contours_and_fields/image_antialiasing` for\n",
       "    a discussion of image antialiasing.\n",
       "\n",
       "    Some interpolation methods require an additional radius parameter,\n",
       "    which can be set by *filterrad*. Additionally, the antigrain image\n",
       "    resize filter is controlled by the parameter *filternorm*.\n",
       "\n",
       "alpha : scalar or array-like, optional\n",
       "    The alpha blending value, between 0 (transparent) and 1 (opaque).\n",
       "    If *alpha* is an array, the alpha blending values are applied pixel\n",
       "    by pixel, and *alpha* must have the same shape as *X*.\n",
       "\n",
       "vmin, vmax : scalar, optional\n",
       "    When using scalar data and no explicit *norm*, *vmin* and *vmax*\n",
       "    define the data range that the colormap covers. By default,\n",
       "    the colormap covers the complete value range of the supplied\n",
       "    data. *vmin*, *vmax* are ignored if the *norm* parameter is used.\n",
       "\n",
       "origin : {'upper', 'lower'}, optional\n",
       "    Place the [0, 0] index of the array in the upper left or lower left\n",
       "    corner of the axes. The convention 'upper' is typically used for\n",
       "    matrices and images.\n",
       "    If not given, :rc:`image.origin` is used, defaulting to 'upper'.\n",
       "\n",
       "    Note that the vertical axes points upward for 'lower'\n",
       "    but downward for 'upper'.\n",
       "\n",
       "    See the :doc:`/tutorials/intermediate/imshow_extent` tutorial for\n",
       "    examples and a more detailed description.\n",
       "\n",
       "extent : scalars (left, right, bottom, top), optional\n",
       "    The bounding box in data coordinates that the image will fill.\n",
       "    The image is stretched individually along x and y to fill the box.\n",
       "\n",
       "    The default extent is determined by the following conditions.\n",
       "    Pixels have unit size in data coordinates. Their centers are on\n",
       "    integer coordinates, and their center coordinates range from 0 to\n",
       "    columns-1 horizontally and from 0 to rows-1 vertically.\n",
       "\n",
       "    Note that the direction of the vertical axis and thus the default\n",
       "    values for top and bottom depend on *origin*:\n",
       "\n",
       "    - For ``origin == 'upper'`` the default is\n",
       "      ``(-0.5, numcols-0.5, numrows-0.5, -0.5)``.\n",
       "    - For ``origin == 'lower'`` the default is\n",
       "      ``(-0.5, numcols-0.5, -0.5, numrows-0.5)``.\n",
       "\n",
       "    See the :doc:`/tutorials/intermediate/imshow_extent` tutorial for\n",
       "    examples and a more detailed description.\n",
       "\n",
       "filternorm : bool, optional, default: True\n",
       "    A parameter for the antigrain image resize filter (see the\n",
       "    antigrain documentation).  If *filternorm* is set, the filter\n",
       "    normalizes integer values and corrects the rounding errors. It\n",
       "    doesn't do anything with the source floating point values, it\n",
       "    corrects only integers according to the rule of 1.0 which means\n",
       "    that any sum of pixel weights must be equal to 1.0.  So, the\n",
       "    filter function must produce a graph of the proper shape.\n",
       "\n",
       "filterrad : float > 0, optional, default: 4.0\n",
       "    The filter radius for filters that have a radius parameter, i.e.\n",
       "    when interpolation is one of: 'sinc', 'lanczos' or 'blackman'.\n",
       "\n",
       "resample : bool, optional\n",
       "    When *True*, use a full resampling method.  When *False*, only\n",
       "    resample when the output image is larger than the input image.\n",
       "\n",
       "url : str, optional\n",
       "    Set the url of the created `.AxesImage`. See `.Artist.set_url`.\n",
       "\n",
       "Returns\n",
       "-------\n",
       "image : `~matplotlib.image.AxesImage`\n",
       "\n",
       "Other Parameters\n",
       "----------------\n",
       "**kwargs : `~matplotlib.artist.Artist` properties\n",
       "    These parameters are passed on to the constructor of the\n",
       "    `.AxesImage` artist.\n",
       "\n",
       "See also\n",
       "--------\n",
       "matshow : Plot a matrix or an array as an image.\n",
       "\n",
       "Notes\n",
       "-----\n",
       "Unless *extent* is used, pixel centers will be located at integer\n",
       "coordinates. In other words: the origin will coincide with the center\n",
       "of pixel (0, 0).\n",
       "\n",
       "There are two common representations for RGB images with an alpha\n",
       "channel:\n",
       "\n",
       "-   Straight (unassociated) alpha: R, G, and B channels represent the\n",
       "    color of the pixel, disregarding its opacity.\n",
       "-   Premultiplied (associated) alpha: R, G, and B channels represent\n",
       "    the color of the pixel, adjusted for its opacity by multiplication.\n",
       "\n",
       "`~matplotlib.pyplot.imshow` expects RGB images adopting the straight\n",
       "(unassociated) alpha representation.\n",
       "\n",
       ".. note::\n",
       "    In addition to the above described arguments, this function can take a\n",
       "    **data** keyword argument. If such a **data** argument is given, the\n",
       "    following arguments are replaced by **data[<arg>]**:\n",
       "\n",
       "    * All positional and all keyword arguments.\n",
       "\n",
       "    Objects passed as **data** must support item access (``data[<arg>]``) and\n",
       "    membership test (``<arg> in data``).\n",
       "\u001b[0;31mFile:\u001b[0m      ~/miniconda2/envs/ai4ess/lib/python3.8/site-packages/matplotlib/pyplot.py\n",
       "\u001b[0;31mType:\u001b[0m      function\n"
      ]
     },
     "metadata": {},
     "output_type": "display_data"
    }
   ],
   "source": [
    "?plt.imshow"
   ]
  },
  {
   "cell_type": "code",
   "execution_count": 41,
   "metadata": {},
   "outputs": [
    {
     "data": {
      "image/png": "[encoded data removed]",
      "text/plain": [
       "<Figure size 432x288 with 2 Axes>"
      ]
     },
     "metadata": {
      "needs_background": "light"
     },
     "output_type": "display_data"
    }
   ],
   "source": [
    "# plt.xticks(FLUX_POSTINGS[0:4:])\n",
    "# plt.yticks(FRACTION_POSTINGS[0:4:])\n",
    "p=plt.imshow(SENSITIVITY, origin='lower', aspect='auto', extent=(FLUXES['EM'][0], FLUXES['EM'][1], FRACTION['EM'][0], FRACTION['EM'][1]))\n",
    "plt.xlabel(\"Flux ($mg\\ CH_4 / m^2 /day$)\")\n",
    "plt.ylabel('Macrophyte fraction (%)')\n",
    "plt.colorbar()\n",
    "axes=plt.gca()\n",
    "# axes.set_xlim(FLUXES['EM'])\n",
    "# axes.set_ylim(FRACTION['EM'])\n",
    "# plt.xticks(FLUX_POSTINGS[0:4:])\n",
    "# plt.yticks(FRACTION_POSTINGS[0:4:])\n",
    "\n",
    "# KATIA:\n",
    "#x-axis:\n",
    "# locs, labels = plt.xticks()\n",
    "# major_ticks_x_2 = [0,132-72,192-72,252-72,312-72,372-72]\n",
    "# ticklabels_x_2 = np.arange(1990,2016,5)\n",
    "# plt.xticks(major_ticks_x_2, ticklabels_x_2)\n",
    "\n",
    "# minor_ticks_x_2 = np.arange(0,339,12)\n",
    "# axes.set_xticks(minor_ticks_x_2, minor=True)\n",
    "# ticklabels_x_2 = np.arange(1990,2016,5)\n",
    "# axes.set_xticklabels(ticklabels_x_2)\n",
    "\n",
    "# axes.tick_params(which = 'major', labelsize=9, direction = 'in')\n",
    "# axes.tick_params(which = 'minor', direction = 'in')\n",
    "\n",
    "# # y-axis:\n",
    "# locs, labels = plt.yticks()\n",
    "# major_ticks_y_2 = np.arange(-0.5,17.5,3)\n",
    "# ticklabels_y_2 = np.arange(-90,90,30)\n",
    "# plt.yticks(major_ticks_y_2, ticklabels_y_2)\n",
    "\n",
    "# minor_ticks_y_2 = np.arange(-0.5,17.5,1)\n",
    "# axes.set_yticks(minor_ticks_y_2, minor=True)"
   ]
  },
  {
   "cell_type": "code",
   "execution_count": 40,
   "metadata": {},
   "outputs": [
    {
     "data": {
      "text/plain": [
       "\u001b[0;31mSignature:\u001b[0m \u001b[0mplt\u001b[0m\u001b[0;34m.\u001b[0m\u001b[0mylabel\u001b[0m\u001b[0;34m(\u001b[0m\u001b[0mylabel\u001b[0m\u001b[0;34m,\u001b[0m \u001b[0mfontdict\u001b[0m\u001b[0;34m=\u001b[0m\u001b[0;32mNone\u001b[0m\u001b[0;34m,\u001b[0m \u001b[0mlabelpad\u001b[0m\u001b[0;34m=\u001b[0m\u001b[0;32mNone\u001b[0m\u001b[0;34m,\u001b[0m \u001b[0;34m**\u001b[0m\u001b[0mkwargs\u001b[0m\u001b[0;34m)\u001b[0m\u001b[0;34m\u001b[0m\u001b[0;34m\u001b[0m\u001b[0m\n",
       "\u001b[0;31mDocstring:\u001b[0m\n",
       "Set the label for the y-axis.\n",
       "\n",
       "Parameters\n",
       "----------\n",
       "ylabel : str\n",
       "    The label text.\n",
       "\n",
       "labelpad : scalar, optional, default: None\n",
       "    Spacing in points from the axes bounding box including ticks\n",
       "    and tick labels.\n",
       "\n",
       "Other Parameters\n",
       "----------------\n",
       "**kwargs : `.Text` properties\n",
       "    `.Text` properties control the appearance of the label.\n",
       "\n",
       "See also\n",
       "--------\n",
       "text : for information on how override and the optional args work\n",
       "\u001b[0;31mFile:\u001b[0m      ~/miniconda2/envs/ai4ess/lib/python3.8/site-packages/matplotlib/pyplot.py\n",
       "\u001b[0;31mType:\u001b[0m      function\n"
      ]
     },
     "metadata": {},
     "output_type": "display_data"
    }
   ],
   "source": [
    "?plt.ylabel"
   ]
  },
  {
   "cell_type": "code",
   "execution_count": 94,
   "metadata": {},
   "outputs": [
    {
     "data": {
      "text/plain": [
       "(77.0, 5800.0)"
      ]
     },
     "execution_count": 94,
     "metadata": {},
     "output_type": "execute_result"
    },
    {
     "data": {
      "image/png": "[encoded data removed]",
      "text/plain": [
       "<Figure size 432x288 with 1 Axes>"
      ]
     },
     "metadata": {
      "needs_background": "light"
     },
     "output_type": "display_data"
    }
   ],
   "source": [
    "axes=plt.gca()\n",
    "axes.set_xlim(FLUXES['EM'])"
   ]
  },
  {
   "cell_type": "code",
   "execution_count": 102,
   "metadata": {
    "collapsed": true,
    "jupyter": {
     "outputs_hidden": true
    }
   },
   "outputs": [
    {
     "data": {
      "text/plain": [
       "(1, 17)"
      ]
     },
     "execution_count": 102,
     "metadata": {},
     "output_type": "execute_result"
    },
    {
     "data": {
      "image/png": "[encoded data removed]",
      "text/plain": [
       "<Figure size 432x288 with 1 Axes>"
      ]
     },
     "metadata": {
      "needs_background": "light"
     },
     "output_type": "display_data"
    }
   ],
   "source": [
    "SENSITIVITY\n",
    "plt.xticks(FLUX_POSTINGS[0:6:])\n",
    "FLUX_POSTINGS\n",
    "FLUX_POSTINGS[0:9:]\n",
    "FRACTION['EM']\n",
    "# FLUXES['EM']"
   ]
  }
 ],
 "metadata": {
  "kernelspec": {
   "display_name": "Python 3",
   "language": "python",
   "name": "python3"
  },
  "language_info": {
   "codemirror_mode": {
    "name": "ipython",
    "version": 3
   },
   "file_extension": ".py",
   "mimetype": "text/x-python",
   "name": "python",
   "nbconvert_exporter": "python",
   "pygments_lexer": "ipython3",
   "version": "3.8.3"
  }
 },
 "nbformat": 4,
 "nbformat_minor": 4
}
