{
 "cells": [
  {
   "cell_type": "markdown",
   "metadata": {},
   "source": [
    "## TODO\n",
    "* Re-write for more than two classes\n",
    "* Add size binning: ingest lake size distrib\n",
    "* First fix FI, then FM\n",
    "* Monte Carlo sim to test all permutations; OR:\n",
    "* Increment steps based on PDF, with each step having an equal prob.\n",
    "* Jim's suggestion: try replacing EM with land, in addition to water, as I have it now\n",
    "* install add-ons: git, variable inspector: first install node.js, npm, jupyterlab-git\n",
    "* Find a plugin to make matplotlib plots interactive like when they appear in sep. window\n",
    "* (contour plot: fill in color between lines) DONE"
   ]
  },
  {
   "cell_type": "markdown",
   "metadata": {},
   "source": [
    "## Description\n",
    "This script takes as input the landscape inundation fraction, the emergent macrophyte fraction (fraction of all inundated areas), and flux values for these fractions. It then iterates over probable ranges and plots the total flux's sensitivities to these values, Normalized by area.\n",
    "\n",
    "\n",
    "| Name  | Description | Value |\n",
    "|---      |---                |---       |\n",
    "| INPUTS |\n",
    "FLUXES | Dictionary of flux values by class\t<mg CH4 / m2/ day>| OW: (0, 166); EM: (77, 5800)\n",
    "FRACTION:IN_TOTAL | Fraction inundated: Range for open water and emergent macrophyte area divided by total landscape area | (10, 38)\n",
    "FRACTION:EM | Fraction EMERGENT macrophyte: Range for emergent macrophyte area / open water area | (2, 60)\n",
    "FRACTION:  ... | ...\n",
    "FRACTION_STEPS | Number of steps for each landcover type (range / increment) |\n",
    "FLUX_STEPS | Number of steps for flux (range / increment) |\n"
   ]
  },
  {
   "cell_type": "code",
   "execution_count": 3,
   "metadata": {},
   "outputs": [],
   "source": [
    "import numpy as np\n",
    "from matplotlib import pyplot as plt\n",
    "from matplotlib.colors import Colormap\n",
    "import scipy.ndimage as ndi \n",
    "from scipy.io import loadmat\n",
    "%matplotlib inline"
   ]
  },
  {
   "cell_type": "markdown",
   "metadata": {},
   "source": [
    "### Inputs"
   ]
  },
  {
   "cell_type": "code",
   "execution_count": 61,
   "metadata": {},
   "outputs": [],
   "source": [
    "# fluxes={'OW': 100,\n",
    "#        'GW': 300,\n",
    "#        'SW': 200}\n",
    "\n",
    "FRACTION={\n",
    "    'IN_TOTAL':(10, 38), # Fraction Inundated; From Run 35\n",
    "    'EM':(2, 60) #(2, 30) # Fraction macrophyte: From Run 35 (range: 2:60)\n",
    "}\n",
    "FLUXES={\n",
    "    'OW': (0, 166), # Open water; From range in: Burger et al 2016\tBiogeosciences\n",
    "    'EM': (77, 3000) #(77, 380)  # Emergent macrophyte; From mean (max = 5800) in: Burger et al 2016\tBiogeosciences\n",
    "}\n",
    "FRACTION_STEPS=40\n",
    "FLUX_STEPS=40\n",
    "LAT=59 # latitude, in degrees (PAD=59)"
   ]
  },
  {
   "cell_type": "markdown",
   "metadata": {},
   "source": [
    "### Lake size distribution inputs"
   ]
  },
  {
   "cell_type": "markdown",
   "metadata": {},
   "source": [
    "Labels:\n",
    "    'All'\n",
    "    'Sagavanirktok River'\n",
    "    'Yukon Flats Basin'\n",
    "    'Old Crow Flats'\n",
    "    'Mackenzie River Delta'\n",
    "    'Mackenzie River Valley'\n",
    "    'Canadian Shield Margin'\n",
    "    'Canadian Shield'\n",
    "    'Slave River'\n",
    "    'Peace-Athabasca Delta'\n",
    "    'Athabasca River'\n",
    "    'Prairie Potholes North'\n",
    "    'Prairie Potholes South'\n",
    "    'Tuktoyaktuk Peninsula'\n",
    "    []\n",
    "    []\n",
    "    []\n",
    "    []\n",
    "    []\n",
    "    []\n",
    "    []\n",
    "    'Prairie pothole regions'\n",
    "    'Canadian Shield'\n",
    "    'Thermokarst regions'\n",
    "    'Arctic-boreal wetlands'\n",
    "    'Lowland river valleys'"
   ]
  },
  {
   "cell_type": "code",
   "execution_count": 26,
   "metadata": {},
   "outputs": [],
   "source": [
    "lsd_pth='/mnt/d/GoogleDrive/Research/Lake distributions/savedData/fitting_data_regional_4_det.mat' # these directories hold the final version of data used for 2019 paper\n",
    "lsd_labels_pth='/mnt/d/GoogleDrive/Research/Lake distributions/regionLabels4.mat'\n",
    "region=9 # PAD"
   ]
  },
  {
   "cell_type": "markdown",
   "metadata": {},
   "source": [
    "### Size binning data from Holgerson and Raymond 2016"
   ]
  },
  {
   "cell_type": "code",
   "execution_count": 70,
   "metadata": {},
   "outputs": [
    {
     "data": {
      "text/plain": [
       "7"
      ]
     },
     "execution_count": 70,
     "metadata": {},
     "output_type": "execute_result"
    }
   ],
   "source": [
    "BIN_EDGES=np.array([0, 0.001, 0.01, 0.1, 1, 10, 100, 10000000]) # <km2>\n",
    "BIN_FLUXES=np.array([2.28, 0.65, 0.28, 0.16,  0.12, 0.10, 0.06])*16.043 # <mmolC (in CH4)/m2/d> * 16.043 = <mg CH4/m2/d>\n",
    "len(BIN_FLUXES)"
   ]
  },
  {
   "cell_type": "markdown",
   "metadata": {},
   "source": [
    "### Load data"
   ]
  },
  {
   "cell_type": "code",
   "execution_count": 43,
   "metadata": {},
   "outputs": [],
   "source": [
    "fused_regional=loadmat(lsd_pth, variable_names='Fused_regional', squeeze_me=True)\n",
    "lsd = fused_regional['Fused_regional'][region] # Lake size distribution for chosen region\n",
    "\n",
    "##############\n",
    "# for area for each region, see: D:\\GoogleDrive\\Research\\Lake distributions\\savedData\\out\n",
    "##############"
   ]
  },
  {
   "cell_type": "markdown",
   "metadata": {},
   "source": [
    "### Create sensitivity raster"
   ]
  },
  {
   "cell_type": "code",
   "execution_count": 78,
   "metadata": {},
   "outputs": [],
   "source": [
    "SENSITIVITY=np.zeros((FRACTION_STEPS, FLUX_STEPS), 'double') # init\n",
    "# lsd_tmp=lsd # init\n",
    "FRACTION_POSTINGS=np.linspace(FRACTION['EM'][0], FRACTION['EM'][1], FRACTION_STEPS)\n",
    "FLUX_POSTINGS={}\n",
    "for Class in FLUXES.keys():\n",
    "    FLUX_POSTINGS[Class]=np.linspace(FLUXES[Class][0], FLUXES[Class][1], FLUX_STEPS)\n",
    "for i in range(FRACTION_STEPS):\n",
    "    lsd_tmp=lsd*(100-FRACTION_POSTINGS[i])/100 # change lake size distribution by swapping water for EM\n",
    "    for j in range(FLUX_STEPS):\n",
    "        SENSITIVITY[i,j] = np.mean(FRACTION['IN_TOTAL']) / 100 / 100 * (FRACTION_POSTINGS[i] * FLUX_POSTINGS['EM'][j] + # use median? # note: hard-coded for just two classes: OW and EM\n",
    "                            (100- FRACTION_POSTINGS[i]) * np.mean(FLUX_POSTINGS['OW']))          \n",
    "        "
   ]
  },
  {
   "cell_type": "code",
   "execution_count": 73,
   "metadata": {},
   "outputs": [
    {
     "data": {
      "text/plain": [
       "array([  0.        ,   4.25641026,   8.51282051,  12.76923077,\n",
       "        17.02564103,  21.28205128,  25.53846154,  29.79487179,\n",
       "        34.05128205,  38.30769231,  42.56410256,  46.82051282,\n",
       "        51.07692308,  55.33333333,  59.58974359,  63.84615385,\n",
       "        68.1025641 ,  72.35897436,  76.61538462,  80.87179487,\n",
       "        85.12820513,  89.38461538,  93.64102564,  97.8974359 ,\n",
       "       102.15384615, 106.41025641, 110.66666667, 114.92307692,\n",
       "       119.17948718, 123.43589744, 127.69230769, 131.94871795,\n",
       "       136.20512821, 140.46153846, 144.71794872, 148.97435897,\n",
       "       153.23076923, 157.48717949, 161.74358974, 166.        ])"
      ]
     },
     "execution_count": 73,
     "metadata": {},
     "output_type": "execute_result"
    }
   ],
   "source": [
    "lsd-0.004\n",
    "lsd_tmp=lsd*(100-FRACTION_POSTINGS[i])/100 # keeps decreasing in mag. each iteration as EM fraction grows # HERE # TODO: multiply rep fluxes * each lake area to get mean or total flux for every iteration\n",
    "lsd\n",
    "FLUX_POSTINGS['OW'][j]\n",
    "FRACTION_POSTINGS\n",
    "FLUX_POSTINGS['OW']"
   ]
  },
  {
   "cell_type": "code",
   "execution_count": 31,
   "metadata": {},
   "outputs": [
    {
     "data": {
      "text/plain": [
       "166.0"
      ]
     },
     "execution_count": 31,
     "metadata": {},
     "output_type": "execute_result"
    }
   ],
   "source": [
    "FRACTION_POSTINGS\n",
    "FLUX_POSTINGS['OW'][j]\n",
    "# FLUX_POSTINGS['EM'][j] "
   ]
  },
  {
   "cell_type": "code",
   "execution_count": 79,
   "metadata": {},
   "outputs": [
    {
     "name": "stdout",
     "output_type": "stream",
     "text": [
      "Mean flux: \t128.2 mg CH_4/m^2/day\n",
      "'Median' flux: \t188.9 mg CH_4/m^2/day\n",
      "\n",
      "INPUTS:\n",
      "FRACTION:\t{'IN_TOTAL': (10, 38), 'EM': (2, 60)}\n",
      "FLUXES:\t\t{'OW': (0, 166), 'EM': (77, 3000)}\n",
      "\n",
      "Saved fig to:\t/mnt/d/pic/UAVSAR_classification/upscaleSensitivityRaster.png\n"
     ]
    },
    {
     "data": {
      "image/png": "[encoded data removed]",
      "text/plain": [
       "<Figure size 432x288 with 2 Axes>"
      ]
     },
     "metadata": {
      "needs_background": "light"
     },
     "output_type": "display_data"
    }
   ],
   "source": [
    "# plt.xticks(FLUX_POSTINGS[0:4:])\n",
    "# plt.yticks(FRACTION_POSTINGS[0:4:])\n",
    "p=plt.imshow(SENSITIVITY, origin='lower', aspect='auto', cmap='viridis', extent=(FLUXES['EM'][0], FLUXES['EM'][1], FRACTION['EM'][0], FRACTION['EM'][1]))\n",
    "plt.xlabel(\"Littoral zone flux ($mg\\ CH_4 / m^2 /day$)\")\n",
    "plt.ylabel('Macrophyte fraction (%)')\n",
    "plt.colorbar()\n",
    "axes=plt.gca()\n",
    "# plt.rcParams({'dpi':300})\n",
    "# axes.set_xlim(FLUXES['EM'])\n",
    "# axes.set_ylim(FRACTION['EM'])\n",
    "# plt.xticks(FLUX_POSTINGS[0:4:])\n",
    "# plt.yticks(FRACTION_POSTINGS[0:4:])\n",
    "\n",
    "## calculate median:\n",
    "cy, cx = ndi.center_of_mass(SENSITIVITY)\n",
    "\n",
    "## report mean value:\n",
    "print('Mean flux: \\t{:.1f} mg CH_4/m^2/day'.format(np.mean(SENSITIVITY)))\n",
    "print('\\'Median\\' flux: \\t{:.1f} mg CH_4/m^2/day'.format(SENSITIVITY[cy.astype(int),cx.astype(int)])) # only equal to median if each step size is of equal prob.\n",
    "\n",
    "print('''\\nINPUTS:\n",
    "FRACTION:\\t{}\n",
    "FLUXES:\\t\\t{}\n",
    "'''.format(FRACTION, FLUXES))\n",
    "figPth='/mnt/d/pic/UAVSAR_classification/upscaleSensitivityRaster.png'\n",
    "plt.savefig(figPth, dpi=200)\n",
    "print('Saved fig to:\\t{}'.format(figPth))"
   ]
  },
  {
   "cell_type": "code",
   "execution_count": 15,
   "metadata": {},
   "outputs": [
    {
     "name": "stdout",
     "output_type": "stream",
     "text": [
      "Saved fig to:\t/mnt/d/pic/UAVSAR_classification/upscaleSensitivityRasterContours.png\n"
     ]
    },
    {
     "data": {
      "image/png": "[encoded data removed]",
      "text/plain": [
       "<Figure size 432x288 with 1 Axes>"
      ]
     },
     "metadata": {
      "needs_background": "light"
     },
     "output_type": "display_data"
    }
   ],
   "source": [
    "## Make contour plot\n",
    "## TODO: fill in between lines\n",
    "## from https://matplotlib.org/examples/pylab_examples/contour_label_demo.html\n",
    "\n",
    "import matplotlib\n",
    "import matplotlib.mlab as mlab\n",
    "import matplotlib.ticker as ticker\n",
    "import matplotlib.pyplot as plt\n",
    "\n",
    "    # I/O\n",
    "num_contours=10\n",
    "\n",
    "matplotlib.rcParams['xtick.direction'] = 'out'\n",
    "matplotlib.rcParams['ytick.direction'] = 'out'\n",
    "\n",
    "##\n",
    "plt.figure()\n",
    "\n",
    "# define dims\n",
    "Y=FRACTION_POSTINGS\n",
    "X=FLUX_POSTINGS['EM']\n",
    "Z=SENSITIVITY\n",
    "\n",
    "# Basic contour plot\n",
    "CS = plt.contour(X, Y, Z, num_contours)\n",
    "\n",
    "\n",
    "# Define a class that forces representation of float to look a certain way\n",
    "# This remove trailing zero so '1.0' becomes '1'\n",
    "class nf(float):\n",
    "    def __repr__(self):\n",
    "        str = '%.1f' % (self.__float__(),)\n",
    "        if str[-1] == '0':\n",
    "            return '%.0f' % self.__float__()\n",
    "        else:\n",
    "            return '%.1f' % self.__float__()\n",
    "\n",
    "# Recast levels to new class\n",
    "CS.levels = [nf(val) for val in CS.levels]\n",
    "\n",
    "# Label levels with specially formatted floats\n",
    "if plt.rcParams[\"text.usetex\"]:\n",
    "    fmt = r'%r'\n",
    "else:\n",
    "    fmt = '%r'\n",
    "plt.clabel(CS, CS.levels, inline=True, fmt=fmt, fontsize=10)\n",
    "plt.xlabel(\"LIttoral zone flux ($mg\\ CH_4 / m^2 /day$)\")\n",
    "plt.ylabel('Macrophyte fraction (%)')\n",
    "plt.title('Total flux ($mg\\ CH_4 / m^2 /day$)')\n",
    "\n",
    "# save\n",
    "\n",
    "figPth='/mnt/d/pic/UAVSAR_classification/upscaleSensitivityRasterContours.png'\n",
    "plt.savefig(figPth, dpi=200)\n",
    "print('Saved fig to:\\t{}'.format(figPth))"
   ]
  },
  {
   "cell_type": "code",
   "execution_count": 15,
   "metadata": {},
   "outputs": [
    {
     "data": {
      "text/plain": [
       "[0, 8, 16, 24, 32, 40, 48, 56]"
      ]
     },
     "execution_count": 15,
     "metadata": {},
     "output_type": "execute_result"
    }
   ],
   "source": [
    "CS.levels"
   ]
  }
 ],
 "metadata": {
  "kernelspec": {
   "display_name": "Python 3",
   "language": "python",
   "name": "python3"
  },
  "language_info": {
   "codemirror_mode": {
    "name": "ipython",
    "version": 3
   },
   "file_extension": ".py",
   "mimetype": "text/x-python",
   "name": "python",
   "nbconvert_exporter": "python",
   "pygments_lexer": "ipython3",
   "version": "3.7.6"
  }
 },
 "nbformat": 4,
 "nbformat_minor": 4
}
