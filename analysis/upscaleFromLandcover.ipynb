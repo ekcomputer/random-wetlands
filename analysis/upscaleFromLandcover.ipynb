{
 "cells": [
  {
   "cell_type": "markdown",
   "metadata": {},
   "source": [
    "## TODO\n",
    "* Re-write for more than two classes\n",
    "* First fix FI, then FM\n",
    "* Monte Carlo sim to test all permutations; OR:\n",
    "* Increment steps based on PDF, with each step having an equal prob.\n",
    "* Jim's suggestion: try replacing EM with land, in addition to water, as I have it now\n",
    "* Add randomization/monte-carlo into bins- instead of just using mean values (i.e. for size bins, or for FLUX_STEP in senstivity)\n",
    "* For typical EM fraction: use regional sub-binning instead of UAVSAR footprint \n",
    "* Use typical regional values for EM fluxes, the way I use a regional LSD and inun fraction\n",
    "* install add-ons: git, variable inspector: first install node.js, npm, jupyterlab-git\n",
    "* Find a plugin to make matplotlib plots interactive like when they appear in sep. window\n",
    "* make dimensionless version\n",
    "* (contour plot: fill in color between lines) DONE\n",
    "* Add size binning: ingest lake size distrib DONE"
   ]
  },
  {
   "cell_type": "markdown",
   "metadata": {},
   "source": [
    "## Description\n",
    "This script takes as input the landscape inundation fraction, the emergent macrophyte fraction (fraction of all inundated areas), and flux values for these fractions. It then iterates over probable ranges and plots the total flux's sensitivities to these values, Normalized by area.\n",
    "\n",
    "\n",
    "| Name  | Description | Value |\n",
    "|---      |---                |---       |\n",
    "| INPUTS |\n",
    "FLUXES | Dictionary of flux values by class\t<mg CH4 / m2/ day>| OW: (0, 166); EM: (77, 5800)\n",
    "FRACTION:IN_TOTAL | Fraction inundated: Range for open water and emergent macrophyte area divided by total landscape area | (10, 38)\n",
    "FRACTION:EM | Fraction EMERGENT macrophyte: Range for emergent macrophyte area / open water area | (2, 60)\n",
    "FRACTION:  ... | ...\n",
    "FRACTION_STEPS | Number of steps for each landcover type (range / increment) |\n",
    "FLUX_STEPS | Number of steps for flux (range / increment) |\n"
   ]
  },
  {
   "cell_type": "code",
   "execution_count": 1,
   "metadata": {},
   "outputs": [],
   "source": [
    "import numpy as np\n",
    "from matplotlib import pyplot as plt\n",
    "from matplotlib.colors import Colormap\n",
    "import matplotlib\n",
    "import matplotlib.mlab as mlab\n",
    "import matplotlib.ticker as ticker\n",
    "import matplotlib.pyplot as plt\n",
    "import scipy.ndimage as ndi \n",
    "from scipy.io import loadmat\n",
    "from scipy.stats import binned_statistic\n",
    "import pandas as pd\n",
    "# %matplotlib inline"
   ]
  },
  {
   "cell_type": "markdown",
   "metadata": {},
   "source": [
    "### Inputs"
   ]
  },
  {
   "cell_type": "code",
   "execution_count": 2,
   "metadata": {},
   "outputs": [],
   "source": [
    "# fluxes={'OW': 100,\n",
    "#        'GW': 300,\n",
    "#        'SW': 200}\n",
    "\n",
    "FRACTION={\n",
    "    'IN_TOTAL':(\n",
    "    (22, 31),\n",
    "    (10,16),\n",
    "    (27, 30),\n",
    "    (37.4, 37.6),\n",
    "    (10, 37.6)), # Default Fraction Inundated; From Run 35\n",
    "    'EM':((35, 58),\n",
    "     (42, 60),\n",
    "     (12, 21),\n",
    "     (2, 2.5),\n",
    "     (2, 60)) #(2, 30) # Default Fraction macrophyte: From Run 35 (range: 2:60)\n",
    "}\n",
    "FLUXES={\n",
    "    'OW': (0, 166), # Open water; From range in: Burger et al 2016\tBiogeosciences | Superceded if using LSD\n",
    "    'EM': (77, 3000) #(77, 380)  # Emergent macrophyte; From mean (max = 5800) in: Burger et al 2016\tBiogeosciences\n",
    "}\n",
    "    # Sensitivity raster dimensions\n",
    "FRACTION_STEPS=40\n",
    "FLUX_STEPS=40\n",
    "SITES=('PAD','YFB','YKN','DAR','All') #short names for sites\n",
    "SITES_LSD = (9,2,7,7,0) # numbers as givin in Lake Size Distribution files\n",
    "# REGION=0 # Set to -1 if using default; 0=PAD\n",
    "\n",
    "# LAT=59 # latitude, in degrees (PAD=59)"
   ]
  },
  {
   "cell_type": "markdown",
   "metadata": {},
   "source": [
    "### Lake size distribution inputs"
   ]
  },
  {
   "cell_type": "markdown",
   "metadata": {},
   "source": [
    "Labels:\n",
    "    'All'\n",
    "    'Sagavanirktok River'\n",
    "    'Yukon Flats Basin'\n",
    "    'Old Crow Flats'\n",
    "    'Mackenzie River Delta'\n",
    "    'Mackenzie River Valley'\n",
    "    'Canadian Shield Margin'\n",
    "    'Canadian Shield'\n",
    "    'Slave River'\n",
    "    'Peace-Athabasca Delta'\n",
    "    'Athabasca River'\n",
    "    'Prairie Potholes North'\n",
    "    'Prairie Potholes South'\n",
    "    'Tuktoyaktuk Peninsula'\n",
    "    []\n",
    "    []\n",
    "    []\n",
    "    []\n",
    "    []\n",
    "    []\n",
    "    []\n",
    "    'Prairie pothole regions'\n",
    "    'Canadian Shield'\n",
    "    'Thermokarst regions'\n",
    "    'Arctic-boreal wetlands'\n",
    "    'Lowland river valleys'"
   ]
  },
  {
   "cell_type": "code",
   "execution_count": 3,
   "metadata": {},
   "outputs": [],
   "source": [
    "lsd_pth='/mnt/d/GoogleDrive/Research/Lake distributions/savedData/fitting_data_regional_4_det.mat' # these directories hold the final version of data used for 2019 paper\n",
    "lsd_labels_pth='/mnt/d/GoogleDrive/Research/Lake distributions/regionLabels4.mat'"
   ]
  },
  {
   "cell_type": "markdown",
   "metadata": {},
   "source": [
    "### Size binning data from Holgerson and Raymond 2016"
   ]
  },
  {
   "cell_type": "code",
   "execution_count": 4,
   "metadata": {},
   "outputs": [
    {
     "data": {
      "text/plain": [
       "7"
      ]
     },
     "execution_count": 4,
     "metadata": {},
     "output_type": "execute_result"
    }
   ],
   "source": [
    "BIN_EDGES=np.array([0, 0.001, 0.01, 0.1, 1, 10, 100, 1000000]) # <km2>\n",
    "# BIN_EDGES=np.array([0.001, 0.01, 0.1, 1, 10, 100, 10000000]) * 1000000 # <km2> * 1000000 = <m2>\n",
    "BIN_FLUXES=np.array([2.28, 0.65, 0.28, 0.16,  0.12, 0.10, 0.06])*16.043 # <mmolC (in CH4)/m2/d> * 16.043 = <mg CH4/m2/d>\n",
    "len(BIN_FLUXES)"
   ]
  },
  {
   "cell_type": "markdown",
   "metadata": {},
   "source": [
    "### Load data"
   ]
  },
  {
   "cell_type": "code",
   "execution_count": 5,
   "metadata": {},
   "outputs": [],
   "source": [
    "fused_regional=loadmat(lsd_pth, variable_names='Fused_regional', squeeze_me=True)\n",
    "\n",
    "##############\n",
    "# for area for each region, see: D:\\GoogleDrive\\Research\\Lake distributions\\savedData\\out\n",
    "##############"
   ]
  },
  {
   "cell_type": "markdown",
   "metadata": {},
   "source": [
    "### Create sensitivity raster"
   ]
  },
  {
   "cell_type": "code",
   "execution_count": 6,
   "metadata": {},
   "outputs": [
    {
     "name": "stdout",
     "output_type": "stream",
     "text": [
      "\n",
      "Site: PAD\n",
      "Open water flux used: 1.36 [mg CH_4 / m^2 / day]\n",
      "EM fraction: 0.00%\t| Total W area in first bin: \t        0.40\t| Total W area: 186.62\n",
      "\n",
      "EM fraction: 35.00%\t| Total W area in first bin:             0.26\t| Total W area:             121.30\t| Total W flux: 0.89\n",
      "EM fraction: 35.59%\t| Total W area in first bin:             0.26\t| Total W area:             120.20\t| Total W flux: 0.88\n",
      "EM fraction: 36.18%\t| Total W area in first bin:             0.26\t| Total W area:             119.10\t| Total W flux: 0.87\n",
      "EM fraction: 36.77%\t| Total W area in first bin:             0.25\t| Total W area:             118.00\t| Total W flux: 0.86\n",
      "EM fraction: 37.36%\t| Total W area in first bin:             0.25\t| Total W area:             116.90\t| Total W flux: 0.85\n",
      "EM fraction: 37.95%\t| Total W area in first bin:             0.25\t| Total W area:             115.80\t| Total W flux: 0.85\n",
      "EM fraction: 38.54%\t| Total W area in first bin:             0.25\t| Total W area:             114.70\t| Total W flux: 0.84\n",
      "EM fraction: 39.13%\t| Total W area in first bin:             0.25\t| Total W area:             113.60\t| Total W flux: 0.83\n",
      "EM fraction: 39.72%\t| Total W area in first bin:             0.24\t| Total W area:             112.50\t| Total W flux: 0.82\n",
      "EM fraction: 40.31%\t| Total W area in first bin:             0.24\t| Total W area:             111.40\t| Total W flux: 0.81\n",
      "EM fraction: 40.90%\t| Total W area in first bin:             0.24\t| Total W area:             110.30\t| Total W flux: 0.81\n",
      "EM fraction: 41.49%\t| Total W area in first bin:             0.24\t| Total W area:             109.19\t| Total W flux: 0.80\n",
      "EM fraction: 42.08%\t| Total W area in first bin:             0.23\t| Total W area:             108.09\t| Total W flux: 0.79\n",
      "EM fraction: 42.67%\t| Total W area in first bin:             0.23\t| Total W area:             106.99\t| Total W flux: 0.78\n",
      "EM fraction: 43.26%\t| Total W area in first bin:             0.23\t| Total W area:             105.89\t| Total W flux: 0.77\n",
      "EM fraction: 43.85%\t| Total W area in first bin:             0.23\t| Total W area:             104.79\t| Total W flux: 0.76\n",
      "EM fraction: 44.44%\t| Total W area in first bin:             0.22\t| Total W area:             103.69\t| Total W flux: 0.76\n",
      "EM fraction: 45.03%\t| Total W area in first bin:             0.22\t| Total W area:             102.59\t| Total W flux: 0.75\n",
      "EM fraction: 45.62%\t| Total W area in first bin:             0.22\t| Total W area:             101.49\t| Total W flux: 0.74\n",
      "EM fraction: 46.21%\t| Total W area in first bin:             0.22\t| Total W area:             100.39\t| Total W flux: 0.73\n",
      "EM fraction: 46.79%\t| Total W area in first bin:             0.21\t| Total W area:             99.29\t| Total W flux: 0.72\n",
      "EM fraction: 47.38%\t| Total W area in first bin:             0.21\t| Total W area:             98.19\t| Total W flux: 0.72\n",
      "EM fraction: 47.97%\t| Total W area in first bin:             0.21\t| Total W area:             97.09\t| Total W flux: 0.71\n",
      "EM fraction: 48.56%\t| Total W area in first bin:             0.21\t| Total W area:             95.99\t| Total W flux: 0.70\n",
      "EM fraction: 49.15%\t| Total W area in first bin:             0.20\t| Total W area:             94.89\t| Total W flux: 0.69\n",
      "EM fraction: 49.74%\t| Total W area in first bin:             0.20\t| Total W area:             93.79\t| Total W flux: 0.68\n",
      "EM fraction: 50.33%\t| Total W area in first bin:             0.20\t| Total W area:             92.69\t| Total W flux: 0.68\n",
      "EM fraction: 50.92%\t| Total W area in first bin:             0.20\t| Total W area:             91.59\t| Total W flux: 0.67\n",
      "EM fraction: 51.51%\t| Total W area in first bin:             0.20\t| Total W area:             90.49\t| Total W flux: 0.66\n",
      "EM fraction: 52.10%\t| Total W area in first bin:             0.19\t| Total W area:             89.38\t| Total W flux: 0.65\n",
      "EM fraction: 52.69%\t| Total W area in first bin:             0.19\t| Total W area:             88.28\t| Total W flux: 0.64\n",
      "EM fraction: 53.28%\t| Total W area in first bin:             0.19\t| Total W area:             87.18\t| Total W flux: 0.64\n",
      "EM fraction: 53.87%\t| Total W area in first bin:             0.19\t| Total W area:             86.08\t| Total W flux: 0.63\n",
      "EM fraction: 54.46%\t| Total W area in first bin:             0.18\t| Total W area:             84.98\t| Total W flux: 0.62\n",
      "EM fraction: 55.05%\t| Total W area in first bin:             0.18\t| Total W area:             83.88\t| Total W flux: 0.61\n",
      "EM fraction: 55.64%\t| Total W area in first bin:             0.18\t| Total W area:             82.78\t| Total W flux: 0.60\n",
      "EM fraction: 56.23%\t| Total W area in first bin:             0.18\t| Total W area:             81.68\t| Total W flux: 0.60\n",
      "EM fraction: 56.82%\t| Total W area in first bin:             0.17\t| Total W area:             80.58\t| Total W flux: 0.59\n",
      "EM fraction: 57.41%\t| Total W area in first bin:             0.17\t| Total W area:             79.48\t| Total W flux: 0.58\n",
      "EM fraction: 58.00%\t| Total W area in first bin:             0.17\t| Total W area:             78.38\t| Total W flux: 0.57\n",
      "\n",
      "Site: YFB\n",
      "Open water flux used: 3.53 [mg CH_4 / m^2 / day]\n",
      "EM fraction: 0.00%\t| Total W area in first bin: \t        1.38\t| Total W area: 178.65\n",
      "\n",
      "EM fraction: 42.00%\t| Total W area in first bin:             0.80\t| Total W area:             103.62\t| Total W flux: 2.05\n",
      "EM fraction: 42.46%\t| Total W area in first bin:             0.79\t| Total W area:             102.79\t| Total W flux: 2.03\n",
      "EM fraction: 42.92%\t| Total W area in first bin:             0.79\t| Total W area:             101.97\t| Total W flux: 2.01\n",
      "EM fraction: 43.38%\t| Total W area in first bin:             0.78\t| Total W area:             101.14\t| Total W flux: 2.00\n",
      "EM fraction: 43.85%\t| Total W area in first bin:             0.77\t| Total W area:             100.32\t| Total W flux: 1.98\n",
      "EM fraction: 44.31%\t| Total W area in first bin:             0.77\t| Total W area:             99.50\t| Total W flux: 1.96\n",
      "EM fraction: 44.77%\t| Total W area in first bin:             0.76\t| Total W area:             98.67\t| Total W flux: 1.95\n",
      "EM fraction: 45.23%\t| Total W area in first bin:             0.75\t| Total W area:             97.85\t| Total W flux: 1.93\n",
      "EM fraction: 45.69%\t| Total W area in first bin:             0.75\t| Total W area:             97.02\t| Total W flux: 1.92\n",
      "EM fraction: 46.15%\t| Total W area in first bin:             0.74\t| Total W area:             96.20\t| Total W flux: 1.90\n",
      "EM fraction: 46.62%\t| Total W area in first bin:             0.73\t| Total W area:             95.37\t| Total W flux: 1.88\n",
      "EM fraction: 47.08%\t| Total W area in first bin:             0.73\t| Total W area:             94.55\t| Total W flux: 1.87\n",
      "EM fraction: 47.54%\t| Total W area in first bin:             0.72\t| Total W area:             93.72\t| Total W flux: 1.85\n",
      "EM fraction: 48.00%\t| Total W area in first bin:             0.72\t| Total W area:             92.90\t| Total W flux: 1.83\n",
      "EM fraction: 48.46%\t| Total W area in first bin:             0.71\t| Total W area:             92.07\t| Total W flux: 1.82\n",
      "EM fraction: 48.92%\t| Total W area in first bin:             0.70\t| Total W area:             91.25\t| Total W flux: 1.80\n",
      "EM fraction: 49.38%\t| Total W area in first bin:             0.70\t| Total W area:             90.43\t| Total W flux: 1.79\n",
      "EM fraction: 49.85%\t| Total W area in first bin:             0.69\t| Total W area:             89.60\t| Total W flux: 1.77\n",
      "EM fraction: 50.31%\t| Total W area in first bin:             0.68\t| Total W area:             88.78\t| Total W flux: 1.75\n",
      "EM fraction: 50.77%\t| Total W area in first bin:             0.68\t| Total W area:             87.95\t| Total W flux: 1.74\n",
      "EM fraction: 51.23%\t| Total W area in first bin:             0.67\t| Total W area:             87.13\t| Total W flux: 1.72\n",
      "EM fraction: 51.69%\t| Total W area in first bin:             0.67\t| Total W area:             86.30\t| Total W flux: 1.70\n",
      "EM fraction: 52.15%\t| Total W area in first bin:             0.66\t| Total W area:             85.48\t| Total W flux: 1.69\n",
      "EM fraction: 52.62%\t| Total W area in first bin:             0.65\t| Total W area:             84.65\t| Total W flux: 1.67\n",
      "EM fraction: 53.08%\t| Total W area in first bin:             0.65\t| Total W area:             83.83\t| Total W flux: 1.65\n",
      "EM fraction: 53.54%\t| Total W area in first bin:             0.64\t| Total W area:             83.00\t| Total W flux: 1.64\n",
      "EM fraction: 54.00%\t| Total W area in first bin:             0.63\t| Total W area:             82.18\t| Total W flux: 1.62\n",
      "EM fraction: 54.46%\t| Total W area in first bin:             0.63\t| Total W area:             81.36\t| Total W flux: 1.61\n",
      "EM fraction: 54.92%\t| Total W area in first bin:             0.62\t| Total W area:             80.53\t| Total W flux: 1.59\n",
      "EM fraction: 55.38%\t| Total W area in first bin:             0.61\t| Total W area:             79.71\t| Total W flux: 1.57\n",
      "EM fraction: 55.85%\t| Total W area in first bin:             0.61\t| Total W area:             78.88\t| Total W flux: 1.56\n",
      "EM fraction: 56.31%\t| Total W area in first bin:             0.60\t| Total W area:             78.06\t| Total W flux: 1.54\n",
      "EM fraction: 56.77%\t| Total W area in first bin:             0.60\t| Total W area:             77.23\t| Total W flux: 1.52\n",
      "EM fraction: 57.23%\t| Total W area in first bin:             0.59\t| Total W area:             76.41\t| Total W flux: 1.51\n",
      "EM fraction: 57.69%\t| Total W area in first bin:             0.58\t| Total W area:             75.58\t| Total W flux: 1.49\n",
      "EM fraction: 58.15%\t| Total W area in first bin:             0.58\t| Total W area:             74.76\t| Total W flux: 1.48\n",
      "EM fraction: 58.62%\t| Total W area in first bin:             0.57\t| Total W area:             73.93\t| Total W flux: 1.46\n",
      "EM fraction: 59.08%\t| Total W area in first bin:             0.56\t| Total W area:             73.11\t| Total W flux: 1.44\n",
      "EM fraction: 59.54%\t| Total W area in first bin:             0.56\t| Total W area:             72.29\t| Total W flux: 1.43\n",
      "EM fraction: 60.00%\t| Total W area in first bin:             0.55\t| Total W area:             71.46\t| Total W flux: 1.41\n",
      "\n",
      "Site: YKN\n",
      "Open water flux used: 1.37 [mg CH_4 / m^2 / day]\n",
      "EM fraction: 0.00%\t| Total W area in first bin: \t        0.44\t| Total W area: 2082.63\n",
      "\n",
      "EM fraction: 12.00%\t| Total W area in first bin:             0.38\t| Total W area:             1832.72\t| Total W flux: 1.21\n",
      "EM fraction: 12.23%\t| Total W area in first bin:             0.38\t| Total W area:             1827.91\t| Total W flux: 1.20\n",
      "EM fraction: 12.46%\t| Total W area in first bin:             0.38\t| Total W area:             1823.10\t| Total W flux: 1.20\n",
      "EM fraction: 12.69%\t| Total W area in first bin:             0.38\t| Total W area:             1818.30\t| Total W flux: 1.20\n",
      "EM fraction: 12.92%\t| Total W area in first bin:             0.38\t| Total W area:             1813.49\t| Total W flux: 1.19\n",
      "EM fraction: 13.15%\t| Total W area in first bin:             0.38\t| Total W area:             1808.69\t| Total W flux: 1.19\n",
      "EM fraction: 13.38%\t| Total W area in first bin:             0.38\t| Total W area:             1803.88\t| Total W flux: 1.19\n",
      "EM fraction: 13.62%\t| Total W area in first bin:             0.38\t| Total W area:             1799.07\t| Total W flux: 1.18\n",
      "EM fraction: 13.85%\t| Total W area in first bin:             0.38\t| Total W area:             1794.27\t| Total W flux: 1.18\n",
      "EM fraction: 14.08%\t| Total W area in first bin:             0.38\t| Total W area:             1789.46\t| Total W flux: 1.18\n",
      "EM fraction: 14.31%\t| Total W area in first bin:             0.37\t| Total W area:             1784.66\t| Total W flux: 1.17\n",
      "EM fraction: 14.54%\t| Total W area in first bin:             0.37\t| Total W area:             1779.85\t| Total W flux: 1.17\n",
      "EM fraction: 14.77%\t| Total W area in first bin:             0.37\t| Total W area:             1775.04\t| Total W flux: 1.17\n",
      "EM fraction: 15.00%\t| Total W area in first bin:             0.37\t| Total W area:             1770.24\t| Total W flux: 1.16\n",
      "EM fraction: 15.23%\t| Total W area in first bin:             0.37\t| Total W area:             1765.43\t| Total W flux: 1.16\n",
      "EM fraction: 15.46%\t| Total W area in first bin:             0.37\t| Total W area:             1760.62\t| Total W flux: 1.16\n",
      "EM fraction: 15.69%\t| Total W area in first bin:             0.37\t| Total W area:             1755.82\t| Total W flux: 1.16\n",
      "EM fraction: 15.92%\t| Total W area in first bin:             0.37\t| Total W area:             1751.01\t| Total W flux: 1.15\n",
      "EM fraction: 16.15%\t| Total W area in first bin:             0.37\t| Total W area:             1746.21\t| Total W flux: 1.15\n",
      "EM fraction: 16.38%\t| Total W area in first bin:             0.37\t| Total W area:             1741.40\t| Total W flux: 1.15\n",
      "EM fraction: 16.62%\t| Total W area in first bin:             0.36\t| Total W area:             1736.59\t| Total W flux: 1.14\n",
      "EM fraction: 16.85%\t| Total W area in first bin:             0.36\t| Total W area:             1731.79\t| Total W flux: 1.14\n",
      "EM fraction: 17.08%\t| Total W area in first bin:             0.36\t| Total W area:             1726.98\t| Total W flux: 1.14\n",
      "EM fraction: 17.31%\t| Total W area in first bin:             0.36\t| Total W area:             1722.18\t| Total W flux: 1.13\n",
      "EM fraction: 17.54%\t| Total W area in first bin:             0.36\t| Total W area:             1717.37\t| Total W flux: 1.13\n",
      "EM fraction: 17.77%\t| Total W area in first bin:             0.36\t| Total W area:             1712.56\t| Total W flux: 1.13\n",
      "EM fraction: 18.00%\t| Total W area in first bin:             0.36\t| Total W area:             1707.76\t| Total W flux: 1.12\n",
      "EM fraction: 18.23%\t| Total W area in first bin:             0.36\t| Total W area:             1702.95\t| Total W flux: 1.12\n",
      "EM fraction: 18.46%\t| Total W area in first bin:             0.36\t| Total W area:             1698.15\t| Total W flux: 1.12\n",
      "EM fraction: 18.69%\t| Total W area in first bin:             0.36\t| Total W area:             1693.34\t| Total W flux: 1.11\n",
      "EM fraction: 18.92%\t| Total W area in first bin:             0.35\t| Total W area:             1688.53\t| Total W flux: 1.11\n",
      "EM fraction: 19.15%\t| Total W area in first bin:             0.35\t| Total W area:             1683.73\t| Total W flux: 1.11\n",
      "EM fraction: 19.38%\t| Total W area in first bin:             0.35\t| Total W area:             1678.92\t| Total W flux: 1.10\n",
      "EM fraction: 19.62%\t| Total W area in first bin:             0.35\t| Total W area:             1674.12\t| Total W flux: 1.10\n",
      "EM fraction: 19.85%\t| Total W area in first bin:             0.35\t| Total W area:             1669.31\t| Total W flux: 1.10\n",
      "EM fraction: 20.08%\t| Total W area in first bin:             0.35\t| Total W area:             1664.50\t| Total W flux: 1.10\n",
      "EM fraction: 20.31%\t| Total W area in first bin:             0.35\t| Total W area:             1659.70\t| Total W flux: 1.09\n",
      "EM fraction: 20.54%\t| Total W area in first bin:             0.35\t| Total W area:             1654.89\t| Total W flux: 1.09\n",
      "EM fraction: 20.77%\t| Total W area in first bin:             0.35\t| Total W area:             1650.09\t| Total W flux: 1.09\n",
      "EM fraction: 21.00%\t| Total W area in first bin:             0.35\t| Total W area:             1645.28\t| Total W flux: 1.08\n",
      "\n",
      "Site: DAR\n",
      "Open water flux used: 1.37 [mg CH_4 / m^2 / day]\n",
      "EM fraction: 0.00%\t| Total W area in first bin: \t        0.44\t| Total W area: 2082.63\n",
      "\n",
      "EM fraction: 2.00%\t| Total W area in first bin:             0.43\t| Total W area:             2040.98\t| Total W flux: 1.34\n",
      "EM fraction: 2.01%\t| Total W area in first bin:             0.43\t| Total W area:             2040.71\t| Total W flux: 1.34\n",
      "EM fraction: 2.03%\t| Total W area in first bin:             0.43\t| Total W area:             2040.45\t| Total W flux: 1.34\n",
      "EM fraction: 2.04%\t| Total W area in first bin:             0.43\t| Total W area:             2040.18\t| Total W flux: 1.34\n",
      "EM fraction: 2.05%\t| Total W area in first bin:             0.43\t| Total W area:             2039.91\t| Total W flux: 1.34\n",
      "EM fraction: 2.06%\t| Total W area in first bin:             0.43\t| Total W area:             2039.64\t| Total W flux: 1.34\n",
      "EM fraction: 2.08%\t| Total W area in first bin:             0.43\t| Total W area:             2039.38\t| Total W flux: 1.34\n",
      "EM fraction: 2.09%\t| Total W area in first bin:             0.43\t| Total W area:             2039.11\t| Total W flux: 1.34\n",
      "EM fraction: 2.10%\t| Total W area in first bin:             0.43\t| Total W area:             2038.84\t| Total W flux: 1.34\n",
      "EM fraction: 2.12%\t| Total W area in first bin:             0.43\t| Total W area:             2038.58\t| Total W flux: 1.34\n",
      "EM fraction: 2.13%\t| Total W area in first bin:             0.43\t| Total W area:             2038.31\t| Total W flux: 1.34\n",
      "EM fraction: 2.14%\t| Total W area in first bin:             0.43\t| Total W area:             2038.04\t| Total W flux: 1.34\n",
      "EM fraction: 2.15%\t| Total W area in first bin:             0.43\t| Total W area:             2037.78\t| Total W flux: 1.34\n",
      "EM fraction: 2.17%\t| Total W area in first bin:             0.43\t| Total W area:             2037.51\t| Total W flux: 1.34\n",
      "EM fraction: 2.18%\t| Total W area in first bin:             0.43\t| Total W area:             2037.24\t| Total W flux: 1.34\n",
      "EM fraction: 2.19%\t| Total W area in first bin:             0.43\t| Total W area:             2036.97\t| Total W flux: 1.34\n",
      "EM fraction: 2.21%\t| Total W area in first bin:             0.43\t| Total W area:             2036.71\t| Total W flux: 1.34\n",
      "EM fraction: 2.22%\t| Total W area in first bin:             0.43\t| Total W area:             2036.44\t| Total W flux: 1.34\n",
      "EM fraction: 2.23%\t| Total W area in first bin:             0.43\t| Total W area:             2036.17\t| Total W flux: 1.34\n",
      "EM fraction: 2.24%\t| Total W area in first bin:             0.43\t| Total W area:             2035.91\t| Total W flux: 1.34\n",
      "EM fraction: 2.26%\t| Total W area in first bin:             0.43\t| Total W area:             2035.64\t| Total W flux: 1.34\n",
      "EM fraction: 2.27%\t| Total W area in first bin:             0.43\t| Total W area:             2035.37\t| Total W flux: 1.34\n",
      "EM fraction: 2.28%\t| Total W area in first bin:             0.43\t| Total W area:             2035.11\t| Total W flux: 1.34\n",
      "EM fraction: 2.29%\t| Total W area in first bin:             0.43\t| Total W area:             2034.84\t| Total W flux: 1.34\n",
      "EM fraction: 2.31%\t| Total W area in first bin:             0.43\t| Total W area:             2034.57\t| Total W flux: 1.34\n",
      "EM fraction: 2.32%\t| Total W area in first bin:             0.43\t| Total W area:             2034.30\t| Total W flux: 1.34\n",
      "EM fraction: 2.33%\t| Total W area in first bin:             0.43\t| Total W area:             2034.04\t| Total W flux: 1.34\n",
      "EM fraction: 2.35%\t| Total W area in first bin:             0.43\t| Total W area:             2033.77\t| Total W flux: 1.34\n",
      "EM fraction: 2.36%\t| Total W area in first bin:             0.43\t| Total W area:             2033.50\t| Total W flux: 1.34\n",
      "EM fraction: 2.37%\t| Total W area in first bin:             0.43\t| Total W area:             2033.24\t| Total W flux: 1.34\n",
      "EM fraction: 2.38%\t| Total W area in first bin:             0.43\t| Total W area:             2032.97\t| Total W flux: 1.34\n",
      "EM fraction: 2.40%\t| Total W area in first bin:             0.43\t| Total W area:             2032.70\t| Total W flux: 1.34\n",
      "EM fraction: 2.41%\t| Total W area in first bin:             0.43\t| Total W area:             2032.44\t| Total W flux: 1.34\n",
      "EM fraction: 2.42%\t| Total W area in first bin:             0.43\t| Total W area:             2032.17\t| Total W flux: 1.34\n",
      "EM fraction: 2.44%\t| Total W area in first bin:             0.43\t| Total W area:             2031.90\t| Total W flux: 1.34\n",
      "EM fraction: 2.45%\t| Total W area in first bin:             0.43\t| Total W area:             2031.63\t| Total W flux: 1.34\n",
      "EM fraction: 2.46%\t| Total W area in first bin:             0.43\t| Total W area:             2031.37\t| Total W flux: 1.34\n",
      "EM fraction: 2.47%\t| Total W area in first bin:             0.43\t| Total W area:             2031.10\t| Total W flux: 1.34\n",
      "EM fraction: 2.49%\t| Total W area in first bin:             0.43\t| Total W area:             2030.83\t| Total W flux: 1.34\n",
      "EM fraction: 2.50%\t| Total W area in first bin:             0.43\t| Total W area:             2030.57\t| Total W flux: 1.34\n",
      "\n",
      "Site: All\n",
      "Open water flux used: 1.56 [mg CH_4 / m^2 / day]\n",
      "EM fraction: 0.00%\t| Total W area in first bin: \t        7.02\t| Total W area: 5964.35\n",
      "\n",
      "EM fraction: 2.00%\t| Total W area in first bin:             6.88\t| Total W area:             5845.07\t| Total W flux: 1.53\n",
      "EM fraction: 3.49%\t| Total W area in first bin:             6.78\t| Total W area:             5756.37\t| Total W flux: 1.51\n",
      "EM fraction: 4.97%\t| Total W area in first bin:             6.67\t| Total W area:             5667.67\t| Total W flux: 1.48\n",
      "EM fraction: 6.46%\t| Total W area in first bin:             6.57\t| Total W area:             5578.96\t| Total W flux: 1.46\n",
      "EM fraction: 7.95%\t| Total W area in first bin:             6.46\t| Total W area:             5490.26\t| Total W flux: 1.44\n",
      "EM fraction: 9.44%\t| Total W area in first bin:             6.36\t| Total W area:             5401.56\t| Total W flux: 1.41\n",
      "EM fraction: 10.92%\t| Total W area in first bin:             6.25\t| Total W area:             5312.86\t| Total W flux: 1.39\n",
      "EM fraction: 12.41%\t| Total W area in first bin:             6.15\t| Total W area:             5224.16\t| Total W flux: 1.37\n",
      "EM fraction: 13.90%\t| Total W area in first bin:             6.05\t| Total W area:             5135.46\t| Total W flux: 1.34\n",
      "EM fraction: 15.38%\t| Total W area in first bin:             5.94\t| Total W area:             5046.76\t| Total W flux: 1.32\n",
      "EM fraction: 16.87%\t| Total W area in first bin:             5.84\t| Total W area:             4958.06\t| Total W flux: 1.30\n",
      "EM fraction: 18.36%\t| Total W area in first bin:             5.73\t| Total W area:             4869.36\t| Total W flux: 1.27\n",
      "EM fraction: 19.85%\t| Total W area in first bin:             5.63\t| Total W area:             4780.66\t| Total W flux: 1.25\n",
      "EM fraction: 21.33%\t| Total W area in first bin:             5.52\t| Total W area:             4691.96\t| Total W flux: 1.23\n",
      "EM fraction: 22.82%\t| Total W area in first bin:             5.42\t| Total W area:             4603.26\t| Total W flux: 1.20\n",
      "EM fraction: 24.31%\t| Total W area in first bin:             5.31\t| Total W area:             4514.56\t| Total W flux: 1.18\n",
      "EM fraction: 25.79%\t| Total W area in first bin:             5.21\t| Total W area:             4425.86\t| Total W flux: 1.16\n",
      "EM fraction: 27.28%\t| Total W area in first bin:             5.11\t| Total W area:             4337.16\t| Total W flux: 1.13\n",
      "EM fraction: 28.77%\t| Total W area in first bin:             5.00\t| Total W area:             4248.46\t| Total W flux: 1.11\n",
      "EM fraction: 30.26%\t| Total W area in first bin:             4.90\t| Total W area:             4159.75\t| Total W flux: 1.09\n",
      "EM fraction: 31.74%\t| Total W area in first bin:             4.79\t| Total W area:             4071.05\t| Total W flux: 1.06\n",
      "EM fraction: 33.23%\t| Total W area in first bin:             4.69\t| Total W area:             3982.35\t| Total W flux: 1.04\n",
      "EM fraction: 34.72%\t| Total W area in first bin:             4.58\t| Total W area:             3893.65\t| Total W flux: 1.02\n",
      "EM fraction: 36.21%\t| Total W area in first bin:             4.48\t| Total W area:             3804.95\t| Total W flux: 1.00\n",
      "EM fraction: 37.69%\t| Total W area in first bin:             4.37\t| Total W area:             3716.25\t| Total W flux: 0.97\n",
      "EM fraction: 39.18%\t| Total W area in first bin:             4.27\t| Total W area:             3627.55\t| Total W flux: 0.95\n",
      "EM fraction: 40.67%\t| Total W area in first bin:             4.17\t| Total W area:             3538.85\t| Total W flux: 0.93\n",
      "EM fraction: 42.15%\t| Total W area in first bin:             4.06\t| Total W area:             3450.15\t| Total W flux: 0.90\n",
      "EM fraction: 43.64%\t| Total W area in first bin:             3.96\t| Total W area:             3361.45\t| Total W flux: 0.88\n",
      "EM fraction: 45.13%\t| Total W area in first bin:             3.85\t| Total W area:             3272.75\t| Total W flux: 0.86\n",
      "EM fraction: 46.62%\t| Total W area in first bin:             3.75\t| Total W area:             3184.05\t| Total W flux: 0.83\n",
      "EM fraction: 48.10%\t| Total W area in first bin:             3.64\t| Total W area:             3095.35\t| Total W flux: 0.81\n",
      "EM fraction: 49.59%\t| Total W area in first bin:             3.54\t| Total W area:             3006.65\t| Total W flux: 0.79\n",
      "EM fraction: 51.08%\t| Total W area in first bin:             3.44\t| Total W area:             2917.95\t| Total W flux: 0.76\n",
      "EM fraction: 52.56%\t| Total W area in first bin:             3.33\t| Total W area:             2829.24\t| Total W flux: 0.74\n",
      "EM fraction: 54.05%\t| Total W area in first bin:             3.23\t| Total W area:             2740.54\t| Total W flux: 0.72\n",
      "EM fraction: 55.54%\t| Total W area in first bin:             3.12\t| Total W area:             2651.84\t| Total W flux: 0.69\n",
      "EM fraction: 57.03%\t| Total W area in first bin:             3.02\t| Total W area:             2563.14\t| Total W flux: 0.67\n",
      "EM fraction: 58.51%\t| Total W area in first bin:             2.91\t| Total W area:             2474.44\t| Total W flux: 0.65\n",
      "EM fraction: 60.00%\t| Total W area in first bin:             2.81\t| Total W area:             2385.74\t| Total W flux: 0.62\n"
     ]
    }
   ],
   "source": [
    "SENSITIVITY={}\n",
    "FRACTION_POSTINGS={}\n",
    "FLUX_POSTINGS={}\n",
    "for si, s in enumerate(SITES):\n",
    "    print('\\nSite: {}'.format(s))\n",
    "    lsd = fused_regional['Fused_regional'][SITES_LSD[si]] # Lake size distribution for chosen region\n",
    "    SENSITIVITY[s]=np.zeros((FRACTION_STEPS, FLUX_STEPS), 'double') # init\n",
    "    # lsd_tmp=lsd # init\n",
    "    FRACTION_POSTINGS[s]=np.linspace(FRACTION['EM'][si][0], FRACTION['EM'][si][1], FRACTION_STEPS)\n",
    "    for Class in FLUXES.keys():\n",
    "        FLUX_POSTINGS[Class]=np.linspace(FLUXES[Class][0], FLUXES[Class][1], FLUX_STEPS)\n",
    "    lsd_vals = binned_statistic(lsd, lsd, statistic='sum', bins=BIN_EDGES)\n",
    "    ow_flux_mean=np.sum(lsd_vals.statistic*BIN_FLUXES)/lsd.sum()\n",
    "    print(f'Open water flux used: {ow_flux_mean:.3} [mg CH_4 / m^2 / day]')\n",
    "    print(f'EM fraction: {0:0.2f}%\\t| Total W area in first bin: \\t\\\n",
    "        {lsd_vals.statistic[0]*(100- 0)/100:.2f}\\t| Total W area: {np.sum(lsd)*(100- 0)/100:.2f}\\n')\n",
    "    for i in range(FRACTION_STEPS):\n",
    "        ##############################################\n",
    "             # toggle if not using LSD\n",
    "    #     ow_flux_mean=np.mean(FLUX_POSTINGS['OW'])\n",
    "        ##############################################\n",
    "            # toggle if using LSD | with lakes changing bins # Results in higher water flux in highest EM bin bc more of the lakes are now small (unrealistic)\n",
    "    #     lsd_tmp_vals = binned_statistic(lsd_tmp, lsd_tmp, statistic='sum', bins=BIN_EDGES) # could also use np.digitize\n",
    "    #     ow_flux_mean=np.sum(lsd_tmp_vals.statistic*BIN_FLUXES)/lsd_tmp.sum()\n",
    "    #     print(f'EM fraction: {FRACTION_POSTINGS[i]:0.2f}%\\t| Total W area in first bin: \\\n",
    "    #         {lsd_tmp_vals.statistic[0]:.2f}\\t| Total W area: {np.sum(lsd_tmp_vals.statistic):.2f}\\t| Total W flux: {((100- FRACTION_POSTINGS[i]) * ow_flux_mean) / 100:.2f}')\n",
    "        ##############################################\n",
    "            # toggle if using LSD | with lakes NOT changing bins # Results in lower water flux in highest EM bin\n",
    "        print(f'EM fraction: {FRACTION_POSTINGS[s][i]:0.2f}%\\t| Total W area in first bin: \\\n",
    "            {lsd_vals.statistic[0]*(100- FRACTION_POSTINGS[s][i])/100:.2f}\\t| Total W area: \\\n",
    "            {np.sum(lsd_vals.statistic)*(100- FRACTION_POSTINGS[s][i])/100:.2f}\\t| Total W flux: {((100- FRACTION_POSTINGS[s][i]) * ow_flux_mean) / 100:.2f}')\n",
    "        ##############################################\n",
    "        for j in range(FLUX_STEPS):\n",
    "            # each cell = <region's inundation fraction> * (<EM fraction> * <EM flux> + <OW fraction> * <OW flux>)\n",
    "            SENSITIVITY[s][i,j] = np.mean(FRACTION['IN_TOTAL'][si]) / 100 * (FRACTION_POSTINGS[s][i] * FLUX_POSTINGS['EM'][j] + # use median? # note: hard-coded for just two classes: OW and EM\n",
    "                                (100- FRACTION_POSTINGS[s][i]) * ow_flux_mean) / 100\n",
    "        "
   ]
  },
  {
   "cell_type": "code",
   "execution_count": 7,
   "metadata": {},
   "outputs": [
    {
     "data": {
      "text/plain": [
       "{'OW': (0, 166), 'EM': (77, 3000)}"
      ]
     },
     "execution_count": 7,
     "metadata": {},
     "output_type": "execute_result"
    }
   ],
   "source": [
    "## SCRAP\n",
    "\n",
    "FRACTION['EM'][si]\n",
    "FLUXES"
   ]
  },
  {
   "cell_type": "code",
   "execution_count": 8,
   "metadata": {
    "jupyter": {
     "source_hidden": true
    }
   },
   "outputs": [
    {
     "ename": "IndentationError",
     "evalue": "unexpected indent (<ipython-input-8-94ddb254ca94>, line 3)",
     "output_type": "error",
     "traceback": [
      "\u001b[0;36m  File \u001b[0;32m\"<ipython-input-8-94ddb254ca94>\"\u001b[0;36m, line \u001b[0;32m3\u001b[0m\n\u001b[0;31m    lsd-0.004\u001b[0m\n\u001b[0m    ^\u001b[0m\n\u001b[0;31mIndentationError\u001b[0m\u001b[0;31m:\u001b[0m unexpected indent\n"
     ]
    }
   ],
   "source": [
    "## SCRATCH\n",
    "i=1\n",
    "    lsd-0.004\n",
    "lsd_tmp=lsd*(100-FRACTION_POSTINGS[i])/100 # keeps decreasing in mag. each iteration as EM fraction grows\n",
    "lsd\n",
    "FLUX_POSTINGS['OW'][j]\n",
    "FRACTION_POSTINGS\n",
    "FLUX_POSTINGS['OW']\n",
    "lsd_tmp_vals = binned_statistic(lsd_tmp, lsd_tmp, statistic='count', bins=BIN_EDGES) # could also use np.digitize, for binned_stat, need to add min and max bins on either end and rightmost bin is basically ignored\n",
    "# np.any(np.isin(lsd_tmp, np.nan))\n",
    "# lsd_tmp\n",
    "# BIN_FLUXES\n",
    "lsd_tmp_vals.statistic.shape\n",
    "BIN_EDGES\n",
    "# lsd_tmp_vals.statistic\n",
    "# BIN_FLUXES.shape\n",
    "# lsd_tmp_vals.statistic\n",
    "lsd_tmp_vals.statistic*BIN_FLUXES\n",
    "np.sum(lsd_tmp_vals.statistic*BIN_FLUXES)/lsd.sum()\n",
    "# lsd_tmp.sum()\n",
    "# np.sum(lsd_tmp >= BIN_EDGES[-2])\n",
    "# BIN_EDGES[-2]\n",
    "i=7\n",
    "print(f'Bins: {BIN_EDGES}')\n",
    "print(f'Number of lakes in alleged bin {i}: {np.sum((lsd_tmp > BIN_EDGES[i-1]) & (lsd_tmp <= BIN_EDGES[i]))}')\n",
    "print(f'Number of lakes in statistic bins: {lsd_tmp_vals.statistic}')\n",
    "np.max(lsd)\n",
    "np.sum(lsd_tmp > BIN_EDGES[i])\n",
    "i=39\n",
    "(100-FRACTION_POSTINGS[i])/100\n",
    "np.sum(lsd_vals.statistic)\n",
    "lsd_vals.statistic\n",
    "np.sum(lsd)*(100- 0)/100"
   ]
  },
  {
   "cell_type": "code",
   "execution_count": 9,
   "metadata": {},
   "outputs": [
    {
     "name": "stdout",
     "output_type": "stream",
     "text": [
      "Saved fig to:\t/mnt/d/pic/UAVSAR_classification/upscaleSensitivityRaster.pdf\n"
     ]
    },
    {
     "data": {
      "image/png": "[encoded data removed]",
      "text/plain": [
       "<Figure size 432x576 with 7 Axes>"
      ]
     },
     "metadata": {
      "needs_background": "light"
     },
     "output_type": "display_data"
    }
   ],
   "source": [
    "## Raster plot\n",
    "# plt.xticks(FLUX_POSTINGS[0:4:])\n",
    "# plt.yticks(FRACTION_POSTINGS[0:4:])\n",
    "f=16 # font size\n",
    "# ax=np.zeros((3,2))\n",
    "shape=(3,2)\n",
    "fig, ax = plt.subplots(shape[0], shape[1], sharex=True, figsize=(6,8))\n",
    "for si, s in enumerate(SITES):\n",
    "    idx=np.unravel_index(si, shape)\n",
    "    p=ax[idx].imshow(SENSITIVITY[s], origin='lower', aspect='auto', cmap='gnuplot', vmin=0, vmax=450, extent=(FLUXES['EM'][0], FLUXES['EM'][1], FRACTION['EM'][si][0], FRACTION['EM'][si][1]))\n",
    "#     ax[idx].set_xlabel(\"Littoral zone flux ($mg\\ CH_4 / m^2 /day$)\", fontsize=f)\n",
    "#     ax[idx].set_ylabel('Vegetated fraction (%)', fontsize=f)\n",
    "    fig.text(0.5, 0.04, \"Littoral zone flux ($mg\\ CH_4 / m^2 /day$)\", ha='center', va='bottom', fontsize=f, FONTNAME='DejaVu Sans')\n",
    "    fig.text(0.04, 0.5, 'Vegetated fraction (%)', va='center', rotation='vertical', fontsize=f, FONTNAME='sans-serif')\n",
    "#     ax[idx].set(xlabel=\"Littoral zone flux ($mg\\ CH_4 / m^2 /day$)\", ylabel='Vegetated fraction (%)', fontsize=f)\n",
    "#     ax[idx].set_title('{} | Total flux ($mg\\ CH_4 / m^2 /day$)'.format(s), fontsize=f)\n",
    "    ax[idx].set_title(f'{s}: {np.mean(SENSITIVITY[s]):0.0f}', fontsize=f)\n",
    "#     ax[idx].colorbar()\n",
    "#     fig.tight_layout()\n",
    "#     axes=plt.gca()\n",
    "    # plt.rcParams({'dpi':300})\n",
    "    # axes.set_xlim(FLUXES['EM'])\n",
    "    # axes.set_ylim(FRACTION['EM'])\n",
    "    # plt.xticks(FLUX_POSTINGS[0:4:])\n",
    "    # plt.yticks(FRACTION_POSTINGS[0:4:])\n",
    "\n",
    "    ## calculate median:\n",
    "    cy, cx = ndi.center_of_mass(SENSITIVITY[s])\n",
    "\n",
    "    ## report mean value:\n",
    "#     print('Mean flux: \\t{:.1f} mg CH_4/m^2/day'.format(np.mean(SENSITIVITY[s])))\n",
    "#     print('\\'Median\\' flux: \\t{:.1f} mg CH_4/m^2/day'.format(SENSITIVITY[s][cy.astype(int),cx.astype(int)])) # only equal to median if each step size is of equal prob.\n",
    "#     print('''\\nINPUTS:\n",
    "#     FRACTION:\\t{}\n",
    "#     FLUXES:\\t\\t{}\n",
    "#     '''.format(FRACTION, FLUXES))\n",
    "\n",
    "    # common plot options\n",
    "fig.suptitle('Water surface flux contribution ($mg\\ CH_4 / m^2 /day$)', fontsize=f+3)\n",
    "ax[shape[0]-1, shape[1]-1].axis('off')\n",
    "# ax[shape[0]-1, shape[1]-1].colorbar()\n",
    "cbaxes = fig.add_axes([0.6, 0.2, 0.28, 0.03]) \n",
    "fig.colorbar(p, cax=cbaxes, orientation='horizontal')\n",
    "# fig.colorbar(p, ax=ax[shape[0]-1, shape[1]-1], orientation='horizontal')\n",
    "figPth='/mnt/d/pic/UAVSAR_classification/upscaleSensitivityRaster.pdf'\n",
    "plt.savefig(figPth, dpi=200)\n",
    "print('Saved fig to:\\t{}'.format(figPth))"
   ]
  },
  {
   "cell_type": "code",
   "execution_count": 9,
   "metadata": {},
   "outputs": [
    {
     "data": {
      "text/plain": [
       "113.76668318959445"
      ]
     },
     "execution_count": 9,
     "metadata": {},
     "output_type": "execute_result"
    }
   ],
   "source": [
    "np.mean(SENSITIVITY[s])"
   ]
  },
  {
   "cell_type": "code",
   "execution_count": 10,
   "metadata": {},
   "outputs": [
    {
     "data": {
      "text/plain": [
       "<numpy.flatiter at 0x7fffea880190>"
      ]
     },
     "execution_count": 10,
     "metadata": {},
     "output_type": "execute_result"
    }
   ],
   "source": [
    "ax.flat"
   ]
  },
  {
   "cell_type": "code",
   "execution_count": 10,
   "metadata": {},
   "outputs": [
    {
     "name": "stdout",
     "output_type": "stream",
     "text": [
      "Saved fig to:\t/mnt/d/pic/UAVSAR_classification/upscaleSensitivityRasterContours.jpg\n"
     ]
    },
    {
     "data": {
      "text/plain": [
       "<Figure size 432x288 with 0 Axes>"
      ]
     },
     "metadata": {},
     "output_type": "display_data"
    },
    {
     "data": {
      "image/png": "[encoded data removed]",
      "text/plain": [
       "<Figure size 432x576 with 6 Axes>"
      ]
     },
     "metadata": {
      "needs_background": "light"
     },
     "output_type": "display_data"
    }
   ],
   "source": [
    "## Make contour plot\n",
    "## TODO: fill in between lines\n",
    "## from https://matplotlib.org/examples/pylab_examples/contour_label_demo.html\n",
    "\n",
    "    # I/O\n",
    "num_contours=10\n",
    "\n",
    "matplotlib.rcParams['xtick.direction'] = 'out'\n",
    "matplotlib.rcParams['ytick.direction'] = 'out'\n",
    "\n",
    "##\n",
    "plt.figure()\n",
    "\n",
    "# Define a class that forces representation of float to look a certain way\n",
    "# This remove trailing zero so '1.0' becomes '1'\n",
    "class nf(float):\n",
    "    def __repr__(self):\n",
    "        str = '%.1f' % (self.__float__(),)\n",
    "        if str[-1] == '0':\n",
    "            return '%.0f' % self.__float__()\n",
    "        else:\n",
    "            return '%.1f' % self.__float__()\n",
    "    # axis\n",
    "fig, ax = plt.subplots(shape[0], shape[1], sharex=True, figsize=(6,8))\n",
    "\n",
    "    # quick fix\n",
    "# quick_title=SITES # keep unchanged\n",
    "quick_title=['PAD','YF','CS-1','CS-2','All'] # keep unchanged\n",
    "\n",
    "    # loop\n",
    "for si, s in enumerate(SITES):\n",
    "    idx=np.unravel_index(si, shape)\n",
    "        \n",
    "        # define dims\n",
    "    Y=FRACTION_POSTINGS[s]\n",
    "    X=FLUX_POSTINGS['EM']\n",
    "    Z=SENSITIVITY[s]\n",
    "    \n",
    "    # Basic contour plot\n",
    "    CS = ax[idx].contour(X, Y, Z, num_contours, cmap='gnuplot', vmin =0, vmax=500,\n",
    "        extent=(FLUXES['EM'][0], FLUXES['EM'][1], FRACTION['EM'][si][0], FRACTION['EM'][si][1]))\n",
    "\n",
    "    # Recast levels to new class\n",
    "    CS.levels = [nf(val) for val in CS.levels]\n",
    "\n",
    "    # Label levels with specially formatted floats\n",
    "    if plt.rcParams[\"text.usetex\"]:\n",
    "        fmt = r'%r'\n",
    "    else:\n",
    "        fmt = '%r'\n",
    "    ax[idx].clabel(CS, CS.levels, inline=True, fmt=fmt, fontsize=10)\n",
    "#     ax[idx].set_xlabel(\"Littoral zone flux ($mg\\ CH_4 / m^2 /day$)\", fontsize=f+2)\n",
    "#     ax[idx].set_ylabel('Vegetated fraction (%)', fontsize=f)\n",
    "    fig.text(0.5, 0.04, \"Littoral zone flux ($mg\\ CH_4 / m^2 /day$)\", ha='center', va='bottom', fontsize=f, FONTNAME='DejaVu Sans')\n",
    "    fig.text(0.04, 0.5, 'Vegetated fraction (%)', va='center', rotation='vertical', fontsize=f, FONTNAME='sans-serif')\n",
    "    ax[idx].set_title(f'{quick_title[si]}: {np.mean(SENSITIVITY[s]):0.0f}', fontsize=f)\n",
    "#     plt.tight_layout()\n",
    "    \n",
    "    # plot format\n",
    "plt.suptitle('Water surface flux contribution ($mg\\ CH_4 / m^2 /day$)', fontsize=f)\n",
    "ax[shape[0]-1, shape[1]-1].axis('off')\n",
    "\n",
    "    # save\n",
    "figPth='/mnt/d/pic/UAVSAR_classification/upscaleSensitivityRasterContours.pdf'\n",
    "plt.savefig(figPth, dpi=200)\n",
    "figPth='/mnt/d/pic/UAVSAR_classification/upscaleSensitivityRasterContours.jpg'\n",
    "plt.savefig(figPth, dpi=200)\n",
    "print('Saved fig to:\\t{}'.format(figPth))"
   ]
  },
  {
   "cell_type": "code",
   "execution_count": 92,
   "metadata": {},
   "outputs": [
    {
     "data": {
      "text/html": [
       "<div>\n",
       "<style scoped>\n",
       "    .dataframe tbody tr th:only-of-type {\n",
       "        vertical-align: middle;\n",
       "    }\n",
       "\n",
       "    .dataframe tbody tr th {\n",
       "        vertical-align: top;\n",
       "    }\n",
       "\n",
       "    .dataframe thead th {\n",
       "        text-align: right;\n",
       "    }\n",
       "</style>\n",
       "<table border=\"1\" class=\"dataframe\">\n",
       "  <thead>\n",
       "    <tr style=\"text-align: right;\">\n",
       "      <th></th>\n",
       "      <th>flux_to_plot_[mgCH4_m2_day]</th>\n",
       "      <th>confidence_int_min_[mgCH4_m2_day]</th>\n",
       "      <th>confidence_int_max_[mgCH4_m2_day]</th>\n",
       "      <th>EM_percent</th>\n",
       "      <th>flux_to_plot_[mmolCH4_m2_day]</th>\n",
       "      <th>confidence_int_min_[mmolCH4_m2_day]</th>\n",
       "      <th>confidence_int_max_[mmolCH4_m2_day]</th>\n",
       "      <th>conf_int_EM_percent</th>\n",
       "    </tr>\n",
       "  </thead>\n",
       "  <tbody>\n",
       "    <tr>\n",
       "      <th>count</th>\n",
       "      <td>28.000000</td>\n",
       "      <td>28.000000</td>\n",
       "      <td>28.000000</td>\n",
       "      <td>28.000000</td>\n",
       "      <td>23.000000</td>\n",
       "      <td>20.000000</td>\n",
       "      <td>20.000000</td>\n",
       "      <td>28.0</td>\n",
       "    </tr>\n",
       "    <tr>\n",
       "      <th>mean</th>\n",
       "      <td>132.434965</td>\n",
       "      <td>71.736766</td>\n",
       "      <td>95.604821</td>\n",
       "      <td>18.214286</td>\n",
       "      <td>10.049565</td>\n",
       "      <td>4.869000</td>\n",
       "      <td>6.489000</td>\n",
       "      <td>5.0</td>\n",
       "    </tr>\n",
       "    <tr>\n",
       "      <th>std</th>\n",
       "      <td>254.287076</td>\n",
       "      <td>117.230771</td>\n",
       "      <td>160.640411</td>\n",
       "      <td>18.064406</td>\n",
       "      <td>17.014040</td>\n",
       "      <td>8.677389</td>\n",
       "      <td>11.893043</td>\n",
       "      <td>0.0</td>\n",
       "    </tr>\n",
       "    <tr>\n",
       "      <th>min</th>\n",
       "      <td>0.000000</td>\n",
       "      <td>0.160430</td>\n",
       "      <td>0.160430</td>\n",
       "      <td>10.000000</td>\n",
       "      <td>0.010000</td>\n",
       "      <td>0.010000</td>\n",
       "      <td>0.010000</td>\n",
       "      <td>5.0</td>\n",
       "    </tr>\n",
       "    <tr>\n",
       "      <th>25%</th>\n",
       "      <td>1.483977</td>\n",
       "      <td>6.336985</td>\n",
       "      <td>6.336985</td>\n",
       "      <td>10.000000</td>\n",
       "      <td>1.000000</td>\n",
       "      <td>0.350000</td>\n",
       "      <td>0.350000</td>\n",
       "      <td>5.0</td>\n",
       "    </tr>\n",
       "    <tr>\n",
       "      <th>50%</th>\n",
       "      <td>28.556540</td>\n",
       "      <td>55.795262</td>\n",
       "      <td>74.359305</td>\n",
       "      <td>10.000000</td>\n",
       "      <td>2.400000</td>\n",
       "      <td>0.550000</td>\n",
       "      <td>0.550000</td>\n",
       "      <td>5.0</td>\n",
       "    </tr>\n",
       "    <tr>\n",
       "      <th>75%</th>\n",
       "      <td>129.146150</td>\n",
       "      <td>60.696972</td>\n",
       "      <td>74.620004</td>\n",
       "      <td>10.000000</td>\n",
       "      <td>10.200000</td>\n",
       "      <td>6.900000</td>\n",
       "      <td>6.900000</td>\n",
       "      <td>5.0</td>\n",
       "    </tr>\n",
       "    <tr>\n",
       "      <th>max</th>\n",
       "      <td>1114.988500</td>\n",
       "      <td>537.440500</td>\n",
       "      <td>697.870500</td>\n",
       "      <td>60.000000</td>\n",
       "      <td>69.500000</td>\n",
       "      <td>33.500000</td>\n",
       "      <td>43.500000</td>\n",
       "      <td>5.0</td>\n",
       "    </tr>\n",
       "  </tbody>\n",
       "</table>\n",
       "</div>"
      ],
      "text/plain": [
       "       flux_to_plot_[mgCH4_m2_day]  confidence_int_min_[mgCH4_m2_day]  \\\n",
       "count                    28.000000                          28.000000   \n",
       "mean                    132.434965                          71.736766   \n",
       "std                     254.287076                         117.230771   \n",
       "min                       0.000000                           0.160430   \n",
       "25%                       1.483977                           6.336985   \n",
       "50%                      28.556540                          55.795262   \n",
       "75%                     129.146150                          60.696972   \n",
       "max                    1114.988500                         537.440500   \n",
       "\n",
       "       confidence_int_max_[mgCH4_m2_day]  EM_percent  \\\n",
       "count                          28.000000   28.000000   \n",
       "mean                           95.604821   18.214286   \n",
       "std                           160.640411   18.064406   \n",
       "min                             0.160430   10.000000   \n",
       "25%                             6.336985   10.000000   \n",
       "50%                            74.359305   10.000000   \n",
       "75%                            74.620004   10.000000   \n",
       "max                           697.870500   60.000000   \n",
       "\n",
       "       flux_to_plot_[mmolCH4_m2_day]  confidence_int_min_[mmolCH4_m2_day]  \\\n",
       "count                      23.000000                            20.000000   \n",
       "mean                       10.049565                             4.869000   \n",
       "std                        17.014040                             8.677389   \n",
       "min                         0.010000                             0.010000   \n",
       "25%                         1.000000                             0.350000   \n",
       "50%                         2.400000                             0.550000   \n",
       "75%                        10.200000                             6.900000   \n",
       "max                        69.500000                            33.500000   \n",
       "\n",
       "       confidence_int_max_[mmolCH4_m2_day]  conf_int_EM_percent  \n",
       "count                            20.000000                 28.0  \n",
       "mean                              6.489000                  5.0  \n",
       "std                              11.893043                  0.0  \n",
       "min                               0.010000                  5.0  \n",
       "25%                               0.350000                  5.0  \n",
       "50%                               0.550000                  5.0  \n",
       "75%                               6.900000                  5.0  \n",
       "max                              43.500000                  5.0  "
      ]
     },
     "execution_count": 92,
     "metadata": {},
     "output_type": "execute_result"
    }
   ],
   "source": [
    "## Add fluxes from lit\n",
    "lit_pth='data/Flux_synthesis.xlsx'\n",
    "df=pd.read_excel(lit_pth)\n",
    "df=df[~np.isnan( df['flux_to_plot_[mgCH4_m2_day]'])]\n",
    "\n",
    "## fill empty vals\n",
    "df['confidence_int_min_[mgCH4_m2_day]'][np.isin(df['confidence_int_min_[mgCH4_m2_day]'], 0)]=np.mean(df['confidence_int_min_[mgCH4_m2_day]'])\n",
    "df['confidence_int_max_[mgCH4_m2_day]'][np.isin(df['confidence_int_max_[mgCH4_m2_day]'], 0)]=np.mean(df['confidence_int_max_[mgCH4_m2_day]'])\n",
    "df['EM_percent'][np.isnan(df['EM_percent'])]=10 # arbitrary value, placeholder for now\n",
    "df['conf_int_EM_percent']=5\n",
    "\n",
    "## assign\n",
    "FLUXES_LIT=df['flux_to_plot_[mgCH4_m2_day]'] # use for sens. plot\n",
    "FRACTION_LIT=df['EM_percent'] # use for sens. plot\n",
    "FRACTION_LIT_CI=df['conf_int_EM_percent']# use for sens. plot\n",
    "FLUXES_LIT_CI=np.array([df['confidence_int_min_[mgCH4_m2_day]'], df['confidence_int_max_[mgCH4_m2_day]']]) # use for sens. plot\n",
    "\n",
    "## view\n",
    "# df.head()\n",
    "# df\n",
    "df.describe()"
   ]
  },
  {
   "cell_type": "code",
   "execution_count": 93,
   "metadata": {},
   "outputs": [
    {
     "data": {
      "text/plain": [
       "27    10.0\n",
       "28    10.0\n",
       "29    10.0\n",
       "30    60.0\n",
       "31    10.0\n",
       "32    10.0\n",
       "33    10.0\n",
       "34    10.0\n",
       "35    60.0\n",
       "36    60.0\n",
       "37    10.0\n",
       "38    10.0\n",
       "39    10.0\n",
       "40    10.0\n",
       "41    10.0\n",
       "42    10.0\n",
       "58    10.0\n",
       "59    10.0\n",
       "60    10.0\n",
       "61    10.0\n",
       "62    10.0\n",
       "63    10.0\n",
       "64    10.0\n",
       "65    10.0\n",
       "66    10.0\n",
       "67    50.0\n",
       "68    50.0\n",
       "69    10.0\n",
       "Name: EM_percent, dtype: float64"
      ]
     },
     "execution_count": 93,
     "metadata": {},
     "output_type": "execute_result"
    }
   ],
   "source": [
    "# df[np.isnan(df['confidence_int_[mgCH4_m2_day]'])]\n",
    "# df['confidence_int_[mgCH4_m2_day]']\n",
    "# np.mean(df['confidence_int_[mgCH4_m2_day]'])\n",
    "df[np.isin(df['confidence_int_min_[mgCH4_m2_day]'], 0)]\n",
    "df[np.isin(df['confidence_int_min_[mgCH4_m2_day]'], 0)]['confidence_int_min_[mgCH4_m2_day]']\n",
    "# df.loc[:, ([np.isin(df['confidence_int_min_[mgCH4_m2_day]'], 0)], df['confidence_int_min_[mgCH4_m2_day]'])]\n",
    "df.loc[np.isin(df['confidence_int_min_[mgCH4_m2_day]'], 0), :]\n",
    "np.isin(df['confidence_int_min_[mgCH4_m2_day]'], 0)\n",
    "FLUXES_LIT_CI\n",
    "FRACTION_LIT"
   ]
  },
  {
   "cell_type": "code",
   "execution_count": 94,
   "metadata": {},
   "outputs": [
    {
     "data": {
      "application/vnd.jupyter.widget-view+json": {
       "model_id": "195d274c8d8647abbeb4a244b0fff51c",
       "version_major": 2,
       "version_minor": 0
      },
      "text/plain": [
       "Canvas(toolbar=Toolbar(toolitems=[('Home', 'Reset original view', 'home', 'home'), ('Back', 'Back to previous …"
      ]
     },
     "metadata": {},
     "output_type": "display_data"
    },
    {
     "data": {
      "text/plain": [
       "<ErrorbarContainer object of 3 artists>"
      ]
     },
     "execution_count": 94,
     "metadata": {},
     "output_type": "execute_result"
    }
   ],
   "source": [
    "## Single contour plot\n",
    "%matplotlib widget\n",
    "f=12\n",
    "# Define a class that forces representation of float to look a certain way\n",
    "# This remove trailing zero so '1.0' becomes '1'\n",
    "class nf(float):\n",
    "    def __repr__(self):\n",
    "        str = '%.1f' % (self.__float__(),)\n",
    "        if str[-1] == '0':\n",
    "            return '%.0f' % self.__float__()\n",
    "        else:\n",
    "            return '%.1f' % self.__float__()\n",
    "    # axis\n",
    "fig, ax = plt.subplots(sharex=True, figsize=(4,4))\n",
    "\n",
    "    # quick fix\n",
    "# quick_title=SITES # keep unchanged\n",
    "quick_title=['PAD','YF','CS-1','CS-2','All'] # keep unchanged\n",
    "\n",
    "    # loop\n",
    "for si, s in zip([4], ['All']):\n",
    "        \n",
    "        # define dims\n",
    "    Y=FRACTION_POSTINGS[s]\n",
    "    X=FLUX_POSTINGS['EM']\n",
    "    Z=SENSITIVITY[s]\n",
    "    \n",
    "    # Basic contour plot\n",
    "    CS = ax.contour(X, Y, Z, num_contours, cmap='gnuplot', vmin =0, vmax=500,\n",
    "        extent=(FLUXES['EM'][0], FLUXES['EM'][1], FRACTION['EM'][si][0], FRACTION['EM'][si][1]))\n",
    "\n",
    "    # Recast levels to new class\n",
    "    CS.levels = [nf(val) for val in CS.levels]\n",
    "\n",
    "    # Label levels with specially formatted floats\n",
    "    if plt.rcParams[\"text.usetex\"]:\n",
    "        fmt = r'%r'\n",
    "    else:\n",
    "        fmt = '%r'\n",
    "    ax.clabel(CS, CS.levels, inline=True, fmt=fmt, fontsize=10)\n",
    "    ax.set_xlabel(\"Littoral zone flux ($mg\\ CH_4 / m^2 /day$)\", fontsize=f+2)\n",
    "    ax.set_ylabel('Vegetated fraction (%)', fontsize=f)\n",
    "#     fig.text(0.5, 0.04, \"Littoral zone flux ($mg\\ CH_4 / m^2 /day$)\", ha='center', va='bottom', fontsize=f, FONTNAME='DejaVu Sans')\n",
    "#     fig.text(0.04, 0.5, 'Vegetated fraction (%)', va='center', rotation='vertical', fontsize=f, FONTNAME='sans-serif')\n",
    "#     ax.set_title(f'{quick_title[si]}: {np.mean(SENSITIVITY[s]):0.0f}', fontsize=f)\n",
    "    plt.tight_layout()\n",
    "    \n",
    "## Superimpose errorbar plot\n",
    "plt.errorbar(FLUXES_LIT, FRACTION_LIT, FRACTION_LIT_CI,FLUXES_LIT_CI[0])\n"
   ]
  },
  {
   "cell_type": "code",
   "execution_count": 42,
   "metadata": {},
   "outputs": [
    {
     "data": {
      "text/plain": [
       "{'PAD': array([[  7.3764061 ,  14.32789969,  21.27939328, ..., 264.58166892,\n",
       "         271.53316251, 278.4846561 ],\n",
       "        [  7.49461425,  14.56323923,  21.63186421, ..., 269.03373864,\n",
       "         276.10236362, 283.1709886 ],\n",
       "        [  7.6128224 ,  14.79857877,  21.98433515, ..., 273.48580836,\n",
       "         280.67156474, 287.85732111],\n",
       "        ...,\n",
       "        [ 11.75010764,  23.0354628 ,  34.32081796, ..., 429.3082486 ,\n",
       "         440.59360376, 451.87895892],\n",
       "        [ 11.86831579,  23.27080234,  34.6732889 , ..., 433.76031832,\n",
       "         445.16280488, 456.56529143],\n",
       "        [ 11.98652394,  23.50614189,  35.02575984, ..., 438.21238804,\n",
       "         449.73200599, 461.25162394]]),\n",
       " 'YFB': array([[  4.47010956,   8.56230956,  12.65450956, ..., 155.88150956,\n",
       "         159.97370956, 164.06590956],\n",
       "        [  4.51419357,   8.6513628 ,  12.78853203, ..., 157.58945511,\n",
       "         161.72662434, 165.86379357],\n",
       "        [  4.55827758,   8.74041604,  12.9225545 , ..., 159.29740066,\n",
       "         163.47953912, 167.66167758],\n",
       "        ...,\n",
       "        [  6.10121789,  11.85727943,  17.61334096, ..., 219.07549481,\n",
       "         224.83155635, 230.58761789],\n",
       "        [  6.1453019 ,  11.94633267,  17.74736343, ..., 220.78344036,\n",
       "         226.58447113, 232.3855019 ],\n",
       "        [  6.18938591,  12.03538591,  17.88138591, ..., 222.49138591,\n",
       "         228.33738591, 234.18338591]]),\n",
       " 'YKN': array([[  2.97703076,   5.54027691,   8.10352307, ...,  97.81713845,\n",
       "         100.3803846 , 102.94363076],\n",
       "        [  3.02677194,   5.63931129,   8.25185063, ...,  99.69072785,\n",
       "         102.3032672 , 104.91580655],\n",
       "        [  3.07651311,   5.73834566,   8.4001782 , ..., 101.56431726,\n",
       "         104.2261498 , 106.88798235],\n",
       "        ...,\n",
       "        [  4.81745435,   9.20454873,  13.5916431 , ..., 167.13994636,\n",
       "         171.52704074, 175.91413512],\n",
       "        [  4.86719553,   9.3035831 ,  13.73997067, ..., 169.01353576,\n",
       "         173.44992334, 177.88631091],\n",
       "        [  4.9169367 ,   9.40261747,  13.88829824, ..., 170.88712517,\n",
       "         175.37280593, 179.8584867 ]]),\n",
       " 'DAR': array([[ 1.08102593,  1.64314132,  2.2052567 , ..., 21.87929516,\n",
       "         22.44141055, 23.00352593],\n",
       "        [ 1.08466198,  1.65038067,  2.21609936, ..., 22.01625345,\n",
       "         22.58197214, 23.14769083],\n",
       "        [ 1.08829803,  1.65762003,  2.22694202, ..., 22.15321174,\n",
       "         22.72253373, 23.29185573],\n",
       "        ...,\n",
       "        [ 1.21555982,  1.91099744,  2.60643507, ..., 26.94675188,\n",
       "         27.6421895 , 28.33762713],\n",
       "        [ 1.21919587,  1.9182368 ,  2.61727773, ..., 27.08371017,\n",
       "         27.7827511 , 28.48179203],\n",
       "        [ 1.22283192,  1.92547615,  2.62812038, ..., 27.22066846,\n",
       "         27.92331269, 28.62595692]]),\n",
       " 'All': array([[  0.73033178,   1.08708767,   1.44384357, ...,  13.93029998,\n",
       "          14.28705588,  14.64381178],\n",
       "        [  0.99735134,   1.61938726,   2.24142318, ...,  24.01268051,\n",
       "          24.63471644,  25.25675236],\n",
       "        [  1.2643709 ,   2.15168685,   3.0390028 , ...,  34.09506105,\n",
       "          34.982377  ,  35.86969295],\n",
       "        ...,\n",
       "        [ 10.61005548,  20.78217235,  30.95428922, ..., 386.97837969,\n",
       "         397.15049656, 407.32261343],\n",
       "        [ 10.87707504,  21.31447194,  31.75186884, ..., 397.06076022,\n",
       "         407.49815712, 417.93555402],\n",
       "        [ 11.1440946 ,  21.84677153,  32.54944845, ..., 407.14314076,\n",
       "         417.84581768, 428.5484946 ]])}"
      ]
     },
     "execution_count": 42,
     "metadata": {},
     "output_type": "execute_result"
    }
   ],
   "source": [
    "SENSITIVITY"
   ]
  },
  {
   "cell_type": "code",
   "execution_count": 524,
   "metadata": {},
   "outputs": [
    {
     "data": {
      "text/plain": [
       "{'All': array([ 2.        ,  3.48717949,  4.97435897,  6.46153846,  7.94871795,\n",
       "         9.43589744, 10.92307692, 12.41025641, 13.8974359 , 15.38461538,\n",
       "        16.87179487, 18.35897436, 19.84615385, 21.33333333, 22.82051282,\n",
       "        24.30769231, 25.79487179, 27.28205128, 28.76923077, 30.25641026,\n",
       "        31.74358974, 33.23076923, 34.71794872, 36.20512821, 37.69230769,\n",
       "        39.17948718, 40.66666667, 42.15384615, 43.64102564, 45.12820513,\n",
       "        46.61538462, 48.1025641 , 49.58974359, 51.07692308, 52.56410256,\n",
       "        54.05128205, 55.53846154, 57.02564103, 58.51282051, 60.        ])}"
      ]
     },
     "execution_count": 524,
     "metadata": {},
     "output_type": "execute_result"
    }
   ],
   "source": [
    "FRACTION_POSTINGS"
   ]
  },
  {
   "cell_type": "code",
   "execution_count": 15,
   "metadata": {},
   "outputs": [
    {
     "data": {
      "text/plain": [
       "[0, 8, 16, 24, 32, 40, 48, 56]"
      ]
     },
     "execution_count": 15,
     "metadata": {},
     "output_type": "execute_result"
    }
   ],
   "source": [
    "CS.levels"
   ]
  }
 ],
 "metadata": {
  "kernelspec": {
   "display_name": "Python [conda env:geohackw] *",
   "language": "python",
   "name": "conda-env-geohackw-py"
  },
  "language_info": {
   "codemirror_mode": {
    "name": "ipython",
    "version": 3
   },
   "file_extension": ".py",
   "mimetype": "text/x-python",
   "name": "python",
   "nbconvert_exporter": "python",
   "pygments_lexer": "ipython3",
   "version": "3.7.3"
  }
 },
 "nbformat": 4,
 "nbformat_minor": 4
}
