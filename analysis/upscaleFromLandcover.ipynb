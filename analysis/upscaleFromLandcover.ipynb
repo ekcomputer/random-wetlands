{
 "cells": [
  {
   "cell_type": "markdown",
   "metadata": {},
   "source": [
    "## TODO\n",
    "* Re-write for more than two classes\n",
    "* Add size binning: ingest lake size distrib\n",
    "* First fix FI, then FM\n",
    "* Monte Carlo sim to test all permutations; OR:\n",
    "* Increment steps based on PDF, with each step having an equal prob.\n",
    "* Jim's suggestion: try replacing EM with land, in addition to water, as I have it now\n",
    "* Add randomization/monte-carlo into bins- instead of just using mean values (i.e. for size bins, or for FLUX_STEP in senstivity)\n",
    "* install add-ons: git, variable inspector: first install node.js, npm, jupyterlab-git\n",
    "* Find a plugin to make matplotlib plots interactive like when they appear in sep. window\n",
    "* make dimensionless version\n",
    "* (contour plot: fill in color between lines) DONE"
   ]
  },
  {
   "cell_type": "markdown",
   "metadata": {},
   "source": [
    "## Description\n",
    "This script takes as input the landscape inundation fraction, the emergent macrophyte fraction (fraction of all inundated areas), and flux values for these fractions. It then iterates over probable ranges and plots the total flux's sensitivities to these values, Normalized by area.\n",
    "\n",
    "\n",
    "| Name  | Description | Value |\n",
    "|---      |---                |---       |\n",
    "| INPUTS |\n",
    "FLUXES | Dictionary of flux values by class\t<mg CH4 / m2/ day>| OW: (0, 166); EM: (77, 5800)\n",
    "FRACTION:IN_TOTAL | Fraction inundated: Range for open water and emergent macrophyte area divided by total landscape area | (10, 38)\n",
    "FRACTION:EM | Fraction EMERGENT macrophyte: Range for emergent macrophyte area / open water area | (2, 60)\n",
    "FRACTION:  ... | ...\n",
    "FRACTION_STEPS | Number of steps for each landcover type (range / increment) |\n",
    "FLUX_STEPS | Number of steps for flux (range / increment) |\n"
   ]
  },
  {
   "cell_type": "code",
   "execution_count": 80,
   "metadata": {},
   "outputs": [],
   "source": [
    "import numpy as np\n",
    "from matplotlib import pyplot as plt\n",
    "from matplotlib.colors import Colormap\n",
    "import scipy.ndimage as ndi \n",
    "from scipy.io import loadmat\n",
    "from scipy.stats import binned_statistic\n",
    "%matplotlib inline"
   ]
  },
  {
   "cell_type": "markdown",
   "metadata": {},
   "source": [
    "### Inputs"
   ]
  },
  {
   "cell_type": "code",
   "execution_count": 323,
   "metadata": {},
   "outputs": [],
   "source": [
    "# fluxes={'OW': 100,\n",
    "#        'GW': 300,\n",
    "#        'SW': 200}\n",
    "\n",
    "FRACTION={\n",
    "    'IN_TOTAL':(10, 38), # Fraction Inundated; From Run 35\n",
    "    'EM':(2, 60) #(2, 30) # Fraction macrophyte: From Run 35 (range: 2:60)\n",
    "}\n",
    "FLUXES={\n",
    "    'OW': (0, 166), # Open water; From range in: Burger et al 2016\tBiogeosciences | Superceded if using LSD\n",
    "    'EM': (77, 3000) #(77, 380)  # Emergent macrophyte; From mean (max = 5800) in: Burger et al 2016\tBiogeosciences\n",
    "}\n",
    "    # Sensitivity raster dimensions\n",
    "FRACTION_STEPS=40\n",
    "FLUX_STEPS=40\n",
    "\n",
    "# LAT=59 # latitude, in degrees (PAD=59)"
   ]
  },
  {
   "cell_type": "markdown",
   "metadata": {},
   "source": [
    "### Lake size distribution inputs"
   ]
  },
  {
   "cell_type": "markdown",
   "metadata": {},
   "source": [
    "Labels:\n",
    "    'All'\n",
    "    'Sagavanirktok River'\n",
    "    'Yukon Flats Basin'\n",
    "    'Old Crow Flats'\n",
    "    'Mackenzie River Delta'\n",
    "    'Mackenzie River Valley'\n",
    "    'Canadian Shield Margin'\n",
    "    'Canadian Shield'\n",
    "    'Slave River'\n",
    "    'Peace-Athabasca Delta'\n",
    "    'Athabasca River'\n",
    "    'Prairie Potholes North'\n",
    "    'Prairie Potholes South'\n",
    "    'Tuktoyaktuk Peninsula'\n",
    "    []\n",
    "    []\n",
    "    []\n",
    "    []\n",
    "    []\n",
    "    []\n",
    "    []\n",
    "    'Prairie pothole regions'\n",
    "    'Canadian Shield'\n",
    "    'Thermokarst regions'\n",
    "    'Arctic-boreal wetlands'\n",
    "    'Lowland river valleys'"
   ]
  },
  {
   "cell_type": "code",
   "execution_count": 324,
   "metadata": {},
   "outputs": [],
   "source": [
    "lsd_pth='/mnt/d/GoogleDrive/Research/Lake distributions/savedData/fitting_data_regional_4_det.mat' # these directories hold the final version of data used for 2019 paper\n",
    "lsd_labels_pth='/mnt/d/GoogleDrive/Research/Lake distributions/regionLabels4.mat'\n",
    "region=9 # PAD"
   ]
  },
  {
   "cell_type": "markdown",
   "metadata": {},
   "source": [
    "### Size binning data from Holgerson and Raymond 2016"
   ]
  },
  {
   "cell_type": "code",
   "execution_count": 325,
   "metadata": {},
   "outputs": [
    {
     "data": {
      "text/plain": [
       "7"
      ]
     },
     "execution_count": 325,
     "metadata": {},
     "output_type": "execute_result"
    }
   ],
   "source": [
    "BIN_EDGES=np.array([0, 0.001, 0.01, 0.1, 1, 10, 100, 1000000]) # <km2>\n",
    "# BIN_EDGES=np.array([0.001, 0.01, 0.1, 1, 10, 100, 10000000]) * 1000000 # <km2> * 1000000 = <m2>\n",
    "BIN_FLUXES=np.array([2.28, 0.65, 0.28, 0.16,  0.12, 0.10, 0.06])*16.043 # <mmolC (in CH4)/m2/d> * 16.043 = <mg CH4/m2/d>\n",
    "len(BIN_FLUXES)"
   ]
  },
  {
   "cell_type": "markdown",
   "metadata": {},
   "source": [
    "### Load data"
   ]
  },
  {
   "cell_type": "code",
   "execution_count": 326,
   "metadata": {},
   "outputs": [],
   "source": [
    "fused_regional=loadmat(lsd_pth, variable_names='Fused_regional', squeeze_me=True)\n",
    "lsd = fused_regional['Fused_regional'][region] # Lake size distribution for chosen region\n",
    "\n",
    "##############\n",
    "# for area for each region, see: D:\\GoogleDrive\\Research\\Lake distributions\\savedData\\out\n",
    "##############"
   ]
  },
  {
   "cell_type": "markdown",
   "metadata": {},
   "source": [
    "### Create sensitivity raster"
   ]
  },
  {
   "cell_type": "code",
   "execution_count": 327,
   "metadata": {},
   "outputs": [
    {
     "name": "stdout",
     "output_type": "stream",
     "text": [
      "EM fraction: 0.00%\t| Total W area in first bin: \t    0.40\t| Total W area: 186.62\n",
      "\n",
      "EM fraction: 2.00%\t| Total W area in first bin:         0.39\t| Total W area:         182.88\t| Total W flux: 1.34\n",
      "EM fraction: 3.49%\t| Total W area in first bin:         0.39\t| Total W area:         180.11\t| Total W flux: 1.31\n",
      "EM fraction: 4.97%\t| Total W area in first bin:         0.38\t| Total W area:         177.33\t| Total W flux: 1.29\n",
      "EM fraction: 6.46%\t| Total W area in first bin:         0.38\t| Total W area:         174.56\t| Total W flux: 1.27\n",
      "EM fraction: 7.95%\t| Total W area in first bin:         0.37\t| Total W area:         171.78\t| Total W flux: 1.25\n",
      "EM fraction: 9.44%\t| Total W area in first bin:         0.36\t| Total W area:         169.01\t| Total W flux: 1.23\n",
      "EM fraction: 10.92%\t| Total W area in first bin:         0.36\t| Total W area:         166.23\t| Total W flux: 1.21\n",
      "EM fraction: 12.41%\t| Total W area in first bin:         0.35\t| Total W area:         163.46\t| Total W flux: 1.19\n",
      "EM fraction: 13.90%\t| Total W area in first bin:         0.35\t| Total W area:         160.68\t| Total W flux: 1.17\n",
      "EM fraction: 15.38%\t| Total W area in first bin:         0.34\t| Total W area:         157.91\t| Total W flux: 1.15\n",
      "EM fraction: 16.87%\t| Total W area in first bin:         0.33\t| Total W area:         155.13\t| Total W flux: 1.13\n",
      "EM fraction: 18.36%\t| Total W area in first bin:         0.33\t| Total W area:         152.36\t| Total W flux: 1.11\n",
      "EM fraction: 19.85%\t| Total W area in first bin:         0.32\t| Total W area:         149.58\t| Total W flux: 1.09\n",
      "EM fraction: 21.33%\t| Total W area in first bin:         0.32\t| Total W area:         146.81\t| Total W flux: 1.07\n",
      "EM fraction: 22.82%\t| Total W area in first bin:         0.31\t| Total W area:         144.03\t| Total W flux: 1.05\n",
      "EM fraction: 24.31%\t| Total W area in first bin:         0.30\t| Total W area:         141.25\t| Total W flux: 1.03\n",
      "EM fraction: 25.79%\t| Total W area in first bin:         0.30\t| Total W area:         138.48\t| Total W flux: 1.01\n",
      "EM fraction: 27.28%\t| Total W area in first bin:         0.29\t| Total W area:         135.70\t| Total W flux: 0.99\n",
      "EM fraction: 28.77%\t| Total W area in first bin:         0.29\t| Total W area:         132.93\t| Total W flux: 0.97\n",
      "EM fraction: 30.26%\t| Total W area in first bin:         0.28\t| Total W area:         130.15\t| Total W flux: 0.95\n",
      "EM fraction: 31.74%\t| Total W area in first bin:         0.27\t| Total W area:         127.38\t| Total W flux: 0.93\n",
      "EM fraction: 33.23%\t| Total W area in first bin:         0.27\t| Total W area:         124.60\t| Total W flux: 0.91\n",
      "EM fraction: 34.72%\t| Total W area in first bin:         0.26\t| Total W area:         121.83\t| Total W flux: 0.89\n",
      "EM fraction: 36.21%\t| Total W area in first bin:         0.26\t| Total W area:         119.05\t| Total W flux: 0.87\n",
      "EM fraction: 37.69%\t| Total W area in first bin:         0.25\t| Total W area:         116.28\t| Total W flux: 0.85\n",
      "EM fraction: 39.18%\t| Total W area in first bin:         0.24\t| Total W area:         113.50\t| Total W flux: 0.83\n",
      "EM fraction: 40.67%\t| Total W area in first bin:         0.24\t| Total W area:         110.73\t| Total W flux: 0.81\n",
      "EM fraction: 42.15%\t| Total W area in first bin:         0.23\t| Total W area:         107.95\t| Total W flux: 0.79\n",
      "EM fraction: 43.64%\t| Total W area in first bin:         0.23\t| Total W area:         105.18\t| Total W flux: 0.77\n",
      "EM fraction: 45.13%\t| Total W area in first bin:         0.22\t| Total W area:         102.40\t| Total W flux: 0.75\n",
      "EM fraction: 46.62%\t| Total W area in first bin:         0.21\t| Total W area:         99.62\t| Total W flux: 0.73\n",
      "EM fraction: 48.10%\t| Total W area in first bin:         0.21\t| Total W area:         96.85\t| Total W flux: 0.71\n",
      "EM fraction: 49.59%\t| Total W area in first bin:         0.20\t| Total W area:         94.07\t| Total W flux: 0.69\n",
      "EM fraction: 51.08%\t| Total W area in first bin:         0.20\t| Total W area:         91.30\t| Total W flux: 0.67\n",
      "EM fraction: 52.56%\t| Total W area in first bin:         0.19\t| Total W area:         88.52\t| Total W flux: 0.65\n",
      "EM fraction: 54.05%\t| Total W area in first bin:         0.18\t| Total W area:         85.75\t| Total W flux: 0.63\n",
      "EM fraction: 55.54%\t| Total W area in first bin:         0.18\t| Total W area:         82.97\t| Total W flux: 0.61\n",
      "EM fraction: 57.03%\t| Total W area in first bin:         0.17\t| Total W area:         80.20\t| Total W flux: 0.59\n",
      "EM fraction: 58.51%\t| Total W area in first bin:         0.17\t| Total W area:         77.42\t| Total W flux: 0.57\n",
      "EM fraction: 60.00%\t| Total W area in first bin:         0.16\t| Total W area:         74.65\t| Total W flux: 0.54\n"
     ]
    }
   ],
   "source": [
    "SENSITIVITY=np.zeros((FRACTION_STEPS, FLUX_STEPS), 'double') # init\n",
    "# lsd_tmp=lsd # init\n",
    "FRACTION_POSTINGS=np.linspace(FRACTION['EM'][0], FRACTION['EM'][1], FRACTION_STEPS)\n",
    "FLUX_POSTINGS={}\n",
    "for Class in FLUXES.keys():\n",
    "    FLUX_POSTINGS[Class]=np.linspace(FLUXES[Class][0], FLUXES[Class][1], FLUX_STEPS)\n",
    "print(f'EM fraction: {0:0.2f}%\\t| Total W area in first bin: \\t\\\n",
    "    {lsd_vals.statistic[0]*(100- 0)/100:.2f}\\t| Total W area: {np.sum(lsd)*(100- 0)/100:.2f}\\n')\n",
    "for i in range(FRACTION_STEPS):\n",
    "    lsd_tmp=lsd*(100-FRACTION_POSTINGS[i])/100 # change lake size distribution by swapping water for EM # Only used if using LSD toggles, below\n",
    "\n",
    "    ##############################################\n",
    "         # toggle if not using LSD\n",
    "#     ow_flux_mean=np.mean(FLUX_POSTINGS['OW'])\n",
    "    ##############################################\n",
    "        # toggle if using LSD | with lakes changing bins # Results in higher water flux in highest EM bin bc more of the lakes are now small (unrealistic)\n",
    "#     lsd_tmp_vals = binned_statistic(lsd_tmp, lsd_tmp, statistic='sum', bins=BIN_EDGES) # could also use np.digitize\n",
    "#     ow_flux_mean=np.sum(lsd_tmp_vals.statistic*BIN_FLUXES)/lsd_tmp.sum()\n",
    "#     print(f'EM fraction: {FRACTION_POSTINGS[i]:0.2f}%\\t| Total W area in first bin: \\\n",
    "#         {lsd_tmp_vals.statistic[0]:.2f}\\t| Total W area: {np.sum(lsd_tmp_vals.statistic):.2f}\\t| Total W flux: {((100- FRACTION_POSTINGS[i]) * ow_flux_mean) / 100:.2f}')\n",
    "    ##############################################\n",
    "        # toggle if using LSD | with lakes NOT changing bins # Results in lower water flux in highest EM bin\n",
    "    lsd_vals = binned_statistic(lsd, lsd, statistic='sum', bins=BIN_EDGES)\n",
    "    ow_flux_mean=np.sum(lsd_vals.statistic*BIN_FLUXES)/lsd.sum()\n",
    "    print(f'EM fraction: {FRACTION_POSTINGS[i]:0.2f}%\\t| Total W area in first bin: \\\n",
    "        {lsd_vals.statistic[0]*(100- FRACTION_POSTINGS[i])/100:.2f}\\t| Total W area: \\\n",
    "        {np.sum(lsd_vals.statistic)*(100- FRACTION_POSTINGS[i])/100:.2f}\\t| Total W flux: {((100- FRACTION_POSTINGS[i]) * ow_flux_mean) / 100:.2f}')\n",
    "    ##############################################\n",
    "    for j in range(FLUX_STEPS):\n",
    "        SENSITIVITY[i,j] = np.mean(FRACTION['IN_TOTAL']) / 100 * (FRACTION_POSTINGS[i] * FLUX_POSTINGS['EM'][j] + # use median? # note: hard-coded for just two classes: OW and EM\n",
    "                            (100- FRACTION_POSTINGS[i]) * ow_flux_mean) / 100\n",
    "        "
   ]
  },
  {
   "cell_type": "code",
   "execution_count": 328,
   "metadata": {
    "jupyter": {
     "source_hidden": true
    }
   },
   "outputs": [
    {
     "name": "stdout",
     "output_type": "stream",
     "text": [
      "Bins: [0.e+00 1.e-03 1.e-02 1.e-01 1.e+00 1.e+01 1.e+02 1.e+06]\n",
      "Number of lakes in alleged bin 7: 1\n",
      "Number of lakes in statistic bins: [1.658e+03 4.790e+02 1.190e+02 3.100e+01 4.000e+00 1.000e+00 1.000e+00]\n"
     ]
    },
    {
     "data": {
      "text/plain": [
       "186.61657049632362"
      ]
     },
     "execution_count": 328,
     "metadata": {},
     "output_type": "execute_result"
    }
   ],
   "source": [
    "    ## SCRATCH\n",
    "i=1\n",
    "    lsd-0.004\n",
    "lsd_tmp=lsd*(100-FRACTION_POSTINGS[i])/100 # keeps decreasing in mag. each iteration as EM fraction grows\n",
    "lsd\n",
    "FLUX_POSTINGS['OW'][j]\n",
    "FRACTION_POSTINGS\n",
    "FLUX_POSTINGS['OW']\n",
    "lsd_tmp_vals = binned_statistic(lsd_tmp, lsd_tmp, statistic='count', bins=BIN_EDGES) # could also use np.digitize, for binned_stat, need to add min and max bins on either end and rightmost bin is basically ignored\n",
    "# np.any(np.isin(lsd_tmp, np.nan))\n",
    "# lsd_tmp\n",
    "# BIN_FLUXES\n",
    "lsd_tmp_vals.statistic.shape\n",
    "BIN_EDGES\n",
    "# lsd_tmp_vals.statistic\n",
    "# BIN_FLUXES.shape\n",
    "# lsd_tmp_vals.statistic\n",
    "lsd_tmp_vals.statistic*BIN_FLUXES\n",
    "np.sum(lsd_tmp_vals.statistic*BIN_FLUXES)/lsd.sum()\n",
    "# lsd_tmp.sum()\n",
    "# np.sum(lsd_tmp >= BIN_EDGES[-2])\n",
    "# BIN_EDGES[-2]\n",
    "i=7\n",
    "print(f'Bins: {BIN_EDGES}')\n",
    "print(f'Number of lakes in alleged bin {i}: {np.sum((lsd_tmp > BIN_EDGES[i-1]) & (lsd_tmp <= BIN_EDGES[i]))}')\n",
    "print(f'Number of lakes in statistic bins: {lsd_tmp_vals.statistic}')\n",
    "np.max(lsd)\n",
    "np.sum(lsd_tmp > BIN_EDGES[i])\n",
    "i=39\n",
    "(100-FRACTION_POSTINGS[i])/100\n",
    "np.sum(lsd_vals.statistic)\n",
    "lsd_vals.statistic\n",
    "np.sum(lsd)*(100- 0)/100"
   ]
  },
  {
   "cell_type": "code",
   "execution_count": 329,
   "metadata": {},
   "outputs": [
    {
     "name": "stdout",
     "output_type": "stream",
     "text": [
      "Mean flux: \t114.7 mg CH_4/m^2/day\n",
      "'Median' flux: \t183.6 mg CH_4/m^2/day\n",
      "\n",
      "INPUTS:\n",
      "FRACTION:\t{'IN_TOTAL': (10, 38), 'EM': (2, 60)}\n",
      "FLUXES:\t\t{'OW': (0, 166), 'EM': (77, 3000)}\n",
      "\n",
      "Saved fig to:\t/mnt/d/pic/UAVSAR_classification/upscaleSensitivityRaster.png\n"
     ]
    },
    {
     "data": {
      "image/png": "[encoded data removed]",
      "text/plain": [
       "<Figure size 432x288 with 2 Axes>"
      ]
     },
     "metadata": {
      "needs_background": "light"
     },
     "output_type": "display_data"
    }
   ],
   "source": [
    "# plt.xticks(FLUX_POSTINGS[0:4:])\n",
    "# plt.yticks(FRACTION_POSTINGS[0:4:])\n",
    "p=plt.imshow(SENSITIVITY, origin='lower', aspect='auto', cmap='viridis', extent=(FLUXES['EM'][0], FLUXES['EM'][1], FRACTION['EM'][0], FRACTION['EM'][1]))\n",
    "plt.xlabel(\"Littoral zone flux ($mg\\ CH_4 / m^2 /day$)\")\n",
    "plt.ylabel('Macrophyte fraction (%)')\n",
    "plt.colorbar()\n",
    "axes=plt.gca()\n",
    "# plt.rcParams({'dpi':300})\n",
    "# axes.set_xlim(FLUXES['EM'])\n",
    "# axes.set_ylim(FRACTION['EM'])\n",
    "# plt.xticks(FLUX_POSTINGS[0:4:])\n",
    "# plt.yticks(FRACTION_POSTINGS[0:4:])\n",
    "\n",
    "## calculate median:\n",
    "cy, cx = ndi.center_of_mass(SENSITIVITY)\n",
    "\n",
    "## report mean value:\n",
    "print('Mean flux: \\t{:.1f} mg CH_4/m^2/day'.format(np.mean(SENSITIVITY)))\n",
    "print('\\'Median\\' flux: \\t{:.1f} mg CH_4/m^2/day'.format(SENSITIVITY[cy.astype(int),cx.astype(int)])) # only equal to median if each step size is of equal prob.\n",
    "\n",
    "print('''\\nINPUTS:\n",
    "FRACTION:\\t{}\n",
    "FLUXES:\\t\\t{}\n",
    "'''.format(FRACTION, FLUXES))\n",
    "figPth='/mnt/d/pic/UAVSAR_classification/upscaleSensitivityRaster.png'\n",
    "plt.savefig(figPth, dpi=200)\n",
    "print('Saved fig to:\\t{}'.format(figPth))"
   ]
  },
  {
   "cell_type": "code",
   "execution_count": 322,
   "metadata": {},
   "outputs": [
    {
     "name": "stdout",
     "output_type": "stream",
     "text": [
      "Saved fig to:\t/mnt/d/pic/UAVSAR_classification/upscaleSensitivityRasterContours.png\n"
     ]
    },
    {
     "data": {
      "image/png": "[encoded data removed]",
      "text/plain": [
       "<Figure size 432x288 with 1 Axes>"
      ]
     },
     "metadata": {
      "needs_background": "light"
     },
     "output_type": "display_data"
    }
   ],
   "source": [
    "## Make contour plot\n",
    "## TODO: fill in between lines\n",
    "## from https://matplotlib.org/examples/pylab_examples/contour_label_demo.html\n",
    "\n",
    "import matplotlib\n",
    "import matplotlib.mlab as mlab\n",
    "import matplotlib.ticker as ticker\n",
    "import matplotlib.pyplot as plt\n",
    "\n",
    "    # I/O\n",
    "num_contours=10\n",
    "\n",
    "matplotlib.rcParams['xtick.direction'] = 'out'\n",
    "matplotlib.rcParams['ytick.direction'] = 'out'\n",
    "\n",
    "##\n",
    "plt.figure()\n",
    "\n",
    "# define dims\n",
    "Y=FRACTION_POSTINGS\n",
    "X=FLUX_POSTINGS['EM']\n",
    "Z=SENSITIVITY\n",
    "\n",
    "# Basic contour plot\n",
    "CS = plt.contour(X, Y, Z, num_contours)\n",
    "\n",
    "\n",
    "# Define a class that forces representation of float to look a certain way\n",
    "# This remove trailing zero so '1.0' becomes '1'\n",
    "class nf(float):\n",
    "    def __repr__(self):\n",
    "        str = '%.1f' % (self.__float__(),)\n",
    "        if str[-1] == '0':\n",
    "            return '%.0f' % self.__float__()\n",
    "        else:\n",
    "            return '%.1f' % self.__float__()\n",
    "\n",
    "# Recast levels to new class\n",
    "CS.levels = [nf(val) for val in CS.levels]\n",
    "\n",
    "# Label levels with specially formatted floats\n",
    "if plt.rcParams[\"text.usetex\"]:\n",
    "    fmt = r'%r'\n",
    "else:\n",
    "    fmt = '%r'\n",
    "plt.clabel(CS, CS.levels, inline=True, fmt=fmt, fontsize=10)\n",
    "plt.xlabel(\"LIttoral zone flux ($mg\\ CH_4 / m^2 /day$)\")\n",
    "plt.ylabel('Macrophyte fraction (%)')\n",
    "plt.title('Total flux ($mg\\ CH_4 / m^2 /day$)')\n",
    "\n",
    "# save\n",
    "\n",
    "figPth='/mnt/d/pic/UAVSAR_classification/upscaleSensitivityRasterContours.png'\n",
    "plt.savefig(figPth, dpi=200)\n",
    "print('Saved fig to:\\t{}'.format(figPth))"
   ]
  },
  {
   "cell_type": "code",
   "execution_count": 15,
   "metadata": {},
   "outputs": [
    {
     "data": {
      "text/plain": [
       "[0, 8, 16, 24, 32, 40, 48, 56]"
      ]
     },
     "execution_count": 15,
     "metadata": {},
     "output_type": "execute_result"
    }
   ],
   "source": [
    "CS.levels"
   ]
  }
 ],
 "metadata": {
  "kernelspec": {
   "display_name": "Python 3",
   "language": "python",
   "name": "python3"
  },
  "language_info": {
   "codemirror_mode": {
    "name": "ipython",
    "version": 3
   },
   "file_extension": ".py",
   "mimetype": "text/x-python",
   "name": "python",
   "nbconvert_exporter": "python",
   "pygments_lexer": "ipython3",
   "version": "3.7.6"
  }
 },
 "nbformat": 4,
 "nbformat_minor": 4
}
