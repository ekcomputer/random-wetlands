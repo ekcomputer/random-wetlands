{
 "cells": [
  {
   "cell_type": "markdown",
   "metadata": {},
   "source": [
    "Makes a bar plot of time series landcover data. Can work from saved Excel file with all stats or recompute values each time. Be sure to comment out appropriate.\\\n",
    "\\\n",
    "Note: Make sure using inner/common ROIs"
   ]
  },
  {
   "cell_type": "code",
   "execution_count": 1,
   "metadata": {},
   "outputs": [],
   "source": [
    "## imports\n",
    "import glob\n",
    "import os\n",
    "import matplotlib.pyplot as plt\n",
    "import numpy as np\n",
    "import pandas as pd\n",
    "import geopandas as gpd\n",
    "import rasterio as rio\n",
    "from python_env import *\n",
    "from skimage.morphology import remove_small_holes\n",
    "# from memory_profiler import profile"
   ]
  },
  {
   "cell_type": "code",
   "execution_count": 2,
   "metadata": {},
   "outputs": [],
   "source": [
    "## User vars\n",
    "# min_size=500 # meters squared\n",
    "# regions=np.array(['Daring','Baker','PAD','YFLATS']) # See env.py\n",
    "\n",
    "## constants\n",
    "colors_lookup={'early 2017':'#B7B7A4', 'late 2017':'#FFD1AD', 'late 2018':'#D0A68A', 'late 2019':'#B97550'} #v2\n",
    "colors_lookup_category = {'water':'#BED2FF', 'wet emergent':'#58D918', 'wet emergent nl': '#B4E39D'}\n",
    "labels=dict(zip(\n",
    "    [\n",
    "    'daring_21405_17063_010_170614_L090_CX_01_LUT-Freeman_rcls_brn.tif',\n",
    "    'daring_21405_17094_010_170909_L090_CX_01_LUT-Freeman_rcls_brn.tif',\n",
    "    'bakerc_16008_18047_005_180821_L090_CX_02_Freeman-inc_rcls_brn.tif',\n",
    "    'bakerc_16008_19059_012_190904_L090_CX_01_Freeman-inc_rcls_brn.tif',\n",
    "    'PAD_170613_mosaic_rcls_brn.tif',\n",
    "    'PAD_170908_mosaic_rcls_brn.tif',\n",
    "    'PAD_180821_mosaic_rcls_brn.tif',\n",
    "    'padelE_36000_19059_003_190904_L090_CX_01_Freeman-inc_rcls_brn.tif',\n",
    "    'YFLATS_170621_mosaic_rcls_brn.tif',\n",
    "    'YFLATS_170916_mosaic_rcls_brn.tif',\n",
    "    'YFLATS_180827_mosaic_rcls_brn.tif',\n",
    "    'YFLATS_190914_mosaic_rcls_brn.tif'\n",
    "    ],\n",
    "\n",
    "    [\n",
    "   ['CSD June 2017', 'early 2017'],\n",
    "    ['CSD Sept 2017', 'late 2017'],\n",
    "    ['CSB Aug 2018', 'late 2018'],\n",
    "    ['CSB Sept 2019', 'late 2019'],\n",
    "    ['PAD June 2017', 'early 2017'],\n",
    "    ['PAD Sept 2017', 'late 2017'],\n",
    "    ['PAD Aug 2018', 'late 2018'],\n",
    "    ['PAD Sept 2019', 'late 2019'],\n",
    "    ['YF June 2017', 'early 2017'],\n",
    "    ['YF Sept 2017', 'late 2017'],\n",
    "    ['YF Aug 2018', 'late 2018'],\n",
    "    ['YF Sept 2019', 'late 2019']\n",
    "    ]\n",
    "))\n",
    "best_dates=[\n",
    "    'YFLATS_180827_mosaic_rcls_brn.tif', 'padelE_36000_19059_003_190904_L090_CX_01_Freeman-inc_rcls_brn.tif', 'daring_21405_17094_010_170909_L090_CX_01_LUT-Freeman_rcls_brn.tif', 'bakerc_16008_18047_005_180821_L090_CX_02_Freeman-inc_rcls_brn.tif'\n",
    "            ]\n",
    "\n",
    "## Plotting style\n",
    "plt.style.use('/mnt/d/Dropbox/Python/Matplotlib-rcParams/presentation.mplstyle')"
   ]
  },
  {
   "cell_type": "code",
   "execution_count": 3,
   "metadata": {},
   "outputs": [],
   "source": [
    "## I/O\n",
    "files_in=glob.glob(os.path.join(output_raster_dir_common_roi, '*.tif')) #common-roi"
   ]
  },
  {
   "cell_type": "code",
   "execution_count": 6,
   "metadata": {},
   "outputs": [
    {
     "name": "stdout",
     "output_type": "stream",
     "text": [
      "\t(File 1 of 12)\n",
      "\n",
      "\t(File 2 of 12)\n",
      "\n",
      "\t(File 3 of 12)\n",
      "\n",
      "\t(File 4 of 12)\n",
      "\n",
      "\t(File 5 of 12)\n",
      "\n",
      "\t(File 6 of 12)\n",
      "\n",
      "\t(File 7 of 12)\n",
      "\n",
      "\t(File 8 of 12)\n",
      "\n",
      "\t(File 9 of 12)\n",
      "\n",
      "\t(File 10 of 12)\n",
      "\n",
      "\t(File 11 of 12)\n",
      "\n",
      "\t(File 12 of 12)\n",
      "\n"
     ]
    },
    {
     "data": {
      "text/html": [
       "<div>\n",
       "<style scoped>\n",
       "    .dataframe tbody tr th:only-of-type {\n",
       "        vertical-align: middle;\n",
       "    }\n",
       "\n",
       "    .dataframe tbody tr th {\n",
       "        vertical-align: top;\n",
       "    }\n",
       "\n",
       "    .dataframe thead th {\n",
       "        text-align: right;\n",
       "    }\n",
       "</style>\n",
       "<table border=\"1\" class=\"dataframe\">\n",
       "  <thead>\n",
       "    <tr style=\"text-align: right;\">\n",
       "      <th></th>\n",
       "      <th>filename</th>\n",
       "      <th>site_ssn_yr</th>\n",
       "      <th>season</th>\n",
       "      <th>site_ssn</th>\n",
       "      <th>site</th>\n",
       "      <th>year</th>\n",
       "      <th>area_tot_in_roi_km2</th>\n",
       "      <th>area_land</th>\n",
       "      <th>area_wet</th>\n",
       "      <th>area_wet_emerg</th>\n",
       "      <th>...</th>\n",
       "      <th>area_wet_shrubs</th>\n",
       "      <th>area_wet_forest</th>\n",
       "      <th>area_wet_emerg_no_lk</th>\n",
       "      <th>area_bridge</th>\n",
       "      <th>area_water_no_lk</th>\n",
       "      <th>area_non_roi</th>\n",
       "      <th>no_data</th>\n",
       "      <th>area_per_pixel_m2</th>\n",
       "      <th>em_island_area</th>\n",
       "      <th>em_percent_islands</th>\n",
       "    </tr>\n",
       "  </thead>\n",
       "  <tbody>\n",
       "    <tr>\n",
       "      <th>0</th>\n",
       "      <td>bakerc_16008_18047_005_180821_L090_CX_02_Freem...</td>\n",
       "      <td>CSB Aug 2018</td>\n",
       "      <td>late</td>\n",
       "      <td>late 2018</td>\n",
       "      <td>CSB</td>\n",
       "      <td>2018</td>\n",
       "      <td>1155.465249</td>\n",
       "      <td>800.445196</td>\n",
       "      <td>317.047639</td>\n",
       "      <td>38.761823</td>\n",
       "      <td>...</td>\n",
       "      <td>10.985178</td>\n",
       "      <td>0.255881</td>\n",
       "      <td>28.684792</td>\n",
       "      <td>9.256800</td>\n",
       "      <td>0.030821</td>\n",
       "      <td>48.238508</td>\n",
       "      <td>417.171144</td>\n",
       "      <td>36.955652</td>\n",
       "      <td>0.038810</td>\n",
       "      <td>0.100124</td>\n",
       "    </tr>\n",
       "    <tr>\n",
       "      <th>1</th>\n",
       "      <td>bakerc_16008_19059_012_190904_L090_CX_01_Freem...</td>\n",
       "      <td>CSB Sept 2019</td>\n",
       "      <td>late</td>\n",
       "      <td>late 2019</td>\n",
       "      <td>CSB</td>\n",
       "      <td>2019</td>\n",
       "      <td>1160.122313</td>\n",
       "      <td>829.290303</td>\n",
       "      <td>314.904271</td>\n",
       "      <td>25.845911</td>\n",
       "      <td>...</td>\n",
       "      <td>3.591119</td>\n",
       "      <td>0.228416</td>\n",
       "      <td>6.535705</td>\n",
       "      <td>9.253278</td>\n",
       "      <td>0.138757</td>\n",
       "      <td>44.636705</td>\n",
       "      <td>340.181635</td>\n",
       "      <td>36.942627</td>\n",
       "      <td>0.029121</td>\n",
       "      <td>0.112672</td>\n",
       "    </tr>\n",
       "    <tr>\n",
       "      <th>2</th>\n",
       "      <td>daring_21405_17063_010_170614_L090_CX_01_LUT-F...</td>\n",
       "      <td>CSD June 2017</td>\n",
       "      <td>early</td>\n",
       "      <td>early 2017</td>\n",
       "      <td>CSD</td>\n",
       "      <td>2017</td>\n",
       "      <td>3036.654099</td>\n",
       "      <td>2209.595126</td>\n",
       "      <td>818.120803</td>\n",
       "      <td>17.767751</td>\n",
       "      <td>...</td>\n",
       "      <td>0.781375</td>\n",
       "      <td>0.002458</td>\n",
       "      <td>3.179191</td>\n",
       "      <td>3.990785</td>\n",
       "      <td>1.768194</td>\n",
       "      <td>1240.820920</td>\n",
       "      <td>18920.788915</td>\n",
       "      <td>34.615491</td>\n",
       "      <td>0.032777</td>\n",
       "      <td>0.184475</td>\n",
       "    </tr>\n",
       "    <tr>\n",
       "      <th>3</th>\n",
       "      <td>daring_21405_17094_010_170909_L090_CX_01_LUT-F...</td>\n",
       "      <td>CSD Sept 2017</td>\n",
       "      <td>late</td>\n",
       "      <td>late 2017</td>\n",
       "      <td>CSD</td>\n",
       "      <td>2017</td>\n",
       "      <td>3036.628307</td>\n",
       "      <td>2245.570531</td>\n",
       "      <td>782.792895</td>\n",
       "      <td>15.526973</td>\n",
       "      <td>...</td>\n",
       "      <td>0.395750</td>\n",
       "      <td>0.004396</td>\n",
       "      <td>2.424240</td>\n",
       "      <td>3.992666</td>\n",
       "      <td>1.847974</td>\n",
       "      <td>1241.063799</td>\n",
       "      <td>19012.455683</td>\n",
       "      <td>34.614690</td>\n",
       "      <td>0.019914</td>\n",
       "      <td>0.128254</td>\n",
       "    </tr>\n",
       "    <tr>\n",
       "      <th>4</th>\n",
       "      <td>padelE_36000_19059_003_190904_L090_CX_01_Freem...</td>\n",
       "      <td>PAD Sept 2019</td>\n",
       "      <td>late</td>\n",
       "      <td>late 2019</td>\n",
       "      <td>PAD</td>\n",
       "      <td>2019</td>\n",
       "      <td>1335.893876</td>\n",
       "      <td>943.575619</td>\n",
       "      <td>244.962520</td>\n",
       "      <td>101.812186</td>\n",
       "      <td>...</td>\n",
       "      <td>41.815993</td>\n",
       "      <td>0.232243</td>\n",
       "      <td>30.638401</td>\n",
       "      <td>116.626905</td>\n",
       "      <td>0.090431</td>\n",
       "      <td>2547.113182</td>\n",
       "      <td>8738.678598</td>\n",
       "      <td>39.403364</td>\n",
       "      <td>0.023114</td>\n",
       "      <td>0.022703</td>\n",
       "    </tr>\n",
       "    <tr>\n",
       "      <th>5</th>\n",
       "      <td>PAD_170613_mosaic_rcls_brn.tif</td>\n",
       "      <td>PAD June 2017</td>\n",
       "      <td>early</td>\n",
       "      <td>early 2017</td>\n",
       "      <td>PAD</td>\n",
       "      <td>2017</td>\n",
       "      <td>1338.875787</td>\n",
       "      <td>805.262060</td>\n",
       "      <td>392.022069</td>\n",
       "      <td>207.870880</td>\n",
       "      <td>...</td>\n",
       "      <td>72.837699</td>\n",
       "      <td>1.765632</td>\n",
       "      <td>24.556699</td>\n",
       "      <td>116.786401</td>\n",
       "      <td>0.248557</td>\n",
       "      <td>3471.312920</td>\n",
       "      <td>8713.095103</td>\n",
       "      <td>39.403508</td>\n",
       "      <td>0.046570</td>\n",
       "      <td>0.022403</td>\n",
       "    </tr>\n",
       "    <tr>\n",
       "      <th>6</th>\n",
       "      <td>PAD_170908_mosaic_rcls_brn.tif</td>\n",
       "      <td>PAD Sept 2017</td>\n",
       "      <td>late</td>\n",
       "      <td>late 2017</td>\n",
       "      <td>PAD</td>\n",
       "      <td>2017</td>\n",
       "      <td>1337.719467</td>\n",
       "      <td>895.499854</td>\n",
       "      <td>299.050365</td>\n",
       "      <td>111.868092</td>\n",
       "      <td>...</td>\n",
       "      <td>17.616259</td>\n",
       "      <td>0.182753</td>\n",
       "      <td>26.063295</td>\n",
       "      <td>116.626335</td>\n",
       "      <td>0.479619</td>\n",
       "      <td>3466.533119</td>\n",
       "      <td>8716.553088</td>\n",
       "      <td>39.403451</td>\n",
       "      <td>0.022805</td>\n",
       "      <td>0.020386</td>\n",
       "    </tr>\n",
       "    <tr>\n",
       "      <th>7</th>\n",
       "      <td>PAD_180821_mosaic_rcls_brn.tif</td>\n",
       "      <td>PAD Aug 2018</td>\n",
       "      <td>late</td>\n",
       "      <td>late 2018</td>\n",
       "      <td>PAD</td>\n",
       "      <td>2018</td>\n",
       "      <td>1338.063219</td>\n",
       "      <td>891.012764</td>\n",
       "      <td>296.513324</td>\n",
       "      <td>153.181000</td>\n",
       "      <td>...</td>\n",
       "      <td>63.574300</td>\n",
       "      <td>1.285939</td>\n",
       "      <td>33.693855</td>\n",
       "      <td>116.653980</td>\n",
       "      <td>0.189295</td>\n",
       "      <td>3478.570041</td>\n",
       "      <td>8576.679430</td>\n",
       "      <td>39.403685</td>\n",
       "      <td>0.030189</td>\n",
       "      <td>0.019708</td>\n",
       "    </tr>\n",
       "    <tr>\n",
       "      <th>8</th>\n",
       "      <td>YFLATS_170621_mosaic_rcls_brn.tif</td>\n",
       "      <td>YF June 2017</td>\n",
       "      <td>early</td>\n",
       "      <td>early 2017</td>\n",
       "      <td>YF</td>\n",
       "      <td>2017</td>\n",
       "      <td>2739.209902</td>\n",
       "      <td>2216.543977</td>\n",
       "      <td>256.983513</td>\n",
       "      <td>76.754088</td>\n",
       "      <td>...</td>\n",
       "      <td>14.422027</td>\n",
       "      <td>3.893359</td>\n",
       "      <td>62.965124</td>\n",
       "      <td>202.383209</td>\n",
       "      <td>0.334078</td>\n",
       "      <td>4585.361195</td>\n",
       "      <td>7117.088322</td>\n",
       "      <td>31.990654</td>\n",
       "      <td>0.046051</td>\n",
       "      <td>0.059998</td>\n",
       "    </tr>\n",
       "    <tr>\n",
       "      <th>9</th>\n",
       "      <td>YFLATS_170916_mosaic_rcls_brn.tif</td>\n",
       "      <td>YF Sept 2017</td>\n",
       "      <td>late</td>\n",
       "      <td>late 2017</td>\n",
       "      <td>YF</td>\n",
       "      <td>2017</td>\n",
       "      <td>2738.868841</td>\n",
       "      <td>2217.806981</td>\n",
       "      <td>244.655819</td>\n",
       "      <td>64.183126</td>\n",
       "      <td>...</td>\n",
       "      <td>15.271676</td>\n",
       "      <td>3.933249</td>\n",
       "      <td>73.701909</td>\n",
       "      <td>202.314192</td>\n",
       "      <td>0.389940</td>\n",
       "      <td>5784.348358</td>\n",
       "      <td>40142.709804</td>\n",
       "      <td>31.993758</td>\n",
       "      <td>0.035654</td>\n",
       "      <td>0.055550</td>\n",
       "    </tr>\n",
       "    <tr>\n",
       "      <th>10</th>\n",
       "      <td>YFLATS_180827_mosaic_rcls_brn.tif</td>\n",
       "      <td>YF Aug 2018</td>\n",
       "      <td>late</td>\n",
       "      <td>late 2018</td>\n",
       "      <td>YF</td>\n",
       "      <td>2018</td>\n",
       "      <td>2739.189990</td>\n",
       "      <td>2331.956159</td>\n",
       "      <td>179.834864</td>\n",
       "      <td>42.066129</td>\n",
       "      <td>...</td>\n",
       "      <td>9.720663</td>\n",
       "      <td>2.552228</td>\n",
       "      <td>24.696691</td>\n",
       "      <td>202.264789</td>\n",
       "      <td>0.437487</td>\n",
       "      <td>3439.683181</td>\n",
       "      <td>42493.285241</td>\n",
       "      <td>31.884512</td>\n",
       "      <td>0.022733</td>\n",
       "      <td>0.054041</td>\n",
       "    </tr>\n",
       "    <tr>\n",
       "      <th>11</th>\n",
       "      <td>YFLATS_190914_mosaic_rcls_brn.tif</td>\n",
       "      <td>YF Sept 2019</td>\n",
       "      <td>late</td>\n",
       "      <td>late 2019</td>\n",
       "      <td>YF</td>\n",
       "      <td>2019</td>\n",
       "      <td>2739.129549</td>\n",
       "      <td>2292.089068</td>\n",
       "      <td>216.724843</td>\n",
       "      <td>46.761957</td>\n",
       "      <td>...</td>\n",
       "      <td>8.846655</td>\n",
       "      <td>2.969439</td>\n",
       "      <td>27.731803</td>\n",
       "      <td>202.244531</td>\n",
       "      <td>0.339304</td>\n",
       "      <td>3439.567706</td>\n",
       "      <td>42447.007787</td>\n",
       "      <td>31.883515</td>\n",
       "      <td>0.021898</td>\n",
       "      <td>0.046829</td>\n",
       "    </tr>\n",
       "  </tbody>\n",
       "</table>\n",
       "<p>12 rows × 22 columns</p>\n",
       "</div>"
      ],
      "text/plain": [
       "                                             filename    site_ssn_yr season  \\\n",
       "0   bakerc_16008_18047_005_180821_L090_CX_02_Freem...   CSB Aug 2018   late   \n",
       "1   bakerc_16008_19059_012_190904_L090_CX_01_Freem...  CSB Sept 2019   late   \n",
       "2   daring_21405_17063_010_170614_L090_CX_01_LUT-F...  CSD June 2017  early   \n",
       "3   daring_21405_17094_010_170909_L090_CX_01_LUT-F...  CSD Sept 2017   late   \n",
       "4   padelE_36000_19059_003_190904_L090_CX_01_Freem...  PAD Sept 2019   late   \n",
       "5                      PAD_170613_mosaic_rcls_brn.tif  PAD June 2017  early   \n",
       "6                      PAD_170908_mosaic_rcls_brn.tif  PAD Sept 2017   late   \n",
       "7                      PAD_180821_mosaic_rcls_brn.tif   PAD Aug 2018   late   \n",
       "8                   YFLATS_170621_mosaic_rcls_brn.tif   YF June 2017  early   \n",
       "9                   YFLATS_170916_mosaic_rcls_brn.tif   YF Sept 2017   late   \n",
       "10                  YFLATS_180827_mosaic_rcls_brn.tif    YF Aug 2018   late   \n",
       "11                  YFLATS_190914_mosaic_rcls_brn.tif   YF Sept 2019   late   \n",
       "\n",
       "      site_ssn site  year  area_tot_in_roi_km2    area_land    area_wet  \\\n",
       "0    late 2018  CSB  2018          1155.465249   800.445196  317.047639   \n",
       "1    late 2019  CSB  2019          1160.122313   829.290303  314.904271   \n",
       "2   early 2017  CSD  2017          3036.654099  2209.595126  818.120803   \n",
       "3    late 2017  CSD  2017          3036.628307  2245.570531  782.792895   \n",
       "4    late 2019  PAD  2019          1335.893876   943.575619  244.962520   \n",
       "5   early 2017  PAD  2017          1338.875787   805.262060  392.022069   \n",
       "6    late 2017  PAD  2017          1337.719467   895.499854  299.050365   \n",
       "7    late 2018  PAD  2018          1338.063219   891.012764  296.513324   \n",
       "8   early 2017   YF  2017          2739.209902  2216.543977  256.983513   \n",
       "9    late 2017   YF  2017          2738.868841  2217.806981  244.655819   \n",
       "10   late 2018   YF  2018          2739.189990  2331.956159  179.834864   \n",
       "11   late 2019   YF  2019          2739.129549  2292.089068  216.724843   \n",
       "\n",
       "    area_wet_emerg  ...  area_wet_shrubs  area_wet_forest  \\\n",
       "0        38.761823  ...        10.985178         0.255881   \n",
       "1        25.845911  ...         3.591119         0.228416   \n",
       "2        17.767751  ...         0.781375         0.002458   \n",
       "3        15.526973  ...         0.395750         0.004396   \n",
       "4       101.812186  ...        41.815993         0.232243   \n",
       "5       207.870880  ...        72.837699         1.765632   \n",
       "6       111.868092  ...        17.616259         0.182753   \n",
       "7       153.181000  ...        63.574300         1.285939   \n",
       "8        76.754088  ...        14.422027         3.893359   \n",
       "9        64.183126  ...        15.271676         3.933249   \n",
       "10       42.066129  ...         9.720663         2.552228   \n",
       "11       46.761957  ...         8.846655         2.969439   \n",
       "\n",
       "    area_wet_emerg_no_lk  area_bridge  area_water_no_lk  area_non_roi  \\\n",
       "0              28.684792     9.256800          0.030821     48.238508   \n",
       "1               6.535705     9.253278          0.138757     44.636705   \n",
       "2               3.179191     3.990785          1.768194   1240.820920   \n",
       "3               2.424240     3.992666          1.847974   1241.063799   \n",
       "4              30.638401   116.626905          0.090431   2547.113182   \n",
       "5              24.556699   116.786401          0.248557   3471.312920   \n",
       "6              26.063295   116.626335          0.479619   3466.533119   \n",
       "7              33.693855   116.653980          0.189295   3478.570041   \n",
       "8              62.965124   202.383209          0.334078   4585.361195   \n",
       "9              73.701909   202.314192          0.389940   5784.348358   \n",
       "10             24.696691   202.264789          0.437487   3439.683181   \n",
       "11             27.731803   202.244531          0.339304   3439.567706   \n",
       "\n",
       "         no_data  area_per_pixel_m2  em_island_area  em_percent_islands  \n",
       "0     417.171144          36.955652        0.038810            0.100124  \n",
       "1     340.181635          36.942627        0.029121            0.112672  \n",
       "2   18920.788915          34.615491        0.032777            0.184475  \n",
       "3   19012.455683          34.614690        0.019914            0.128254  \n",
       "4    8738.678598          39.403364        0.023114            0.022703  \n",
       "5    8713.095103          39.403508        0.046570            0.022403  \n",
       "6    8716.553088          39.403451        0.022805            0.020386  \n",
       "7    8576.679430          39.403685        0.030189            0.019708  \n",
       "8    7117.088322          31.990654        0.046051            0.059998  \n",
       "9   40142.709804          31.993758        0.035654            0.055550  \n",
       "10  42493.285241          31.884512        0.022733            0.054041  \n",
       "11  42447.007787          31.883515        0.021898            0.046829  \n",
       "\n",
       "[12 rows x 22 columns]"
      ]
     },
     "execution_count": 6,
     "metadata": {},
     "output_type": "execute_result"
    }
   ],
   "source": [
    "## load data (skip if loading summary from excel)\n",
    "''' Possible landcover vals (as of June 14, 2021): 2,3,4,5, 42,43,44,45,52, 25, 35\n",
    "'''\n",
    "\n",
    "list_to_concat = []\n",
    "for i, filepath in enumerate(files_in):\n",
    "    print(f'\\t(File {i+1} of {len(files_in)})\\n')\n",
    "    filename=os.path.basename(filepath)\n",
    "    df = pd.DataFrame({'filename':filename, 'site_ssn_yr':labels[filename][0],\n",
    "                       'season':labels[filename][1].split(' ')[0], 'site_ssn':labels[filename][1],\n",
    "                        'site':labels[filename][0].split(' ')[0], 'year':labels[filename][1].split(' ')[1]}, \n",
    "                         index=[i])\n",
    "    with rio.open(filepath) as src:\n",
    "        lc = src.read(1)\n",
    "        src_crs=src.crs\n",
    "        src_res=src.res\n",
    "        src_shp=src.shape\n",
    "#         src=src\n",
    "#         print(src.profile)\n",
    "#         profile = src.profile.copy() # save for output raster\n",
    "    df['area_tot_in_roi_km2'] = np.sum(np.isin(lc, [non_roi_val, NODATAVALUE], invert=True)) * np.prod(src_res) / 1e6# np.sum(np.isin(lc, [1,2,3,4,5])) * np.prod(src_res) / 1e6\n",
    "#     df['area_valid_in_roi_km2'] = np.sum(np.isin(lc, [non_roi_val, NODATAVALUE, ], invert=True)) * np.prod(src_res) / 1e6\n",
    "    df['area_land'] = np.sum(np.isin(lc, classes_reclass['dry_land'])) * np.prod(src_res) / 1e6\n",
    "    df['area_wet'] = np.sum(np.isin(lc, classes_reclass['wet'])) * np.prod(src_res) / 1e6\n",
    "    em_mask = np.isin(lc, classes_reclass['wet_emergent'])\n",
    "    df['area_wet_emerg'] = np.sum(em_mask) * np.prod(src_res) / 1e6\n",
    "    water_mask = np.isin(lc, classes_reclass['water'])\n",
    "    df['area_water'] = np.sum(water_mask) * np.prod(src_res) / 1e6\n",
    "    df['area_wet_graminoid'] = np.sum(np.isin(lc, classes_reclass['wet_graminoid'])) * np.prod(src_res) / 1e6\n",
    "    df['area_wet_shrubs'] = np.sum(np.isin(lc, classes_reclass['wet_shrubs'])) * np.prod(src_res) / 1e6\n",
    "    df['area_wet_forest'] = np.sum(np.isin(lc, classes_reclass['wet_forest'])) * np.prod(src_res) / 1e6\n",
    "    df['area_wet_emerg_no_lk'] = np.sum(np.isin(lc, classes_reclass['wet_emergent_no_lake'])) * np.prod(src_res) / 1e6\n",
    "    df['area_bridge'] = np.sum(np.isin(lc, bridge_val)) * np.prod(src_res) / 1e6\n",
    "    df['area_water_no_lk'] = np.sum(np.isin(lc, classes_reclass['water_no_lake'])) * np.prod(src_res) / 1e6\n",
    "    df['area_non_roi'] = np.sum(np.isin(lc, non_roi_val)) * np.prod(src_res) / 1e6\n",
    "    df['no_data'] = np.sum(np.isin(lc, NODATAVALUE)) * np.prod(src_res) / 1e6\n",
    "    df['area_per_pixel_m2'] = np.prod(src_res)\n",
    "    \n",
    "        ## calculate em island area, method #2\n",
    "    water_island_mask = remove_small_holes(water_mask, 1000000, connectivity=2) # fill islands (land and em), so  they are actually included in mask\n",
    "    df['em_island_area'] = np.sum(water_island_mask & em_mask) / 1e6 # in km2\n",
    "    df['em_percent_islands'] = df['em_island_area'] / df['area_wet_emerg'] * 100\n",
    "    \n",
    "    # Smart way:\n",
    "#     for key in classes_reclass.keys():\n",
    "#         df[key] = np.sum(np.isin(lc, classes_reclass[key])) * np.prod(src_res) / 1e6\n",
    "    \n",
    "    ## append to list\n",
    "    list_to_concat.append(df)\n",
    "\n",
    "## Merge dataframes into one\n",
    "df_all = pd.concat(list_to_concat)\n",
    "\n",
    "## view\n",
    "df_all"
   ]
  },
  {
   "cell_type": "code",
   "execution_count": 5,
   "metadata": {},
   "outputs": [
    {
     "data": {
      "application/vnd.jupyter.widget-view+json": {
       "model_id": "2e5eb990d531486c9335a7c764418433",
       "version_major": 2,
       "version_minor": 0
      },
      "text/plain": [
       "Canvas(toolbar=Toolbar(toolitems=[('Home', 'Reset original view', 'home', 'home'), ('Back', 'Back to previous …"
      ]
     },
     "metadata": {},
     "output_type": "display_data"
    },
    {
     "data": {
      "text/plain": [
       "<matplotlib.image.AxesImage at 0x7f788dee2f60>"
      ]
     },
     "execution_count": 5,
     "metadata": {},
     "output_type": "execute_result"
    }
   ],
   "source": [
    "## temp vis\n",
    "%matplotlib widget\n",
    "plt.imshow(lc)\n",
    "# plt.imshow(lc==1)"
   ]
  },
  {
   "cell_type": "code",
   "execution_count": 4,
   "metadata": {},
   "outputs": [
    {
     "name": "stdout",
     "output_type": "stream",
     "text": [
      "Loaded from excel: /mnt/f/PAD2019/classification_training/PixelClassifier/Final-ORNL-DAAC/landcover_raster_burned_subroi_no_smoothing/combined_excel/landcover_stats.xlsx\n"
     ]
    }
   ],
   "source": [
    "## Save or load dataframe as excel file\n",
    "os.makedirs(os.path.join(output_raster_dir_common_roi, 'combined_excel'), exist_ok=True)\n",
    "excel_pth = os.path.join(output_raster_dir_common_roi, 'combined_excel', 'landcover_stats.xlsx')\n",
    "\n",
    "## SAVE\n",
    "# df_all.to_excel(excel_pth)\n",
    "# print(f'Saved as excel: {excel_pth}')\n",
    "\n",
    "## LOAD\n",
    "df_all=pd.read_excel(excel_pth)\n",
    "print(f'Loaded from excel: {excel_pth}')"
   ]
  },
  {
   "cell_type": "code",
   "execution_count": 5,
   "metadata": {},
   "outputs": [],
   "source": [
    "## Helper function, bc my matplotlib is out of date...\n",
    "# Modified from https://matplotlib.org/3.1.1/gallery/lines_bars_and_markers/barchart.html#sphx-glr-gallery-lines-bars-and-markers-barchart-py\n",
    "def autolabel(rects, text, offset, fontsize=None, rotation=None):\n",
    "    \"\"\"Attach a text label above each bar in *rects*, displaying its height.\"\"\"\n",
    "    for rect in rects:\n",
    "        height = rect.get_height()\n",
    "        plt.annotate(text,\n",
    "                    xy=(rect.get_x() + rect.get_width() / 2, height + offset),\n",
    "                    xytext=(0, 3),  # 3 points vertical offset\n",
    "                    textcoords=\"offset points\",\n",
    "                    ha='center', va='bottom', fontsize=fontsize, rotation=rotation)"
   ]
  },
  {
   "cell_type": "code",
   "execution_count": 6,
   "metadata": {},
   "outputs": [
    {
     "name": "stdout",
     "output_type": "stream",
     "text": [
      "event: YF June 2017; num bars: 4, left bar: -0.3\n",
      "event: PAD June 2017; num bars: 4, left bar: 0.7\n",
      "event: CSD June 2017; num bars: 2, left bar: 1.8499999999999999\n",
      "event: CSB Aug 2018; num bars: 2, left bar: 2.85\n"
     ]
    },
    {
     "data": {
      "image/png": "[encoded data removed]",
      "text/plain": [
       "<Figure size 432x288 with 1 Axes>"
      ]
     },
     "metadata": {
      "needs_background": "light"
     },
     "output_type": "display_data"
    }
   ],
   "source": [
    "## Plot v4\n",
    "%matplotlib inline\n",
    "\n",
    "x = np.arange(len(regions))  # the label locations\n",
    "# x=np.arange(12) \n",
    "width = 0.6 #0.70  # the width of the bars\n",
    "\n",
    "for i, region in enumerate(regions):\n",
    "    events = df_all.query(f'site == \"{region}\"').sort_values(['year', 'site_ssn']).site_ssn_yr # hack based on year and alphanumerical to get date sorting\n",
    "    for j, event in enumerate(events):\n",
    "        df_filter_tmp = df_all.query(f'(site == \"{region}\") and (site_ssn_yr == \"{event}\") ')\n",
    "        heights_water = df_filter_tmp.area_water / df_filter_tmp.area_tot_in_roi_km2 * 100\n",
    "        heights_we = df_filter_tmp.area_wet_emerg / df_filter_tmp.area_tot_in_roi_km2 * 100\n",
    "        heights_we_nl = (df_filter_tmp.area_wet_emerg_no_lk + df_filter_tmp.area_water_no_lk) / df_filter_tmp.area_tot_in_roi_km2 * 100\n",
    "        num_bars = len(events)\n",
    "#         width_tmp=width/len(heights_water)\n",
    "        x_bar=x[i]-width/(num_bars/2) + width*0.375*(4-num_bars) + width/4*j\n",
    "        x_bar=x[i]-width/2 + width*0.125*(4-num_bars) + width/4*j\n",
    "        if j == 0:\n",
    "            print(f'event: {event}; num bars: {num_bars}, left bar: {x_bar}')\n",
    "        w = plt.bar(x_bar, heights_water,\n",
    "                    width/4, label = 'Water', color=colors_lookup_category['water'], \n",
    "                    align='edge', edgecolor='black') # x-width/2, # color = \n",
    "        em = plt.bar(x_bar, heights_we,  \n",
    "                    width/4, bottom=heights_water.to_numpy(), label = 'Emergent macrophytes (littoral)', \n",
    "                    align='edge', color=colors_lookup_category['wet emergent'], edgecolor='black')\n",
    "        emnl = plt.bar(x_bar, heights_we_nl,  \n",
    "                    width/4, bottom=heights_water.to_numpy()+heights_we.to_numpy(), label = 'Emergent macrophytes (wetland)', \n",
    "                    align='edge', color=colors_lookup_category['wet emergent nl'], edgecolor='black')# em no lake\n",
    "        autolabel(emnl, event.split(' ')[1] + '\\n' + event.split(' ')[2], heights_water + heights_we, fontsize=7)\n",
    "plt.ylim([0,38])\n",
    "plt.xticks(x, regions)\n",
    "plt.ylabel('Percentage of total area')\n",
    "plt.legend(['Lakes', 'Emergent\\nmacrophytes\\n(littoral)', 'Emergent\\nmacrophytes\\n(wetland)'], fontsize='10')\n",
    "\n",
    "## save fig\n",
    "figname=os.path.join(fig_dir, 'Bar-landcover-temporal')\n",
    "plt.savefig(figname + '.jpg', dpi=300)\n",
    "plt.savefig(figname + '.pdf', dpi=300)"
   ]
  },
  {
   "cell_type": "markdown",
   "metadata": {},
   "source": [
    "# Scrap"
   ]
  },
  {
   "cell_type": "code",
   "execution_count": 106,
   "metadata": {
    "collapsed": true,
    "jupyter": {
     "outputs_hidden": true
    }
   },
   "outputs": [
    {
     "data": {
      "text/plain": [
       "site\n",
       "Baker     AxesSubplot(0.125,0.125;0.775x0.755)\n",
       "Daring    AxesSubplot(0.125,0.125;0.775x0.755)\n",
       "PAD       AxesSubplot(0.125,0.125;0.775x0.755)\n",
       "YFLATS    AxesSubplot(0.125,0.125;0.775x0.755)\n",
       "dtype: object"
      ]
     },
     "execution_count": 106,
     "metadata": {},
     "output_type": "execute_result"
    },
    {
     "data": {
      "image/png": "[encoded data removed]",
      "text/plain": [
       "<Figure size 432x288 with 1 Axes>"
      ]
     },
     "metadata": {
      "needs_background": "light"
     },
     "output_type": "display_data"
    },
    {
     "data": {
      "image/png": "[encoded data removed]",
      "text/plain": [
       "<Figure size 432x288 with 1 Axes>"
      ]
     },
     "metadata": {
      "needs_background": "light"
     },
     "output_type": "display_data"
    },
    {
     "data": {
      "image/png": "[encoded data removed]",
      "text/plain": [
       "<Figure size 432x288 with 1 Axes>"
      ]
     },
     "metadata": {
      "needs_background": "light"
     },
     "output_type": "display_data"
    },
    {
     "data": {
      "image/png": "[encoded data removed]",
      "text/plain": [
       "<Figure size 432x288 with 1 Axes>"
      ]
     },
     "metadata": {
      "needs_background": "light"
     },
     "output_type": "display_data"
    }
   ],
   "source": [
    "## Plot!\n",
    "%matplotlib inline\n",
    "# df_all.plot.bar()\n",
    "# df_all.groupby(['site', 'year']).plot.bar()\n",
    "df_all.loc[:, ['area_water','area_wet_emerg', 'site']].groupby('site').plot.bar(stacked=True)"
   ]
  },
  {
   "cell_type": "code",
   "execution_count": 113,
   "metadata": {},
   "outputs": [
    {
     "data": {
      "text/plain": [
       "<matplotlib.legend.Legend at 0x7f11a24d4550>"
      ]
     },
     "execution_count": 113,
     "metadata": {},
     "output_type": "execute_result"
    },
    {
     "data": {
      "image/png": "[encoded data removed]",
      "text/plain": [
       "<Figure size 432x288 with 1 Axes>"
      ]
     },
     "metadata": {
      "needs_background": "light"
     },
     "output_type": "display_data"
    }
   ],
   "source": [
    "## Plot v2\n",
    "%matplotlib inline\n",
    "\n",
    "x = np.arange(len(regions))  # the label locations\n",
    "x=np.arange(12) \n",
    "width = 0.35  # the width of the bars\n",
    "plt.bar(x-width/2, df_all.area_water, width, label = 'Water') # x-width/2, \n",
    "plt.bar(x+width/2, df_all.area_wet_emerg, width, label = 'Emergent macrophytes')\n",
    "plt.legend()\n"
   ]
  },
  {
   "cell_type": "code",
   "execution_count": 115,
   "metadata": {},
   "outputs": [
    {
     "data": {
      "text/plain": [
       "<matplotlib.legend.Legend at 0x7f11a2a1a5c0>"
      ]
     },
     "execution_count": 115,
     "metadata": {},
     "output_type": "execute_result"
    },
    {
     "data": {
      "image/png": "[encoded data removed]",
      "text/plain": [
       "<Figure size 432x288 with 1 Axes>"
      ]
     },
     "metadata": {
      "needs_background": "light"
     },
     "output_type": "display_data"
    }
   ],
   "source": [
    "## Plot v3\n",
    "%matplotlib inline\n",
    "\n",
    "x = np.arange(len(regions))  # the label locations\n",
    "x=np.arange(12) \n",
    "width = 0.35  # the width of the bars\n",
    "plt.bar(x-width/2, df_all.area_water, width, label = 'Water') # x-width/2, \n",
    "plt.bar(x+width/2, df_all.area_wet_emerg,  width, bottom=df_all.area_water, label = 'Emergent macrophytes')\n",
    "# plt.set_xticklabels()\n",
    "plt.legend()\n"
   ]
  }
 ],
 "metadata": {
  "kernelspec": {
   "display_name": "Python 3 (ipykernel)",
   "language": "python",
   "name": "python3"
  },
  "language_info": {
   "codemirror_mode": {
    "name": "ipython",
    "version": 3
   },
   "file_extension": ".py",
   "mimetype": "text/x-python",
   "name": "python",
   "nbconvert_exporter": "python",
   "pygments_lexer": "ipython3",
   "version": "3.7.11"
  }
 },
 "nbformat": 4,
 "nbformat_minor": 4
}
