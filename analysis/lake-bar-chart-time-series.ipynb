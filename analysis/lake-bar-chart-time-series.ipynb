{
 "cells": [
  {
   "cell_type": "markdown",
   "metadata": {},
   "source": [
    "Makes a bar plot of time series landcover data. Can work from saved Excel file with all stats or recompute values each time. Be sure to comment out appropriate.\n",
    "Notes\n",
    "* Make sure using inner/common ROIs\n",
    "\n",
    "TODO: \n",
    "*\n"
   ]
  },
  {
   "cell_type": "code",
   "execution_count": 1,
   "metadata": {},
   "outputs": [],
   "source": [
    "## imports\n",
    "import glob\n",
    "import os\n",
    "import matplotlib.pyplot as plt\n",
    "import numpy as np\n",
    "import pandas as pd\n",
    "import geopandas as gpd\n",
    "import rasterio as rio\n",
    "from python_env import *\n",
    "# from memory_profiler import profile"
   ]
  },
  {
   "cell_type": "code",
   "execution_count": 2,
   "metadata": {},
   "outputs": [],
   "source": [
    "## User vars\n",
    "# min_size=500 # meters squared\n",
    "# regions=np.array(['Daring','Baker','PAD','YFLATS']) # See env.py\n",
    "\n",
    "## constants\n",
    "colors_lookup={'early 2017':'#B7B7A4', 'late 2017':'#FFD1AD', 'late 2018':'#D0A68A', 'late 2019':'#B97550'} #v2\n",
    "colors_lookup_category = {'water':'#BED2FF', 'wet emergent':'#58D918', 'wet emergent nl': '#B4E39D'}\n",
    "labels=dict(zip(\n",
    "    [\n",
    "    'daring_21405_17063_010_170614_L090_CX_01_LUT-Freeman_rcls_brn.tif',\n",
    "    'daring_21405_17094_010_170909_L090_CX_01_LUT-Freeman_rcls_brn.tif',\n",
    "    'bakerc_16008_18047_005_180821_L090_CX_02_Freeman-inc_rcls_brn.tif',\n",
    "    'bakerc_16008_19059_012_190904_L090_CX_01_Freeman-inc_rcls_brn.tif',\n",
    "    'PAD_170613_mosaic_rcls_brn.tif',\n",
    "    'PAD_170908_mosaic_rcls_brn.tif',\n",
    "    'PAD_180821_mosaic_rcls_brn.tif',\n",
    "    'padelE_36000_19059_003_190904_L090_CX_01_Freeman-inc_rcls_brn.tif',\n",
    "    'YFLATS_170621_mosaic_rcls_brn.tif',\n",
    "    'YFLATS_170916_mosaic_rcls_brn.tif',\n",
    "    'YFLATS_180827_mosaic_rcls_brn.tif',\n",
    "    'YFLATS_190914_mosaic_rcls_brn.tif'\n",
    "    ],\n",
    "\n",
    "    [\n",
    "    ['Daring June 2017', 'early 2017'],\n",
    "    ['Daring Sept 2017', 'late 2017'],\n",
    "    ['Baker Aug 2018', 'late 2018'],\n",
    "    ['Baker Sept 2019', 'late 2019'],\n",
    "    ['PAD June 2017', 'early 2017'],\n",
    "    ['PAD Sept 2017', 'late 2017'],\n",
    "    ['PAD Aug 2018', 'late 2018'],\n",
    "    ['PAD Sept 2019', 'late 2019'],\n",
    "    ['YFLATS June 2017', 'early 2017'],\n",
    "    ['YFLATS Sept 2017', 'late 2017'],\n",
    "    ['YFLATS Aug 2018', 'late 2018'],\n",
    "    ['YFLATS Sept 2019', 'late 2019']\n",
    "    ]\n",
    "))\n",
    "best_dates=[\n",
    "    'YFLATS_180827_mosaic_rcls_brn.tif', 'padelE_36000_19059_003_190904_L090_CX_01_Freeman-inc_rcls_brn.tif', 'daring_21405_17094_010_170909_L090_CX_01_LUT-Freeman_rcls_brn.tif', 'bakerc_16008_18047_005_180821_L090_CX_02_Freeman-inc_rcls_brn.tif'\n",
    "            ]\n",
    "\n",
    "## Plotting style\n",
    "plt.style.use('/mnt/d/Dropbox/Python/Matplotlib-rcParams/presentation.mplstyle')"
   ]
  },
  {
   "cell_type": "code",
   "execution_count": 3,
   "metadata": {},
   "outputs": [],
   "source": [
    "## I/O\n",
    "files_in=glob.glob(os.path.join(output_raster_dir_common_roi, '*.tif')) #common-roi"
   ]
  },
  {
   "cell_type": "code",
   "execution_count": 5,
   "metadata": {},
   "outputs": [
    {
     "name": "stdout",
     "output_type": "stream",
     "text": [
      "\t(File 1 of 12)\n",
      "\n",
      "\t(File 2 of 12)\n",
      "\n",
      "\t(File 3 of 12)\n",
      "\n",
      "\t(File 4 of 12)\n",
      "\n",
      "\t(File 5 of 12)\n",
      "\n",
      "\t(File 6 of 12)\n",
      "\n",
      "\t(File 7 of 12)\n",
      "\n",
      "\t(File 8 of 12)\n",
      "\n",
      "\t(File 9 of 12)\n",
      "\n",
      "\t(File 10 of 12)\n",
      "\n",
      "\t(File 11 of 12)\n",
      "\n",
      "\t(File 12 of 12)\n",
      "\n"
     ]
    },
    {
     "data": {
      "text/html": [
       "<div>\n",
       "<style scoped>\n",
       "    .dataframe tbody tr th:only-of-type {\n",
       "        vertical-align: middle;\n",
       "    }\n",
       "\n",
       "    .dataframe tbody tr th {\n",
       "        vertical-align: top;\n",
       "    }\n",
       "\n",
       "    .dataframe thead th {\n",
       "        text-align: right;\n",
       "    }\n",
       "</style>\n",
       "<table border=\"1\" class=\"dataframe\">\n",
       "  <thead>\n",
       "    <tr style=\"text-align: right;\">\n",
       "      <th></th>\n",
       "      <th>filename</th>\n",
       "      <th>site_ssn_yr</th>\n",
       "      <th>season</th>\n",
       "      <th>site_ssn</th>\n",
       "      <th>site</th>\n",
       "      <th>year</th>\n",
       "      <th>area_tot_in_roi_km2</th>\n",
       "      <th>area_land</th>\n",
       "      <th>area_wet</th>\n",
       "      <th>area_wet_emerg</th>\n",
       "      <th>...</th>\n",
       "      <th>wet_graminoid</th>\n",
       "      <th>wet_shrubs</th>\n",
       "      <th>wet_forest</th>\n",
       "      <th>water_no_lake</th>\n",
       "      <th>wet_graminoid_no_lake</th>\n",
       "      <th>wet_shrubs_no_lake</th>\n",
       "      <th>wet_forest_no_lake</th>\n",
       "      <th>wet_emergent_no_lake</th>\n",
       "      <th>wet_non_lake</th>\n",
       "      <th>water_not_valid</th>\n",
       "    </tr>\n",
       "  </thead>\n",
       "  <tbody>\n",
       "    <tr>\n",
       "      <th>0</th>\n",
       "      <td>bakerc_16008_18047_005_180821_L090_CX_02_Freem...</td>\n",
       "      <td>Baker Aug 2018</td>\n",
       "      <td>late</td>\n",
       "      <td>late 2018</td>\n",
       "      <td>Baker</td>\n",
       "      <td>2018</td>\n",
       "      <td>1159.437094</td>\n",
       "      <td>814.133016</td>\n",
       "      <td>312.904208</td>\n",
       "      <td>32.094875</td>\n",
       "      <td>...</td>\n",
       "      <td>24.379976</td>\n",
       "      <td>7.598895</td>\n",
       "      <td>0.116004</td>\n",
       "      <td>0.005802</td>\n",
       "      <td>1.244075</td>\n",
       "      <td>21.864996</td>\n",
       "      <td>0.015854</td>\n",
       "      <td>23.124925</td>\n",
       "      <td>23.130727</td>\n",
       "      <td>0.0</td>\n",
       "    </tr>\n",
       "    <tr>\n",
       "      <th>1</th>\n",
       "      <td>bakerc_16008_19059_012_190904_L090_CX_01_Freem...</td>\n",
       "      <td>Baker Sept 2019</td>\n",
       "      <td>late</td>\n",
       "      <td>late 2019</td>\n",
       "      <td>Baker</td>\n",
       "      <td>2019</td>\n",
       "      <td>1164.787613</td>\n",
       "      <td>839.265884</td>\n",
       "      <td>312.355488</td>\n",
       "      <td>21.305035</td>\n",
       "      <td>...</td>\n",
       "      <td>18.900698</td>\n",
       "      <td>2.285899</td>\n",
       "      <td>0.118438</td>\n",
       "      <td>0.024752</td>\n",
       "      <td>1.009642</td>\n",
       "      <td>2.851158</td>\n",
       "      <td>0.015516</td>\n",
       "      <td>3.876316</td>\n",
       "      <td>3.901068</td>\n",
       "      <td>0.0</td>\n",
       "    </tr>\n",
       "    <tr>\n",
       "      <th>2</th>\n",
       "      <td>daring_21405_17063_010_170614_L090_CX_01_LUT-F...</td>\n",
       "      <td>Daring June 2017</td>\n",
       "      <td>early</td>\n",
       "      <td>early 2017</td>\n",
       "      <td>Daring</td>\n",
       "      <td>2017</td>\n",
       "      <td>3036.761095</td>\n",
       "      <td>2220.518252</td>\n",
       "      <td>810.286175</td>\n",
       "      <td>12.875405</td>\n",
       "      <td>...</td>\n",
       "      <td>12.347346</td>\n",
       "      <td>0.526952</td>\n",
       "      <td>0.001108</td>\n",
       "      <td>0.259789</td>\n",
       "      <td>1.400335</td>\n",
       "      <td>0.305689</td>\n",
       "      <td>0.000069</td>\n",
       "      <td>1.706094</td>\n",
       "      <td>1.965883</td>\n",
       "      <td>0.0</td>\n",
       "    </tr>\n",
       "    <tr>\n",
       "      <th>3</th>\n",
       "      <td>daring_21405_17094_010_170909_L090_CX_01_LUT-F...</td>\n",
       "      <td>Daring Sept 2017</td>\n",
       "      <td>late</td>\n",
       "      <td>late 2017</td>\n",
       "      <td>Daring</td>\n",
       "      <td>2017</td>\n",
       "      <td>3036.742258</td>\n",
       "      <td>2256.180280</td>\n",
       "      <td>774.971083</td>\n",
       "      <td>11.434582</td>\n",
       "      <td>...</td>\n",
       "      <td>11.205848</td>\n",
       "      <td>0.225307</td>\n",
       "      <td>0.003427</td>\n",
       "      <td>0.270271</td>\n",
       "      <td>1.249521</td>\n",
       "      <td>0.078333</td>\n",
       "      <td>0.000104</td>\n",
       "      <td>1.327958</td>\n",
       "      <td>1.598229</td>\n",
       "      <td>0.0</td>\n",
       "    </tr>\n",
       "    <tr>\n",
       "      <th>4</th>\n",
       "      <td>padelE_36000_19059_003_190904_L090_CX_01_Freem...</td>\n",
       "      <td>PAD Sept 2019</td>\n",
       "      <td>late</td>\n",
       "      <td>late 2019</td>\n",
       "      <td>PAD</td>\n",
       "      <td>2019</td>\n",
       "      <td>1346.663091</td>\n",
       "      <td>956.955819</td>\n",
       "      <td>241.087120</td>\n",
       "      <td>97.427616</td>\n",
       "      <td>...</td>\n",
       "      <td>57.274524</td>\n",
       "      <td>39.976801</td>\n",
       "      <td>0.176291</td>\n",
       "      <td>0.017298</td>\n",
       "      <td>10.655182</td>\n",
       "      <td>20.038187</td>\n",
       "      <td>0.026164</td>\n",
       "      <td>30.719533</td>\n",
       "      <td>30.736831</td>\n",
       "      <td>0.0</td>\n",
       "    </tr>\n",
       "    <tr>\n",
       "      <th>5</th>\n",
       "      <td>PAD_170613_mosaic_rcls_brn.tif</td>\n",
       "      <td>PAD June 2017</td>\n",
       "      <td>early</td>\n",
       "      <td>early 2017</td>\n",
       "      <td>PAD</td>\n",
       "      <td>2017</td>\n",
       "      <td>1556.912496</td>\n",
       "      <td>965.769490</td>\n",
       "      <td>438.460364</td>\n",
       "      <td>233.689713</td>\n",
       "      <td>...</td>\n",
       "      <td>153.686801</td>\n",
       "      <td>78.338626</td>\n",
       "      <td>1.664286</td>\n",
       "      <td>0.046378</td>\n",
       "      <td>21.654513</td>\n",
       "      <td>13.017382</td>\n",
       "      <td>0.080738</td>\n",
       "      <td>34.752633</td>\n",
       "      <td>34.799011</td>\n",
       "      <td>0.0</td>\n",
       "    </tr>\n",
       "    <tr>\n",
       "      <th>6</th>\n",
       "      <td>PAD_170908_mosaic_rcls_brn.tif</td>\n",
       "      <td>PAD Sept 2017</td>\n",
       "      <td>late</td>\n",
       "      <td>late 2017</td>\n",
       "      <td>PAD</td>\n",
       "      <td>2017</td>\n",
       "      <td>1556.912395</td>\n",
       "      <td>1055.847746</td>\n",
       "      <td>345.899492</td>\n",
       "      <td>138.805040</td>\n",
       "      <td>...</td>\n",
       "      <td>121.508068</td>\n",
       "      <td>17.135891</td>\n",
       "      <td>0.161081</td>\n",
       "      <td>0.101385</td>\n",
       "      <td>30.961577</td>\n",
       "      <td>6.206477</td>\n",
       "      <td>0.012806</td>\n",
       "      <td>37.180860</td>\n",
       "      <td>37.282245</td>\n",
       "      <td>0.0</td>\n",
       "    </tr>\n",
       "    <tr>\n",
       "      <th>7</th>\n",
       "      <td>PAD_180821_mosaic_rcls_brn.tif</td>\n",
       "      <td>PAD Aug 2018</td>\n",
       "      <td>late</td>\n",
       "      <td>late 2018</td>\n",
       "      <td>PAD</td>\n",
       "      <td>2018</td>\n",
       "      <td>1556.913377</td>\n",
       "      <td>1066.131411</td>\n",
       "      <td>327.993283</td>\n",
       "      <td>171.758971</td>\n",
       "      <td>...</td>\n",
       "      <td>101.954475</td>\n",
       "      <td>68.615686</td>\n",
       "      <td>1.188809</td>\n",
       "      <td>0.034518</td>\n",
       "      <td>13.054165</td>\n",
       "      <td>31.778599</td>\n",
       "      <td>0.040586</td>\n",
       "      <td>44.873350</td>\n",
       "      <td>44.907868</td>\n",
       "      <td>0.0</td>\n",
       "    </tr>\n",
       "    <tr>\n",
       "      <th>8</th>\n",
       "      <td>YFLATS_170621_mosaic_rcls_brn.tif</td>\n",
       "      <td>YFLATS June 2017</td>\n",
       "      <td>early</td>\n",
       "      <td>early 2017</td>\n",
       "      <td>YFLATS</td>\n",
       "      <td>2017</td>\n",
       "      <td>4816.698441</td>\n",
       "      <td>3913.107517</td>\n",
       "      <td>404.893452</td>\n",
       "      <td>107.860232</td>\n",
       "      <td>...</td>\n",
       "      <td>86.137970</td>\n",
       "      <td>17.843395</td>\n",
       "      <td>3.878867</td>\n",
       "      <td>0.088998</td>\n",
       "      <td>47.840615</td>\n",
       "      <td>43.426513</td>\n",
       "      <td>1.739140</td>\n",
       "      <td>93.006268</td>\n",
       "      <td>93.095266</td>\n",
       "      <td>0.0</td>\n",
       "    </tr>\n",
       "    <tr>\n",
       "      <th>9</th>\n",
       "      <td>YFLATS_170916_mosaic_rcls_brn.tif</td>\n",
       "      <td>YFLATS Sept 2017</td>\n",
       "      <td>late</td>\n",
       "      <td>late 2017</td>\n",
       "      <td>YFLATS</td>\n",
       "      <td>2017</td>\n",
       "      <td>5114.488329</td>\n",
       "      <td>4191.437506</td>\n",
       "      <td>419.325485</td>\n",
       "      <td>96.204302</td>\n",
       "      <td>...</td>\n",
       "      <td>68.986669</td>\n",
       "      <td>23.102661</td>\n",
       "      <td>4.114973</td>\n",
       "      <td>0.116681</td>\n",
       "      <td>39.201312</td>\n",
       "      <td>57.531847</td>\n",
       "      <td>1.259914</td>\n",
       "      <td>97.993073</td>\n",
       "      <td>98.109755</td>\n",
       "      <td>0.0</td>\n",
       "    </tr>\n",
       "    <tr>\n",
       "      <th>10</th>\n",
       "      <td>YFLATS_180827_mosaic_rcls_brn.tif</td>\n",
       "      <td>YFLATS Aug 2018</td>\n",
       "      <td>late</td>\n",
       "      <td>late 2018</td>\n",
       "      <td>YFLATS</td>\n",
       "      <td>2018</td>\n",
       "      <td>3242.240924</td>\n",
       "      <td>2610.852056</td>\n",
       "      <td>205.865507</td>\n",
       "      <td>42.793064</td>\n",
       "      <td>...</td>\n",
       "      <td>30.314040</td>\n",
       "      <td>9.932312</td>\n",
       "      <td>2.546712</td>\n",
       "      <td>0.065491</td>\n",
       "      <td>8.655465</td>\n",
       "      <td>11.187829</td>\n",
       "      <td>0.273123</td>\n",
       "      <td>20.116417</td>\n",
       "      <td>20.181908</td>\n",
       "      <td>0.0</td>\n",
       "    </tr>\n",
       "    <tr>\n",
       "      <th>11</th>\n",
       "      <td>YFLATS_190914_mosaic_rcls_brn.tif</td>\n",
       "      <td>YFLATS Sept 2019</td>\n",
       "      <td>late</td>\n",
       "      <td>late 2019</td>\n",
       "      <td>YFLATS</td>\n",
       "      <td>2019</td>\n",
       "      <td>3242.822412</td>\n",
       "      <td>2565.514820</td>\n",
       "      <td>246.523814</td>\n",
       "      <td>47.907882</td>\n",
       "      <td>...</td>\n",
       "      <td>36.286277</td>\n",
       "      <td>8.646682</td>\n",
       "      <td>2.974923</td>\n",
       "      <td>0.064787</td>\n",
       "      <td>14.054859</td>\n",
       "      <td>11.036096</td>\n",
       "      <td>0.287653</td>\n",
       "      <td>25.378608</td>\n",
       "      <td>25.443395</td>\n",
       "      <td>0.0</td>\n",
       "    </tr>\n",
       "  </tbody>\n",
       "</table>\n",
       "<p>12 rows × 34 columns</p>\n",
       "</div>"
      ],
      "text/plain": [
       "                                             filename       site_ssn_yr  \\\n",
       "0   bakerc_16008_18047_005_180821_L090_CX_02_Freem...    Baker Aug 2018   \n",
       "1   bakerc_16008_19059_012_190904_L090_CX_01_Freem...   Baker Sept 2019   \n",
       "2   daring_21405_17063_010_170614_L090_CX_01_LUT-F...  Daring June 2017   \n",
       "3   daring_21405_17094_010_170909_L090_CX_01_LUT-F...  Daring Sept 2017   \n",
       "4   padelE_36000_19059_003_190904_L090_CX_01_Freem...     PAD Sept 2019   \n",
       "5                      PAD_170613_mosaic_rcls_brn.tif     PAD June 2017   \n",
       "6                      PAD_170908_mosaic_rcls_brn.tif     PAD Sept 2017   \n",
       "7                      PAD_180821_mosaic_rcls_brn.tif      PAD Aug 2018   \n",
       "8                   YFLATS_170621_mosaic_rcls_brn.tif  YFLATS June 2017   \n",
       "9                   YFLATS_170916_mosaic_rcls_brn.tif  YFLATS Sept 2017   \n",
       "10                  YFLATS_180827_mosaic_rcls_brn.tif   YFLATS Aug 2018   \n",
       "11                  YFLATS_190914_mosaic_rcls_brn.tif  YFLATS Sept 2019   \n",
       "\n",
       "   season    site_ssn    site  year  area_tot_in_roi_km2    area_land  \\\n",
       "0    late   late 2018   Baker  2018          1159.437094   814.133016   \n",
       "1    late   late 2019   Baker  2019          1164.787613   839.265884   \n",
       "2   early  early 2017  Daring  2017          3036.761095  2220.518252   \n",
       "3    late   late 2017  Daring  2017          3036.742258  2256.180280   \n",
       "4    late   late 2019     PAD  2019          1346.663091   956.955819   \n",
       "5   early  early 2017     PAD  2017          1556.912496   965.769490   \n",
       "6    late   late 2017     PAD  2017          1556.912395  1055.847746   \n",
       "7    late   late 2018     PAD  2018          1556.913377  1066.131411   \n",
       "8   early  early 2017  YFLATS  2017          4816.698441  3913.107517   \n",
       "9    late   late 2017  YFLATS  2017          5114.488329  4191.437506   \n",
       "10   late   late 2018  YFLATS  2018          3242.240924  2610.852056   \n",
       "11   late   late 2019  YFLATS  2019          3242.822412  2565.514820   \n",
       "\n",
       "      area_wet  area_wet_emerg  ...  wet_graminoid  wet_shrubs  wet_forest  \\\n",
       "0   312.904208       32.094875  ...      24.379976    7.598895    0.116004   \n",
       "1   312.355488       21.305035  ...      18.900698    2.285899    0.118438   \n",
       "2   810.286175       12.875405  ...      12.347346    0.526952    0.001108   \n",
       "3   774.971083       11.434582  ...      11.205848    0.225307    0.003427   \n",
       "4   241.087120       97.427616  ...      57.274524   39.976801    0.176291   \n",
       "5   438.460364      233.689713  ...     153.686801   78.338626    1.664286   \n",
       "6   345.899492      138.805040  ...     121.508068   17.135891    0.161081   \n",
       "7   327.993283      171.758971  ...     101.954475   68.615686    1.188809   \n",
       "8   404.893452      107.860232  ...      86.137970   17.843395    3.878867   \n",
       "9   419.325485       96.204302  ...      68.986669   23.102661    4.114973   \n",
       "10  205.865507       42.793064  ...      30.314040    9.932312    2.546712   \n",
       "11  246.523814       47.907882  ...      36.286277    8.646682    2.974923   \n",
       "\n",
       "    water_no_lake  wet_graminoid_no_lake  wet_shrubs_no_lake  \\\n",
       "0        0.005802               1.244075           21.864996   \n",
       "1        0.024752               1.009642            2.851158   \n",
       "2        0.259789               1.400335            0.305689   \n",
       "3        0.270271               1.249521            0.078333   \n",
       "4        0.017298              10.655182           20.038187   \n",
       "5        0.046378              21.654513           13.017382   \n",
       "6        0.101385              30.961577            6.206477   \n",
       "7        0.034518              13.054165           31.778599   \n",
       "8        0.088998              47.840615           43.426513   \n",
       "9        0.116681              39.201312           57.531847   \n",
       "10       0.065491               8.655465           11.187829   \n",
       "11       0.064787              14.054859           11.036096   \n",
       "\n",
       "    wet_forest_no_lake  wet_emergent_no_lake  wet_non_lake  water_not_valid  \n",
       "0             0.015854             23.124925     23.130727              0.0  \n",
       "1             0.015516              3.876316      3.901068              0.0  \n",
       "2             0.000069              1.706094      1.965883              0.0  \n",
       "3             0.000104              1.327958      1.598229              0.0  \n",
       "4             0.026164             30.719533     30.736831              0.0  \n",
       "5             0.080738             34.752633     34.799011              0.0  \n",
       "6             0.012806             37.180860     37.282245              0.0  \n",
       "7             0.040586             44.873350     44.907868              0.0  \n",
       "8             1.739140             93.006268     93.095266              0.0  \n",
       "9             1.259914             97.993073     98.109755              0.0  \n",
       "10            0.273123             20.116417     20.181908              0.0  \n",
       "11            0.287653             25.378608     25.443395              0.0  \n",
       "\n",
       "[12 rows x 34 columns]"
      ]
     },
     "execution_count": 5,
     "metadata": {},
     "output_type": "execute_result"
    }
   ],
   "source": [
    "## load data (skip if loading summary from excel)\n",
    "''' Possible landcover vals (as of June 14, 2021): 2,3,4,5, 42,43,44,45,52, 25, 35\n",
    "'''\n",
    "\n",
    "list_to_concat = []\n",
    "for i, filepath in enumerate(files_in):\n",
    "    print(f'\\t(File {i+1} of {len(files_in)})\\n')\n",
    "    filename=os.path.basename(filepath)\n",
    "    df = pd.DataFrame({'filename':filename, 'site_ssn_yr':labels[filename][0],\n",
    "                       'season':labels[filename][1].split(' ')[0], 'site_ssn':labels[filename][1],\n",
    "                        'site':labels[filename][0].split(' ')[0], 'year':labels[filename][1].split(' ')[1]}, \n",
    "                         index=[i])\n",
    "    with rio.open(filepath) as src:\n",
    "        lc = src.read(1)\n",
    "        src_crs=src.crs\n",
    "        src_res=src.res\n",
    "        src_shp=src.shape\n",
    "#         src=src\n",
    "#         print(src.profile)\n",
    "#         profile = src.profile.copy() # save for output raster\n",
    "    df['area_tot_in_roi_km2'] = np.sum(np.isin(lc, [non_roi_val, NODATAVALUE], invert=True)) * np.prod(src_res) / 1e6# np.sum(np.isin(lc, [1,2,3,4,5])) * np.prod(src_res) / 1e6\n",
    "#     df['area_valid_in_roi_km2'] = np.sum(np.isin(lc, [non_roi_val, NODATAVALUE, ], invert=True)) * np.prod(src_res) / 1e6\n",
    "    df['area_land'] = np.sum(np.isin(lc, classes_reclass['dry_land'])) * np.prod(src_res) / 1e6\n",
    "    df['area_wet'] = np.sum(np.isin(lc, classes_reclass['wet'])) * np.prod(src_res) / 1e6\n",
    "    df['area_wet_emerg'] = np.sum(np.isin(lc, classes_reclass['wet_emergent'])) * np.prod(src_res) / 1e6\n",
    "    df['area_water'] = np.sum(np.isin(lc, classes_reclass['water'])) * np.prod(src_res) / 1e6\n",
    "    df['area_wet_graminoid'] = np.sum(np.isin(lc, classes_reclass['wet_graminoid'])) * np.prod(src_res) / 1e6\n",
    "    df['area_wet_shrubs'] = np.sum(np.isin(lc, classes_reclass['wet_shrubs'])) * np.prod(src_res) / 1e6\n",
    "    df['area_wet_forest'] = np.sum(np.isin(lc, classes_reclass['wet_forest'])) * np.prod(src_res) / 1e6\n",
    "    df['area_wet_emerg_no_lk'] = np.sum(np.isin(lc, classes_reclass['wet_emergent_no_lake'])) * np.prod(src_res) / 1e6\n",
    "    df['area_bridge'] = np.sum(np.isin(lc, bridge_val)) * np.prod(src_res) / 1e6\n",
    "    df['area_water_no_lk'] = np.sum(np.isin(lc, classes_reclass['water_no_lake'])) * np.prod(src_res) / 1e6\n",
    "    df['area_non_roi'] = np.sum(np.isin(lc, non_roi_val)) * np.prod(src_res) / 1e6\n",
    "    df['no_data'] = np.sum(np.isin(lc, NODATAVALUE)) * np.prod(src_res) / 1e6\n",
    "    df['area_per_pixel_m2'] = np.prod(src_res)\n",
    "    \n",
    "    # Smart way:\n",
    "#     for key in classes_reclass.keys():\n",
    "#         df[key] = np.sum(np.isin(lc, classes_reclass[key])) * np.prod(src_res) / 1e6\n",
    "    \n",
    "    ## append to list\n",
    "    list_to_concat.append(df)\n",
    "\n",
    "## Merge dataframes into one\n",
    "df_all = pd.concat(list_to_concat)\n",
    "\n",
    "## view\n",
    "df_all"
   ]
  },
  {
   "cell_type": "code",
   "execution_count": 23,
   "metadata": {},
   "outputs": [
    {
     "data": {
      "application/vnd.jupyter.widget-view+json": {
       "model_id": "859ad6c1cc144d6cac043c0823d32f7b",
       "version_major": 2,
       "version_minor": 0
      },
      "text/plain": [
       "Canvas(toolbar=Toolbar(toolitems=[('Home', 'Reset original view', 'home', 'home'), ('Back', 'Back to previous …"
      ]
     },
     "metadata": {},
     "output_type": "display_data"
    },
    {
     "data": {
      "text/plain": [
       "<matplotlib.image.AxesImage at 0x7ff916ed9908>"
      ]
     },
     "execution_count": 23,
     "metadata": {},
     "output_type": "execute_result"
    }
   ],
   "source": [
    "## temp vis\n",
    "%matplotlib widget\n",
    "plt.imshow(lc)\n",
    "# plt.imshow(lc==1)"
   ]
  },
  {
   "cell_type": "code",
   "execution_count": 6,
   "metadata": {},
   "outputs": [
    {
     "name": "stdout",
     "output_type": "stream",
     "text": [
      "Saved as excel: /mnt/f/PAD2019/classification_training/PixelClassifier/Final-ORNL-DAAC/landcover_raster_burned/combined_excel/landcover_stats.xlsx\n"
     ]
    }
   ],
   "source": [
    "## Save or load dataframe as excel file\n",
    "os.makedirs(os.path.join(output_raster_dir_common_roi, 'combined_excel'), exist_ok=True)\n",
    "excel_pth = os.path.join(output_raster_dir_common_roi, 'combined_excel', 'landcover_stats.xlsx')\n",
    "\n",
    "## SAVE\n",
    "# df_all.to_excel(excel_pth)\n",
    "# print(f'Saved as excel: {excel_pth}')\n",
    "\n",
    "## LOAD\n",
    "df_all=pd.read_excel(excel_pth)\n",
    "print(f'Loaded from excel: {excel_pth}')"
   ]
  },
  {
   "cell_type": "code",
   "execution_count": 8,
   "metadata": {},
   "outputs": [],
   "source": [
    "## Helper function, bc my matplotlib is out of date...\n",
    "# Modified from https://matplotlib.org/3.1.1/gallery/lines_bars_and_markers/barchart.html#sphx-glr-gallery-lines-bars-and-markers-barchart-py\n",
    "def autolabel(rects, text, offset, fontsize=None, rotation=None):\n",
    "    \"\"\"Attach a text label above each bar in *rects*, displaying its height.\"\"\"\n",
    "    for rect in rects:\n",
    "        height = rect.get_height()\n",
    "        plt.annotate(text,\n",
    "                    xy=(rect.get_x() + rect.get_width() / 2, height + offset),\n",
    "                    xytext=(0, 3),  # 3 points vertical offset\n",
    "                    textcoords=\"offset points\",\n",
    "                    ha='center', va='bottom', fontsize=fontsize, rotation=rotation)"
   ]
  },
  {
   "cell_type": "code",
   "execution_count": 12,
   "metadata": {},
   "outputs": [
    {
     "name": "stdout",
     "output_type": "stream",
     "text": [
      "event: YFLATS June 2017; num bars: 4, left bar: -0.3\n",
      "event: PAD June 2017; num bars: 4, left bar: 0.7\n",
      "event: Daring June 2017; num bars: 2, left bar: 1.8499999999999999\n",
      "event: Baker Aug 2018; num bars: 2, left bar: 2.85\n"
     ]
    },
    {
     "data": {
      "image/png": "[encoded data removed]",
      "text/plain": [
       "<Figure size 432x288 with 1 Axes>"
      ]
     },
     "metadata": {
      "needs_background": "light"
     },
     "output_type": "display_data"
    }
   ],
   "source": [
    "## Plot v4\n",
    "%matplotlib inline\n",
    "\n",
    "x = np.arange(len(regions))  # the label locations\n",
    "# x=np.arange(12) \n",
    "width = 0.6 #0.70  # the width of the bars\n",
    "\n",
    "for i, region in enumerate(regions):\n",
    "    events = df_all.query(f'site == \"{region}\"').sort_values(['year', 'site_ssn']).site_ssn_yr # hack based on year and alphanumerical to get date sorting\n",
    "    for j, event in enumerate(events):\n",
    "        df_filter_tmp = df_all.query(f'(site == \"{region}\") and (site_ssn_yr == \"{event}\") ')\n",
    "        heights_water = df_filter_tmp.area_water / df_filter_tmp.area_tot_in_roi_km2 * 100\n",
    "        heights_we = df_filter_tmp.area_wet_emerg / df_filter_tmp.area_tot_in_roi_km2 * 100\n",
    "        heights_we_nl = (df_filter_tmp.area_wet_emerg_no_lk + df_filter_tmp.area_water_no_lk) / df_filter_tmp.area_tot_in_roi_km2 * 100\n",
    "        num_bars = len(events)\n",
    "#         width_tmp=width/len(heights_water)\n",
    "        x_bar=x[i]-width/(num_bars/2) + width*0.375*(4-num_bars) + width/4*j\n",
    "        x_bar=x[i]-width/2 + width*0.125*(4-num_bars) + width/4*j\n",
    "        if j == 0:\n",
    "            print(f'event: {event}; num bars: {num_bars}, left bar: {x_bar}')\n",
    "        w = plt.bar(x_bar, heights_water,\n",
    "                    width/4, label = 'Water', color=colors_lookup_category['water'], \n",
    "                    align='edge', edgecolor='black') # x-width/2, # color = \n",
    "        em = plt.bar(x_bar, heights_we,  \n",
    "                    width/4, bottom=heights_water.to_numpy(), label = 'Emergent macrophytes (littoral)', \n",
    "                    align='edge', color=colors_lookup_category['wet emergent'], edgecolor='black')\n",
    "        emnl = plt.bar(x_bar, heights_we_nl,  \n",
    "                    width/4, bottom=heights_water.to_numpy()+heights_we.to_numpy(), label = 'Emergent macrophytes (wetland)', \n",
    "                    align='edge', color=colors_lookup_category['wet emergent nl'], edgecolor='black')# em no lake\n",
    "        autolabel(emnl, event.split(' ')[1] + '\\n' + event.split(' ')[2], heights_water + heights_we, fontsize=7)\n",
    "plt.ylim([0,38])\n",
    "plt.xticks(x, regions)\n",
    "plt.ylabel('Percentage of total area')\n",
    "plt.legend(['Lakes', 'Emergent\\nmacrophytes\\n(littoral)', 'Emergent\\nmacrophytes\\n(wetland)'], fontsize='10')\n",
    "\n",
    "## save fig\n",
    "figname=os.path.join(fig_dir, 'Bar-landcover-temporal')\n",
    "plt.savefig(figname + '.jpg', dpi=300)\n",
    "plt.savefig(figname + '.pdf', dpi=300)"
   ]
  },
  {
   "cell_type": "markdown",
   "metadata": {},
   "source": [
    "# Scrap"
   ]
  },
  {
   "cell_type": "code",
   "execution_count": 106,
   "metadata": {
    "collapsed": true,
    "jupyter": {
     "outputs_hidden": true
    }
   },
   "outputs": [
    {
     "data": {
      "text/plain": [
       "site\n",
       "Baker     AxesSubplot(0.125,0.125;0.775x0.755)\n",
       "Daring    AxesSubplot(0.125,0.125;0.775x0.755)\n",
       "PAD       AxesSubplot(0.125,0.125;0.775x0.755)\n",
       "YFLATS    AxesSubplot(0.125,0.125;0.775x0.755)\n",
       "dtype: object"
      ]
     },
     "execution_count": 106,
     "metadata": {},
     "output_type": "execute_result"
    },
    {
     "data": {
      "image/png": "[encoded data removed]",
      "text/plain": [
       "<Figure size 432x288 with 1 Axes>"
      ]
     },
     "metadata": {
      "needs_background": "light"
     },
     "output_type": "display_data"
    },
    {
     "data": {
      "image/png": "[encoded data removed]",
      "text/plain": [
       "<Figure size 432x288 with 1 Axes>"
      ]
     },
     "metadata": {
      "needs_background": "light"
     },
     "output_type": "display_data"
    },
    {
     "data": {
      "image/png": "[encoded data removed]",
      "text/plain": [
       "<Figure size 432x288 with 1 Axes>"
      ]
     },
     "metadata": {
      "needs_background": "light"
     },
     "output_type": "display_data"
    },
    {
     "data": {
      "image/png": "[encoded data removed]",
      "text/plain": [
       "<Figure size 432x288 with 1 Axes>"
      ]
     },
     "metadata": {
      "needs_background": "light"
     },
     "output_type": "display_data"
    }
   ],
   "source": [
    "## Plot!\n",
    "%matplotlib inline\n",
    "# df_all.plot.bar()\n",
    "# df_all.groupby(['site', 'year']).plot.bar()\n",
    "df_all.loc[:, ['area_water','area_wet_emerg', 'site']].groupby('site').plot.bar(stacked=True)"
   ]
  },
  {
   "cell_type": "code",
   "execution_count": 113,
   "metadata": {},
   "outputs": [
    {
     "data": {
      "text/plain": [
       "<matplotlib.legend.Legend at 0x7f11a24d4550>"
      ]
     },
     "execution_count": 113,
     "metadata": {},
     "output_type": "execute_result"
    },
    {
     "data": {
      "image/png": "[encoded data removed]",
      "text/plain": [
       "<Figure size 432x288 with 1 Axes>"
      ]
     },
     "metadata": {
      "needs_background": "light"
     },
     "output_type": "display_data"
    }
   ],
   "source": [
    "## Plot v2\n",
    "%matplotlib inline\n",
    "\n",
    "x = np.arange(len(regions))  # the label locations\n",
    "x=np.arange(12) \n",
    "width = 0.35  # the width of the bars\n",
    "plt.bar(x-width/2, df_all.area_water, width, label = 'Water') # x-width/2, \n",
    "plt.bar(x+width/2, df_all.area_wet_emerg, width, label = 'Emergent macrophytes')\n",
    "plt.legend()\n"
   ]
  },
  {
   "cell_type": "code",
   "execution_count": 115,
   "metadata": {},
   "outputs": [
    {
     "data": {
      "text/plain": [
       "<matplotlib.legend.Legend at 0x7f11a2a1a5c0>"
      ]
     },
     "execution_count": 115,
     "metadata": {},
     "output_type": "execute_result"
    },
    {
     "data": {
      "image/png": "[encoded data removed]",
      "text/plain": [
       "<Figure size 432x288 with 1 Axes>"
      ]
     },
     "metadata": {
      "needs_background": "light"
     },
     "output_type": "display_data"
    }
   ],
   "source": [
    "## Plot v3\n",
    "%matplotlib inline\n",
    "\n",
    "x = np.arange(len(regions))  # the label locations\n",
    "x=np.arange(12) \n",
    "width = 0.35  # the width of the bars\n",
    "plt.bar(x-width/2, df_all.area_water, width, label = 'Water') # x-width/2, \n",
    "plt.bar(x+width/2, df_all.area_wet_emerg,  width, bottom=df_all.area_water, label = 'Emergent macrophytes')\n",
    "# plt.set_xticklabels()\n",
    "plt.legend()\n"
   ]
  }
 ],
 "metadata": {
  "kernelspec": {
   "display_name": "Python [conda env:geohackw] *",
   "language": "python",
   "name": "conda-env-geohackw-py"
  },
  "language_info": {
   "codemirror_mode": {
    "name": "ipython",
    "version": 3
   },
   "file_extension": ".py",
   "mimetype": "text/x-python",
   "name": "python",
   "nbconvert_exporter": "python",
   "pygments_lexer": "ipython3",
   "version": "3.7.3"
  }
 },
 "nbformat": 4,
 "nbformat_minor": 4
}
