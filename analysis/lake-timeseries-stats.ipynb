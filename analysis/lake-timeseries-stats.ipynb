{
 "cells": [
  {
   "cell_type": "markdown",
   "metadata": {},
   "source": [
    "Script for processing lake and inundated vegetation time series from Chang. Each Lake is in its own tab of an Excel spreadsheet with a row for each date observation. The script calculates statistics on each lake.\n",
    "\n",
    "TODO: use ipython widgets to make a slider for each lake that plots the histogram"
   ]
  },
  {
   "cell_type": "markdown",
   "metadata": {},
   "source": [
    "## Statistics:\n",
    "\n",
    "Lake inundation area (open water + inundated vegetation)\n",
    "min\n",
    "max\n",
    "std dev\n",
    "25 and 75 percentile\n",
    "mean\n",
    "median\n",
    "skewness\n",
    "kurtosis\n",
    "Some statistic based on the Inundation Frequency maps?\n",
    "\n",
    "Lake inundation perimeter [lower priority]\n",
    "\n",
    "Emergent vegetation area\n",
    "min [lower priority]\n",
    "max [lower priority]\n",
    "std dev  [lower priority]\n",
    "25 and 75 percentile [lower priority]\n",
    "mean\n",
    "median\n",
    "skewness [lower priority]\n",
    "kurtosis [lower priority]\n",
    "Some statistic based on the Inundation Frequency maps? [lower priority]\n",
    "\n",
    "Emergent/flooded vegetation fraction of total inundation (em_fraction)\n",
    "min [lower priority]\n",
    "max [lower priority]\n",
    "std dev  [lower priority]\n",
    "25 and 75 percentile [lower priority]\n",
    "mean\n",
    "median\n",
    "skewness [lower priority]\n",
    "kurtosis [lower priority]\n",
    "Some statistic based on the Inundation Frequency maps? [lower priority]"
   ]
  },
  {
   "cell_type": "code",
   "execution_count": 12,
   "metadata": {},
   "outputs": [],
   "source": [
    "import os\n",
    "import matplotlib.pyplot as plt\n",
    "import numpy as np\n",
    "import pandas as pd\n",
    "import geopandas as gpd\n",
    "import qgrid\n",
    "# import scipy as sp\n",
    "from scipy import stats as sps\n",
    "\n",
    "from pandas import DataFrame"
   ]
  },
  {
   "cell_type": "code",
   "execution_count": 2,
   "metadata": {},
   "outputs": [],
   "source": [
    "## qgrid parameters\n",
    "# for help, see https://qgrid.readthedocs.io/en/latest/ or https://github.com/quantopian/qgrid\n",
    "\n",
    "## set defaults\n",
    "grid_options = {\n",
    "        # SlickGrid options\n",
    "        'fullWidthRows': True, # True\n",
    "        'syncColumnCellResize': True,\n",
    "        'forceFitColumns': False, #True\n",
    "        'defaultColumnWidth': 150, # 150\n",
    "        'rowHeight': 28,\n",
    "        'enableColumnReorder': True,\n",
    "        'enableTextSelectionOnCells': True,\n",
    "        'editable': True,\n",
    "        'autoEdit': False,\n",
    "        'explicitInitialization': True,\n",
    "\n",
    "        # Qgrid options\n",
    "        'maxVisibleRows': 10,\n",
    "        'minVisibleRows': 4,\n",
    "        'sortable': True,\n",
    "        'filterable': True,\n",
    "        'highlightSelectedCell': True,\n",
    "        'highlightSelectedRow': True\n",
    "    }\n",
    "\n",
    "col_options = {\n",
    "    # SlickGrid column options\n",
    "    'defaultSortAsc': True,\n",
    "    'maxWidth': None, # None,\n",
    "    'minWidth': 30, #30\n",
    "    'resizable': True,\n",
    "    'sortable': True,\n",
    "    'toolTip': \"\",\n",
    "    'width': None, # None\n",
    "\n",
    "    # Qgrid column options\n",
    "    'editable': True,\n",
    "}\n",
    "qgrid.set_defaults(grid_options=grid_options, column_options=col_options)\n",
    "qgrid.enable() #enable interactive pandas dataframes"
   ]
  },
  {
   "cell_type": "code",
   "execution_count": 18,
   "metadata": {},
   "outputs": [
    {
     "data": {
      "text/plain": [
       "odict_keys(['ABOVE_coordinates for Ethan_12-', 'Tea 07-19-19', 'Mosquito 07-19-19', 'Guiness 07-19-19', 'Coffee 07-19-19', 'Backdoor 07-17-19', 'NW10 08-21-19', 'NE40 08-21-19', 'NE20 08-22-19', 'M1 08-19-19', 'Lake M2', 'H23 08-19-19', 'H21 08-19-19', 'H22 08-19-19', 'H20 08-19-19', 'Airport pond 08-20-19', 'Lake 10', 'NW20 08-21-19', 'NW40 08-21-19', 'NW30 08-21-19', 'NW80 08-21-19', 'NW70 08-21-19', 'NW60 08-21-19', 'NW50 08-21-19', 'CH6', 'LongLake'])"
      ]
     },
     "execution_count": 18,
     "metadata": {},
     "output_type": "execute_result"
    }
   ],
   "source": [
    "    # PAD\n",
    "# xlsx_path = '/mnt/f/PAD2019/ChangHuang/Lakes4Ethan-PAD-YF/ABOVE_coordinates_for_Chang_v1_working.xlsx'\n",
    "# out_path = '/mnt/f/PAD2019/ChangHuang/Lakes4Ethan-PAD-YF/ek_out/time-series-stats-pad-yf.xlsx'\n",
    "# out_plot_path = '/mnt/f/PAD2019/ChangHuang/Lakes4Ethan-PAD-YF/ek_out/total_inun_time_series-pad-yf.pdf'\n",
    "\n",
    "    #YKN\n",
    "# xlsx_path = '/mnt/f/PAD2019/ChangHuang/Yellowknife/ABOVE_coordinates for Ethan_12-01-20_all_em_fraction_average.xlsx'\n",
    "# out_path = '/mnt/f/PAD2019/ChangHuang/ek_out/time-series-stats-yellowknife.xlsx'\n",
    "# out_plot_path = '/mnt/f/PAD2019/ChangHuang/ek_out/total_inun_time_series-yellowknife.pdf'\n",
    "    \n",
    "    # YKN and Wekweeti\n",
    "xlsx_path = '/mnt/f/PAD2019/ChangHuang/Wekweeti/ABOVE_coordinates for Ethan_12-01-20_all_em_fraction_average-Wekweeti-working.xlsx'\n",
    "out_path = '/mnt/f/PAD2019/ChangHuang/ek_out/time-series-stats-yellowknife-wekweeti.xlsx'\n",
    "out_plot_path = '/mnt/f/PAD2019/ChangHuang/ek_out/total_inun_time_series-yellowknife-wekweeti.pdf'\n",
    "\n",
    "df = pd.read_excel(xlsx_path, sheet_name=None)\n",
    "df.keys()"
   ]
  },
  {
   "cell_type": "code",
   "execution_count": 19,
   "metadata": {},
   "outputs": [],
   "source": [
    "## create structure for results\n",
    "\n",
    "stats=DataFrame(columns=['Lake'], index=None)\n",
    "# stats.set_index('Lake')"
   ]
  },
  {
   "cell_type": "code",
   "execution_count": 14,
   "metadata": {
    "collapsed": true,
    "jupyter": {
     "outputs_hidden": true,
     "source_hidden": true
    }
   },
   "outputs": [
    {
     "name": "stdout",
     "output_type": "stream",
     "text": [
      "Tea 07-19-19\t"
     ]
    },
    {
     "ename": "KeyError",
     "evalue": "'em_fraction[(C+D+E)/(B+C+D+E)]'",
     "output_type": "error",
     "traceback": [
      "\u001b[0;31m---------------------------------------------------------------------------\u001b[0m",
      "\u001b[0;31mKeyError\u001b[0m                                  Traceback (most recent call last)",
      "\u001b[0;32m~/miniconda2/envs/geohackw/lib/python3.7/site-packages/pandas/core/indexes/base.py\u001b[0m in \u001b[0;36mget_loc\u001b[0;34m(self, key, method, tolerance)\u001b[0m\n\u001b[1;32m   2889\u001b[0m             \u001b[0;32mtry\u001b[0m\u001b[0;34m:\u001b[0m\u001b[0;34m\u001b[0m\u001b[0;34m\u001b[0m\u001b[0m\n\u001b[0;32m-> 2890\u001b[0;31m                 \u001b[0;32mreturn\u001b[0m \u001b[0mself\u001b[0m\u001b[0;34m.\u001b[0m\u001b[0m_engine\u001b[0m\u001b[0;34m.\u001b[0m\u001b[0mget_loc\u001b[0m\u001b[0;34m(\u001b[0m\u001b[0mkey\u001b[0m\u001b[0;34m)\u001b[0m\u001b[0;34m\u001b[0m\u001b[0;34m\u001b[0m\u001b[0m\n\u001b[0m\u001b[1;32m   2891\u001b[0m             \u001b[0;32mexcept\u001b[0m \u001b[0mKeyError\u001b[0m\u001b[0;34m:\u001b[0m\u001b[0;34m\u001b[0m\u001b[0;34m\u001b[0m\u001b[0m\n",
      "\u001b[0;32mpandas/_libs/index.pyx\u001b[0m in \u001b[0;36mpandas._libs.index.IndexEngine.get_loc\u001b[0;34m()\u001b[0m\n",
      "\u001b[0;32mpandas/_libs/index.pyx\u001b[0m in \u001b[0;36mpandas._libs.index.IndexEngine.get_loc\u001b[0;34m()\u001b[0m\n",
      "\u001b[0;32mpandas/_libs/hashtable_class_helper.pxi\u001b[0m in \u001b[0;36mpandas._libs.hashtable.PyObjectHashTable.get_item\u001b[0;34m()\u001b[0m\n",
      "\u001b[0;32mpandas/_libs/hashtable_class_helper.pxi\u001b[0m in \u001b[0;36mpandas._libs.hashtable.PyObjectHashTable.get_item\u001b[0;34m()\u001b[0m\n",
      "\u001b[0;31mKeyError\u001b[0m: 'em_fraction[(C+D+E)/(B+C+D+E)]'",
      "\nDuring handling of the above exception, another exception occurred:\n",
      "\u001b[0;31mKeyError\u001b[0m                                  Traceback (most recent call last)",
      "\u001b[0;32m<ipython-input-14-5396656fe554>\u001b[0m in \u001b[0;36m<module>\u001b[0;34m\u001b[0m\n\u001b[1;32m     40\u001b[0m \u001b[0;34m\u001b[0m\u001b[0m\n\u001b[1;32m     41\u001b[0m             \u001b[0;31m# em_fraction\u001b[0m\u001b[0;34m\u001b[0m\u001b[0;34m\u001b[0m\u001b[0;34m\u001b[0m\u001b[0m\n\u001b[0;32m---> 42\u001b[0;31m         \u001b[0mstats\u001b[0m\u001b[0;34m.\u001b[0m\u001b[0mloc\u001b[0m\u001b[0;34m[\u001b[0m\u001b[0mi\u001b[0m\u001b[0;34m,\u001b[0m \u001b[0;34m'em_fraction_mean'\u001b[0m\u001b[0;34m]\u001b[0m\u001b[0;34m=\u001b[0m\u001b[0mdf\u001b[0m\u001b[0;34m[\u001b[0m\u001b[0mlake\u001b[0m\u001b[0;34m]\u001b[0m\u001b[0;34m[\u001b[0m\u001b[0;34m'em_fraction[(C+D+E)/(B+C+D+E)]'\u001b[0m\u001b[0;34m]\u001b[0m\u001b[0;34m.\u001b[0m\u001b[0mmean\u001b[0m\u001b[0;34m(\u001b[0m\u001b[0;34m)\u001b[0m\u001b[0;34m\u001b[0m\u001b[0;34m\u001b[0m\u001b[0m\n\u001b[0m\u001b[1;32m     43\u001b[0m         \u001b[0mstats\u001b[0m\u001b[0;34m.\u001b[0m\u001b[0mloc\u001b[0m\u001b[0;34m[\u001b[0m\u001b[0mi\u001b[0m\u001b[0;34m,\u001b[0m \u001b[0;34m'em_fraction_med'\u001b[0m\u001b[0;34m]\u001b[0m\u001b[0;34m=\u001b[0m\u001b[0mdf\u001b[0m\u001b[0;34m[\u001b[0m\u001b[0mlake\u001b[0m\u001b[0;34m]\u001b[0m\u001b[0;34m[\u001b[0m\u001b[0;34m'em_fraction[(C+D+E)/(B+C+D+E)]'\u001b[0m\u001b[0;34m]\u001b[0m\u001b[0;34m.\u001b[0m\u001b[0mmedian\u001b[0m\u001b[0;34m(\u001b[0m\u001b[0;34m)\u001b[0m\u001b[0;34m\u001b[0m\u001b[0;34m\u001b[0m\u001b[0m\n\u001b[1;32m     44\u001b[0m         \u001b[0mstats\u001b[0m\u001b[0;34m.\u001b[0m\u001b[0mloc\u001b[0m\u001b[0;34m[\u001b[0m\u001b[0mi\u001b[0m\u001b[0;34m,\u001b[0m \u001b[0;34m'em_fraction_min'\u001b[0m\u001b[0;34m]\u001b[0m\u001b[0;34m=\u001b[0m\u001b[0mdf\u001b[0m\u001b[0;34m[\u001b[0m\u001b[0mlake\u001b[0m\u001b[0;34m]\u001b[0m\u001b[0;34m[\u001b[0m\u001b[0;34m'em_fraction[(C+D+E)/(B+C+D+E)]'\u001b[0m\u001b[0;34m]\u001b[0m\u001b[0;34m.\u001b[0m\u001b[0mmin\u001b[0m\u001b[0;34m(\u001b[0m\u001b[0;34m)\u001b[0m\u001b[0;34m\u001b[0m\u001b[0;34m\u001b[0m\u001b[0m\n",
      "\u001b[0;32m~/miniconda2/envs/geohackw/lib/python3.7/site-packages/pandas/core/frame.py\u001b[0m in \u001b[0;36m__getitem__\u001b[0;34m(self, key)\u001b[0m\n\u001b[1;32m   2973\u001b[0m             \u001b[0;32mif\u001b[0m \u001b[0mself\u001b[0m\u001b[0;34m.\u001b[0m\u001b[0mcolumns\u001b[0m\u001b[0;34m.\u001b[0m\u001b[0mnlevels\u001b[0m \u001b[0;34m>\u001b[0m \u001b[0;36m1\u001b[0m\u001b[0;34m:\u001b[0m\u001b[0;34m\u001b[0m\u001b[0;34m\u001b[0m\u001b[0m\n\u001b[1;32m   2974\u001b[0m                 \u001b[0;32mreturn\u001b[0m \u001b[0mself\u001b[0m\u001b[0;34m.\u001b[0m\u001b[0m_getitem_multilevel\u001b[0m\u001b[0;34m(\u001b[0m\u001b[0mkey\u001b[0m\u001b[0;34m)\u001b[0m\u001b[0;34m\u001b[0m\u001b[0;34m\u001b[0m\u001b[0m\n\u001b[0;32m-> 2975\u001b[0;31m             \u001b[0mindexer\u001b[0m \u001b[0;34m=\u001b[0m \u001b[0mself\u001b[0m\u001b[0;34m.\u001b[0m\u001b[0mcolumns\u001b[0m\u001b[0;34m.\u001b[0m\u001b[0mget_loc\u001b[0m\u001b[0;34m(\u001b[0m\u001b[0mkey\u001b[0m\u001b[0;34m)\u001b[0m\u001b[0;34m\u001b[0m\u001b[0;34m\u001b[0m\u001b[0m\n\u001b[0m\u001b[1;32m   2976\u001b[0m             \u001b[0;32mif\u001b[0m \u001b[0mis_integer\u001b[0m\u001b[0;34m(\u001b[0m\u001b[0mindexer\u001b[0m\u001b[0;34m)\u001b[0m\u001b[0;34m:\u001b[0m\u001b[0;34m\u001b[0m\u001b[0;34m\u001b[0m\u001b[0m\n\u001b[1;32m   2977\u001b[0m                 \u001b[0mindexer\u001b[0m \u001b[0;34m=\u001b[0m \u001b[0;34m[\u001b[0m\u001b[0mindexer\u001b[0m\u001b[0;34m]\u001b[0m\u001b[0;34m\u001b[0m\u001b[0;34m\u001b[0m\u001b[0m\n",
      "\u001b[0;32m~/miniconda2/envs/geohackw/lib/python3.7/site-packages/pandas/core/indexes/base.py\u001b[0m in \u001b[0;36mget_loc\u001b[0;34m(self, key, method, tolerance)\u001b[0m\n\u001b[1;32m   2890\u001b[0m                 \u001b[0;32mreturn\u001b[0m \u001b[0mself\u001b[0m\u001b[0;34m.\u001b[0m\u001b[0m_engine\u001b[0m\u001b[0;34m.\u001b[0m\u001b[0mget_loc\u001b[0m\u001b[0;34m(\u001b[0m\u001b[0mkey\u001b[0m\u001b[0;34m)\u001b[0m\u001b[0;34m\u001b[0m\u001b[0;34m\u001b[0m\u001b[0m\n\u001b[1;32m   2891\u001b[0m             \u001b[0;32mexcept\u001b[0m \u001b[0mKeyError\u001b[0m\u001b[0;34m:\u001b[0m\u001b[0;34m\u001b[0m\u001b[0;34m\u001b[0m\u001b[0m\n\u001b[0;32m-> 2892\u001b[0;31m                 \u001b[0;32mreturn\u001b[0m \u001b[0mself\u001b[0m\u001b[0;34m.\u001b[0m\u001b[0m_engine\u001b[0m\u001b[0;34m.\u001b[0m\u001b[0mget_loc\u001b[0m\u001b[0;34m(\u001b[0m\u001b[0mself\u001b[0m\u001b[0;34m.\u001b[0m\u001b[0m_maybe_cast_indexer\u001b[0m\u001b[0;34m(\u001b[0m\u001b[0mkey\u001b[0m\u001b[0;34m)\u001b[0m\u001b[0;34m)\u001b[0m\u001b[0;34m\u001b[0m\u001b[0;34m\u001b[0m\u001b[0m\n\u001b[0m\u001b[1;32m   2893\u001b[0m         \u001b[0mindexer\u001b[0m \u001b[0;34m=\u001b[0m \u001b[0mself\u001b[0m\u001b[0;34m.\u001b[0m\u001b[0mget_indexer\u001b[0m\u001b[0;34m(\u001b[0m\u001b[0;34m[\u001b[0m\u001b[0mkey\u001b[0m\u001b[0;34m]\u001b[0m\u001b[0;34m,\u001b[0m \u001b[0mmethod\u001b[0m\u001b[0;34m=\u001b[0m\u001b[0mmethod\u001b[0m\u001b[0;34m,\u001b[0m \u001b[0mtolerance\u001b[0m\u001b[0;34m=\u001b[0m\u001b[0mtolerance\u001b[0m\u001b[0;34m)\u001b[0m\u001b[0;34m\u001b[0m\u001b[0;34m\u001b[0m\u001b[0m\n\u001b[1;32m   2894\u001b[0m         \u001b[0;32mif\u001b[0m \u001b[0mindexer\u001b[0m\u001b[0;34m.\u001b[0m\u001b[0mndim\u001b[0m \u001b[0;34m>\u001b[0m \u001b[0;36m1\u001b[0m \u001b[0;32mor\u001b[0m \u001b[0mindexer\u001b[0m\u001b[0;34m.\u001b[0m\u001b[0msize\u001b[0m \u001b[0;34m>\u001b[0m \u001b[0;36m1\u001b[0m\u001b[0;34m:\u001b[0m\u001b[0;34m\u001b[0m\u001b[0;34m\u001b[0m\u001b[0m\n",
      "\u001b[0;32mpandas/_libs/index.pyx\u001b[0m in \u001b[0;36mpandas._libs.index.IndexEngine.get_loc\u001b[0;34m()\u001b[0m\n",
      "\u001b[0;32mpandas/_libs/index.pyx\u001b[0m in \u001b[0;36mpandas._libs.index.IndexEngine.get_loc\u001b[0;34m()\u001b[0m\n",
      "\u001b[0;32mpandas/_libs/hashtable_class_helper.pxi\u001b[0m in \u001b[0;36mpandas._libs.hashtable.PyObjectHashTable.get_item\u001b[0;34m()\u001b[0m\n",
      "\u001b[0;32mpandas/_libs/hashtable_class_helper.pxi\u001b[0m in \u001b[0;36mpandas._libs.hashtable.PyObjectHashTable.get_item\u001b[0;34m()\u001b[0m\n",
      "\u001b[0;31mKeyError\u001b[0m: 'em_fraction[(C+D+E)/(B+C+D+E)]'"
     ]
    }
   ],
   "source": [
    "## old version: for pad/yf\n",
    "for i, lake in enumerate(df.keys()):\n",
    "    if (lake != 'Lakes') & ~('ABOVE_coordinates' in lake):\n",
    "        i-=1\n",
    "        print(lake, end='\\t')\n",
    "        \n",
    "            # init\n",
    "        stats.loc[i, 'Lake']=lake\n",
    "        df[lake]['Lake']=lake # not essential\n",
    "        \n",
    "            # total inundation (don't calc mean or med b/c geographic coord system...)\n",
    "        df[lake]['total_inun']= df[lake].OpenWater + df[lake].FloatingMacrophyte + \\\n",
    "            df[lake].EmergentMacrophyte\t+ df[lake].FloodedVegetation\n",
    "        stats.loc[i, 'total_inun_std'] =  df[lake]['total_inun'].std()\n",
    "        stats.loc[i, 'total_inun_mean_DONOTUSE'] =  df[lake]['total_inun'].mean()\n",
    "        stats.loc[i, 'total_inun_skewness'] =  sps.skew(df[lake]['total_inun'])\n",
    "        stats.loc[i, 'total_inun_kurtosis'] =  sps.kurtosis(df[lake]['total_inun'])\n",
    "        stats.loc[i, 'total_inun_dyn_pct'] =  (df[lake]['total_inun'].max() - df[lake]['total_inun'].min()) / df[lake]['total_inun'].max() * 100 \n",
    "        df[lake]['date_doy'] = df[lake].loc[:,'date'].dt.strftime('%j').astype('int')\n",
    "        \n",
    "        #\n",
    "#         max_inun_idx=pd.Series.idxmax(df[lake]['total_inun'])\n",
    "#         stats.loc[i, 'mean_inun_doy_max'] = df[lake]['date_doy'][max_inun_idx]\n",
    "#         min_inun_idx=pd.Series.idxmin(df[lake]['total_inun'])\n",
    "#         stats.loc[i, 'mean_inun_doy_min'] = df[lake]['date_doy'][min_inun_idx]\n",
    "        \n",
    "        #\n",
    "        \n",
    "        group_by_year=df[lake].groupby(df[lake]['date'].dt.year)\n",
    "        min_inun_idx=group_by_year['total_inun'].idxmin()\n",
    "        max_inun_idx=group_by_year['total_inun'].idxmax()\n",
    "        stats.loc[i, 'mean_inun_doy_min'] = df[lake].date_doy[min_inun_idx].mean()\n",
    "        stats.loc[i, 'mean_inun_doy_max'] = df[lake].date_doy[max_inun_idx].mean()\n",
    "        \n",
    "            # em\n",
    "        df[lake]['inun_veg']= df[lake].FloatingMacrophyte + \\\n",
    "            df[lake].EmergentMacrophyte\t+ df[lake].FloodedVegetation\n",
    "        stats.loc[i, 'em_std']=df[lake]['inun_veg'].std()\n",
    "        stats.loc[i, 'em_skewness']=sps.skew(df[lake]['inun_veg'])\n",
    "        stats.loc[i, 'em_kurtosis']=sps.kurtosis(df[lake]['inun_veg'])\n",
    "        \n",
    "            # em_fraction\n",
    "        stats.loc[i, 'em_fraction_mean']=df[lake]['em_fraction[(C+D+E)/(B+C+D+E)]'].mean()\n",
    "        stats.loc[i, 'em_fraction_med']=df[lake]['em_fraction[(C+D+E)/(B+C+D+E)]'].median()\n",
    "        stats.loc[i, 'em_fraction_min']=df[lake]['em_fraction[(C+D+E)/(B+C+D+E)]'].min()\n",
    "        stats.loc[i, 'em_fraction_max']=df[lake]['em_fraction[(C+D+E)/(B+C+D+E)]'].max()\n",
    "        stats.loc[i, 'em_fraction_std']=df[lake]['em_fraction[(C+D+E)/(B+C+D+E)]'].std()\n",
    "        stats.loc[i, 'em_fraction_skewness']=sps.skew(df[lake]['inun_veg'])\n",
    "        stats.loc[i, 'em_fraction_kurtosis']=sps.kurtosis(df[lake]['inun_veg'])\n",
    "\n",
    "## display result\n",
    "stats        "
   ]
  },
  {
   "cell_type": "code",
   "execution_count": 28,
   "metadata": {},
   "outputs": [
    {
     "name": "stdout",
     "output_type": "stream",
     "text": [
      "Tea 07-19-19\tMosquito 07-19-19\tGuiness 07-19-19\tCoffee 07-19-19\tBackdoor 07-17-19\tNW10 08-21-19\tNE40 08-21-19\tNE20 08-22-19\tM1 08-19-19\tLake M2\tH23 08-19-19\tH21 08-19-19\tH22 08-19-19\tH20 08-19-19\tAirport pond 08-20-19\tLake 10\tNW20 08-21-19\tNW40 08-21-19\tNW30 08-21-19\tNW80 08-21-19\tNW70 08-21-19\tNW60 08-21-19\tNW50 08-21-19\tCH6\tLongLake\t"
     ]
    },
    {
     "data": {
      "application/vnd.jupyter.widget-view+json": {
       "model_id": "86366b5875d34ea3a9c82e8b87240bdc",
       "version_major": 2,
       "version_minor": 0
      },
      "text/plain": [
       "QgridWidget(grid_options={'fullWidthRows': True, 'syncColumnCellResize': True, 'forceFitColumns': False, 'defa…"
      ]
     },
     "metadata": {},
     "output_type": "display_data"
    }
   ],
   "source": [
    "## Wekweeti\n",
    "\n",
    "for i, lake in enumerate(df.keys()):\n",
    "    if (lake != 'Lakes') & ~('ABOVE_coordinates' in lake):\n",
    "        i-=1\n",
    "        print(lake, end='\\t')\n",
    "        \n",
    "            # init\n",
    "        stats.loc[i, 'Lake']=lake\n",
    "        df[lake]['Lake']=lake # not essential\n",
    "        \n",
    "            # drop na\n",
    "        df[lake].dropna(inplace=True)\n",
    "        \n",
    "            # total inundation (don't calc mean or med b/c geographic coord system...)\n",
    "        df[lake]['total_inun']= df[lake].OpenWater + df[lake].FloatingMacrophyte + \\\n",
    "            df[lake].EmergentMacrophyte\t+ df[lake].FloodedVegetation\n",
    "        stats.loc[i, 'total_inun_std'] =  df[lake]['total_inun'].std()\n",
    "        stats.loc[i, 'total_inun_mean_DONOTUSE'] =  df[lake]['total_inun'].mean()\n",
    "        stats.loc[i, 'total_inun_skewness'] =  sps.skew(df[lake]['total_inun'])\n",
    "        stats.loc[i, 'total_inun_kurtosis'] =  sps.kurtosis(df[lake]['total_inun'])\n",
    "        stats.loc[i, 'total_inun_dyn_pct'] =  (df[lake]['total_inun'].max() - df[lake]['total_inun'].min()) / df[lake]['total_inun'].max() * 100 \n",
    "        df[lake]['date_doy'] = df[lake].loc[:,'date'].dt.strftime('%j').astype('int')\n",
    "        \n",
    "        #\n",
    "#         max_inun_idx=pd.Series.idxmax(df[lake]['total_inun'])\n",
    "#         stats.loc[i, 'mean_inun_doy_max'] = df[lake]['date_doy'][max_inun_idx]\n",
    "#         min_inun_idx=pd.Series.idxmin(df[lake]['total_inun'])\n",
    "#         stats.loc[i, 'mean_inun_doy_min'] = df[lake]['date_doy'][min_inun_idx]\n",
    "        \n",
    "        #\n",
    "        \n",
    "        group_by_year=df[lake].groupby(df[lake]['date'].dt.year)\n",
    "        min_inun_idx=group_by_year['total_inun'].idxmin()\n",
    "        max_inun_idx=group_by_year['total_inun'].idxmax()\n",
    "        stats.loc[i, 'mean_inun_doy_min'] = df[lake].date_doy[min_inun_idx].mean()\n",
    "        stats.loc[i, 'mean_inun_doy_max'] = df[lake].date_doy[max_inun_idx].mean()\n",
    "        \n",
    "            # em\n",
    "        df[lake]['inun_veg']= df[lake].FloatingMacrophyte + \\\n",
    "            df[lake].EmergentMacrophyte\t+ df[lake].FloodedVegetation\n",
    "        stats.loc[i, 'em_std']=df[lake]['inun_veg'].std()\n",
    "        stats.loc[i, 'em_skewness']=sps.skew(df[lake]['inun_veg'])\n",
    "        stats.loc[i, 'em_kurtosis']=sps.kurtosis(df[lake]['inun_veg'])\n",
    "        \n",
    "            # em_fraction\n",
    "        stats.loc[i, 'em_fraction_mean']=df[lake]['em_fraction'].mean()\n",
    "        stats.loc[i, 'em_fraction_med']=df[lake]['em_fraction'].median()\n",
    "        stats.loc[i, 'em_fraction_min']=df[lake]['em_fraction'].min()\n",
    "        stats.loc[i, 'em_fraction_max']=df[lake]['em_fraction'].max()\n",
    "        stats.loc[i, 'em_fraction_std']=df[lake]['em_fraction'].std()\n",
    "        stats.loc[i, 'em_fraction_skewness']=sps.skew(df[lake]['inun_veg'])\n",
    "        stats.loc[i, 'em_fraction_kurtosis']=sps.kurtosis(df[lake]['inun_veg'])\n",
    "\n",
    "## display result\n",
    "stats        "
   ]
  },
  {
   "cell_type": "code",
   "execution_count": 29,
   "metadata": {},
   "outputs": [],
   "source": [
    "## save result\n",
    "\n",
    "stats.to_excel(out_path, freeze_panes=(1,2))"
   ]
  },
  {
   "cell_type": "markdown",
   "metadata": {},
   "source": [
    "# Testing"
   ]
  },
  {
   "cell_type": "code",
   "execution_count": 30,
   "metadata": {},
   "outputs": [
    {
     "name": "stdout",
     "output_type": "stream",
     "text": [
      "16 out of 25 lakes Max inundation occurs before min\n",
      "0     -52.0\n",
      "1     -44.0\n",
      "2     -24.0\n",
      "3     -80.0\n",
      "4     -12.0\n",
      "5      20.0\n",
      "6     104.0\n",
      "7     -36.0\n",
      "8      88.0\n",
      "9      20.0\n",
      "10    -76.0\n",
      "11    -96.0\n",
      "12     64.0\n",
      "13    -96.0\n",
      "14     72.0\n",
      "15     12.0\n",
      "16     28.0\n",
      "17   -116.0\n",
      "18    -56.0\n",
      "19   -120.0\n",
      "20   -100.0\n",
      "21    -12.0\n",
      "22    -92.0\n",
      "23      0.0\n",
      "24    -68.0\n",
      "dtype: float64\n"
     ]
    },
    {
     "data": {
      "application/vnd.jupyter.widget-view+json": {
       "model_id": "fd657e50ae9c448ebacd6d00eb46a0c5",
       "version_major": 2,
       "version_minor": 0
      },
      "text/plain": [
       "QgridWidget(grid_options={'fullWidthRows': True, 'syncColumnCellResize': True, 'forceFitColumns': False, 'defa…"
      ]
     },
     "metadata": {},
     "output_type": "display_data"
    }
   ],
   "source": [
    "## Does max inun come first? (if so, negative val)\n",
    "comp=stats.loc[:, 'mean_inun_doy_max'] - stats.loc[:, 'mean_inun_doy_min']\n",
    "print(f'{np.sum(comp<0)} out of {len(comp)} lakes Max inundation occurs before min')\n",
    "print(comp)\n",
    "stats.loc[:, ['mean_inun_doy_min','mean_inun_doy_max']]"
   ]
  },
  {
   "cell_type": "code",
   "execution_count": 31,
   "metadata": {},
   "outputs": [
    {
     "name": "stderr",
     "output_type": "stream",
     "text": [
      "/home/ekyzivat/miniconda2/envs/geohackw/lib/python3.7/site-packages/pandas/core/frame.py:7116: FutureWarning: Sorting because non-concatenation axis is not aligned. A future version\n",
      "of pandas will change to not sort by default.\n",
      "\n",
      "To accept the future behavior, pass 'sort=False'.\n",
      "\n",
      "To retain the current behavior and silence the warning, pass 'sort=True'.\n",
      "\n",
      "  sort=sort,\n"
     ]
    },
    {
     "data": {
      "application/vnd.jupyter.widget-view+json": {
       "model_id": "630fd4568e704e8c83652f096d2aeb96",
       "version_major": 2,
       "version_minor": 0
      },
      "text/plain": [
       "QgridWidget(grid_options={'fullWidthRows': True, 'syncColumnCellResize': True, 'forceFitColumns': False, 'defa…"
      ]
     },
     "metadata": {},
     "output_type": "display_data"
    },
    {
     "data": {
      "image/png": "[encoded data removed]",
      "text/plain": [
       "<Figure size 432x288 with 1 Axes>"
      ]
     },
     "metadata": {
      "needs_background": "light"
     },
     "output_type": "display_data"
    }
   ],
   "source": [
    "## Plot hydrographs!\n",
    "\n",
    "megadf = pd.DataFrame()\n",
    "for i, lake in enumerate(df.keys()):\n",
    "    if lake != 'Lakes':\n",
    "        megadf=megadf.append(df[lake], ignore_index=True)\n",
    "megadf\n",
    "megadf.groupby('Lake').total_inun.plot()"
   ]
  },
  {
   "cell_type": "code",
   "execution_count": 34,
   "metadata": {},
   "outputs": [
    {
     "data": {
      "image/png": "[encoded data removed]",
      "text/plain": [
       "<Figure size 864x864 with 1 Axes>"
      ]
     },
     "metadata": {
      "needs_background": "light"
     },
     "output_type": "display_data"
    }
   ],
   "source": [
    "## Plots!\n",
    "# to do: improve planning by making three side-by-side plots with the intervening winter months removed. Or add breaks in the X axis.\n",
    "\n",
    "fig, ax=plt.subplots(figsize=(12,12))\n",
    "magdf_grp=megadf.groupby('Lake')\n",
    "# magdf_grp.plot(x='date', y='total_inun') #, title=megadf.groupby('Lake').groups.keys(), subplots=True) # make indiv plots with no title\n",
    "for name, group in magdf_grp:\n",
    "    magdf_grp.get_group(name).plot(x='date', y='total_inun', ax=ax, label=name) #, title=megadf.groupby('Lake').groups.keys(), subplots=True)\n",
    "\n",
    "ax.set_ylabel('Area')\n",
    "## save\n",
    "fig.savefig( out_plot_path, dpi=300)"
   ]
  },
  {
   "cell_type": "code",
   "execution_count": 33,
   "metadata": {},
   "outputs": [
    {
     "data": {
      "application/vnd.jupyter.widget-view+json": {
       "model_id": "0741ad6976b64deab71d02c233b2c082",
       "version_major": 2,
       "version_minor": 0
      },
      "text/plain": [
       "QgridWidget(grid_options={'fullWidthRows': True, 'syncColumnCellResize': True, 'forceFitColumns': False, 'defa…"
      ]
     },
     "metadata": {},
     "output_type": "display_data"
    }
   ],
   "source": [
    "megadf"
   ]
  },
  {
   "cell_type": "code",
   "execution_count": 345,
   "metadata": {},
   "outputs": [
    {
     "data": {
      "application/vnd.jupyter.widget-view+json": {
       "model_id": "c07d64bd82504d43bdf0d0da486f5068",
       "version_major": 2,
       "version_minor": 0
      },
      "text/plain": [
       "QgridWidget(grid_options={'fullWidthRows': True, 'syncColumnCellResize': True, 'forceFitColumns': False, 'defa…"
      ]
     },
     "metadata": {},
     "output_type": "display_data"
    }
   ],
   "source": [
    "magdf_grp.get_group('yf20')\n",
    "magdf_grp.get_group(name)"
   ]
  },
  {
   "cell_type": "code",
   "execution_count": 319,
   "metadata": {},
   "outputs": [
    {
     "data": {
      "text/plain": [
       "<pandas.core.groupby.generic.SeriesGroupBy object at 0x7f1145901a58>"
      ]
     },
     "execution_count": 319,
     "metadata": {},
     "output_type": "execute_result"
    }
   ],
   "source": [
    "megadf.groupby('Lake').Lake"
   ]
  },
  {
   "cell_type": "markdown",
   "metadata": {},
   "source": [
    "# Scrap"
   ]
  },
  {
   "cell_type": "code",
   "execution_count": 103,
   "metadata": {},
   "outputs": [
    {
     "name": "stdout",
     "output_type": "stream",
     "text": [
      "0.4330127018922193\n",
      "0.4330127018922193\n"
     ]
    }
   ],
   "source": [
    "## Scrap to test std dev effect from magnitude : answer: no effect!\n",
    "\n",
    "print(np.std([10, 9, 10, 10, 10, 9, 10, 10]))\n",
    "print(np.std(100+np.array([10, 9, 10, 10, 10, 9, 10, 10])))"
   ]
  },
  {
   "cell_type": "code",
   "execution_count": 193,
   "metadata": {
    "collapsed": true,
    "jupyter": {
     "outputs_hidden": true
    }
   },
   "outputs": [
    {
     "data": {
      "application/vnd.jupyter.widget-view+json": {
       "model_id": "686c95bc27734ed5b203115d6ddd7c4c",
       "version_major": 2,
       "version_minor": 0
      },
      "text/plain": [
       "QgridWidget(grid_options={'fullWidthRows': True, 'syncColumnCellResize': True, 'forceFitColumns': False, 'defa…"
      ]
     },
     "metadata": {},
     "output_type": "display_data"
    }
   ],
   "source": [
    "## scrap to test new stats\n",
    "df[lake] #['total_inun']\n",
    "pd.to_datetime(df[lake].loc[:, 'date']) # unnecessary, bc already a datetime!\n",
    "df[lake].dtypes"
   ]
  },
  {
   "cell_type": "code",
   "execution_count": 241,
   "metadata": {},
   "outputs": [
    {
     "name": "stdout",
     "output_type": "stream",
     "text": [
      "date\n",
      "2017     0\n",
      "2018    16\n",
      "2019    28\n",
      "Name: total_inun, dtype: int64\n",
      "date\n",
      "2017     6\n",
      "2018    23\n",
      "2019    40\n",
      "Name: total_inun, dtype: int64\n"
     ]
    },
    {
     "data": {
      "application/vnd.jupyter.widget-view+json": {
       "model_id": "909188b7f8354b928b1c759c9035e8bf",
       "version_major": 2,
       "version_minor": 0
      },
      "text/plain": [
       "QgridWidget(grid_options={'fullWidthRows': True, 'syncColumnCellResize': True, 'forceFitColumns': False, 'defa…"
      ]
     },
     "metadata": {},
     "output_type": "display_data"
    }
   ],
   "source": [
    "## group by year\n",
    "# df['BallonLake']['year']=df['BallonLake'].loc[:, 'date'].dt.strftime('%Y')\n",
    "# df['BallonLake']['year']\n",
    "# df['BallonLake'].groupby('year')\n",
    "df['BallonLake'].groupby(df['BallonLake']['date'].dt.year)\n",
    "# max_inun_idx=\n",
    "# pd.Series.idxmax(df['BallonLake'].groupby('year')['total_inun'])\n",
    "# df['BallonLake'].groupby('year')['total_inun'].apply()\n",
    "# df['BallonLake'].groupby(df['BallonLake']['date'].dt.year)['total_inun'].aggregate('np.argmin')\n",
    "\n",
    "max_inun_idx=df['BallonLake'].groupby(df['BallonLake']['date'].dt.year)['total_inun'].idxmax()\n",
    "print(max_inun_idx)\n",
    "min_inun_idx=df['BallonLake'].groupby(df['BallonLake']['date'].dt.year)['total_inun'].idxmin()\n",
    "print(min_inun_idx)\n",
    "df['BallonLake'].groupby(df['BallonLake']['date'].dt.year).date_doy.nth(8)\n",
    "# stats.loc[i, 'mean_inun_doy_max'] = df[lake]['date_doy'][max_inun_idx]\n",
    "# stats.loc[i, 'mean_inun_doy_max'] \n",
    "# dir(df['BallonLake'].groupby(df['BallonLake']['date'].dt.year)['total_inun'])"
   ]
  },
  {
   "cell_type": "code",
   "execution_count": 331,
   "metadata": {},
   "outputs": [
    {
     "data": {
      "text/plain": [
       "[2017, 2018, 2019]"
      ]
     },
     "execution_count": 331,
     "metadata": {},
     "output_type": "execute_result"
    }
   ],
   "source": [
    "df['BallonLake'].groupby(df['BallonLake']['date'].dt.year).date_doy.nth(8)\n",
    "df['BallonLake'].groupby(df['BallonLake']['date'].dt.year).date_doy.indices[2018]\n",
    "# df['BallonLake'].groupby(df['BallonLake']['date'].dt.year).date_doy.get_group('name')\n",
    "df['BallonLake'].groupby(df['BallonLake']['date'].dt.year).date_doy.ngroup()\n",
    "df['BallonLake'].groupby(df['BallonLake']['date'].dt.year).date_doy.head(2)\n",
    "type(df['BallonLake'].groupby(df['BallonLake']['date'].dt.year).date_doy.nth([0,1]))\n",
    "df['BallonLake'].groupby(df['BallonLake']['date'].dt.year).date_doy.groups\n",
    "df['BallonLake'].groupby(df['BallonLake']['date'].dt.year).date_doy.indices\n",
    "# df['BallonLake'].groupby(df['BallonLake']['date'].dt.year).date_doy.get_group(2018)\n",
    "df['BallonLake'].groupby(df['BallonLake']['date'].dt.year).FloodedVegetation.max()\n",
    "list(df['BallonLake'].groupby(df['BallonLake']['date'].dt.year).date_doy.groups.keys())"
   ]
  },
  {
   "cell_type": "code",
   "execution_count": 283,
   "metadata": {},
   "outputs": [
    {
     "data": {
      "application/vnd.jupyter.widget-view+json": {
       "model_id": "9bd9b6b1a518429cbbb85521afcc0651",
       "version_major": 2,
       "version_minor": 0
      },
      "text/plain": [
       "QgridWidget(grid_options={'fullWidthRows': True, 'syncColumnCellResize': True, 'forceFitColumns': False, 'defa…"
      ]
     },
     "metadata": {},
     "output_type": "display_data"
    }
   ],
   "source": [
    "## try loop\n",
    "\n",
    "group_by_year=df['BallonLake'].groupby(df['BallonLake']['date'].dt.year)\n",
    "min_inun_idx=group_by_year['total_inun'].idxmin()\n",
    "max_inun_idx=group_by_year['total_inun'].idxmax()\n",
    "\n",
    "for j,k in enumerate(group_by_year.indices): # iterate over keys, which is year\n",
    "    df['BallonLake'].groupby(df['BallonLake']['date'].dt.year).date_doy.get_group(k)\n",
    "min_inun_idx\n",
    "max_inun_idx"
   ]
  },
  {
   "cell_type": "code",
   "execution_count": 288,
   "metadata": {},
   "outputs": [
    {
     "data": {
      "text/plain": [
       "260.0"
      ]
     },
     "execution_count": 288,
     "metadata": {},
     "output_type": "execute_result"
    }
   ],
   "source": [
    "## found non-loop way!\n",
    "group_by_year=df['BallonLake'].groupby(df['BallonLake']['date'].dt.year)\n",
    "min_inun_idx=group_by_year['total_inun'].idxmin()\n",
    "max_inun_idx=group_by_year['total_inun'].idxmax()\n",
    "df['BallonLake'].date_doy[min_inun_idx].mean()"
   ]
  },
  {
   "cell_type": "code",
   "execution_count": 217,
   "metadata": {
    "collapsed": true,
    "jupyter": {
     "outputs_hidden": true
    }
   },
   "outputs": [
    {
     "data": {
      "text/plain": [
       "\u001b[0;31mSignature:\u001b[0m\n",
       "\u001b[0mpd\u001b[0m\u001b[0;34m.\u001b[0m\u001b[0mDataFrame\u001b[0m\u001b[0;34m.\u001b[0m\u001b[0mapply\u001b[0m\u001b[0;34m(\u001b[0m\u001b[0;34m\u001b[0m\n",
       "\u001b[0;34m\u001b[0m    \u001b[0mself\u001b[0m\u001b[0;34m,\u001b[0m\u001b[0;34m\u001b[0m\n",
       "\u001b[0;34m\u001b[0m    \u001b[0mfunc\u001b[0m\u001b[0;34m,\u001b[0m\u001b[0;34m\u001b[0m\n",
       "\u001b[0;34m\u001b[0m    \u001b[0maxis\u001b[0m\u001b[0;34m=\u001b[0m\u001b[0;36m0\u001b[0m\u001b[0;34m,\u001b[0m\u001b[0;34m\u001b[0m\n",
       "\u001b[0;34m\u001b[0m    \u001b[0mbroadcast\u001b[0m\u001b[0;34m=\u001b[0m\u001b[0;32mNone\u001b[0m\u001b[0;34m,\u001b[0m\u001b[0;34m\u001b[0m\n",
       "\u001b[0;34m\u001b[0m    \u001b[0mraw\u001b[0m\u001b[0;34m=\u001b[0m\u001b[0;32mFalse\u001b[0m\u001b[0;34m,\u001b[0m\u001b[0;34m\u001b[0m\n",
       "\u001b[0;34m\u001b[0m    \u001b[0mreduce\u001b[0m\u001b[0;34m=\u001b[0m\u001b[0;32mNone\u001b[0m\u001b[0;34m,\u001b[0m\u001b[0;34m\u001b[0m\n",
       "\u001b[0;34m\u001b[0m    \u001b[0mresult_type\u001b[0m\u001b[0;34m=\u001b[0m\u001b[0;32mNone\u001b[0m\u001b[0;34m,\u001b[0m\u001b[0;34m\u001b[0m\n",
       "\u001b[0;34m\u001b[0m    \u001b[0margs\u001b[0m\u001b[0;34m=\u001b[0m\u001b[0;34m(\u001b[0m\u001b[0;34m)\u001b[0m\u001b[0;34m,\u001b[0m\u001b[0;34m\u001b[0m\n",
       "\u001b[0;34m\u001b[0m    \u001b[0;34m**\u001b[0m\u001b[0mkwds\u001b[0m\u001b[0;34m,\u001b[0m\u001b[0;34m\u001b[0m\n",
       "\u001b[0;34m\u001b[0m\u001b[0;34m)\u001b[0m\u001b[0;34m\u001b[0m\u001b[0;34m\u001b[0m\u001b[0m\n",
       "\u001b[0;31mDocstring:\u001b[0m\n",
       "Apply a function along an axis of the DataFrame.\n",
       "\n",
       "Objects passed to the function are Series objects whose index is\n",
       "either the DataFrame's index (``axis=0``) or the DataFrame's columns\n",
       "(``axis=1``). By default (``result_type=None``), the final return type\n",
       "is inferred from the return type of the applied function. Otherwise,\n",
       "it depends on the `result_type` argument.\n",
       "\n",
       "Parameters\n",
       "----------\n",
       "func : function\n",
       "    Function to apply to each column or row.\n",
       "axis : {0 or 'index', 1 or 'columns'}, default 0\n",
       "    Axis along which the function is applied:\n",
       "\n",
       "    * 0 or 'index': apply function to each column.\n",
       "    * 1 or 'columns': apply function to each row.\n",
       "broadcast : bool, optional\n",
       "    Only relevant for aggregation functions:\n",
       "\n",
       "    * ``False`` or ``None`` : returns a Series whose length is the\n",
       "      length of the index or the number of columns (based on the\n",
       "      `axis` parameter)\n",
       "    * ``True`` : results will be broadcast to the original shape\n",
       "      of the frame, the original index and columns will be retained.\n",
       "\n",
       "    .. deprecated:: 0.23.0\n",
       "       This argument will be removed in a future version, replaced\n",
       "       by result_type='broadcast'.\n",
       "\n",
       "raw : bool, default False\n",
       "    * ``False`` : passes each row or column as a Series to the\n",
       "      function.\n",
       "    * ``True`` : the passed function will receive ndarray objects\n",
       "      instead.\n",
       "      If you are just applying a NumPy reduction function this will\n",
       "      achieve much better performance.\n",
       "reduce : bool or None, default None\n",
       "    Try to apply reduction procedures. If the DataFrame is empty,\n",
       "    `apply` will use `reduce` to determine whether the result\n",
       "    should be a Series or a DataFrame. If ``reduce=None`` (the\n",
       "    default), `apply`'s return value will be guessed by calling\n",
       "    `func` on an empty Series\n",
       "    (note: while guessing, exceptions raised by `func` will be\n",
       "    ignored).\n",
       "    If ``reduce=True`` a Series will always be returned, and if\n",
       "    ``reduce=False`` a DataFrame will always be returned.\n",
       "\n",
       "    .. deprecated:: 0.23.0\n",
       "       This argument will be removed in a future version, replaced\n",
       "       by ``result_type='reduce'``.\n",
       "\n",
       "result_type : {'expand', 'reduce', 'broadcast', None}, default None\n",
       "    These only act when ``axis=1`` (columns):\n",
       "\n",
       "    * 'expand' : list-like results will be turned into columns.\n",
       "    * 'reduce' : returns a Series if possible rather than expanding\n",
       "      list-like results. This is the opposite of 'expand'.\n",
       "    * 'broadcast' : results will be broadcast to the original shape\n",
       "      of the DataFrame, the original index and columns will be\n",
       "      retained.\n",
       "\n",
       "    The default behaviour (None) depends on the return value of the\n",
       "    applied function: list-like results will be returned as a Series\n",
       "    of those. However if the apply function returns a Series these\n",
       "    are expanded to columns.\n",
       "\n",
       "    .. versionadded:: 0.23.0\n",
       "\n",
       "args : tuple\n",
       "    Positional arguments to pass to `func` in addition to the\n",
       "    array/series.\n",
       "**kwds\n",
       "    Additional keyword arguments to pass as keywords arguments to\n",
       "    `func`.\n",
       "\n",
       "Returns\n",
       "-------\n",
       "Series or DataFrame\n",
       "    Result of applying ``func`` along the given axis of the\n",
       "    DataFrame.\n",
       "\n",
       "See Also\n",
       "--------\n",
       "DataFrame.applymap: For elementwise operations.\n",
       "DataFrame.aggregate: Only perform aggregating type operations.\n",
       "DataFrame.transform: Only perform transforming type operations.\n",
       "\n",
       "Notes\n",
       "-----\n",
       "In the current implementation apply calls `func` twice on the\n",
       "first column/row to decide whether it can take a fast or slow\n",
       "code path. This can lead to unexpected behavior if `func` has\n",
       "side-effects, as they will take effect twice for the first\n",
       "column/row.\n",
       "\n",
       "Examples\n",
       "--------\n",
       "\n",
       ">>> df = pd.DataFrame([[4, 9]] * 3, columns=['A', 'B'])\n",
       ">>> df\n",
       "   A  B\n",
       "0  4  9\n",
       "1  4  9\n",
       "2  4  9\n",
       "\n",
       "Using a numpy universal function (in this case the same as\n",
       "``np.sqrt(df)``):\n",
       "\n",
       ">>> df.apply(np.sqrt)\n",
       "     A    B\n",
       "0  2.0  3.0\n",
       "1  2.0  3.0\n",
       "2  2.0  3.0\n",
       "\n",
       "Using a reducing function on either axis\n",
       "\n",
       ">>> df.apply(np.sum, axis=0)\n",
       "A    12\n",
       "B    27\n",
       "dtype: int64\n",
       "\n",
       ">>> df.apply(np.sum, axis=1)\n",
       "0    13\n",
       "1    13\n",
       "2    13\n",
       "dtype: int64\n",
       "\n",
       "Returning a list-like will result in a Series\n",
       "\n",
       ">>> df.apply(lambda x: [1, 2], axis=1)\n",
       "0    [1, 2]\n",
       "1    [1, 2]\n",
       "2    [1, 2]\n",
       "dtype: object\n",
       "\n",
       "Passing result_type='expand' will expand list-like results\n",
       "to columns of a Dataframe\n",
       "\n",
       ">>> df.apply(lambda x: [1, 2], axis=1, result_type='expand')\n",
       "   0  1\n",
       "0  1  2\n",
       "1  1  2\n",
       "2  1  2\n",
       "\n",
       "Returning a Series inside the function is similar to passing\n",
       "``result_type='expand'``. The resulting column names\n",
       "will be the Series index.\n",
       "\n",
       ">>> df.apply(lambda x: pd.Series([1, 2], index=['foo', 'bar']), axis=1)\n",
       "   foo  bar\n",
       "0    1    2\n",
       "1    1    2\n",
       "2    1    2\n",
       "\n",
       "Passing ``result_type='broadcast'`` will ensure the same shape\n",
       "result, whether list-like or scalar is returned by the function,\n",
       "and broadcast it along the axis. The resulting column names will\n",
       "be the originals.\n",
       "\n",
       ">>> df.apply(lambda x: [1, 2], axis=1, result_type='broadcast')\n",
       "   A  B\n",
       "0  1  2\n",
       "1  1  2\n",
       "2  1  2\n",
       "\u001b[0;31mFile:\u001b[0m      ~/miniconda2/envs/geohackw/lib/python3.7/site-packages/pandas/core/frame.py\n",
       "\u001b[0;31mType:\u001b[0m      function\n"
      ]
     },
     "metadata": {},
     "output_type": "display_data"
    }
   ],
   "source": [
    "?pd.DataFrame.apply"
   ]
  }
 ],
 "metadata": {
  "kernelspec": {
   "display_name": "Python [conda env:geohackw] *",
   "language": "python",
   "name": "conda-env-geohackw-py"
  },
  "language_info": {
   "codemirror_mode": {
    "name": "ipython",
    "version": 3
   },
   "file_extension": ".py",
   "mimetype": "text/x-python",
   "name": "python",
   "nbconvert_exporter": "python",
   "pygments_lexer": "ipython3",
   "version": "3.7.3"
  }
 },
 "nbformat": 4,
 "nbformat_minor": 4
}
